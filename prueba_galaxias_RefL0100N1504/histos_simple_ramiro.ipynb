{
 "cells": [
  {
   "cell_type": "markdown",
   "metadata": {},
   "source": [
    "# Script de python sencillo para histogramas basicos "
   ]
  },
  {
   "cell_type": "markdown",
   "metadata": {},
   "source": [
    "#### Antes de empezar: una herramienta útil para descargar datos de EAGLE desde Python, es el paquete eagleSQLtools.\n",
    "\n",
    "#### Repositorio del paquete: https://github.com/kyleaoman/eagleSqlTools\n",
    "\n",
    "#### Para instalarlo, en una terminal correr el siguiente comando:\n",
    "\n",
    "#### pip install eaglesqltools"
   ]
  },
  {
   "cell_type": "markdown",
   "metadata": {},
   "source": [
    "#### Importar paquetes necesarios. Agregar paquete si hace falta"
   ]
  },
  {
   "cell_type": "code",
   "execution_count": 2,
   "metadata": {},
   "outputs": [],
   "source": [
    "import matplotlib.pyplot as plt\n",
    "import eagleSqlTools as sql\n",
    "import numpy as np\n",
    "from astropy.io import ascii\n",
    "from astropy.table import Table"
   ]
  },
  {
   "cell_type": "markdown",
   "metadata": {},
   "source": [
    "#### Simulación a usar"
   ]
  },
  {
   "cell_type": "code",
   "execution_count": 3,
   "metadata": {},
   "outputs": [],
   "source": [
    "simu='RefL0100N1504'"
   ]
  },
  {
   "cell_type": "markdown",
   "metadata": {},
   "source": [
    "#### Snapnum a usar"
   ]
  },
  {
   "cell_type": "code",
   "execution_count": 3,
   "metadata": {},
   "outputs": [],
   "source": [
    "snap=28"
   ]
  },
  {
   "cell_type": "markdown",
   "metadata": {},
   "source": [
    "#### Carpetas y archivos de tablas de datos para lectura, si es que hay archivos de datos"
   ]
  },
  {
   "cell_type": "code",
   "execution_count": 5,
   "metadata": {},
   "outputs": [],
   "source": [
    "data_folder='/home/ramiro/Facultad/Tesis/Python/prueba_galaxias_RefL0100N1504/'\n",
    "data_snap_28='prueba_galaxias_'+simu+'_snap_'+str(snap)+'.dat'\n",
    "data_snap_28_path=data_folder+data_snap_28\n",
    "table_snap_28=ascii.read(data_snap_28_path,comment='#',format='csv',fast_reader='True')"
   ]
  },
  {
   "cell_type": "markdown",
   "metadata": {},
   "source": [
    "#### O sino, podemos descargar datos mediante eagleSQLtools"
   ]
  },
  {
   "cell_type": "code",
   "execution_count": 4,
   "metadata": {},
   "outputs": [],
   "source": [
    "# Usuario y contraseña para conectarse a EAGLE DataBase (USAR LOS DATOS PROPIOS!!)\n",
    "usr='cht015'\n",
    "pwd='BH457tfj'\n",
    "\n",
    "# Conectarse a la base de datos\n",
    "con = sql.connect(usr, password=pwd)\n",
    "\n",
    "# Query en SQL\n",
    "query = \"SELECT \\\n",
    "         sub.GalaxyID,sub.Redshift, sub.SnapNum, sub.SubGroupNumber, \\\n",
    "         sub.CentreOfPotential_x,sub.CentreOfPotential_y,sub.CentreOfPotential_z, \\\n",
    "         sub.Stars_Mass, sub.SF_Mass, sub.NSF_Mass, sub.MassType_DM, sub.MassType_BH, \\\n",
    "         sub.HalfMassRad_Star,sub.HalfMassRad_Gas, HalfMassRad_DM, \\\n",
    "         sub.Stars_Hydrogen,sub.Stars_Oxygen,sub.Stars_Metallicity, \\\n",
    "         sub.SF_Hydrogen,sub.SF_Oxygen,sub.SF_Metallicity, \\\n",
    "         sub.NSF_Hydrogen,sub.NSF_Oxygen,sub.NSF_Metallicity, \\\n",
    "         sub.StarFormationRate,sub.InitialMassWeightedStellarAge \\\n",
    "         FROM \"+simu+\"_subhalo as sub \\\n",
    "         WHERE sub.SnapNum=\"+str(snap)+\" and sub.Stars_Mass>=1e9\"\n",
    "\n",
    "# Execute query \n",
    "exquery = sql.execute_query(con, query)\n",
    "\n",
    "# List of column names of downloaded data\n",
    "colnames=(exquery.view(np.recarray).dtype.names)\n",
    "\n",
    "\n",
    "# Dictionary of identifiers\n",
    "table_snap_28={}\n",
    "for name in colnames:\n",
    "    table_snap_28[name]=exquery[name]\n",
    "    "
   ]
  },
  {
   "cell_type": "code",
   "execution_count": 5,
   "metadata": {},
   "outputs": [],
   "source": [
    "# Si es necesario, podemos guardar los datos en un archivo ascii\n",
    "\n",
    "# Abrir el archivo donde se guardarán los datos\n",
    "outf=open('prueba_galaxias_'+simu+'_snap_'+str(snap)+'.dat','w')\n",
    "\n",
    "# Transformar el diccionario a una tabla ascii\n",
    "data_ascii=Table(table_snap_28)\n",
    "\n",
    "# Escribir los datos al archivo\n",
    "data_ascii.write(outf,format='csv')\n",
    "\n",
    "# Cerrar el archivo\n",
    "outf.close()"
   ]
  },
  {
   "cell_type": "markdown",
   "metadata": {},
   "source": [
    "#### Definir variables nuevas, si es necesario"
   ]
  },
  {
   "cell_type": "code",
   "execution_count": 5,
   "metadata": {},
   "outputs": [],
   "source": [
    "table_snap_28['SF_frac']=table_snap_28['SF_Mass']/(table_snap_28['SF_Mass']+table_snap_28['Stars_Mass'])\n",
    "table_snap_28['sSFR']=table_snap_28['StarFormationRate']/table_snap_28['Stars_Mass']"
   ]
  },
  {
   "cell_type": "markdown",
   "metadata": {},
   "source": [
    "#### Mascara para seleccionar galaxias con stellarmass mayor que 1e9 Msun"
   ]
  },
  {
   "cell_type": "code",
   "execution_count": 11,
   "metadata": {},
   "outputs": [],
   "source": [
    "mask_stellarmass=(table_snap_28['Stars_Mass']>=1e10)"
   ]
  },
  {
   "cell_type": "markdown",
   "metadata": {},
   "source": [
    "#### Variable de interes"
   ]
  },
  {
   "cell_type": "code",
   "execution_count": 12,
   "metadata": {},
   "outputs": [],
   "source": [
    "var=np.log10(table_snap_28['Stars_Mass'][mask_stellarmass])"
   ]
  },
  {
   "cell_type": "markdown",
   "metadata": {},
   "source": [
    "###  Histograma bien basico"
   ]
  },
  {
   "cell_type": "code",
   "execution_count": 13,
   "metadata": {},
   "outputs": [],
   "source": [
    "#help(plt.subplots)"
   ]
  },
  {
   "cell_type": "code",
   "execution_count": 14,
   "metadata": {},
   "outputs": [
    {
     "data": {
      "image/png": "[encoded data removed]",
      "text/plain": [
       "<Figure size 576x432 with 1 Axes>"
      ]
     },
     "metadata": {
      "needs_background": "light"
     },
     "output_type": "display_data"
    }
   ],
   "source": [
    "# Definimos un objeto figura con un objeto axis\n",
    "fig,ax=plt.subplots(figsize=(8,6))\n",
    "ax.hist(var,bins=10,range=(9,12),histtype='bar',label='z=0',linestyle='-',\n",
    "        color='b',linewidth=2,alpha=0.8,edgecolor='k')\n",
    "# plt.savefig('grafico1.png')\n",
    "plt.show()"
   ]
  },
  {
   "cell_type": "markdown",
   "metadata": {},
   "source": [
    "###  Histograma pesado y \"tuneado\" "
   ]
  },
  {
   "cell_type": "markdown",
   "metadata": {},
   "source": [
    "#### Peso (fracción de galaxias)"
   ]
  },
  {
   "cell_type": "code",
   "execution_count": 11,
   "metadata": {},
   "outputs": [],
   "source": [
    "weights = np.ones_like(var)/float(len(var))"
   ]
  },
  {
   "cell_type": "code",
   "execution_count": 12,
   "metadata": {},
   "outputs": [
    {
     "data": {
      "image/png": "[encoded data removed]",
      "text/plain": [
       "<Figure size 576x432 with 1 Axes>"
      ]
     },
     "metadata": {
      "needs_background": "light"
     },
     "output_type": "display_data"
    }
   ],
   "source": [
    "fig,ax=plt.subplots(figsize=(8,6))\n",
    "# Etiquetas de los ejes\n",
    "ax.set_xlabel(r'$log(M_\\bigstar) \\ [\\rm{M}_\\odot]$', fontsize=15)\n",
    "ax.set_ylabel('Fraction', fontsize=15)\n",
    "\n",
    "# Caracteristicas de los ticks\n",
    "ax.tick_params(axis='x',labelsize=15,labelcolor='r')\n",
    "ax.tick_params(axis='y',labelsize=15,labelcolor='g')\n",
    "\n",
    "# Grafico\n",
    "ax.hist(var,bins=10,range=(9,12),histtype='step',label='z=0',linestyle='--',\n",
    "        color='k',linewidth=2,alpha=1,weights=weights)\n",
    "#plt.tight_layout() \n",
    "leg=ax.legend(loc='upper right',fontsize=15,edgecolor='w',handlelength=5)\n",
    "leg.set_title(r'$\\rm{EAGLE\\ RefL0100N1504}$',prop={'size':15})\n",
    "plt.show()"
   ]
  },
  {
   "cell_type": "markdown",
   "metadata": {},
   "source": [
    "### Histograma de dos poblaciones, pesado y \"tuneado\""
   ]
  },
  {
   "cell_type": "markdown",
   "metadata": {},
   "source": [
    "#### Variable auxiliar para separar poblaciones"
   ]
  },
  {
   "cell_type": "code",
   "execution_count": 13,
   "metadata": {},
   "outputs": [],
   "source": [
    "var_aux=table_snap_28['SF_frac'][mask_stellarmass]"
   ]
  },
  {
   "cell_type": "markdown",
   "metadata": {},
   "source": [
    "#### Población 1: galaxias con var_aux menor que 0.2"
   ]
  },
  {
   "cell_type": "code",
   "execution_count": 14,
   "metadata": {},
   "outputs": [],
   "source": [
    "mask1=(var_aux<=0.2)\n",
    "var1=var[mask1]\n",
    "weights1=np.ones_like(var1)/float(len(var1))"
   ]
  },
  {
   "cell_type": "markdown",
   "metadata": {},
   "source": [
    "#### Población 2: galaxias con var_aux mayor o igual que 0.2"
   ]
  },
  {
   "cell_type": "code",
   "execution_count": 15,
   "metadata": {},
   "outputs": [],
   "source": [
    "mask2=(var_aux>0.2)\n",
    "var2=var[mask2]\n",
    "weights2=np.ones_like(var2)/float(len(var2))"
   ]
  },
  {
   "cell_type": "markdown",
   "metadata": {},
   "source": [
    "#### Gráfico"
   ]
  },
  {
   "cell_type": "code",
   "execution_count": 20,
   "metadata": {},
   "outputs": [
    {
     "data": {
      "text/plain": [
       "(0.0, 0.6)"
      ]
     },
     "execution_count": 20,
     "metadata": {},
     "output_type": "execute_result"
    },
    {
     "data": {
      "image/png": "[encoded data removed]",
      "text/plain": [
       "<Figure size 576x432 with 1 Axes>"
      ]
     },
     "metadata": {
      "needs_background": "light"
     },
     "output_type": "display_data"
    }
   ],
   "source": [
    "fig,ax=plt.subplots(figsize=(8,6))\n",
    "\n",
    "ax.hist(var1,bins=8,histtype='step',range=(9,12),label=r'$f_{SF}\\ \\leqslant \\ 0.2$',\n",
    "        linestyle='--',color='b',linewidth=2,weights=weights1)\n",
    "ax.hist(var2,bins=8,histtype='step',range=(9,12),label=r'$f_{SF}>0.2$',\n",
    "        linestyle='-',color='k',linewidth=2,weights=weights2)\n",
    "\n",
    "ax.set_xlabel(r'$log(M_\\bigstar) \\ [\\rm{M}_\\odot]$', fontsize=15)\n",
    "ax.set_ylabel('Fraction', fontsize=15)\n",
    "ax.tick_params(axis='both',labelsize=15)\n",
    "leg=ax.legend(loc='upper right',edgecolor='w',fontsize=15)\n",
    "leg.set_title('EAGLE RecalL0025N0752', prop = {'size':15})\n",
    "\n",
    "xmin,xmax=8.5,14\n",
    "ax.set_xlim(xmin,xmax)\n",
    "\n",
    "ymin,ymax=0,0.6\n",
    "ax.set_ylim(ymin,ymax)\n",
    "#plt.savefig('grafico.png')"
   ]
  },
  {
   "cell_type": "markdown",
   "metadata": {},
   "source": [
    "### Histograma de poblaciones a distintos redshifts, pesado y \"tuneado\""
   ]
  },
  {
   "cell_type": "code",
   "execution_count": 8,
   "metadata": {},
   "outputs": [
    {
     "data": {
      "image/png": "[encoded data removed]",
      "text/plain": [
       "<Figure size 576x432 with 1 Axes>"
      ]
     },
     "metadata": {
      "needs_background": "light"
     },
     "output_type": "display_data"
    }
   ],
   "source": [
    "# En mi caso, tengo cuatro archivos ascii con datos de los snaps 28, 19, 15 y 12 \n",
    "# (corespondiente a redshifts 0, 1, 2 y 3). Armo un loop para leer y hacer histos de cada archivo.\n",
    "# Editar los nombres de archivos y carpetas si es necesario.\n",
    "\n",
    "fig,ax=plt.subplots(figsize=(8,6))\n",
    "snap_list=[28,19,15,12]\n",
    "redshift_list=[0,1,2,3]\n",
    "\n",
    "# Esto es para \"tunear\" los histogramas\n",
    "color=['k','b','g','r']    # colores para cada z\n",
    "line=['-','--','-.',':']   # tipo de linea para cada z\n",
    "\n",
    "for snap,redshift,lc,ls in zip(snap_list,redshift_list,color,line):   \n",
    "    data_file='prueba_galaxias_'+simu+'_snap_'+str(snap)+'.dat'\n",
    "    data_path=data_folder+data_file\n",
    "    table=ascii.read(data_path,comment='#',format='fast_csv') \n",
    "\n",
    "    mask_stellarmass=(table['Stars_Mass']>=1e19)     #Mascara para seleccionar masas adecuadas\n",
    "    var=np.log10(table['Stars_Mass'][mask_stellarmass])    # Variable a usar. \n",
    "    \n",
    "    weights=np.ones_like(var)/float(len(var))\n",
    "\n",
    "    ax.hist(var,bins=10,range=(10,12),histtype='step',label='z='+str(redshift),\n",
    "            linestyle=ls,color=lc,linewidth=2,weights=weights)\n",
    "\n",
    "ax.set_xlabel(r'$log(M_\\bigstar) \\ [\\rm{M}_\\odot]$', fontsize=15)\n",
    "ax.set_ylabel('Fraction', fontsize=15)\n",
    "ax.tick_params(axis='both',labelsize=15)\n",
    "\n",
    "leg=plt.legend(loc='upper right',edgecolor='w',fontsize=15)\n",
    "leg.set_title('EAGLE RefL0100N1504', prop = {'size':15})\n",
    "\n"
   ]
  },
  {
   "cell_type": "markdown",
   "metadata": {},
   "source": [
    "## Felicidades!! Ya aprendimos a hacer histogramas sencillos"
   ]
  },
  {
   "cell_type": "code",
   "execution_count": null,
   "metadata": {},
   "outputs": [],
   "source": []
  }
 ],
 "metadata": {
  "kernelspec": {
   "display_name": "Python 3",
   "language": "python",
   "name": "python3"
  },
  "language_info": {
   "codemirror_mode": {
    "name": "ipython",
    "version": 3
   },
   "file_extension": ".py",
   "mimetype": "text/x-python",
   "name": "python",
   "nbconvert_exporter": "python",
   "pygments_lexer": "ipython3",
   "version": "3.8.5"
  }
 },
 "nbformat": 4,
 "nbformat_minor": 4
}
