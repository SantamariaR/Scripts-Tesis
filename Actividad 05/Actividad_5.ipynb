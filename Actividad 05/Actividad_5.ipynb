{
 "cells": [
  {
   "cell_type": "markdown",
   "metadata": {},
   "source": [
    "## Actividad 5"
   ]
  },
  {
   "cell_type": "code",
   "execution_count": 18,
   "metadata": {},
   "outputs": [],
   "source": [
    "import numpy as np\n",
    "import pandas as pd\n",
    "import matplotlib.pyplot as plt\n",
    "import plotly.graph_objects as go"
   ]
  },
  {
   "cell_type": "markdown",
   "metadata": {},
   "source": [
    "**Descargo los datos y creo una copia con la cual trabajar, van a ser la muestra A**"
   ]
  },
  {
   "cell_type": "code",
   "execution_count": null,
   "metadata": {},
   "outputs": [],
   "source": [
    "path_lin ='/home/ramiro/Facultad/Tesis/Datos/Actividad 7/' \n",
    "# path_win ="
   ]
  },
  {
   "cell_type": "code",
   "execution_count": 130,
   "metadata": {},
   "outputs": [],
   "source": [
    "columnas = ['GalaxyID','GroupID','CentreOfPotential_x','CentreOfPotential_y','CentreOfPotential_z','Stars_Mass','HalfMassRad_Star']"
   ]
  },
  {
   "cell_type": "code",
   "execution_count": 131,
   "metadata": {},
   "outputs": [],
   "source": [
    "table  = pd.read_csv(path_lin+'Aperturas_RefL0100N1504_snap_28_aperture_30.dat',usecols=columnas)#,index_col='GalaxyID')"
   ]
  },
  {
   "cell_type": "code",
   "execution_count": 134,
   "metadata": {},
   "outputs": [
    {
     "data": {
      "text/html": [
       "<div>\n",
       "<style scoped>\n",
       "    .dataframe tbody tr th:only-of-type {\n",
       "        vertical-align: middle;\n",
       "    }\n",
       "\n",
       "    .dataframe tbody tr th {\n",
       "        vertical-align: top;\n",
       "    }\n",
       "\n",
       "    .dataframe thead th {\n",
       "        text-align: right;\n",
       "    }\n",
       "</style>\n",
       "<table border=\"1\" class=\"dataframe\">\n",
       "  <thead>\n",
       "    <tr style=\"text-align: right;\">\n",
       "      <th></th>\n",
       "      <th>GalaxyID</th>\n",
       "      <th>GroupID</th>\n",
       "      <th>CentreOfPotential_x</th>\n",
       "      <th>CentreOfPotential_y</th>\n",
       "      <th>CentreOfPotential_z</th>\n",
       "      <th>Stars_Mass</th>\n",
       "      <th>HalfMassRad_Star</th>\n",
       "    </tr>\n",
       "  </thead>\n",
       "  <tbody>\n",
       "    <tr>\n",
       "      <th>0</th>\n",
       "      <td>9498012</td>\n",
       "      <td>28000000000002</td>\n",
       "      <td>8.913222</td>\n",
       "      <td>35.828056</td>\n",
       "      <td>54.839039</td>\n",
       "      <td>1.538708e+11</td>\n",
       "      <td>8.828579</td>\n",
       "    </tr>\n",
       "    <tr>\n",
       "      <th>1</th>\n",
       "      <td>9508202</td>\n",
       "      <td>28000000000002</td>\n",
       "      <td>6.904262</td>\n",
       "      <td>35.705917</td>\n",
       "      <td>57.397373</td>\n",
       "      <td>7.604099e+10</td>\n",
       "      <td>5.646945</td>\n",
       "    </tr>\n",
       "    <tr>\n",
       "      <th>2</th>\n",
       "      <td>9512113</td>\n",
       "      <td>28000000000002</td>\n",
       "      <td>8.682913</td>\n",
       "      <td>35.504921</td>\n",
       "      <td>54.217369</td>\n",
       "      <td>1.345128e+11</td>\n",
       "      <td>8.825949</td>\n",
       "    </tr>\n",
       "    <tr>\n",
       "      <th>3</th>\n",
       "      <td>9517736</td>\n",
       "      <td>28000000000002</td>\n",
       "      <td>8.278317</td>\n",
       "      <td>37.063808</td>\n",
       "      <td>54.914932</td>\n",
       "      <td>2.232997e+10</td>\n",
       "      <td>4.576159</td>\n",
       "    </tr>\n",
       "    <tr>\n",
       "      <th>4</th>\n",
       "      <td>9519365</td>\n",
       "      <td>28000000000002</td>\n",
       "      <td>8.262937</td>\n",
       "      <td>36.454063</td>\n",
       "      <td>55.901993</td>\n",
       "      <td>4.833353e+10</td>\n",
       "      <td>9.249007</td>\n",
       "    </tr>\n",
       "    <tr>\n",
       "      <th>...</th>\n",
       "      <td>...</td>\n",
       "      <td>...</td>\n",
       "      <td>...</td>\n",
       "      <td>...</td>\n",
       "      <td>...</td>\n",
       "      <td>...</td>\n",
       "      <td>...</td>\n",
       "    </tr>\n",
       "    <tr>\n",
       "      <th>13131</th>\n",
       "      <td>10365607</td>\n",
       "      <td>28000000002202</td>\n",
       "      <td>35.516003</td>\n",
       "      <td>10.797990</td>\n",
       "      <td>34.600616</td>\n",
       "      <td>1.226640e+10</td>\n",
       "      <td>4.841568</td>\n",
       "    </tr>\n",
       "    <tr>\n",
       "      <th>13145</th>\n",
       "      <td>10859653</td>\n",
       "      <td>28000000002570</td>\n",
       "      <td>61.355499</td>\n",
       "      <td>48.616516</td>\n",
       "      <td>65.236801</td>\n",
       "      <td>1.094640e+10</td>\n",
       "      <td>5.472824</td>\n",
       "    </tr>\n",
       "    <tr>\n",
       "      <th>13155</th>\n",
       "      <td>11104654</td>\n",
       "      <td>28000000002905</td>\n",
       "      <td>97.197350</td>\n",
       "      <td>82.709518</td>\n",
       "      <td>43.676567</td>\n",
       "      <td>1.200869e+10</td>\n",
       "      <td>4.417672</td>\n",
       "    </tr>\n",
       "    <tr>\n",
       "      <th>13164</th>\n",
       "      <td>11247394</td>\n",
       "      <td>28000000003127</td>\n",
       "      <td>88.764885</td>\n",
       "      <td>47.226864</td>\n",
       "      <td>81.905136</td>\n",
       "      <td>1.186733e+10</td>\n",
       "      <td>10.748503</td>\n",
       "    </tr>\n",
       "    <tr>\n",
       "      <th>13199</th>\n",
       "      <td>12002343</td>\n",
       "      <td>28000000004258</td>\n",
       "      <td>81.653595</td>\n",
       "      <td>7.551041</td>\n",
       "      <td>69.749985</td>\n",
       "      <td>1.051248e+10</td>\n",
       "      <td>4.104519</td>\n",
       "    </tr>\n",
       "  </tbody>\n",
       "</table>\n",
       "<p>3638 rows × 7 columns</p>\n",
       "</div>"
      ],
      "text/plain": [
       "       GalaxyID         GroupID  CentreOfPotential_x  CentreOfPotential_y  \\\n",
       "0       9498012  28000000000002             8.913222            35.828056   \n",
       "1       9508202  28000000000002             6.904262            35.705917   \n",
       "2       9512113  28000000000002             8.682913            35.504921   \n",
       "3       9517736  28000000000002             8.278317            37.063808   \n",
       "4       9519365  28000000000002             8.262937            36.454063   \n",
       "...         ...             ...                  ...                  ...   \n",
       "13131  10365607  28000000002202            35.516003            10.797990   \n",
       "13145  10859653  28000000002570            61.355499            48.616516   \n",
       "13155  11104654  28000000002905            97.197350            82.709518   \n",
       "13164  11247394  28000000003127            88.764885            47.226864   \n",
       "13199  12002343  28000000004258            81.653595             7.551041   \n",
       "\n",
       "       CentreOfPotential_z    Stars_Mass  HalfMassRad_Star  \n",
       "0                54.839039  1.538708e+11          8.828579  \n",
       "1                57.397373  7.604099e+10          5.646945  \n",
       "2                54.217369  1.345128e+11          8.825949  \n",
       "3                54.914932  2.232997e+10          4.576159  \n",
       "4                55.901993  4.833353e+10          9.249007  \n",
       "...                    ...           ...               ...  \n",
       "13131            34.600616  1.226640e+10          4.841568  \n",
       "13145            65.236801  1.094640e+10          5.472824  \n",
       "13155            43.676567  1.200869e+10          4.417672  \n",
       "13164            81.905136  1.186733e+10         10.748503  \n",
       "13199            69.749985  1.051248e+10          4.104519  \n",
       "\n",
       "[3638 rows x 7 columns]"
      ]
     },
     "execution_count": 134,
     "metadata": {},
     "output_type": "execute_result"
    }
   ],
   "source": [
    "table_a = table[(table['Stars_Mass']>=1e10)].copy()\n",
    "table_a"
   ]
  },
  {
   "cell_type": "markdown",
   "metadata": {},
   "source": [
    "**Filtro la galaxia más masiva de la simulación,G_test:**"
   ]
  },
  {
   "cell_type": "code",
   "execution_count": 143,
   "metadata": {},
   "outputs": [],
   "source": [
    "mask = (table_a['GalaxyID']==12002343)\n",
    "G_test = float(table_a['Stars_Mass'][mask])\n",
    "\n",
    "xmax = table_a['CentreOfPotential_x'][mask]\n",
    "ymax = table_a['CentreOfPotential_y'][mask]\n",
    "zmax = table_a['CentreOfPotential_z'][mask]"
   ]
  },
  {
   "cell_type": "code",
   "execution_count": 144,
   "metadata": {},
   "outputs": [
    {
     "name": "stdout",
     "output_type": "stream",
     "text": [
      "13199    81.653595\n",
      "Name: CentreOfPotential_x, dtype: float64\n",
      "13199    7.551041\n",
      "Name: CentreOfPotential_y, dtype: float64\n",
      "13199    69.749985\n",
      "Name: CentreOfPotential_z, dtype: float64\n",
      "10512478208.0\n"
     ]
    }
   ],
   "source": [
    "print(xmax)\n",
    "print(ymax)\n",
    "print(zmax)\n",
    "print(G_test)"
   ]
  },
  {
   "cell_type": "markdown",
   "metadata": {},
   "source": [
    "**Creamos la tabla de muestras B con las condiciones que querramos a partir de la tabla de muestra A**"
   ]
  },
  {
   "cell_type": "code",
   "execution_count": 145,
   "metadata": {},
   "outputs": [
    {
     "data": {
      "text/html": [
       "<div>\n",
       "<style scoped>\n",
       "    .dataframe tbody tr th:only-of-type {\n",
       "        vertical-align: middle;\n",
       "    }\n",
       "\n",
       "    .dataframe tbody tr th {\n",
       "        vertical-align: top;\n",
       "    }\n",
       "\n",
       "    .dataframe thead th {\n",
       "        text-align: right;\n",
       "    }\n",
       "</style>\n",
       "<table border=\"1\" class=\"dataframe\">\n",
       "  <thead>\n",
       "    <tr style=\"text-align: right;\">\n",
       "      <th></th>\n",
       "      <th>GalaxyID</th>\n",
       "      <th>GroupID</th>\n",
       "      <th>CentreOfPotential_x</th>\n",
       "      <th>CentreOfPotential_y</th>\n",
       "      <th>CentreOfPotential_z</th>\n",
       "      <th>Stars_Mass</th>\n",
       "      <th>HalfMassRad_Star</th>\n",
       "    </tr>\n",
       "  </thead>\n",
       "  <tbody>\n",
       "    <tr>\n",
       "      <th>0</th>\n",
       "      <td>9498012</td>\n",
       "      <td>28000000000002</td>\n",
       "      <td>8.913222</td>\n",
       "      <td>35.828056</td>\n",
       "      <td>54.839039</td>\n",
       "      <td>1.538708e+11</td>\n",
       "      <td>8.828579</td>\n",
       "    </tr>\n",
       "    <tr>\n",
       "      <th>1</th>\n",
       "      <td>9508202</td>\n",
       "      <td>28000000000002</td>\n",
       "      <td>6.904262</td>\n",
       "      <td>35.705917</td>\n",
       "      <td>57.397373</td>\n",
       "      <td>7.604099e+10</td>\n",
       "      <td>5.646945</td>\n",
       "    </tr>\n",
       "    <tr>\n",
       "      <th>2</th>\n",
       "      <td>9512113</td>\n",
       "      <td>28000000000002</td>\n",
       "      <td>8.682913</td>\n",
       "      <td>35.504921</td>\n",
       "      <td>54.217369</td>\n",
       "      <td>1.345128e+11</td>\n",
       "      <td>8.825949</td>\n",
       "    </tr>\n",
       "    <tr>\n",
       "      <th>3</th>\n",
       "      <td>9517736</td>\n",
       "      <td>28000000000002</td>\n",
       "      <td>8.278317</td>\n",
       "      <td>37.063808</td>\n",
       "      <td>54.914932</td>\n",
       "      <td>2.232997e+10</td>\n",
       "      <td>4.576159</td>\n",
       "    </tr>\n",
       "    <tr>\n",
       "      <th>4</th>\n",
       "      <td>9519365</td>\n",
       "      <td>28000000000002</td>\n",
       "      <td>8.262937</td>\n",
       "      <td>36.454063</td>\n",
       "      <td>55.901993</td>\n",
       "      <td>4.833353e+10</td>\n",
       "      <td>9.249007</td>\n",
       "    </tr>\n",
       "    <tr>\n",
       "      <th>...</th>\n",
       "      <td>...</td>\n",
       "      <td>...</td>\n",
       "      <td>...</td>\n",
       "      <td>...</td>\n",
       "      <td>...</td>\n",
       "      <td>...</td>\n",
       "      <td>...</td>\n",
       "    </tr>\n",
       "    <tr>\n",
       "      <th>13131</th>\n",
       "      <td>10365607</td>\n",
       "      <td>28000000002202</td>\n",
       "      <td>35.516003</td>\n",
       "      <td>10.797990</td>\n",
       "      <td>34.600616</td>\n",
       "      <td>1.226640e+10</td>\n",
       "      <td>4.841568</td>\n",
       "    </tr>\n",
       "    <tr>\n",
       "      <th>13145</th>\n",
       "      <td>10859653</td>\n",
       "      <td>28000000002570</td>\n",
       "      <td>61.355499</td>\n",
       "      <td>48.616516</td>\n",
       "      <td>65.236801</td>\n",
       "      <td>1.094640e+10</td>\n",
       "      <td>5.472824</td>\n",
       "    </tr>\n",
       "    <tr>\n",
       "      <th>13155</th>\n",
       "      <td>11104654</td>\n",
       "      <td>28000000002905</td>\n",
       "      <td>97.197350</td>\n",
       "      <td>82.709518</td>\n",
       "      <td>43.676567</td>\n",
       "      <td>1.200869e+10</td>\n",
       "      <td>4.417672</td>\n",
       "    </tr>\n",
       "    <tr>\n",
       "      <th>13164</th>\n",
       "      <td>11247394</td>\n",
       "      <td>28000000003127</td>\n",
       "      <td>88.764885</td>\n",
       "      <td>47.226864</td>\n",
       "      <td>81.905136</td>\n",
       "      <td>1.186733e+10</td>\n",
       "      <td>10.748503</td>\n",
       "    </tr>\n",
       "    <tr>\n",
       "      <th>13199</th>\n",
       "      <td>12002343</td>\n",
       "      <td>28000000004258</td>\n",
       "      <td>81.653595</td>\n",
       "      <td>7.551041</td>\n",
       "      <td>69.749985</td>\n",
       "      <td>1.051248e+10</td>\n",
       "      <td>4.104519</td>\n",
       "    </tr>\n",
       "  </tbody>\n",
       "</table>\n",
       "<p>3638 rows × 7 columns</p>\n",
       "</div>"
      ],
      "text/plain": [
       "       GalaxyID         GroupID  CentreOfPotential_x  CentreOfPotential_y  \\\n",
       "0       9498012  28000000000002             8.913222            35.828056   \n",
       "1       9508202  28000000000002             6.904262            35.705917   \n",
       "2       9512113  28000000000002             8.682913            35.504921   \n",
       "3       9517736  28000000000002             8.278317            37.063808   \n",
       "4       9519365  28000000000002             8.262937            36.454063   \n",
       "...         ...             ...                  ...                  ...   \n",
       "13131  10365607  28000000002202            35.516003            10.797990   \n",
       "13145  10859653  28000000002570            61.355499            48.616516   \n",
       "13155  11104654  28000000002905            97.197350            82.709518   \n",
       "13164  11247394  28000000003127            88.764885            47.226864   \n",
       "13199  12002343  28000000004258            81.653595             7.551041   \n",
       "\n",
       "       CentreOfPotential_z    Stars_Mass  HalfMassRad_Star  \n",
       "0                54.839039  1.538708e+11          8.828579  \n",
       "1                57.397373  7.604099e+10          5.646945  \n",
       "2                54.217369  1.345128e+11          8.825949  \n",
       "3                54.914932  2.232997e+10          4.576159  \n",
       "4                55.901993  4.833353e+10          9.249007  \n",
       "...                    ...           ...               ...  \n",
       "13131            34.600616  1.226640e+10          4.841568  \n",
       "13145            65.236801  1.094640e+10          5.472824  \n",
       "13155            43.676567  1.200869e+10          4.417672  \n",
       "13164            81.905136  1.186733e+10         10.748503  \n",
       "13199            69.749985  1.051248e+10          4.104519  \n",
       "\n",
       "[3638 rows x 7 columns]"
      ]
     },
     "execution_count": 145,
     "metadata": {},
     "output_type": "execute_result"
    }
   ],
   "source": [
    "table_b = table_a[((table_a['Stars_Mass']/G_test)>0.1)].copy()\n",
    "table_b"
   ]
  },
  {
   "cell_type": "markdown",
   "metadata": {},
   "source": [
    "**A la tabla de muestra B agregamos una columna que contenga la información de la distancia que tiene la galaxia indicada con\n",
    "la más masiva de la simulación**"
   ]
  },
  {
   "cell_type": "code",
   "execution_count": 146,
   "metadata": {},
   "outputs": [
    {
     "data": {
      "text/html": [
       "<div>\n",
       "<style scoped>\n",
       "    .dataframe tbody tr th:only-of-type {\n",
       "        vertical-align: middle;\n",
       "    }\n",
       "\n",
       "    .dataframe tbody tr th {\n",
       "        vertical-align: top;\n",
       "    }\n",
       "\n",
       "    .dataframe thead th {\n",
       "        text-align: right;\n",
       "    }\n",
       "</style>\n",
       "<table border=\"1\" class=\"dataframe\">\n",
       "  <thead>\n",
       "    <tr style=\"text-align: right;\">\n",
       "      <th></th>\n",
       "      <th>GalaxyID</th>\n",
       "      <th>GroupID</th>\n",
       "      <th>CentreOfPotential_x</th>\n",
       "      <th>CentreOfPotential_y</th>\n",
       "      <th>CentreOfPotential_z</th>\n",
       "      <th>Stars_Mass</th>\n",
       "      <th>HalfMassRad_Star</th>\n",
       "      <th>Distancias_test</th>\n",
       "    </tr>\n",
       "  </thead>\n",
       "  <tbody>\n",
       "    <tr>\n",
       "      <th>13199</th>\n",
       "      <td>12002343</td>\n",
       "      <td>28000000004258</td>\n",
       "      <td>81.653595</td>\n",
       "      <td>7.551041</td>\n",
       "      <td>69.749985</td>\n",
       "      <td>1.051248e+10</td>\n",
       "      <td>4.104519</td>\n",
       "      <td>0.000000</td>\n",
       "    </tr>\n",
       "    <tr>\n",
       "      <th>5247</th>\n",
       "      <td>9319534</td>\n",
       "      <td>28000000001422</td>\n",
       "      <td>81.512810</td>\n",
       "      <td>7.892962</td>\n",
       "      <td>70.192215</td>\n",
       "      <td>2.125554e+10</td>\n",
       "      <td>4.410888</td>\n",
       "      <td>0.576453</td>\n",
       "    </tr>\n",
       "    <tr>\n",
       "      <th>2267</th>\n",
       "      <td>16828343</td>\n",
       "      <td>28000000000025</td>\n",
       "      <td>80.906441</td>\n",
       "      <td>8.055350</td>\n",
       "      <td>68.953453</td>\n",
       "      <td>5.944607e+10</td>\n",
       "      <td>6.442783</td>\n",
       "      <td>1.202926</td>\n",
       "    </tr>\n",
       "    <tr>\n",
       "      <th>2263</th>\n",
       "      <td>12155759</td>\n",
       "      <td>28000000000025</td>\n",
       "      <td>80.698387</td>\n",
       "      <td>7.565343</td>\n",
       "      <td>68.578499</td>\n",
       "      <td>1.073051e+10</td>\n",
       "      <td>3.987599</td>\n",
       "      <td>1.511624</td>\n",
       "    </tr>\n",
       "    <tr>\n",
       "      <th>2264</th>\n",
       "      <td>12156651</td>\n",
       "      <td>28000000000025</td>\n",
       "      <td>81.927124</td>\n",
       "      <td>8.496295</td>\n",
       "      <td>68.488792</td>\n",
       "      <td>2.314699e+10</td>\n",
       "      <td>4.223968</td>\n",
       "      <td>1.599665</td>\n",
       "    </tr>\n",
       "    <tr>\n",
       "      <th>...</th>\n",
       "      <td>...</td>\n",
       "      <td>...</td>\n",
       "      <td>...</td>\n",
       "      <td>...</td>\n",
       "      <td>...</td>\n",
       "      <td>...</td>\n",
       "      <td>...</td>\n",
       "      <td>...</td>\n",
       "    </tr>\n",
       "    <tr>\n",
       "      <th>7893</th>\n",
       "      <td>14329684</td>\n",
       "      <td>28000000000151</td>\n",
       "      <td>34.332314</td>\n",
       "      <td>93.107407</td>\n",
       "      <td>0.375310</td>\n",
       "      <td>1.269320e+11</td>\n",
       "      <td>13.156837</td>\n",
       "      <td>119.883447</td>\n",
       "    </tr>\n",
       "    <tr>\n",
       "      <th>7895</th>\n",
       "      <td>1390572</td>\n",
       "      <td>28000000000151</td>\n",
       "      <td>34.315887</td>\n",
       "      <td>93.071381</td>\n",
       "      <td>0.338322</td>\n",
       "      <td>1.202681e+10</td>\n",
       "      <td>2.997190</td>\n",
       "      <td>119.885637</td>\n",
       "    </tr>\n",
       "    <tr>\n",
       "      <th>8523</th>\n",
       "      <td>10570405</td>\n",
       "      <td>28000000002438</td>\n",
       "      <td>42.433979</td>\n",
       "      <td>98.882729</td>\n",
       "      <td>1.007927</td>\n",
       "      <td>1.556441e+10</td>\n",
       "      <td>7.327518</td>\n",
       "      <td>120.851669</td>\n",
       "    </tr>\n",
       "    <tr>\n",
       "      <th>9359</th>\n",
       "      <td>9981020</td>\n",
       "      <td>28000000001819</td>\n",
       "      <td>9.975326</td>\n",
       "      <td>84.877281</td>\n",
       "      <td>8.793514</td>\n",
       "      <td>1.039988e+10</td>\n",
       "      <td>2.907931</td>\n",
       "      <td>121.790037</td>\n",
       "    </tr>\n",
       "    <tr>\n",
       "      <th>707</th>\n",
       "      <td>10517554</td>\n",
       "      <td>28000000002375</td>\n",
       "      <td>4.828700</td>\n",
       "      <td>95.349876</td>\n",
       "      <td>21.680540</td>\n",
       "      <td>1.056703e+10</td>\n",
       "      <td>3.478885</td>\n",
       "      <td>126.179917</td>\n",
       "    </tr>\n",
       "  </tbody>\n",
       "</table>\n",
       "<p>3638 rows × 8 columns</p>\n",
       "</div>"
      ],
      "text/plain": [
       "       GalaxyID         GroupID  CentreOfPotential_x  CentreOfPotential_y  \\\n",
       "13199  12002343  28000000004258            81.653595             7.551041   \n",
       "5247    9319534  28000000001422            81.512810             7.892962   \n",
       "2267   16828343  28000000000025            80.906441             8.055350   \n",
       "2263   12155759  28000000000025            80.698387             7.565343   \n",
       "2264   12156651  28000000000025            81.927124             8.496295   \n",
       "...         ...             ...                  ...                  ...   \n",
       "7893   14329684  28000000000151            34.332314            93.107407   \n",
       "7895    1390572  28000000000151            34.315887            93.071381   \n",
       "8523   10570405  28000000002438            42.433979            98.882729   \n",
       "9359    9981020  28000000001819             9.975326            84.877281   \n",
       "707    10517554  28000000002375             4.828700            95.349876   \n",
       "\n",
       "       CentreOfPotential_z    Stars_Mass  HalfMassRad_Star  Distancias_test  \n",
       "13199            69.749985  1.051248e+10          4.104519         0.000000  \n",
       "5247             70.192215  2.125554e+10          4.410888         0.576453  \n",
       "2267             68.953453  5.944607e+10          6.442783         1.202926  \n",
       "2263             68.578499  1.073051e+10          3.987599         1.511624  \n",
       "2264             68.488792  2.314699e+10          4.223968         1.599665  \n",
       "...                    ...           ...               ...              ...  \n",
       "7893              0.375310  1.269320e+11         13.156837       119.883447  \n",
       "7895              0.338322  1.202681e+10          2.997190       119.885637  \n",
       "8523              1.007927  1.556441e+10          7.327518       120.851669  \n",
       "9359              8.793514  1.039988e+10          2.907931       121.790037  \n",
       "707              21.680540  1.056703e+10          3.478885       126.179917  \n",
       "\n",
       "[3638 rows x 8 columns]"
      ]
     },
     "execution_count": 146,
     "metadata": {},
     "output_type": "execute_result"
    }
   ],
   "source": [
    "table_b['Distancias_test'] = np.sqrt( (table_b['CentreOfPotential_x'].to_numpy()-float(xmax))**2\n",
    "                                     +(table_b['CentreOfPotential_y'].to_numpy()-float(ymax))**2\n",
    "                                     +(table_b['CentreOfPotential_z'].to_numpy()-float(zmax))**2)\n",
    "table_b = table_b.sort_values(by=['Distancias_test'],ascending=True)\n",
    "\n",
    "table_b"
   ]
  },
  {
   "cell_type": "markdown",
   "metadata": {},
   "source": [
    "**Calculamos el parámetro número de vecinas de la galáxia G_test a una distancia menos a 2Mpc(N_2) para la muestra B:**"
   ]
  },
  {
   "cell_type": "code",
   "execution_count": 147,
   "metadata": {},
   "outputs": [
    {
     "data": {
      "text/html": [
       "<div>\n",
       "<style scoped>\n",
       "    .dataframe tbody tr th:only-of-type {\n",
       "        vertical-align: middle;\n",
       "    }\n",
       "\n",
       "    .dataframe tbody tr th {\n",
       "        vertical-align: top;\n",
       "    }\n",
       "\n",
       "    .dataframe thead th {\n",
       "        text-align: right;\n",
       "    }\n",
       "</style>\n",
       "<table border=\"1\" class=\"dataframe\">\n",
       "  <thead>\n",
       "    <tr style=\"text-align: right;\">\n",
       "      <th></th>\n",
       "      <th>GalaxyID</th>\n",
       "      <th>GroupID</th>\n",
       "      <th>CentreOfPotential_x</th>\n",
       "      <th>CentreOfPotential_y</th>\n",
       "      <th>CentreOfPotential_z</th>\n",
       "      <th>Stars_Mass</th>\n",
       "      <th>HalfMassRad_Star</th>\n",
       "      <th>Distancias_test</th>\n",
       "    </tr>\n",
       "  </thead>\n",
       "  <tbody>\n",
       "    <tr>\n",
       "      <th>13199</th>\n",
       "      <td>12002343</td>\n",
       "      <td>28000000004258</td>\n",
       "      <td>81.653595</td>\n",
       "      <td>7.551041</td>\n",
       "      <td>69.749985</td>\n",
       "      <td>1.051248e+10</td>\n",
       "      <td>4.104519</td>\n",
       "      <td>0.000000</td>\n",
       "    </tr>\n",
       "    <tr>\n",
       "      <th>5247</th>\n",
       "      <td>9319534</td>\n",
       "      <td>28000000001422</td>\n",
       "      <td>81.512810</td>\n",
       "      <td>7.892962</td>\n",
       "      <td>70.192215</td>\n",
       "      <td>2.125554e+10</td>\n",
       "      <td>4.410888</td>\n",
       "      <td>0.576453</td>\n",
       "    </tr>\n",
       "    <tr>\n",
       "      <th>2267</th>\n",
       "      <td>16828343</td>\n",
       "      <td>28000000000025</td>\n",
       "      <td>80.906441</td>\n",
       "      <td>8.055350</td>\n",
       "      <td>68.953453</td>\n",
       "      <td>5.944607e+10</td>\n",
       "      <td>6.442783</td>\n",
       "      <td>1.202926</td>\n",
       "    </tr>\n",
       "    <tr>\n",
       "      <th>2263</th>\n",
       "      <td>12155759</td>\n",
       "      <td>28000000000025</td>\n",
       "      <td>80.698387</td>\n",
       "      <td>7.565343</td>\n",
       "      <td>68.578499</td>\n",
       "      <td>1.073051e+10</td>\n",
       "      <td>3.987599</td>\n",
       "      <td>1.511624</td>\n",
       "    </tr>\n",
       "    <tr>\n",
       "      <th>2264</th>\n",
       "      <td>12156651</td>\n",
       "      <td>28000000000025</td>\n",
       "      <td>81.927124</td>\n",
       "      <td>8.496295</td>\n",
       "      <td>68.488792</td>\n",
       "      <td>2.314699e+10</td>\n",
       "      <td>4.223968</td>\n",
       "      <td>1.599665</td>\n",
       "    </tr>\n",
       "    <tr>\n",
       "      <th>2287</th>\n",
       "      <td>6656922</td>\n",
       "      <td>28000000000025</td>\n",
       "      <td>81.360245</td>\n",
       "      <td>8.461600</td>\n",
       "      <td>68.461952</td>\n",
       "      <td>1.008871e+10</td>\n",
       "      <td>2.542474</td>\n",
       "      <td>1.604431</td>\n",
       "    </tr>\n",
       "    <tr>\n",
       "      <th>2286</th>\n",
       "      <td>6650953</td>\n",
       "      <td>28000000000025</td>\n",
       "      <td>81.344185</td>\n",
       "      <td>8.552734</td>\n",
       "      <td>68.423569</td>\n",
       "      <td>2.726530e+10</td>\n",
       "      <td>3.484781</td>\n",
       "      <td>1.690711</td>\n",
       "    </tr>\n",
       "    <tr>\n",
       "      <th>2279</th>\n",
       "      <td>6659446</td>\n",
       "      <td>28000000000025</td>\n",
       "      <td>81.363083</td>\n",
       "      <td>8.594688</td>\n",
       "      <td>68.364235</td>\n",
       "      <td>1.154251e+10</td>\n",
       "      <td>3.659270</td>\n",
       "      <td>1.758948</td>\n",
       "    </tr>\n",
       "    <tr>\n",
       "      <th>2284</th>\n",
       "      <td>18737995</td>\n",
       "      <td>28000000000025</td>\n",
       "      <td>81.387962</td>\n",
       "      <td>8.587143</td>\n",
       "      <td>68.342331</td>\n",
       "      <td>4.141198e+11</td>\n",
       "      <td>37.726452</td>\n",
       "      <td>1.767924</td>\n",
       "    </tr>\n",
       "    <tr>\n",
       "      <th>2262</th>\n",
       "      <td>12154474</td>\n",
       "      <td>28000000000025</td>\n",
       "      <td>80.770180</td>\n",
       "      <td>8.709840</td>\n",
       "      <td>68.518692</td>\n",
       "      <td>3.156789e+10</td>\n",
       "      <td>4.258410</td>\n",
       "      <td>1.907700</td>\n",
       "    </tr>\n",
       "  </tbody>\n",
       "</table>\n",
       "</div>"
      ],
      "text/plain": [
       "       GalaxyID         GroupID  CentreOfPotential_x  CentreOfPotential_y  \\\n",
       "13199  12002343  28000000004258            81.653595             7.551041   \n",
       "5247    9319534  28000000001422            81.512810             7.892962   \n",
       "2267   16828343  28000000000025            80.906441             8.055350   \n",
       "2263   12155759  28000000000025            80.698387             7.565343   \n",
       "2264   12156651  28000000000025            81.927124             8.496295   \n",
       "2287    6656922  28000000000025            81.360245             8.461600   \n",
       "2286    6650953  28000000000025            81.344185             8.552734   \n",
       "2279    6659446  28000000000025            81.363083             8.594688   \n",
       "2284   18737995  28000000000025            81.387962             8.587143   \n",
       "2262   12154474  28000000000025            80.770180             8.709840   \n",
       "\n",
       "       CentreOfPotential_z    Stars_Mass  HalfMassRad_Star  Distancias_test  \n",
       "13199            69.749985  1.051248e+10          4.104519         0.000000  \n",
       "5247             70.192215  2.125554e+10          4.410888         0.576453  \n",
       "2267             68.953453  5.944607e+10          6.442783         1.202926  \n",
       "2263             68.578499  1.073051e+10          3.987599         1.511624  \n",
       "2264             68.488792  2.314699e+10          4.223968         1.599665  \n",
       "2287             68.461952  1.008871e+10          2.542474         1.604431  \n",
       "2286             68.423569  2.726530e+10          3.484781         1.690711  \n",
       "2279             68.364235  1.154251e+10          3.659270         1.758948  \n",
       "2284             68.342331  4.141198e+11         37.726452         1.767924  \n",
       "2262             68.518692  3.156789e+10          4.258410         1.907700  "
      ]
     },
     "execution_count": 147,
     "metadata": {},
     "output_type": "execute_result"
    }
   ],
   "source": [
    "N_2 = table_b[(table_b['Distancias_test']<=2)].sort_values(by=['Distancias_test'],ascending=True).copy()\n",
    "N_2"
   ]
  },
  {
   "cell_type": "code",
   "execution_count": 148,
   "metadata": {},
   "outputs": [],
   "source": [
    "r_sep_1= table_b['Distancias_test'].to_numpy()[1]/(table_b['HalfMassRad_Star'].to_numpy()[0]/1000+table_b['HalfMassRad_Star'].to_numpy()[1]/1000) #HalfMassRad_Star, en la columna 13, está en kpc.\n",
    "r_sep_2= table_b['Distancias_test'].to_numpy()[2]/(table_b['HalfMassRad_Star'].to_numpy()[0]/1000+table_b['HalfMassRad_Star'].to_numpy()[2]/1000)"
   ]
  },
  {
   "cell_type": "code",
   "execution_count": 149,
   "metadata": {},
   "outputs": [],
   "source": [
    "mu_1 = table_b['Stars_Mass'].to_numpy()[1]/table_b['Stars_Mass'].to_numpy()[0]\n",
    "mu_2 = table_b['Stars_Mass'].to_numpy()[2]/table_b['Stars_Mass'].to_numpy()[0]"
   ]
  },
  {
   "cell_type": "markdown",
   "metadata": {},
   "source": [
    "**Creamos un nuevo DataFrame que contenga los datos que nos interecen(estaría bueno hacer más general el proceso de selección de los lugares)** "
   ]
  },
  {
   "cell_type": "code",
   "execution_count": 150,
   "metadata": {},
   "outputs": [
    {
     "data": {
      "text/html": [
       "<div>\n",
       "<style scoped>\n",
       "    .dataframe tbody tr th:only-of-type {\n",
       "        vertical-align: middle;\n",
       "    }\n",
       "\n",
       "    .dataframe tbody tr th {\n",
       "        vertical-align: top;\n",
       "    }\n",
       "\n",
       "    .dataframe thead th {\n",
       "        text-align: right;\n",
       "    }\n",
       "</style>\n",
       "<table border=\"1\" class=\"dataframe\">\n",
       "  <thead>\n",
       "    <tr style=\"text-align: right;\">\n",
       "      <th></th>\n",
       "      <th>GalaxyID_test</th>\n",
       "      <th>GroupID_test</th>\n",
       "      <th>GalaxyID_V1</th>\n",
       "      <th>GalaxyID_V2</th>\n",
       "      <th>R_1</th>\n",
       "      <th>R_2</th>\n",
       "      <th>r_sep_1</th>\n",
       "      <th>r_sep_2</th>\n",
       "      <th>mu_1</th>\n",
       "      <th>mu_2</th>\n",
       "      <th>N_2</th>\n",
       "    </tr>\n",
       "  </thead>\n",
       "  <tbody>\n",
       "    <tr>\n",
       "      <th>0</th>\n",
       "      <td>12002343</td>\n",
       "      <td>28000000004258</td>\n",
       "      <td>9319534</td>\n",
       "      <td>16828343</td>\n",
       "      <td>0.576453</td>\n",
       "      <td>1.202926</td>\n",
       "      <td>67.695244</td>\n",
       "      <td>114.050544</td>\n",
       "      <td>2.021934</td>\n",
       "      <td>5.65481</td>\n",
       "      <td>9</td>\n",
       "    </tr>\n",
       "  </tbody>\n",
       "</table>\n",
       "</div>"
      ],
      "text/plain": [
       "   GalaxyID_test    GroupID_test  GalaxyID_V1  GalaxyID_V2       R_1  \\\n",
       "0       12002343  28000000004258      9319534     16828343  0.576453   \n",
       "\n",
       "        R_2    r_sep_1     r_sep_2      mu_1     mu_2  N_2  \n",
       "0  1.202926  67.695244  114.050544  2.021934  5.65481    9  "
      ]
     },
     "execution_count": 150,
     "metadata": {},
     "output_type": "execute_result"
    }
   ],
   "source": [
    "data = {'GalaxyID_test':[table_b['GalaxyID'].to_numpy()[0]],'GroupID_test':[table_b['GroupID'].to_numpy()[0]],\n",
    "        'GalaxyID_V1':[table_b['GalaxyID'].to_numpy()[1]],'GalaxyID_V2':[table_b['GalaxyID'].to_numpy()[2]],\n",
    "        'R_1':[table_b['Distancias_test'].to_numpy()[1]],'R_2':[table_b['Distancias_test'].to_numpy()[2]],\n",
    "        'r_sep_1':r_sep_1,'r_sep_2':r_sep_2,'mu_1':mu_1,'mu_2':mu_2,'N_2':[len(N_2)-1]}\n",
    "\n",
    "DATA = pd.DataFrame(data=data)\n",
    "DATA"
   ]
  },
  {
   "cell_type": "markdown",
   "metadata": {},
   "source": [
    "**Creo que también está bueno guardarnos las posiciones relativas de las vecinas respecto de la galaxia central, para poder hacer scatter plots\n",
    "más rápido.\n",
    "Paso a hacer los gráficos en 2D y 3D.**"
   ]
  },
  {
   "cell_type": "code",
   "execution_count": 93,
   "metadata": {},
   "outputs": [
    {
     "data": {
      "image/png": "[encoded data removed]",
      "text/plain": [
       "<Figure size 576x432 with 1 Axes>"
      ]
     },
     "metadata": {
      "needs_background": "light"
     },
     "output_type": "display_data"
    }
   ],
   "source": [
    "eje_1 = 'x'\n",
    "eje_2 = 'y'\n",
    "\n",
    "fig,ax=plt.subplots(figsize=(8,6))\n",
    "\n",
    "xvar_1= N_2['CentreOfPotential_'+eje_1].iloc[0:3]-float(xmax)\n",
    "yvar_1= N_2['CentreOfPotential_'+eje_2].iloc[0:3]-float(ymax)\n",
    "\n",
    "xvar_2= N_2['CentreOfPotential_'+eje_1].iloc[3:]-float(xmax)\n",
    "yvar_2= N_2['CentreOfPotential_'+eje_2].iloc[3:]-float(ymax)\n",
    "\n",
    "\n",
    "ax.scatter(xvar_1,yvar_1,marker='D',s=50,c='b',label='Galaxias central con sus 2 vecinas')\n",
    "ax.scatter(xvar_2,yvar_2,marker='o',s=20,c='k',label='Galaxias periféricas')\n",
    "\n",
    "xlim=(-2,2)\n",
    "ylim=(-2,2)\n",
    "\n",
    "xlabel= 'Eje '+eje_1\n",
    "ylabel= 'Eje '+eje_2\n",
    "\n",
    "ax.set_xlabel(xlabel,fontsize=14)\n",
    "ax.set_ylabel(ylabel,fontsize=14)\n",
    "\n",
    "ax.tick_params(axis='both',labelsize=15)\n",
    "\n",
    "ax.set_xlim(xlim)\n",
    "ax.set_ylim(ylim)\n",
    "\n",
    "plt.title('CentreOfPotential '+eje_1+'[cMpc] vs CentreOfPotential '+eje_2+'[cMpc]')\n",
    "\n",
    "# plt.subplots_adjust(left=0.12,right=0.95,bottom=0.15,top=0.95)\n",
    "\n",
    "leg = plt.legend(loc='upper right',edgecolor='w',fontsize=10)\n",
    "#leg.set_title('Primeras dos vecinas', prop = {'size':15})\n",
    "\n",
    "\n",
    "# plt.axis('scaled')#Escalea los ejes para que no se deforme el plano\n",
    "\n",
    "plt.grid(True)\n",
    "# plt.savefig('CentreOfPotential_y_vs_CentreOfPotential_x_(z=0).png')\n",
    "plt.show()"
   ]
  },
  {
   "cell_type": "code",
   "execution_count": 94,
   "metadata": {},
   "outputs": [
    {
     "data": {
      "image/png": "[encoded data removed]",
      "text/plain": [
       "<Figure size 576x432 with 1 Axes>"
      ]
     },
     "metadata": {
      "needs_background": "light"
     },
     "output_type": "display_data"
    }
   ],
   "source": [
    "eje_1 = 'x'\n",
    "eje_2 = 'z'\n",
    "\n",
    "fig,ax=plt.subplots(figsize=(8,6))\n",
    "\n",
    "xvar_1= N_2['CentreOfPotential_'+eje_1].iloc[0:3]-float(xmax)\n",
    "yvar_1= N_2['CentreOfPotential_'+eje_2].iloc[0:3]-float(zmax)\n",
    "\n",
    "xvar_2= N_2['CentreOfPotential_'+eje_1].iloc[3:]-float(xmax)\n",
    "yvar_2= N_2['CentreOfPotential_'+eje_2].iloc[3:]-float(zmax)\n",
    "\n",
    "\n",
    "ax.scatter(xvar_1,yvar_1,marker='D',s=50,c='b',label='Galaxias central con sus 2 vecinas')\n",
    "ax.scatter(xvar_2,yvar_2,marker='o',s=20,c='k',label='Galaxias periféricas')\n",
    "\n",
    "xlim=(-2,2)\n",
    "ylim=(-2,2)\n",
    "\n",
    "xlabel= 'Eje '+eje_1\n",
    "ylabel= 'Eje '+eje_2\n",
    "\n",
    "ax.set_xlabel(xlabel,fontsize=14)\n",
    "ax.set_ylabel(ylabel,fontsize=14)\n",
    "\n",
    "ax.tick_params(axis='both',labelsize=15)\n",
    "\n",
    "ax.set_xlim(xlim)\n",
    "ax.set_ylim(ylim)\n",
    "\n",
    "plt.title('CentreOfPotential '+eje_1+'[cMpc] vs CentreOfPotential '+eje_2+'[cMpc]')\n",
    "\n",
    "# plt.subplots_adjust(left=0.12,right=0.95,bottom=0.15,top=0.95)\n",
    "\n",
    "leg = plt.legend(loc='upper right',edgecolor='w',fontsize=10)\n",
    "#leg.set_title('Primeras dos vecinas', prop = {'size':15})\n",
    "\n",
    "\n",
    "# plt.axis('scaled')#Escalea los ejes para que no se deforme el plano\n",
    "\n",
    "plt.grid(True)\n",
    "# plt.savefig('CentreOfPotential_y_vs_CentreOfPotential_x_(z=0).png')\n",
    "plt.show()"
   ]
  },
  {
   "cell_type": "code",
   "execution_count": 95,
   "metadata": {},
   "outputs": [
    {
     "data": {
      "image/png": "[encoded data removed]",
      "text/plain": [
       "<Figure size 576x432 with 1 Axes>"
      ]
     },
     "metadata": {
      "needs_background": "light"
     },
     "output_type": "display_data"
    }
   ],
   "source": [
    "eje_1 = 'y'\n",
    "eje_2 = 'z'\n",
    "\n",
    "fig,ax=plt.subplots(figsize=(8,6))\n",
    "\n",
    "xvar_1= N_2['CentreOfPotential_'+eje_1].iloc[0:3]-float(ymax)\n",
    "yvar_1= N_2['CentreOfPotential_'+eje_2].iloc[0:3]-float(zmax)\n",
    "\n",
    "xvar_2= N_2['CentreOfPotential_'+eje_1].iloc[3:]-float(ymax)\n",
    "yvar_2= N_2['CentreOfPotential_'+eje_2].iloc[3:]-float(zmax)\n",
    "\n",
    "ax.scatter(xvar_1,yvar_1,marker='D',s=50,c='b',label='Galaxias central con sus 2 vecinas')\n",
    "ax.scatter(xvar_2,yvar_2,marker='o',s=20,c='k',label='Galaxias periféricas')\n",
    "\n",
    "xlim=(-2,2)\n",
    "ylim=(-2,2)\n",
    "\n",
    "xlabel= 'Eje '+eje_1\n",
    "ylabel= 'Eje '+eje_2\n",
    "\n",
    "ax.set_xlabel(xlabel,fontsize=14)\n",
    "ax.set_ylabel(ylabel,fontsize=14)\n",
    "\n",
    "ax.tick_params(axis='both',labelsize=15)\n",
    "\n",
    "ax.set_xlim(xlim)\n",
    "ax.set_ylim(ylim)\n",
    "\n",
    "plt.title('CentreOfPotential '+eje_1+'[cMpc] vs CentreOfPotential '+eje_2+'[cMpc]')\n",
    "\n",
    "# plt.subplots_adjust(left=0.12,right=0.95,bottom=0.15,top=0.95)\n",
    "\n",
    "leg = plt.legend(loc='upper right',edgecolor='w',fontsize=10)\n",
    "#leg.set_title('Primeras dos vecinas', prop = {'size':15})\n",
    "\n",
    "\n",
    "# plt.axis('scaled')#Escalea los ejes para que no se deforme el plano\n",
    "\n",
    "plt.grid(True)\n",
    "# plt.savefig('CentreOfPotential_y_vs_CentreOfPotential_x_(z=0).png')\n",
    "plt.show()"
   ]
  },
  {
   "cell_type": "markdown",
   "metadata": {},
   "source": [
    "Ploteo en 3D"
   ]
  },
  {
   "cell_type": "code",
   "execution_count": 96,
   "metadata": {},
   "outputs": [
    {
     "data": {
      "application/vnd.plotly.v1+json": {
       "config": {
        "plotlyServerURL": "https://plot.ly"
       },
       "data": [
        {
         "marker": {
          "color": "red",
          "opacity": 1,
          "size": 2
         },
         "mode": "markers",
         "type": "scatter3d",
         "x": [
          0,
          -0.08310699462890625
         ],
         "y": [
          0,
          0.31316375732422586
         ],
         "z": [
          0,
          -0.4599456787109375
         ]
        },
        {
         "marker": {
          "color": "blue",
          "opacity": 1,
          "size": 1
         },
         "mode": "markers",
         "type": "scatter3d",
         "x": [],
         "y": [],
         "z": []
        },
        {
         "marker": {
          "color": "blue",
          "opacity": 0.01,
          "size": 0
         },
         "mode": "markers",
         "type": "scatter3d",
         "x": [
          -2,
          2
         ],
         "y": [
          -2,
          2
         ],
         "z": [
          -2,
          2
         ]
        }
       ],
       "layout": {
        "autosize": true,
        "margin": {
         "b": 0,
         "l": 0,
         "r": 0,
         "t": 0
        },
        "scene": {
         "aspectmode": "auto",
         "aspectratio": {
          "x": 1,
          "y": 1,
          "z": 1
         },
         "camera": {
          "center": {
           "x": 0,
           "y": 0,
           "z": 0
          },
          "eye": {
           "x": -0.7064722870256175,
           "y": 1.0479570627592731,
           "z": 0.4658601653757737
          },
          "projection": {
           "type": "perspective"
          },
          "up": {
           "x": 0,
           "y": 0,
           "z": 1
          }
         },
         "xaxis": {
          "title": {
           "text": "C.O.P X[Mpc]"
          },
          "type": "linear"
         },
         "yaxis": {
          "title": {
           "text": "C.O.P Y[Mpc]"
          },
          "type": "linear"
         },
         "zaxis": {
          "title": {
           "text": "C.O.P Z[Mpc]"
          },
          "type": "linear"
         }
        },
        "template": {
         "data": {
          "bar": [
           {
            "error_x": {
             "color": "#2a3f5f"
            },
            "error_y": {
             "color": "#2a3f5f"
            },
            "marker": {
             "line": {
              "color": "#E5ECF6",
              "width": 0.5
             }
            },
            "type": "bar"
           }
          ],
          "barpolar": [
           {
            "marker": {
             "line": {
              "color": "#E5ECF6",
              "width": 0.5
             }
            },
            "type": "barpolar"
           }
          ],
          "carpet": [
           {
            "aaxis": {
             "endlinecolor": "#2a3f5f",
             "gridcolor": "white",
             "linecolor": "white",
             "minorgridcolor": "white",
             "startlinecolor": "#2a3f5f"
            },
            "baxis": {
             "endlinecolor": "#2a3f5f",
             "gridcolor": "white",
             "linecolor": "white",
             "minorgridcolor": "white",
             "startlinecolor": "#2a3f5f"
            },
            "type": "carpet"
           }
          ],
          "choropleth": [
           {
            "colorbar": {
             "outlinewidth": 0,
             "ticks": ""
            },
            "type": "choropleth"
           }
          ],
          "contour": [
           {
            "colorbar": {
             "outlinewidth": 0,
             "ticks": ""
            },
            "colorscale": [
             [
              0,
              "#0d0887"
             ],
             [
              0.1111111111111111,
              "#46039f"
             ],
             [
              0.2222222222222222,
              "#7201a8"
             ],
             [
              0.3333333333333333,
              "#9c179e"
             ],
             [
              0.4444444444444444,
              "#bd3786"
             ],
             [
              0.5555555555555556,
              "#d8576b"
             ],
             [
              0.6666666666666666,
              "#ed7953"
             ],
             [
              0.7777777777777778,
              "#fb9f3a"
             ],
             [
              0.8888888888888888,
              "#fdca26"
             ],
             [
              1,
              "#f0f921"
             ]
            ],
            "type": "contour"
           }
          ],
          "contourcarpet": [
           {
            "colorbar": {
             "outlinewidth": 0,
             "ticks": ""
            },
            "type": "contourcarpet"
           }
          ],
          "heatmap": [
           {
            "colorbar": {
             "outlinewidth": 0,
             "ticks": ""
            },
            "colorscale": [
             [
              0,
              "#0d0887"
             ],
             [
              0.1111111111111111,
              "#46039f"
             ],
             [
              0.2222222222222222,
              "#7201a8"
             ],
             [
              0.3333333333333333,
              "#9c179e"
             ],
             [
              0.4444444444444444,
              "#bd3786"
             ],
             [
              0.5555555555555556,
              "#d8576b"
             ],
             [
              0.6666666666666666,
              "#ed7953"
             ],
             [
              0.7777777777777778,
              "#fb9f3a"
             ],
             [
              0.8888888888888888,
              "#fdca26"
             ],
             [
              1,
              "#f0f921"
             ]
            ],
            "type": "heatmap"
           }
          ],
          "heatmapgl": [
           {
            "colorbar": {
             "outlinewidth": 0,
             "ticks": ""
            },
            "colorscale": [
             [
              0,
              "#0d0887"
             ],
             [
              0.1111111111111111,
              "#46039f"
             ],
             [
              0.2222222222222222,
              "#7201a8"
             ],
             [
              0.3333333333333333,
              "#9c179e"
             ],
             [
              0.4444444444444444,
              "#bd3786"
             ],
             [
              0.5555555555555556,
              "#d8576b"
             ],
             [
              0.6666666666666666,
              "#ed7953"
             ],
             [
              0.7777777777777778,
              "#fb9f3a"
             ],
             [
              0.8888888888888888,
              "#fdca26"
             ],
             [
              1,
              "#f0f921"
             ]
            ],
            "type": "heatmapgl"
           }
          ],
          "histogram": [
           {
            "marker": {
             "colorbar": {
              "outlinewidth": 0,
              "ticks": ""
             }
            },
            "type": "histogram"
           }
          ],
          "histogram2d": [
           {
            "colorbar": {
             "outlinewidth": 0,
             "ticks": ""
            },
            "colorscale": [
             [
              0,
              "#0d0887"
             ],
             [
              0.1111111111111111,
              "#46039f"
             ],
             [
              0.2222222222222222,
              "#7201a8"
             ],
             [
              0.3333333333333333,
              "#9c179e"
             ],
             [
              0.4444444444444444,
              "#bd3786"
             ],
             [
              0.5555555555555556,
              "#d8576b"
             ],
             [
              0.6666666666666666,
              "#ed7953"
             ],
             [
              0.7777777777777778,
              "#fb9f3a"
             ],
             [
              0.8888888888888888,
              "#fdca26"
             ],
             [
              1,
              "#f0f921"
             ]
            ],
            "type": "histogram2d"
           }
          ],
          "histogram2dcontour": [
           {
            "colorbar": {
             "outlinewidth": 0,
             "ticks": ""
            },
            "colorscale": [
             [
              0,
              "#0d0887"
             ],
             [
              0.1111111111111111,
              "#46039f"
             ],
             [
              0.2222222222222222,
              "#7201a8"
             ],
             [
              0.3333333333333333,
              "#9c179e"
             ],
             [
              0.4444444444444444,
              "#bd3786"
             ],
             [
              0.5555555555555556,
              "#d8576b"
             ],
             [
              0.6666666666666666,
              "#ed7953"
             ],
             [
              0.7777777777777778,
              "#fb9f3a"
             ],
             [
              0.8888888888888888,
              "#fdca26"
             ],
             [
              1,
              "#f0f921"
             ]
            ],
            "type": "histogram2dcontour"
           }
          ],
          "mesh3d": [
           {
            "colorbar": {
             "outlinewidth": 0,
             "ticks": ""
            },
            "type": "mesh3d"
           }
          ],
          "parcoords": [
           {
            "line": {
             "colorbar": {
              "outlinewidth": 0,
              "ticks": ""
             }
            },
            "type": "parcoords"
           }
          ],
          "pie": [
           {
            "automargin": true,
            "type": "pie"
           }
          ],
          "scatter": [
           {
            "marker": {
             "colorbar": {
              "outlinewidth": 0,
              "ticks": ""
             }
            },
            "type": "scatter"
           }
          ],
          "scatter3d": [
           {
            "line": {
             "colorbar": {
              "outlinewidth": 0,
              "ticks": ""
             }
            },
            "marker": {
             "colorbar": {
              "outlinewidth": 0,
              "ticks": ""
             }
            },
            "type": "scatter3d"
           }
          ],
          "scattercarpet": [
           {
            "marker": {
             "colorbar": {
              "outlinewidth": 0,
              "ticks": ""
             }
            },
            "type": "scattercarpet"
           }
          ],
          "scattergeo": [
           {
            "marker": {
             "colorbar": {
              "outlinewidth": 0,
              "ticks": ""
             }
            },
            "type": "scattergeo"
           }
          ],
          "scattergl": [
           {
            "marker": {
             "colorbar": {
              "outlinewidth": 0,
              "ticks": ""
             }
            },
            "type": "scattergl"
           }
          ],
          "scattermapbox": [
           {
            "marker": {
             "colorbar": {
              "outlinewidth": 0,
              "ticks": ""
             }
            },
            "type": "scattermapbox"
           }
          ],
          "scatterpolar": [
           {
            "marker": {
             "colorbar": {
              "outlinewidth": 0,
              "ticks": ""
             }
            },
            "type": "scatterpolar"
           }
          ],
          "scatterpolargl": [
           {
            "marker": {
             "colorbar": {
              "outlinewidth": 0,
              "ticks": ""
             }
            },
            "type": "scatterpolargl"
           }
          ],
          "scatterternary": [
           {
            "marker": {
             "colorbar": {
              "outlinewidth": 0,
              "ticks": ""
             }
            },
            "type": "scatterternary"
           }
          ],
          "surface": [
           {
            "colorbar": {
             "outlinewidth": 0,
             "ticks": ""
            },
            "colorscale": [
             [
              0,
              "#0d0887"
             ],
             [
              0.1111111111111111,
              "#46039f"
             ],
             [
              0.2222222222222222,
              "#7201a8"
             ],
             [
              0.3333333333333333,
              "#9c179e"
             ],
             [
              0.4444444444444444,
              "#bd3786"
             ],
             [
              0.5555555555555556,
              "#d8576b"
             ],
             [
              0.6666666666666666,
              "#ed7953"
             ],
             [
              0.7777777777777778,
              "#fb9f3a"
             ],
             [
              0.8888888888888888,
              "#fdca26"
             ],
             [
              1,
              "#f0f921"
             ]
            ],
            "type": "surface"
           }
          ],
          "table": [
           {
            "cells": {
             "fill": {
              "color": "#EBF0F8"
             },
             "line": {
              "color": "white"
             }
            },
            "header": {
             "fill": {
              "color": "#C8D4E3"
             },
             "line": {
              "color": "white"
             }
            },
            "type": "table"
           }
          ]
         },
         "layout": {
          "annotationdefaults": {
           "arrowcolor": "#2a3f5f",
           "arrowhead": 0,
           "arrowwidth": 1
          },
          "autotypenumbers": "strict",
          "coloraxis": {
           "colorbar": {
            "outlinewidth": 0,
            "ticks": ""
           }
          },
          "colorscale": {
           "diverging": [
            [
             0,
             "#8e0152"
            ],
            [
             0.1,
             "#c51b7d"
            ],
            [
             0.2,
             "#de77ae"
            ],
            [
             0.3,
             "#f1b6da"
            ],
            [
             0.4,
             "#fde0ef"
            ],
            [
             0.5,
             "#f7f7f7"
            ],
            [
             0.6,
             "#e6f5d0"
            ],
            [
             0.7,
             "#b8e186"
            ],
            [
             0.8,
             "#7fbc41"
            ],
            [
             0.9,
             "#4d9221"
            ],
            [
             1,
             "#276419"
            ]
           ],
           "sequential": [
            [
             0,
             "#0d0887"
            ],
            [
             0.1111111111111111,
             "#46039f"
            ],
            [
             0.2222222222222222,
             "#7201a8"
            ],
            [
             0.3333333333333333,
             "#9c179e"
            ],
            [
             0.4444444444444444,
             "#bd3786"
            ],
            [
             0.5555555555555556,
             "#d8576b"
            ],
            [
             0.6666666666666666,
             "#ed7953"
            ],
            [
             0.7777777777777778,
             "#fb9f3a"
            ],
            [
             0.8888888888888888,
             "#fdca26"
            ],
            [
             1,
             "#f0f921"
            ]
           ],
           "sequentialminus": [
            [
             0,
             "#0d0887"
            ],
            [
             0.1111111111111111,
             "#46039f"
            ],
            [
             0.2222222222222222,
             "#7201a8"
            ],
            [
             0.3333333333333333,
             "#9c179e"
            ],
            [
             0.4444444444444444,
             "#bd3786"
            ],
            [
             0.5555555555555556,
             "#d8576b"
            ],
            [
             0.6666666666666666,
             "#ed7953"
            ],
            [
             0.7777777777777778,
             "#fb9f3a"
            ],
            [
             0.8888888888888888,
             "#fdca26"
            ],
            [
             1,
             "#f0f921"
            ]
           ]
          },
          "colorway": [
           "#636efa",
           "#EF553B",
           "#00cc96",
           "#ab63fa",
           "#FFA15A",
           "#19d3f3",
           "#FF6692",
           "#B6E880",
           "#FF97FF",
           "#FECB52"
          ],
          "font": {
           "color": "#2a3f5f"
          },
          "geo": {
           "bgcolor": "white",
           "lakecolor": "white",
           "landcolor": "#E5ECF6",
           "showlakes": true,
           "showland": true,
           "subunitcolor": "white"
          },
          "hoverlabel": {
           "align": "left"
          },
          "hovermode": "closest",
          "mapbox": {
           "style": "light"
          },
          "paper_bgcolor": "white",
          "plot_bgcolor": "#E5ECF6",
          "polar": {
           "angularaxis": {
            "gridcolor": "white",
            "linecolor": "white",
            "ticks": ""
           },
           "bgcolor": "#E5ECF6",
           "radialaxis": {
            "gridcolor": "white",
            "linecolor": "white",
            "ticks": ""
           }
          },
          "scene": {
           "xaxis": {
            "backgroundcolor": "#E5ECF6",
            "gridcolor": "white",
            "gridwidth": 2,
            "linecolor": "white",
            "showbackground": true,
            "ticks": "",
            "zerolinecolor": "white"
           },
           "yaxis": {
            "backgroundcolor": "#E5ECF6",
            "gridcolor": "white",
            "gridwidth": 2,
            "linecolor": "white",
            "showbackground": true,
            "ticks": "",
            "zerolinecolor": "white"
           },
           "zaxis": {
            "backgroundcolor": "#E5ECF6",
            "gridcolor": "white",
            "gridwidth": 2,
            "linecolor": "white",
            "showbackground": true,
            "ticks": "",
            "zerolinecolor": "white"
           }
          },
          "shapedefaults": {
           "line": {
            "color": "#2a3f5f"
           }
          },
          "ternary": {
           "aaxis": {
            "gridcolor": "white",
            "linecolor": "white",
            "ticks": ""
           },
           "baxis": {
            "gridcolor": "white",
            "linecolor": "white",
            "ticks": ""
           },
           "bgcolor": "#E5ECF6",
           "caxis": {
            "gridcolor": "white",
            "linecolor": "white",
            "ticks": ""
           }
          },
          "title": {
           "x": 0.05
          },
          "xaxis": {
           "automargin": true,
           "gridcolor": "white",
           "linecolor": "white",
           "ticks": "",
           "title": {
            "standoff": 15
           },
           "zerolinecolor": "white",
           "zerolinewidth": 2
          },
          "yaxis": {
           "automargin": true,
           "gridcolor": "white",
           "linecolor": "white",
           "ticks": "",
           "title": {
            "standoff": 15
           },
           "zerolinecolor": "white",
           "zerolinewidth": 2
          }
         }
        }
       }
      },
      "image/png": "[encoded data removed]",
      "text/html": [
       "<div>                            <div id=\"7005ccac-98a0-4ed5-9b2f-dcf5cfc9f5a9\" class=\"plotly-graph-div\" style=\"height:525px; width:70px;\"></div>            <script type=\"text/javascript\">                require([\"plotly\"], function(Plotly) {                    window.PLOTLYENV=window.PLOTLYENV || {};                                    if (document.getElementById(\"7005ccac-98a0-4ed5-9b2f-dcf5cfc9f5a9\")) {                    Plotly.newPlot(                        \"7005ccac-98a0-4ed5-9b2f-dcf5cfc9f5a9\",                        [{\"marker\": {\"color\": \"red\", \"opacity\": 1, \"size\": 2}, \"mode\": \"markers\", \"type\": \"scatter3d\", \"x\": [0.0, -0.08310699462890625], \"y\": [0.0, 0.31316375732422586], \"z\": [0.0, -0.4599456787109375]}, {\"marker\": {\"color\": \"blue\", \"opacity\": 1, \"size\": 1}, \"mode\": \"markers\", \"type\": \"scatter3d\", \"x\": [], \"y\": [], \"z\": []}, {\"marker\": {\"color\": \"blue\", \"opacity\": 0.01, \"size\": 0}, \"mode\": \"markers\", \"type\": \"scatter3d\", \"x\": [-2, 2], \"y\": [-2, 2], \"z\": [-2, 2]}],                        {\"margin\": {\"b\": 0, \"l\": 0, \"r\": 0, \"t\": 0}, \"scene\": {\"xaxis\": {\"title\": {\"text\": \"C.O.P X[Mpc]\"}}, \"yaxis\": {\"title\": {\"text\": \"C.O.P Y[Mpc]\"}}, \"zaxis\": {\"title\": {\"text\": \"C.O.P Z[Mpc]\"}}}, \"template\": {\"data\": {\"bar\": [{\"error_x\": {\"color\": \"#2a3f5f\"}, \"error_y\": {\"color\": \"#2a3f5f\"}, \"marker\": {\"line\": {\"color\": \"#E5ECF6\", \"width\": 0.5}}, \"type\": \"bar\"}], \"barpolar\": [{\"marker\": {\"line\": {\"color\": \"#E5ECF6\", \"width\": 0.5}}, \"type\": \"barpolar\"}], \"carpet\": [{\"aaxis\": {\"endlinecolor\": \"#2a3f5f\", \"gridcolor\": \"white\", \"linecolor\": \"white\", \"minorgridcolor\": \"white\", \"startlinecolor\": \"#2a3f5f\"}, \"baxis\": {\"endlinecolor\": \"#2a3f5f\", \"gridcolor\": \"white\", \"linecolor\": \"white\", \"minorgridcolor\": \"white\", \"startlinecolor\": \"#2a3f5f\"}, \"type\": \"carpet\"}], \"choropleth\": [{\"colorbar\": {\"outlinewidth\": 0, \"ticks\": \"\"}, \"type\": \"choropleth\"}], \"contour\": [{\"colorbar\": {\"outlinewidth\": 0, \"ticks\": \"\"}, \"colorscale\": [[0.0, \"#0d0887\"], [0.1111111111111111, \"#46039f\"], [0.2222222222222222, \"#7201a8\"], [0.3333333333333333, \"#9c179e\"], [0.4444444444444444, \"#bd3786\"], [0.5555555555555556, \"#d8576b\"], [0.6666666666666666, \"#ed7953\"], [0.7777777777777778, \"#fb9f3a\"], [0.8888888888888888, \"#fdca26\"], [1.0, \"#f0f921\"]], \"type\": \"contour\"}], \"contourcarpet\": [{\"colorbar\": {\"outlinewidth\": 0, \"ticks\": \"\"}, \"type\": \"contourcarpet\"}], \"heatmap\": [{\"colorbar\": {\"outlinewidth\": 0, \"ticks\": \"\"}, \"colorscale\": [[0.0, \"#0d0887\"], [0.1111111111111111, \"#46039f\"], [0.2222222222222222, \"#7201a8\"], [0.3333333333333333, \"#9c179e\"], [0.4444444444444444, \"#bd3786\"], [0.5555555555555556, \"#d8576b\"], [0.6666666666666666, \"#ed7953\"], [0.7777777777777778, \"#fb9f3a\"], [0.8888888888888888, \"#fdca26\"], [1.0, \"#f0f921\"]], \"type\": \"heatmap\"}], \"heatmapgl\": [{\"colorbar\": {\"outlinewidth\": 0, \"ticks\": \"\"}, \"colorscale\": [[0.0, \"#0d0887\"], [0.1111111111111111, \"#46039f\"], [0.2222222222222222, \"#7201a8\"], [0.3333333333333333, \"#9c179e\"], [0.4444444444444444, \"#bd3786\"], [0.5555555555555556, \"#d8576b\"], [0.6666666666666666, \"#ed7953\"], [0.7777777777777778, \"#fb9f3a\"], [0.8888888888888888, \"#fdca26\"], [1.0, \"#f0f921\"]], \"type\": \"heatmapgl\"}], \"histogram\": [{\"marker\": {\"colorbar\": {\"outlinewidth\": 0, \"ticks\": \"\"}}, \"type\": \"histogram\"}], \"histogram2d\": [{\"colorbar\": {\"outlinewidth\": 0, \"ticks\": \"\"}, \"colorscale\": [[0.0, \"#0d0887\"], [0.1111111111111111, \"#46039f\"], [0.2222222222222222, \"#7201a8\"], [0.3333333333333333, \"#9c179e\"], [0.4444444444444444, \"#bd3786\"], [0.5555555555555556, \"#d8576b\"], [0.6666666666666666, \"#ed7953\"], [0.7777777777777778, \"#fb9f3a\"], [0.8888888888888888, \"#fdca26\"], [1.0, \"#f0f921\"]], \"type\": \"histogram2d\"}], \"histogram2dcontour\": [{\"colorbar\": {\"outlinewidth\": 0, \"ticks\": \"\"}, \"colorscale\": [[0.0, \"#0d0887\"], [0.1111111111111111, \"#46039f\"], [0.2222222222222222, \"#7201a8\"], [0.3333333333333333, \"#9c179e\"], [0.4444444444444444, \"#bd3786\"], [0.5555555555555556, \"#d8576b\"], [0.6666666666666666, \"#ed7953\"], [0.7777777777777778, \"#fb9f3a\"], [0.8888888888888888, \"#fdca26\"], [1.0, \"#f0f921\"]], \"type\": \"histogram2dcontour\"}], \"mesh3d\": [{\"colorbar\": {\"outlinewidth\": 0, \"ticks\": \"\"}, \"type\": \"mesh3d\"}], \"parcoords\": [{\"line\": {\"colorbar\": {\"outlinewidth\": 0, \"ticks\": \"\"}}, \"type\": \"parcoords\"}], \"pie\": [{\"automargin\": true, \"type\": \"pie\"}], \"scatter\": [{\"marker\": {\"colorbar\": {\"outlinewidth\": 0, \"ticks\": \"\"}}, \"type\": \"scatter\"}], \"scatter3d\": [{\"line\": {\"colorbar\": {\"outlinewidth\": 0, \"ticks\": \"\"}}, \"marker\": {\"colorbar\": {\"outlinewidth\": 0, \"ticks\": \"\"}}, \"type\": \"scatter3d\"}], \"scattercarpet\": [{\"marker\": {\"colorbar\": {\"outlinewidth\": 0, \"ticks\": \"\"}}, \"type\": \"scattercarpet\"}], \"scattergeo\": [{\"marker\": {\"colorbar\": {\"outlinewidth\": 0, \"ticks\": \"\"}}, \"type\": \"scattergeo\"}], \"scattergl\": [{\"marker\": {\"colorbar\": {\"outlinewidth\": 0, \"ticks\": \"\"}}, \"type\": \"scattergl\"}], \"scattermapbox\": [{\"marker\": {\"colorbar\": {\"outlinewidth\": 0, \"ticks\": \"\"}}, \"type\": \"scattermapbox\"}], \"scatterpolar\": [{\"marker\": {\"colorbar\": {\"outlinewidth\": 0, \"ticks\": \"\"}}, \"type\": \"scatterpolar\"}], \"scatterpolargl\": [{\"marker\": {\"colorbar\": {\"outlinewidth\": 0, \"ticks\": \"\"}}, \"type\": \"scatterpolargl\"}], \"scatterternary\": [{\"marker\": {\"colorbar\": {\"outlinewidth\": 0, \"ticks\": \"\"}}, \"type\": \"scatterternary\"}], \"surface\": [{\"colorbar\": {\"outlinewidth\": 0, \"ticks\": \"\"}, \"colorscale\": [[0.0, \"#0d0887\"], [0.1111111111111111, \"#46039f\"], [0.2222222222222222, \"#7201a8\"], [0.3333333333333333, \"#9c179e\"], [0.4444444444444444, \"#bd3786\"], [0.5555555555555556, \"#d8576b\"], [0.6666666666666666, \"#ed7953\"], [0.7777777777777778, \"#fb9f3a\"], [0.8888888888888888, \"#fdca26\"], [1.0, \"#f0f921\"]], \"type\": \"surface\"}], \"table\": [{\"cells\": {\"fill\": {\"color\": \"#EBF0F8\"}, \"line\": {\"color\": \"white\"}}, \"header\": {\"fill\": {\"color\": \"#C8D4E3\"}, \"line\": {\"color\": \"white\"}}, \"type\": \"table\"}]}, \"layout\": {\"annotationdefaults\": {\"arrowcolor\": \"#2a3f5f\", \"arrowhead\": 0, \"arrowwidth\": 1}, \"autotypenumbers\": \"strict\", \"coloraxis\": {\"colorbar\": {\"outlinewidth\": 0, \"ticks\": \"\"}}, \"colorscale\": {\"diverging\": [[0, \"#8e0152\"], [0.1, \"#c51b7d\"], [0.2, \"#de77ae\"], [0.3, \"#f1b6da\"], [0.4, \"#fde0ef\"], [0.5, \"#f7f7f7\"], [0.6, \"#e6f5d0\"], [0.7, \"#b8e186\"], [0.8, \"#7fbc41\"], [0.9, \"#4d9221\"], [1, \"#276419\"]], \"sequential\": [[0.0, \"#0d0887\"], [0.1111111111111111, \"#46039f\"], [0.2222222222222222, \"#7201a8\"], [0.3333333333333333, \"#9c179e\"], [0.4444444444444444, \"#bd3786\"], [0.5555555555555556, \"#d8576b\"], [0.6666666666666666, \"#ed7953\"], [0.7777777777777778, \"#fb9f3a\"], [0.8888888888888888, \"#fdca26\"], [1.0, \"#f0f921\"]], \"sequentialminus\": [[0.0, \"#0d0887\"], [0.1111111111111111, \"#46039f\"], [0.2222222222222222, \"#7201a8\"], [0.3333333333333333, \"#9c179e\"], [0.4444444444444444, \"#bd3786\"], [0.5555555555555556, \"#d8576b\"], [0.6666666666666666, \"#ed7953\"], [0.7777777777777778, \"#fb9f3a\"], [0.8888888888888888, \"#fdca26\"], [1.0, \"#f0f921\"]]}, \"colorway\": [\"#636efa\", \"#EF553B\", \"#00cc96\", \"#ab63fa\", \"#FFA15A\", \"#19d3f3\", \"#FF6692\", \"#B6E880\", \"#FF97FF\", \"#FECB52\"], \"font\": {\"color\": \"#2a3f5f\"}, \"geo\": {\"bgcolor\": \"white\", \"lakecolor\": \"white\", \"landcolor\": \"#E5ECF6\", \"showlakes\": true, \"showland\": true, \"subunitcolor\": \"white\"}, \"hoverlabel\": {\"align\": \"left\"}, \"hovermode\": \"closest\", \"mapbox\": {\"style\": \"light\"}, \"paper_bgcolor\": \"white\", \"plot_bgcolor\": \"#E5ECF6\", \"polar\": {\"angularaxis\": {\"gridcolor\": \"white\", \"linecolor\": \"white\", \"ticks\": \"\"}, \"bgcolor\": \"#E5ECF6\", \"radialaxis\": {\"gridcolor\": \"white\", \"linecolor\": \"white\", \"ticks\": \"\"}}, \"scene\": {\"xaxis\": {\"backgroundcolor\": \"#E5ECF6\", \"gridcolor\": \"white\", \"gridwidth\": 2, \"linecolor\": \"white\", \"showbackground\": true, \"ticks\": \"\", \"zerolinecolor\": \"white\"}, \"yaxis\": {\"backgroundcolor\": \"#E5ECF6\", \"gridcolor\": \"white\", \"gridwidth\": 2, \"linecolor\": \"white\", \"showbackground\": true, \"ticks\": \"\", \"zerolinecolor\": \"white\"}, \"zaxis\": {\"backgroundcolor\": \"#E5ECF6\", \"gridcolor\": \"white\", \"gridwidth\": 2, \"linecolor\": \"white\", \"showbackground\": true, \"ticks\": \"\", \"zerolinecolor\": \"white\"}}, \"shapedefaults\": {\"line\": {\"color\": \"#2a3f5f\"}}, \"ternary\": {\"aaxis\": {\"gridcolor\": \"white\", \"linecolor\": \"white\", \"ticks\": \"\"}, \"baxis\": {\"gridcolor\": \"white\", \"linecolor\": \"white\", \"ticks\": \"\"}, \"bgcolor\": \"#E5ECF6\", \"caxis\": {\"gridcolor\": \"white\", \"linecolor\": \"white\", \"ticks\": \"\"}}, \"title\": {\"x\": 0.05}, \"xaxis\": {\"automargin\": true, \"gridcolor\": \"white\", \"linecolor\": \"white\", \"ticks\": \"\", \"title\": {\"standoff\": 15}, \"zerolinecolor\": \"white\", \"zerolinewidth\": 2}, \"yaxis\": {\"automargin\": true, \"gridcolor\": \"white\", \"linecolor\": \"white\", \"ticks\": \"\", \"title\": {\"standoff\": 15}, \"zerolinecolor\": \"white\", \"zerolinewidth\": 2}}}, \"width\": 70},                        {\"responsive\": true}                    ).then(function(){\n",
       "                            \n",
       "var gd = document.getElementById('7005ccac-98a0-4ed5-9b2f-dcf5cfc9f5a9');\n",
       "var x = new MutationObserver(function (mutations, observer) {{\n",
       "        var display = window.getComputedStyle(gd).display;\n",
       "        if (!display || display === 'none') {{\n",
       "            console.log([gd, 'removed!']);\n",
       "            Plotly.purge(gd);\n",
       "            observer.disconnect();\n",
       "        }}\n",
       "}});\n",
       "\n",
       "// Listen for the removal of the full notebook cells\n",
       "var notebookContainer = gd.closest('#notebook-container');\n",
       "if (notebookContainer) {{\n",
       "    x.observe(notebookContainer, {childList: true});\n",
       "}}\n",
       "\n",
       "// Listen for the clearing of the current output cell\n",
       "var outputEl = gd.closest('.output');\n",
       "if (outputEl) {{\n",
       "    x.observe(outputEl, {childList: true});\n",
       "}}\n",
       "\n",
       "                        })                };                });            </script>        </div>"
      ]
     },
     "metadata": {},
     "output_type": "display_data"
    }
   ],
   "source": [
    "xvar_1= N_2['CentreOfPotential_x'].iloc[0:3]-float(xmax)\n",
    "yvar_1= N_2['CentreOfPotential_y'].iloc[0:3]-float(ymax)\n",
    "zvar_1= N_2['CentreOfPotential_z'].iloc[0:3]-float(zmax)\n",
    "\n",
    "xvar_2= N_2['CentreOfPotential_x'].iloc[3:]-float(xmax)\n",
    "yvar_2= N_2['CentreOfPotential_y'].iloc[3:]-float(ymax)\n",
    "zvar_2= N_2['CentreOfPotential_z'].iloc[3:]-float(zmax)\n",
    "\n",
    "x_lim = [-2,2]\n",
    "y_lim = [-2,2]\n",
    "z_lim = [-2,2]\n",
    "\n",
    "fig = go.Figure(data=[go.Scatter3d(\n",
    "    x=xvar_1,\n",
    "    y=yvar_1,\n",
    "    z=zvar_1,\n",
    "    mode='markers',\n",
    "    marker=dict(\n",
    "        size = 2,\n",
    "        color='red',\n",
    "        opacity=1\n",
    "    )\n",
    "    ),go.Scatter3d(\n",
    "        x=xvar_2,\n",
    "        y=yvar_2,\n",
    "        z=zvar_2,\n",
    "        mode='markers',\n",
    "        marker=dict(\n",
    "        size = 1,\n",
    "        color='blue',\n",
    "        opacity=1\n",
    "    )      \n",
    "    ),go.Scatter3d(\n",
    "        x=x_lim,\n",
    "        y=y_lim,\n",
    "        z=z_lim,\n",
    "        mode='markers',\n",
    "        marker=dict(\n",
    "        size=0,\n",
    "        color='blue',\n",
    "        opacity=0.01))\n",
    "                     ])\n",
    "\n",
    "# tight layout\n",
    "fig.update_layout(scene = dict(\n",
    "                    xaxis_title='C.O.P X[Mpc]',\n",
    "                    yaxis_title='C.O.P Y[Mpc]',\n",
    "                    zaxis_title='C.O.P Z[Mpc]'),\n",
    "                    width=70,\n",
    "                    margin =dict(l=0, r=0, b=0, t=0))\n",
    "\n",
    "\n",
    "\n",
    "fig.show()\n"
   ]
  },
  {
   "cell_type": "code",
   "execution_count": null,
   "metadata": {},
   "outputs": [],
   "source": []
  },
  {
   "cell_type": "code",
   "execution_count": null,
   "metadata": {},
   "outputs": [],
   "source": []
  },
  {
   "cell_type": "code",
   "execution_count": null,
   "metadata": {},
   "outputs": [],
   "source": []
  },
  {
   "cell_type": "code",
   "execution_count": null,
   "metadata": {},
   "outputs": [],
   "source": []
  }
 ],
 "metadata": {
  "kernelspec": {
   "display_name": "Python 3",
   "language": "python",
   "name": "python3"
  },
  "language_info": {
   "codemirror_mode": {
    "name": "ipython",
    "version": 3
   },
   "file_extension": ".py",
   "mimetype": "text/x-python",
   "name": "python",
   "nbconvert_exporter": "python",
   "pygments_lexer": "ipython3",
   "version": "3.8.5"
  }
 },
 "nbformat": 4,
 "nbformat_minor": 4
}
