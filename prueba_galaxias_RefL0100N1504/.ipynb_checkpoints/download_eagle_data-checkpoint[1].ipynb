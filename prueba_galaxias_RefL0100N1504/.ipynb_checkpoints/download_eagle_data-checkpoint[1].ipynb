{
 "cells": [
  {
   "cell_type": "markdown",
   "metadata": {},
   "source": [
    "# Script de python sencillo para descargar datos de EAGLE "
   ]
  },
  {
   "cell_type": "markdown",
   "metadata": {},
   "source": [
    "#### Antes de empezar: una herramienta útil para descargar datos de EAGLE desde Python, es el paquete eagleSQLtools.\n",
    "\n",
    "#### Repositorio del paquete: https://github.com/kyleaoman/eagleSqlTools\n",
    "\n",
    "#### Para instalarlo, en una terminal correr el siguiente comando:\n",
    "\n",
    "#### pip install eaglesqltools"
   ]
  },
  {
   "cell_type": "markdown",
   "metadata": {},
   "source": [
    "#### Importar paquetes necesarios. Agregar paquete si hace falta"
   ]
  },
  {
   "cell_type": "code",
   "execution_count": 1,
   "metadata": {},
   "outputs": [],
   "source": [
    "import matplotlib.pyplot as plt\n",
    "import eagleSqlTools as sql\n",
    "from astropy.io import ascii\n",
    "from astropy.table import Table\n",
    "import numpy as np"
   ]
  },
  {
   "cell_type": "markdown",
   "metadata": {},
   "source": [
    "#### Datos para la descarga (usuario, contraseña, simulación, snapnum, fragmentos de la query)"
   ]
  },
  {
   "cell_type": "code",
   "execution_count": 2,
   "metadata": {},
   "outputs": [],
   "source": [
    "# Usuario y contraseña\n",
    "usr='dmh905'\n",
    "pwd='aqw57XDN'\n",
    "\n",
    "# Simulación y snapnum deseado\n",
    "simu='RefL0100N1504'\n",
    "snap=28\n",
    "\n",
    "# Carpeta donde guardar archivo. Dejar un caracter 'vacío' para descargar los datos\n",
    "# en la misma carpeta desde donde se ejecuta la notebook.\n",
    "download_folder=''\n",
    "\n",
    "# Nombre del archivo que guardará los datos descargados\n",
    "filename='prueba_galaxias_'+simu+'_snap_'+str(snap)+'.dat'\n",
    "\n",
    "# Cosas para armar la query\n",
    "# Tabla y Alias de la tabla desde donde quiero descargar datos\n",
    "table='Subhalo'\n",
    "table_alias='sub'  \n",
    "\n",
    "# Columnas a seleccionar (agregar/quitar según sea necesario)\n",
    "columns=[\n",
    "         'GalaxyID','Redshift','SubGroupNumber', \n",
    "         'CentreOfPotential_x','CentreOfPotential_y','CentreOfPotential_z', \n",
    "         'Stars_Mass', 'SF_Mass', 'NSF_Mass', 'MassType_DM', 'MassType_BH', \n",
    "         'HalfMassRad_Star','HalfMassRad_Gas', 'HalfMassRad_DM', \n",
    "         'Stars_Hydrogen','Stars_Oxygen','Stars_Metallicity', \n",
    "         'SF_Hydrogen','SF_Oxygen','SF_Metallicity', \n",
    "         'NSF_Hydrogen','NSF_Oxygen','NSF_Metallicity', \n",
    "         'StarFormationRate','InitialMassWeightedStellarAge' \n",
    "         ]\n",
    "\n",
    "\n",
    "# De qué tabla seleccionar ('FROM' en la query SQL)\n",
    "from_table=simu+'_'+table+' as '+table_alias\n",
    "\n",
    "# Condiciones para seleccionar ('WHERE' en la query SQL)\n",
    "# NO AGREGAR ACÁ EL ALIAS DE LA TABLA! Se agragará después\n",
    "where_cond=[\n",
    "            'SnapNum='+str(snap),\n",
    "            'Stars_Mass>=1e9'\n",
    "           ]\n",
    "\n",
    "#---------------------------------------------------------------------------\n",
    "\n",
    "# Armo la sentencia 'SELECT' a partir de la lista de columnas\n",
    "select=','.join([table_alias+'.'+col for col in columns])\n",
    "\n",
    "# Armo la sentencia 'WHERE' a paritr de la lista de condiciones\n",
    "where=' and '.join(where_cond)\n"
   ]
  },
  {
   "cell_type": "markdown",
   "metadata": {},
   "source": [
    "#### Conexión a la base de datos y descarga"
   ]
  },
  {
   "cell_type": "code",
   "execution_count": 3,
   "metadata": {},
   "outputs": [],
   "source": [
    "# Conectarse a la base de datos\n",
    "con = sql.connect(usr,password=pwd)\n",
    "\n",
    "# Query en SQL\n",
    "query = 'SELECT '+select+' FROM '+from_table+' WHERE '+where\n",
    "\n",
    "# Execute query \n",
    "exquery = sql.execute_query(con, query)\n",
    "\n",
    "# List of column names of downloaded data\n",
    "colnames=(exquery.view(np.recarray).dtype.names)\n",
    "\n",
    "# Dictionary of data\n",
    "mytable={}\n",
    "for name in colnames:\n",
    "    mytable[name]=exquery[name]\n",
    "    \n",
    "# dictionary={key1:value,key2:value,....}\n",
    "    "
   ]
  },
  {
   "cell_type": "code",
   "execution_count": 4,
   "metadata": {},
   "outputs": [
    {
     "data": {
      "text/plain": [
       "13300"
      ]
     },
     "execution_count": 4,
     "metadata": {},
     "output_type": "execute_result"
    }
   ],
   "source": [
    "# Para ver el número de galaxias descargadas\n",
    "len(mytable['GalaxyID'])"
   ]
  },
  {
   "cell_type": "markdown",
   "metadata": {},
   "source": [
    "#### Guardar los datos en un archivo ascii"
   ]
  },
  {
   "cell_type": "code",
   "execution_count": 5,
   "metadata": {},
   "outputs": [],
   "source": [
    "# Abrir el archivo donde se guardarán los datos\n",
    "outf=open(download_folder+filename,'w')\n",
    "\n",
    "# Transformar el diccionario a una tabla ascii\n",
    "data_ascii=Table(mytable)\n",
    "\n",
    "# Escribir los datos al archivo\n",
    "data_ascii.write(outf,format='csv')\n",
    "\n",
    "# Cerrar el archivo\n",
    "outf.close()"
   ]
  },
  {
   "cell_type": "markdown",
   "metadata": {},
   "source": [
    "#### EoP"
   ]
  }
 ],
 "metadata": {
  "kernelspec": {
   "display_name": "Python 3",
   "language": "python",
   "name": "python3"
  },
  "language_info": {
   "codemirror_mode": {
    "name": "ipython",
    "version": 3
   },
   "file_extension": ".py",
   "mimetype": "text/x-python",
   "name": "python",
   "nbconvert_exporter": "python",
   "pygments_lexer": "ipython3",
   "version": "3.7.4"
  }
 },
 "nbformat": 4,
 "nbformat_minor": 2
}
