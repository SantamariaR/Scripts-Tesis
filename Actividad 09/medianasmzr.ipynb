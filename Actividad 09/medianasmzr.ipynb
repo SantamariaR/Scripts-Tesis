{
 "cells": [
  {
   "cell_type": "code",
   "execution_count": 1,
   "metadata": {},
   "outputs": [],
   "source": [
    "import numpy as np\n",
    "import pandas as pd\n",
    "from matplotlib import colors\n",
    "import matplotlib.pyplot as plt\n",
    "import Curves2D"
   ]
  },
  {
   "cell_type": "code",
   "execution_count": 2,
   "metadata": {},
   "outputs": [],
   "source": [
    "path_lin='/home/ramiro/Facultad/Tesis/Python/Descarga de datos para diferentes catálogos/'"
   ]
  },
  {
   "cell_type": "markdown",
   "metadata": {},
   "source": [
    "Hay snap=28,19,15,12, que representan z=0,1,2,3"
   ]
  },
  {
   "cell_type": "code",
   "execution_count": 3,
   "metadata": {},
   "outputs": [],
   "source": [
    "snap=12"
   ]
  },
  {
   "cell_type": "markdown",
   "metadata": {},
   "source": [
    "Medias de MZR calculadas para galaxias >10^10 masas solares con SF_Oxygen y SF_Hydrogen >0:"
   ]
  },
  {
   "cell_type": "code",
   "execution_count": 4,
   "metadata": {},
   "outputs": [],
   "source": [
    "Snap = pd.read_csv(path_lin+'Aperturas_RefL0100N1504_snap_'+str(snap)+'.dat')"
   ]
  },
  {
   "cell_type": "code",
   "execution_count": 5,
   "metadata": {},
   "outputs": [],
   "source": [
    "xvar = np.log10(Snap['Stars_Mass'])\n",
    "yvar = 12+np.log10(Snap['SF_Oxygen']/Snap['SF_Hydrogen'])-np.log10(16)"
   ]
  },
  {
   "cell_type": "code",
   "execution_count": 6,
   "metadata": {},
   "outputs": [],
   "source": [
    "# Parmetros para determinar la curva mediana y errores\n",
    "nbins=1        # Numero de bins en variable x a usar para dividir la muestra\n",
    "perc_low=25.        # Percentil a usar como cota inferior de error\n",
    "perc_high=75.       # Percentil a usar como cota superior de error\n",
    "min_count=10         # Mínima cantidad de elementos para considerar en un bin\n",
    "\n",
    "xmedian,ymedian,xerror,yerror,elements=Curves2D.median_curve(xvar,yvar,bins=nbins,min_count=min_count,perc_low=perc_low,perc_high=perc_high)"
   ]
  },
  {
   "cell_type": "code",
   "execution_count": 7,
   "metadata": {},
   "outputs": [
    {
     "data": {
      "image/png": "[encoded data removed]",
      "text/plain": [
       "<Figure size 576x432 with 1 Axes>"
      ]
     },
     "metadata": {
      "needs_background": "light"
     },
     "output_type": "display_data"
    }
   ],
   "source": [
    "# Gráfico\n",
    "\n",
    "# Etiquetas y ejes del grafico\n",
    "fig,ax=plt.subplots(figsize=(8,6))\n",
    "\n",
    "xlim=(10,12)\n",
    "ylim=(8,10)\n",
    "\n",
    "xlabel=r'$\\log(M_\\bigstar) \\ [\\rm{M}_\\odot]$'\n",
    "ylabel=r'$\\log(M_{BH}) \\ [\\rm{M}_\\odot]}$'\n",
    "\n",
    "ax.set_xlabel(xlabel,fontsize=14)\n",
    "ax.set_ylabel(ylabel,fontsize=14)\n",
    "\n",
    "ax.set_xlim(xlim)\n",
    "ax.set_ylim(ylim)\n",
    "\n",
    "ax.tick_params(axis='both', which='major', labelsize=12)\n",
    "                \n",
    "plt.subplots_adjust(left=0.12,right=0.95,bottom=0.15,top=0.95)\n",
    "\n",
    "# scatter plot\n",
    "ax.scatter(xvar,yvar,marker='o',s=0.8,c='0.6',label='Scatter plot')\n",
    "\n",
    "#----------------------------------------------------------------------------------------------------\n",
    "# Curva mediana simple con marcadores\n",
    "\n",
    "ax.plot(xmedian,ymedian,c='b',marker='o',ms=8,linestyle='-',linewidth=1.5,label='Median relation')\n",
    "\n",
    "#----------------------------------------------------------------------------------------------------\n",
    "# Curva mediana con barras de error y marcadores\n",
    "\n",
    "ax.errorbar(xmedian,ymedian,yerr=yerror,\n",
    "           c='b',marker='o',markersize=8,linestyle='-',\n",
    "           linewidth=1.5,label='Median relation',capsize=5,capthick=1.5)\n",
    "\n",
    "#----------------------------------------------------------------------------------------------------\n",
    "\n",
    "# Curva mediana con barras de error, con marcadores 'especiales' si hay pocos elementos\n",
    "\n",
    "# Mascara para graficar solo bines con cierto numero de elementos\n",
    "#mask_lim=(elements>=100)\n",
    "\n",
    "# Curva mediana con barras de error, sin marcadores\n",
    "#ax.errorbar(xmedian,ymedian,yerr=yerror,\n",
    "#            c='b',marker='',linestyle='-',\n",
    "#            linewidth=1.5,label='Median relation',capsize=5,capthick=1.5)\n",
    "\n",
    "leg1=ax.legend(edgecolor='0.1',loc='upper right',handlelength=4,fontsize=10)\n",
    "leg1.set_title(r'$\\rm{EAGLE\\ RefL0100N1504},\\ snap='+str(snap)+'$',prop={'size':10})\n",
    "\n",
    "# Marcadores\n",
    "#scat1=ax.scatter(xmedian[~mask_lim],ymedian[~mask_lim],s=80,edgecolor='b',facecolors='w',\n",
    "#                 label=r'$N < 100$')\n",
    "\n",
    "#scat2=ax.scatter(xmedian[mask_lim],ymedian[mask_lim],s=80,color='b',\n",
    "#                 label=r'$N\\ \\geqslant \\ 100$')\n",
    "\n",
    "#leg2=ax.legend(edgecolor='w',loc='lower right',handles=[scat1,scat2],fontsize=12)\n",
    "\n",
    "ax.add_artist(leg1)\n",
    "\n",
    "#-----------------------------------------------------------------------------------------------------\n",
    "\n",
    "\n",
    "\n",
    "plt.show()\n",
    "#plt.savefig('prueba_scatter.png')"
   ]
  },
  {
   "cell_type": "code",
   "execution_count": 59,
   "metadata": {},
   "outputs": [
    {
     "data": {
      "text/plain": [
       "array([10.21403824])"
      ]
     },
     "execution_count": 59,
     "metadata": {},
     "output_type": "execute_result"
    }
   ],
   "source": [
    "xmedian"
   ]
  },
  {
   "cell_type": "code",
   "execution_count": 60,
   "metadata": {},
   "outputs": [
    {
     "data": {
      "text/plain": [
       "array([8.72611757])"
      ]
     },
     "execution_count": 60,
     "metadata": {},
     "output_type": "execute_result"
    }
   ],
   "source": [
    "ymedian"
   ]
  },
  {
   "cell_type": "code",
   "execution_count": null,
   "metadata": {},
   "outputs": [],
   "source": []
  }
 ],
 "metadata": {
  "kernelspec": {
   "display_name": "Python 3",
   "language": "python",
   "name": "python3"
  },
  "language_info": {
   "codemirror_mode": {
    "name": "ipython",
    "version": 3
   },
   "file_extension": ".py",
   "mimetype": "text/x-python",
   "name": "python",
   "nbconvert_exporter": "python",
   "pygments_lexer": "ipython3",
   "version": "3.8.5"
  }
 },
 "nbformat": 4,
 "nbformat_minor": 4
}
