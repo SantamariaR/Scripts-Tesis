{
 "cells": [
  {
   "cell_type": "code",
   "execution_count": null,
   "metadata": {},
   "outputs": [],
   "source": [
    "import numpy as np\n",
    "from astropy.io import ascii\n",
    "import matplotlib.pyplot as plt\n",
    "import Curves2D"
   ]
  },
  {
   "cell_type": "code",
   "execution_count": null,
   "metadata": {},
   "outputs": [],
   "source": [
    "# Simulacion y archivo de datos\n",
    "\n",
    "simu='RefL0100N1504'\n",
    "snap='28'\n",
    "\n",
    "folder='/home/lucas/datos/datos_eagle/'+simu+'/'\n",
    "file_table='galaxias_'+simu+'_snap_'+snap+'.dat'\n",
    "path_data=folder+file_table\n",
    "\n",
    "data=ascii.read(path_data)"
   ]
  },
  {
   "cell_type": "code",
   "execution_count": null,
   "metadata": {},
   "outputs": [],
   "source": [
    "# Mostrar las keys de 'dada', por las dudas...\n",
    "print(data.keys())"
   ]
  },
  {
   "cell_type": "code",
   "execution_count": null,
   "metadata": {},
   "outputs": [],
   "source": [
    "# Definir nuevas variables, si es necesario\n",
    "data['sSFR']=data['StarFormationRate']/data['Stars_Mass']\n",
    "data['SF_Frac']=data['SF_Mass']/(data['SF_Mass']+data['Stars_Mass'])\n",
    "data['Baryonic_Mass']=data['Stars_Mass']+data['SF_Mass']+data['NSF_Mass']"
   ]
  },
  {
   "cell_type": "code",
   "execution_count": null,
   "metadata": {},
   "outputs": [],
   "source": [
    "# Condiciones para seleccionar muestra\n",
    "mask=(data['Stars_Mass']>=1e9) & (data['BlackHoleMass']>0)"
   ]
  },
  {
   "cell_type": "code",
   "execution_count": null,
   "metadata": {},
   "outputs": [],
   "source": [
    "# Variables a graficar\n",
    "xvar=np.log10(data['Stars_Mass'][mask])\n",
    "yvar=np.log10(data['BlackHoleMass'][mask])"
   ]
  },
  {
   "cell_type": "code",
   "execution_count": null,
   "metadata": {},
   "outputs": [],
   "source": [
    "# Parmetros para determinar la curva mediana y errores\n",
    "nbins=10        # Numero de bins en variable x a usar para dividir la muestra\n",
    "perc_low=25.        # Percentil a usar como cota inferior de error\n",
    "perc_high=75.       # Percentil a usar como cota superior de error\n",
    "min_count=10         # Mínima cantidad de elementos para considerar en un bin\n",
    "\n",
    "xmedian,ymedian,xerror,yerror,elements=Curves2D.median_curve(xvar,yvar,bins=nbins,min_count=min_count,\n",
    "                                                             perc_low=perc_low,perc_high=perc_high)"
   ]
  },
  {
   "cell_type": "code",
   "execution_count": null,
   "metadata": {},
   "outputs": [],
   "source": [
    "# Gráfico\n",
    "\n",
    "# Etiquetas y ejes del grafico\n",
    "fig,ax=plt.subplots(figsize=(8,6))\n",
    "\n",
    "xlim=(8.8,12.6)\n",
    "ylim=(4.5,11)\n",
    "\n",
    "xlabel=r'$\\log(M_\\bigstar) \\ [\\rm{M}_\\odot]$'\n",
    "ylabel=r'$\\log(M_{BH}) \\ [\\rm{M}_\\odot]}$'\n",
    "\n",
    "ax.set_xlabel(xlabel,fontsize=14)\n",
    "ax.set_ylabel(ylabel,fontsize=14)\n",
    "\n",
    "ax.set_xlim(xlim)\n",
    "ax.set_ylim(ylim)\n",
    "\n",
    "ax.tick_params(axis='both', which='major', labelsize=12)\n",
    "                \n",
    "plt.subplots_adjust(left=0.12,right=0.95,bottom=0.15,top=0.95)\n",
    "\n",
    "# scatter plot\n",
    "ax.scatter(xvar,yvar,marker='o',s=0.8,c='0.6',label='Scatter plot')\n",
    "\n",
    "#----------------------------------------------------------------------------------------------------\n",
    "# Curva mediana simple con marcadores\n",
    "\n",
    "#ax.plot(xmedian,ymedian,c='b',marker='o',ms=8,linestyle='-',linewidth=1.5,label='Median relation')\n",
    "\n",
    "#----------------------------------------------------------------------------------------------------\n",
    "# Curva mediana con barras de error y marcadores\n",
    "\n",
    "#ax.errorbar(xmedian,ymedian,yerr=yerror,\n",
    "#            c='b',marker='o',markersize=8,linestyle='-',\n",
    "#            linewidth=1.5,label='Median relation',capsize=5,capthick=1.5)\n",
    "\n",
    "#----------------------------------------------------------------------------------------------------\n",
    "\n",
    "# Curva mediana con barras de error, con marcadores 'especiales' si hay pocos elementos\n",
    "\n",
    "# Mascara para graficar solo bines con cierto numero de elementos\n",
    "#mask_lim=(elements>=100)\n",
    "\n",
    "# Curva mediana con barras de error, sin marcadores\n",
    "#ax.errorbar(xmedian,ymedian,yerr=yerror,\n",
    "#            c='b',marker='',linestyle='-',\n",
    "#            linewidth=1.5,label='Median relation',capsize=5,capthick=1.5)\n",
    "\n",
    "leg1=ax.legend(edgecolor='0.1',loc='upper left',handlelength=4,fontsize=12)\n",
    "leg1.set_title(r'$\\rm{EAGLE\\ RefL0100N1504},\\ z=0$',prop={'size':13})\n",
    "\n",
    "# Marcadores\n",
    "#scat1=ax.scatter(xmedian[~mask_lim],ymedian[~mask_lim],s=80,edgecolor='b',facecolors='w',\n",
    "#                 label=r'$N < 100$')\n",
    "\n",
    "#scat2=ax.scatter(xmedian[mask_lim],ymedian[mask_lim],s=80,color='b',\n",
    "#                 label=r'$N\\ \\geqslant \\ 100$')\n",
    "\n",
    "#leg2=ax.legend(edgecolor='w',loc='lower right',handles=[scat1,scat2],fontsize=12)\n",
    "\n",
    "ax.add_artist(leg1)\n",
    "\n",
    "#-----------------------------------------------------------------------------------------------------\n",
    "\n",
    "\n",
    "\n",
    "plt.show()\n",
    "#plt.savefig('prueba_scatter.png')"
   ]
  },
  {
   "cell_type": "code",
   "execution_count": null,
   "metadata": {},
   "outputs": [],
   "source": []
  }
 ],
 "metadata": {
  "kernelspec": {
   "display_name": "Python 3",
   "language": "python",
   "name": "python3"
  },
  "language_info": {
   "codemirror_mode": {
    "name": "ipython",
    "version": 3
   },
   "file_extension": ".py",
   "mimetype": "text/x-python",
   "name": "python",
   "nbconvert_exporter": "python",
   "pygments_lexer": "ipython3",
   "version": "3.7.4"
  }
 },
 "nbformat": 4,
 "nbformat_minor": 2
}
