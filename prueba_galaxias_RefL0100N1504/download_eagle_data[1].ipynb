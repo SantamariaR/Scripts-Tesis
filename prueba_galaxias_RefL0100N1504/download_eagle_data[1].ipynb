{
 "cells": [
  {
   "cell_type": "markdown",
   "metadata": {},
   "source": [
    "# Script de python sencillo para descargar datos de EAGLE "
   ]
  },
  {
   "cell_type": "markdown",
   "metadata": {},
   "source": [
    "#### Antes de empezar: una herramienta útil para descargar datos de EAGLE desde Python, es el paquete eagleSQLtools.\n",
    "\n",
    "#### Repositorio del paquete: https://github.com/kyleaoman/eagleSqlTools\n",
    "\n",
    "#### Para instalarlo, en una terminal correr el siguiente comando:\n",
    "\n",
    "#### pip install eaglesqltools"
   ]
  },
  {
   "cell_type": "markdown",
   "metadata": {},
   "source": [
    "#### Importar paquetes necesarios. Agregar paquete si hace falta"
   ]
  },
  {
   "cell_type": "code",
   "execution_count": 1,
   "metadata": {},
   "outputs": [],
   "source": [
    "import matplotlib.pyplot as plt\n",
    "import eagleSqlTools as sql\n",
    "from astropy.io import ascii\n",
    "from astropy.table import Table\n",
    "import numpy as np"
   ]
  },
  {
   "cell_type": "markdown",
   "metadata": {},
   "source": [
    "#### Datos para la descarga (usuario, contraseña, simulación, snapnum, fragmentos de la query)"
   ]
  },
  {
   "cell_type": "code",
   "execution_count": 2,
   "metadata": {},
   "outputs": [],
   "source": [
    "# Usuario y contraseña\n",
    "usr='cht015'\n",
    "pwd='BH457tfj'\n",
    "\n",
    "# Simulación y snapnum deseado\n",
    "simu='RefL0100N1504'\n",
    "snap=28\n",
    "\n",
    "# Carpeta donde guardar archivo. Dejar un caracter 'vacío' para descargar los datos\n",
    "# en la misma carpeta desde donde se ejecuta la notebook.\n",
    "download_folder=''\n",
    "\n",
    "# Nombre del archivo que guardará los datos descargados\n",
    "filename='MDM_'+simu+'_snap_'+str(snap)+'.dat'\n",
    "\n",
    "# Cosas para armar la query\n",
    "# Tabla y Alias de la tabla desde donde quiero descargar datos\n",
    "table='Subhalo'\n",
    "table_alias='sub'  \n",
    "\n",
    "# Columnas a seleccionar (agregar/quitar según sea necesario)\n",
    "columns=[\n",
    "         'GalaxyID','Redshift','SubGroupNumber', 'Stars_Mass', 'MassType_DM'\n",
    "#          'CentreOfPotential_x','CentreOfPotential_y','CentreOfPotential_z', \n",
    "#          'SF_Mass', 'NSF_Mass', 'MassType_DM', 'MassType_BH', \n",
    "#          'HalfMassRad_Star','HalfMassRad_Gas', 'HalfMassRad_DM', \n",
    "#          'Stars_Hydrogen','Stars_Oxygen','Stars_Metallicity', \n",
    "#          'SF_Hydrogen','SF_Oxygen','SF_Metallicity', \n",
    "#          'NSF_Hydrogen','NSF_Oxygen','NSF_Metallicity', \n",
    "#          'StarFormationRate','InitialMassWeightedStellarAge' \n",
    "         ]\n",
    "\n",
    "\n",
    "# De qué tabla seleccionar ('FROM' en la query SQL)\n",
    "from_table=simu+'_'+table+' as '+table_alias\n",
    "\n",
    "# Condiciones para seleccionar ('WHERE' en la query SQL)\n",
    "# NO AGREGAR ACÁ EL ALIAS DE LA TABLA! Se agragará después\n",
    "where_cond=[\n",
    "            'SnapNum='+str(snap),\n",
    "            'Stars_Mass>=1e9'\n",
    "           ]\n",
    "\n",
    "#---------------------------------------------------------------------------\n",
    "\n",
    "# Armo la sentencia 'SELECT' a partir de la lista de columnas\n",
    "select=','.join([table_alias+'.'+col for col in columns])\n",
    "\n",
    "# Armo la sentencia 'WHERE' a paritr de la lista de condiciones\n",
    "where=' and '.join(where_cond)\n"
   ]
  },
  {
   "cell_type": "markdown",
   "metadata": {},
   "source": [
    "#### Conexión a la base de datos y descarga"
   ]
  },
  {
   "cell_type": "code",
   "execution_count": 3,
   "metadata": {},
   "outputs": [],
   "source": [
    "# Conectarse a la base de datos\n",
    "con = sql.connect(usr,password=pwd)\n",
    "\n",
    "# Query en SQL\n",
    "query = 'SELECT '+select+' FROM '+from_table+' WHERE '+where\n",
    "\n",
    "# Execute query \n",
    "exquery = sql.execute_query(con, query)\n",
    "\n",
    "# List of column names of downloaded data\n",
    "colnames=(exquery.view(np.recarray).dtype.names)\n",
    "\n",
    "# Dictionary of data\n",
    "mytable={}\n",
    "for name in colnames:\n",
    "    mytable[name]=exquery[name]\n",
    "    \n",
    "# dictionary={key1:value,key2:value,....}"
   ]
  },
  {
   "cell_type": "code",
   "execution_count": 4,
   "metadata": {},
   "outputs": [
    {
     "data": {
      "text/plain": [
       "{'GalaxyID': array([       1,    13631,    21793, ..., 59943139, 59945710, 59949248]),\n",
       " 'Redshift': array([2.220446e-16, 2.220446e-16, 2.220446e-16, ..., 2.220446e-16,\n",
       "        2.220446e-16, 2.220446e-16], dtype=float32),\n",
       " 'SubGroupNumber': array([ 42,  45,  54, ..., 345, 361, 396], dtype=int32),\n",
       " 'Stars_Mass': array([5.5155962e+10, 5.2623806e+10, 4.0004215e+10, ..., 1.6723877e+09,\n",
       "        1.2200613e+09, 1.8930022e+09], dtype=float32),\n",
       " 'MassType_DM': array([2.8144718e+10, 3.9584874e+10, 7.5883127e+10, ..., 6.3987309e+08,\n",
       "        2.9763794e+09, 5.8170278e+08], dtype=float32)}"
      ]
     },
     "execution_count": 4,
     "metadata": {},
     "output_type": "execute_result"
    }
   ],
   "source": [
    "mytable"
   ]
  },
  {
   "cell_type": "code",
   "execution_count": null,
   "metadata": {},
   "outputs": [],
   "source": [
    "# Para ver el número de galaxias descargadas\n",
    "len(mytable['GalaxyID'])"
   ]
  },
  {
   "cell_type": "markdown",
   "metadata": {},
   "source": [
    "#### Guardar los datos en un archivo ascii"
   ]
  },
  {
   "cell_type": "code",
   "execution_count": 5,
   "metadata": {},
   "outputs": [],
   "source": [
    "# Transformar el diccionario a una tabla ascii\n",
    "data_ascii=Table(mytable)"
   ]
  },
  {
   "cell_type": "code",
   "execution_count": 6,
   "metadata": {},
   "outputs": [
    {
     "data": {
      "text/html": [
       "<i>Table length=13300</i>\n",
       "<table id=\"table139815919185728\" class=\"table-striped table-bordered table-condensed\">\n",
       "<thead><tr><th>GalaxyID</th><th>Redshift</th><th>SubGroupNumber</th><th>Stars_Mass</th><th>MassType_DM</th></tr></thead>\n",
       "<thead><tr><th>int64</th><th>float32</th><th>int32</th><th>float32</th><th>float32</th></tr></thead>\n",
       "<tr><td>1</td><td>2.220446e-16</td><td>42</td><td>55155960000.0</td><td>28144718000.0</td></tr>\n",
       "<tr><td>13631</td><td>2.220446e-16</td><td>45</td><td>52623806000.0</td><td>39584874000.0</td></tr>\n",
       "<tr><td>21793</td><td>2.220446e-16</td><td>54</td><td>40004215000.0</td><td>75883130000.0</td></tr>\n",
       "<tr><td>23301</td><td>2.220446e-16</td><td>61</td><td>42122772000.0</td><td>67099420000.0</td></tr>\n",
       "<tr><td>24477</td><td>2.220446e-16</td><td>66</td><td>26114243000.0</td><td>98627700000.0</td></tr>\n",
       "<tr><td>26263</td><td>2.220446e-16</td><td>68</td><td>36057960000.0</td><td>54844875000.0</td></tr>\n",
       "<tr><td>27473</td><td>2.220446e-16</td><td>70</td><td>27008782000.0</td><td>79353954000.0</td></tr>\n",
       "<tr><td>28850</td><td>2.220446e-16</td><td>71</td><td>30976877000.0</td><td>73207290000.0</td></tr>\n",
       "<tr><td>29817</td><td>2.220446e-16</td><td>78</td><td>23492385000.0</td><td>86615540000.0</td></tr>\n",
       "<tr><td>30902</td><td>2.220446e-16</td><td>80</td><td>17284452000.0</td><td>99897750000.0</td></tr>\n",
       "<tr><td>...</td><td>...</td><td>...</td><td>...</td><td>...</td></tr>\n",
       "<tr><td>59557233</td><td>2.220446e-16</td><td>1</td><td>1101077900.0</td><td>3538692000.0</td></tr>\n",
       "<tr><td>59613099</td><td>2.220446e-16</td><td>2</td><td>1688236500.0</td><td>9627181000.0</td></tr>\n",
       "<tr><td>59645154</td><td>2.220446e-16</td><td>1</td><td>1103909100.0</td><td>8618895000.0</td></tr>\n",
       "<tr><td>59671197</td><td>2.220446e-16</td><td>1</td><td>1158289400.0</td><td>7533051000.0</td></tr>\n",
       "<tr><td>59938660</td><td>2.220446e-16</td><td>303</td><td>1433391100.0</td><td>4653622300.0</td></tr>\n",
       "<tr><td>59940276</td><td>2.220446e-16</td><td>318</td><td>1117197400.0</td><td>5099594000.0</td></tr>\n",
       "<tr><td>59940847</td><td>2.220446e-16</td><td>322</td><td>1098739000.0</td><td>5148069400.0</td></tr>\n",
       "<tr><td>59943139</td><td>2.220446e-16</td><td>345</td><td>1672387700.0</td><td>639873100.0</td></tr>\n",
       "<tr><td>59945710</td><td>2.220446e-16</td><td>361</td><td>1220061300.0</td><td>2976379400.0</td></tr>\n",
       "<tr><td>59949248</td><td>2.220446e-16</td><td>396</td><td>1893002200.0</td><td>581702800.0</td></tr>\n",
       "</table>"
      ],
      "text/plain": [
       "<Table length=13300>\n",
       "GalaxyID   Redshift   SubGroupNumber   Stars_Mass   MassType_DM \n",
       " int64     float32        int32         float32       float32   \n",
       "-------- ------------ -------------- ------------- -------------\n",
       "       1 2.220446e-16             42 55155960000.0 28144718000.0\n",
       "   13631 2.220446e-16             45 52623806000.0 39584874000.0\n",
       "   21793 2.220446e-16             54 40004215000.0 75883130000.0\n",
       "   23301 2.220446e-16             61 42122772000.0 67099420000.0\n",
       "   24477 2.220446e-16             66 26114243000.0 98627700000.0\n",
       "   26263 2.220446e-16             68 36057960000.0 54844875000.0\n",
       "   27473 2.220446e-16             70 27008782000.0 79353954000.0\n",
       "   28850 2.220446e-16             71 30976877000.0 73207290000.0\n",
       "   29817 2.220446e-16             78 23492385000.0 86615540000.0\n",
       "   30902 2.220446e-16             80 17284452000.0 99897750000.0\n",
       "     ...          ...            ...           ...           ...\n",
       "59557233 2.220446e-16              1  1101077900.0  3538692000.0\n",
       "59613099 2.220446e-16              2  1688236500.0  9627181000.0\n",
       "59645154 2.220446e-16              1  1103909100.0  8618895000.0\n",
       "59671197 2.220446e-16              1  1158289400.0  7533051000.0\n",
       "59938660 2.220446e-16            303  1433391100.0  4653622300.0\n",
       "59940276 2.220446e-16            318  1117197400.0  5099594000.0\n",
       "59940847 2.220446e-16            322  1098739000.0  5148069400.0\n",
       "59943139 2.220446e-16            345  1672387700.0   639873100.0\n",
       "59945710 2.220446e-16            361  1220061300.0  2976379400.0\n",
       "59949248 2.220446e-16            396  1893002200.0   581702800.0"
      ]
     },
     "execution_count": 6,
     "metadata": {},
     "output_type": "execute_result"
    }
   ],
   "source": [
    "data_ascii"
   ]
  },
  {
   "cell_type": "code",
   "execution_count": 6,
   "metadata": {},
   "outputs": [],
   "source": [
    "# Abrir el archivo donde se guardarán los datos\n",
    "outf=open(download_folder+filename,'w')\n",
    "\n",
    "# Escribir los datos al archivo\n",
    "data_ascii.write(outf,format='csv')\n",
    "\n",
    "# Cerrar el archivo\n",
    "outf.close()"
   ]
  },
  {
   "cell_type": "markdown",
   "metadata": {},
   "source": [
    "#### EoP"
   ]
  }
 ],
 "metadata": {
  "kernelspec": {
   "display_name": "Python 3",
   "language": "python",
   "name": "python3"
  },
  "language_info": {
   "codemirror_mode": {
    "name": "ipython",
    "version": 3
   },
   "file_extension": ".py",
   "mimetype": "text/x-python",
   "name": "python",
   "nbconvert_exporter": "python",
   "pygments_lexer": "ipython3",
   "version": "3.8.5"
  }
 },
 "nbformat": 4,
 "nbformat_minor": 4
}
