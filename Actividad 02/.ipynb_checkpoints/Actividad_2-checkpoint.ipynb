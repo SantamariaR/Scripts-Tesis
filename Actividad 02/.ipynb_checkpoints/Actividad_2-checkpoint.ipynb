{
 "cells": [
  {
   "cell_type": "markdown",
   "metadata": {},
   "source": [
    "# Códigos que uso para hacer la actividad 2"
   ]
  },
  {
   "cell_type": "markdown",
   "metadata": {},
   "source": [
    "**Importamos algunas librerías** "
   ]
  },
  {
   "cell_type": "code",
   "execution_count": null,
   "metadata": {},
   "outputs": [],
   "source": [
    "import matplotlib.pyplot as plt\n",
    "import eagleSqlTools as sql\n",
    "import numpy as np\n",
    "from astropy.io import ascii\n",
    "from astropy.table import Table"
   ]
  },
  {
   "cell_type": "markdown",
   "metadata": {},
   "source": [
    "Éste código va a ser para el barrido en redshift"
   ]
  },
  {
   "cell_type": "code",
   "execution_count": null,
   "metadata": {},
   "outputs": [],
   "source": [
    "data_folder='/home/ramiro/Facultad/Tesis/Python/Actividad 2/'\n",
    "fig,ax=plt.subplots(figsize=(8,6))\n",
    "snap_list=[28,19,15,12]\n",
    "redshift_list=[0,1,2,3]\n",
    "\n",
    "color=['k','b','g','r']    \n",
    "line=['-','--','-.',':']   \n",
    "\n",
    "for snap,redshift,lc,ls in zip(snap_list,redshift_list,color,line):   \n",
    "    data_file='prueba_galaxias_'+simu+'_snap_'+str(snap)+'.dat'\n",
    "    data_path=data_folder+data_file\n",
    "    table=ascii.read(data_path,comment='#',format='fast_csv') \n",
    "\n",
    "    mask_stellarmass = (table['Stars_Mass']>=1e10)     \n",
    "    \n",
    "    SF_M   = table['SF_Metallicity'][mask_stellarmass]\n",
    "    Z\n",
    "    \n",
    "    var   = np.log10(SFR/M_Star) \n",
    "    \n",
    "    weights=np.ones_like(var)/float(len(var))\n",
    "\n",
    "    ax.hist(var,bins=15,range=(-15,-7),histtype='step',label='z='+str(redshift),\n",
    "            linestyle=ls,color=lc,linewidth=2,weights=weights)\n",
    "\n",
    "ax.set_xlabel(r'$Log(sSFR)$', fontsize=15)\n",
    "ax.set_ylabel('Fraction', fontsize=15)\n",
    "ax.tick_params(axis='both',labelsize=15)\n",
    "plt.title('Log(sSFR) para galaxias mayores a 'r'$10^{10}$ masas solares')\n",
    "\n",
    "leg=plt.legend(loc='upper left',edgecolor='w',fontsize=15)\n",
    "leg.set_title('EAGLE RefL0100N1504', prop = {'size':15})\n",
    "plt.grid(True)\n",
    "plt.savefig('Log(sSFR)-(z=0,1,2,3).png')"
   ]
  }
 ],
 "metadata": {
  "kernelspec": {
   "display_name": "Python 3",
   "language": "python",
   "name": "python3"
  },
  "language_info": {
   "codemirror_mode": {
    "name": "ipython",
    "version": 3
   },
   "file_extension": ".py",
   "mimetype": "text/x-python",
   "name": "python",
   "nbconvert_exporter": "python",
   "pygments_lexer": "ipython3",
   "version": "3.8.5"
  }
 },
 "nbformat": 4,
 "nbformat_minor": 4
}
