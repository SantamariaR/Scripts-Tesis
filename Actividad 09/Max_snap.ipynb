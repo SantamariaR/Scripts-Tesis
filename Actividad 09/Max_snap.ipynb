{
 "cells": [
  {
   "cell_type": "code",
   "execution_count": 52,
   "metadata": {},
   "outputs": [],
   "source": [
    "import numpy as np\n",
    "import pandas as pd"
   ]
  },
  {
   "cell_type": "code",
   "execution_count": 53,
   "metadata": {},
   "outputs": [],
   "source": [
    "# Historia de merger de las galaxias mayores a 10**10 del snap 28 de la simulación RefL0100N1504\n",
    "merger = pd.read_csv('/home/ramiro/Facultad/Tesis/Datos/Actividad 7/Actividad_8(merger_history_solo_satar_mass).dat')"
   ]
  },
  {
   "cell_type": "code",
   "execution_count": 54,
   "metadata": {},
   "outputs": [],
   "source": [
    "# Tamaño de visualización de los DataFrame\n",
    "\n",
    "pd.options.display.max_rows = 25\n",
    "pd.options.display.max_columns = 100"
   ]
  },
  {
   "cell_type": "code",
   "execution_count": 55,
   "metadata": {},
   "outputs": [],
   "source": [
    "cota_superior_merger=85 # Level of merger mínimo que queremos para la historia de cada galaxia"
   ]
  },
  {
   "cell_type": "code",
   "execution_count": 70,
   "metadata": {},
   "outputs": [],
   "source": [
    "data = {'GalaxyID_test':[],'Max_snap':[],'GroupID_test':[],\n",
    "        'Lm_snap1':[],'Lm_snap2':[],'Lm_snap3':[],'Lm_snap4':[],\n",
    "        'Lm_snap5':[],'Lm_snap6':[],'Lm_snap7':[],'Lm_snap8':[],\n",
    "        'Lm_snap9':[],'Lm_snap10':[],'Lm_snap11':[],'Lm_snap12':[],\n",
    "        'Lm_snap13':[],'Lm_snap14':[],'Lm_snap15':[],'Lm_snap16':[],\n",
    "        'Lm_snap17':[],'Lm_snap18':[],'Lm_snap19':[],'Lm_snap20':[],\n",
    "        'Lm_snap21':[],'Lm_snap22':[],'Lm_snap23':[],'Lm_snap24':[],\n",
    "        'Lm_snap25':[],'Lm_snap26':[],'Lm_snap27':[],'Lm_snap28':[]}\n",
    "\n",
    "DATA_merge = pd.DataFrame(data=data)\n",
    "\n",
    "for i in np.arange(len(merger)):\n",
    "    \n",
    "    j=1\n",
    "    \n",
    "    for k in np.arange(1,29):\n",
    "        if merger['Lm_snap'+str(j)].iloc[i]<=cota_superior_merger:\n",
    "            j=j+1\n",
    "        \n",
    "        elif merger['Lm_snap'+str(j)].iloc[i]==np.nan:\n",
    "            j=j+1\n",
    "     \n",
    "        elif j==29:\n",
    "            DATA_merge = DATA_merge.append(merger.iloc[i])\n",
    "        \n",
    "        else:break\n",
    "            \n",
    "        \n",
    "\n",
    "DATA_merge = DATA_merge.astype({'GalaxyID_test':int,'GroupID_test':int,\n",
    "                                'Lm_snap1':float, 'Lm_snap2':float, 'Lm_snap3':float, 'Lm_snap4':float,\n",
    "                                'Lm_snap5':float, 'Lm_snap6':float, 'Lm_snap7':float, 'Lm_snap8':float,\n",
    "                                'Lm_snap9':float, 'Lm_snap10':float,'Lm_snap11':float,'Lm_snap12':float,\n",
    "                                'Lm_snap13':float,'Lm_snap14':float,'Lm_snap15':float,'Lm_snap16':float,\n",
    "                                'Lm_snap17':float,'Lm_snap18':float,'Lm_snap19':float,'Lm_snap20':float,\n",
    "                                'Lm_snap21':float,'Lm_snap22':float,'Lm_snap23':float,'Lm_snap24':float,\n",
    "                                'Lm_snap25':float,'Lm_snap26':float,'Lm_snap27':float,'Lm_snap28':float})\n",
    "\n",
    "# long=[]\n",
    "# for i in np.arange(1,29):\n",
    "#     for j in np.arange(len(DATA_merge)):\n",
    "#         if DATA_merge['Lm_snap'+str(i)].iloc[j]<=cota_superior_merger:\n",
    "#               long.append(i)\n",
    "            \n",
    "# DATA_merge['Max_snap'] = long"
   ]
  },
  {
   "cell_type": "code",
   "execution_count": 71,
   "metadata": {},
   "outputs": [
    {
     "data": {
      "text/plain": [
       "array([   0,    1,    2, ..., 3635, 3636, 3637])"
      ]
     },
     "execution_count": 71,
     "metadata": {},
     "output_type": "execute_result"
    }
   ],
   "source": [
    "np.arange(len(merger))"
   ]
  },
  {
   "cell_type": "code",
   "execution_count": 72,
   "metadata": {},
   "outputs": [
    {
     "data": {
      "text/html": [
       "<div>\n",
       "<style scoped>\n",
       "    .dataframe tbody tr th:only-of-type {\n",
       "        vertical-align: middle;\n",
       "    }\n",
       "\n",
       "    .dataframe tbody tr th {\n",
       "        vertical-align: top;\n",
       "    }\n",
       "\n",
       "    .dataframe thead th {\n",
       "        text-align: right;\n",
       "    }\n",
       "</style>\n",
       "<table border=\"1\" class=\"dataframe\">\n",
       "  <thead>\n",
       "    <tr style=\"text-align: right;\">\n",
       "      <th></th>\n",
       "      <th>GalaxyID_test</th>\n",
       "      <th>Max_snap</th>\n",
       "      <th>GroupID_test</th>\n",
       "      <th>Lm_snap1</th>\n",
       "      <th>Lm_snap2</th>\n",
       "      <th>Lm_snap3</th>\n",
       "      <th>Lm_snap4</th>\n",
       "      <th>Lm_snap5</th>\n",
       "      <th>Lm_snap6</th>\n",
       "      <th>Lm_snap7</th>\n",
       "      <th>Lm_snap8</th>\n",
       "      <th>Lm_snap9</th>\n",
       "      <th>Lm_snap10</th>\n",
       "      <th>Lm_snap11</th>\n",
       "      <th>Lm_snap12</th>\n",
       "      <th>Lm_snap13</th>\n",
       "      <th>Lm_snap14</th>\n",
       "      <th>Lm_snap15</th>\n",
       "      <th>Lm_snap16</th>\n",
       "      <th>Lm_snap17</th>\n",
       "      <th>Lm_snap18</th>\n",
       "      <th>Lm_snap19</th>\n",
       "      <th>Lm_snap20</th>\n",
       "      <th>Lm_snap21</th>\n",
       "      <th>Lm_snap22</th>\n",
       "      <th>Lm_snap23</th>\n",
       "      <th>Lm_snap24</th>\n",
       "      <th>Lm_snap25</th>\n",
       "      <th>Lm_snap26</th>\n",
       "      <th>Lm_snap27</th>\n",
       "      <th>Lm_snap28</th>\n",
       "    </tr>\n",
       "  </thead>\n",
       "  <tbody>\n",
       "  </tbody>\n",
       "</table>\n",
       "</div>"
      ],
      "text/plain": [
       "Empty DataFrame\n",
       "Columns: [GalaxyID_test, Max_snap, GroupID_test, Lm_snap1, Lm_snap2, Lm_snap3, Lm_snap4, Lm_snap5, Lm_snap6, Lm_snap7, Lm_snap8, Lm_snap9, Lm_snap10, Lm_snap11, Lm_snap12, Lm_snap13, Lm_snap14, Lm_snap15, Lm_snap16, Lm_snap17, Lm_snap18, Lm_snap19, Lm_snap20, Lm_snap21, Lm_snap22, Lm_snap23, Lm_snap24, Lm_snap25, Lm_snap26, Lm_snap27, Lm_snap28]\n",
       "Index: []"
      ]
     },
     "execution_count": 72,
     "metadata": {},
     "output_type": "execute_result"
    }
   ],
   "source": [
    "DATA_merge"
   ]
  },
  {
   "cell_type": "code",
   "execution_count": 7,
   "metadata": {},
   "outputs": [],
   "source": [
    "# DATA_merge.to_csv(path_or_buf= 'Max_snap(Lm>'+str(cota_inferior_merger)+').dat',index=False)   # Nos guardamos los datos"
   ]
  },
  {
   "cell_type": "code",
   "execution_count": 36,
   "metadata": {},
   "outputs": [],
   "source": [
    "# Fin"
   ]
  }
 ],
 "metadata": {
  "kernelspec": {
   "display_name": "Python 3",
   "language": "python",
   "name": "python3"
  },
  "language_info": {
   "codemirror_mode": {
    "name": "ipython",
    "version": 3
   },
   "file_extension": ".py",
   "mimetype": "text/x-python",
   "name": "python",
   "nbconvert_exporter": "python",
   "pygments_lexer": "ipython3",
   "version": "3.8.5"
  }
 },
 "nbformat": 4,
 "nbformat_minor": 4
}
