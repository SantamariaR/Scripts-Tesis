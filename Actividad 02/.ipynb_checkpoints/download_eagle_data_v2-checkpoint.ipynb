{
 "cells": [
  {
   "cell_type": "markdown",
   "metadata": {},
   "source": [
    "# Script de python sencillo para descargar datos de EAGLE "
   ]
  },
  {
   "cell_type": "markdown",
   "metadata": {},
   "source": [
    "#### Antes de empezar: una herramienta útil para descargar datos de EAGLE desde Python, es el paquete eagleSQLtools.\n",
    "\n",
    "#### Repositorio del paquete: https://github.com/kyleaoman/eagleSqlTools\n",
    "\n",
    "#### Para instalarlo, en una terminal correr el siguiente comando:\n",
    "\n",
    "#### pip install eaglesqltools"
   ]
  },
  {
   "cell_type": "markdown",
   "metadata": {},
   "source": [
    "#### Importar paquetes necesarios. Agregar paquete si hace falta"
   ]
  },
  {
   "cell_type": "code",
   "execution_count": 1,
   "metadata": {},
   "outputs": [],
   "source": [
    "import matplotlib.pyplot as plt\n",
    "import eagleSqlTools as sql\n",
    "from astropy.io import ascii\n",
    "from astropy.table import Table\n",
    "import numpy as np"
   ]
  },
  {
   "cell_type": "markdown",
   "metadata": {},
   "source": [
    "#### Datos para la descarga (usuario, contraseña, simulación, snapnum, fragmentos de la query)"
   ]
  },
  {
   "cell_type": "code",
   "execution_count": 2,
   "metadata": {},
   "outputs": [],
   "source": [
    "# Usuario y contraseña\n",
    "usr='dmh905'\n",
    "pwd='aqw57XDN'\n",
    "\n",
    "# =========================================================================================\n",
    "\n",
    "# Simulación y snapnum deseado\n",
    "simu='RefL0100N1504'\n",
    "snap=28\n",
    "\n",
    "# =========================================================================================\n",
    "\n",
    "# Carpeta donde guardar archivo. Dejar un caracter 'vacío' para descargar los datos\n",
    "# en la misma carpeta desde donde se ejecuta la notebook.\n",
    "download_folder=''\n",
    "\n",
    "# Nombre del archivo que guardará los datos descargados\n",
    "filename='prueba_galaxias_'+simu+'_snap_'+str(snap)+'.dat'\n",
    "\n",
    "# =========================================================================================\n",
    "# Cosas para armar la query\n",
    "\n",
    "# Tablas y Alias de las tablas desde donde quiero descargar datos\n",
    "# Agregar/quitar según sea necesario\n",
    "tables=[\n",
    "        'Subhalo',\n",
    "        'Morphokinem',\n",
    "        'Magnitudes'\n",
    "       ]\n",
    "\n",
    "aliases=[\n",
    "         'sub',\n",
    "         'mk',\n",
    "         'mag'\n",
    "        ]\n",
    "\n",
    "# --------------------------------------------------------------------------------\n",
    "\n",
    "# Columnas a seleccionar de cada tabla (agregar/quitar según sea necesario)\n",
    "columns=[\n",
    "          \n",
    "          ['GalaxyID','Redshift','SubGroupNumber', \n",
    "           'CentreOfPotential_x','CentreOfPotential_y','CentreOfPotential_z', \n",
    "           'Stars_Mass', 'SF_Mass', 'NSF_Mass', 'MassType_DM', 'MassType_BH', \n",
    "           'HalfMassRad_Star','HalfMassRad_Gas', 'HalfMassRad_DM', \n",
    "           'Stars_Hydrogen','Stars_Oxygen','Stars_Metallicity', \n",
    "           'SF_Hydrogen','SF_Oxygen','SF_Metallicity', \n",
    "           'NSF_Hydrogen','NSF_Oxygen','NSF_Metallicity', \n",
    "           'StarFormationRate','InitialMassWeightedStellarAge'],    \n",
    "    \n",
    "          ['GalaxyID as mk_GalaxyID','KappaCoRot','DiscToTotal','RotToDispRatio'],\n",
    "    \n",
    "          ['GalaxyID as mag_GalaxyID','u_nodust','g_nodust','r_nodust',\n",
    "          'i_nodust','z_nodust' ]\n",
    "    \n",
    "         ]\n",
    "\n",
    "# --------------------------------------------------------------------------------\n",
    "\n",
    "# Condiciones sobre las columnas de las tablas a seleccionar\n",
    "# NO AGREGAR ACÁ EL ALIAS DE LA TABLA! Se agregará después\n",
    "# Agregar/quitar según sea necesario\n",
    "# Cada lista de la siguiente lista establece condiciones para la tabla\n",
    "# a seleccionar (respetando el orden en que se definieron las tablas).\n",
    "# Si no se quieren condiciones sobre alguna tabla, dejar la correspondiente\n",
    "# lista como vacía.\n",
    "\n",
    "conditions=[\n",
    "            ['SnapNum='+str(snap),'Stars_Mass>=1e9'],\n",
    "            ['KappaCoRot>0.4','DiscToTotal>0.6'],\n",
    "            ['g_nodust>-19']\n",
    "           ]\n",
    "\n",
    "# --------------------------------------------------------------------------------\n"
   ]
  },
  {
   "cell_type": "markdown",
   "metadata": {},
   "source": [
    "#### Construcción de las distintas partes de la query"
   ]
  },
  {
   "cell_type": "code",
   "execution_count": 3,
   "metadata": {},
   "outputs": [],
   "source": [
    "# Armo la sentencia SELECT \n",
    "select=''\n",
    "for alias,col in zip(aliases,columns):\n",
    "    select=select+(','.join([alias+'.'+name for name in col]))+','\n",
    "select=select[:-1]   # Esto es para borrar una última coma 'molesta'\n",
    "\n",
    "# --------------------------------------------------------------------------------\n",
    "\n",
    "# Armo la sentencia FROM\n",
    "from_table=''\n",
    "for tab,alias in zip(tables,aliases):\n",
    "    from_table=from_table+simu+'_'+tab+' as '+alias+','\n",
    "from_table=from_table[:-1]   # Esto es para borrar una última coma 'molesta'\n",
    "\n",
    "# --------------------------------------------------------------------------------\n",
    "\n",
    "# Armo la sentencia WHERE\n",
    "# Condiciones para unir tablas (igualdad de GalaxyIDs)\n",
    "join_conditions=''\n",
    "# Lo sigueinte solo se ejecutará si hay más de una tabla\n",
    "if len(tables)>1:\n",
    "    for k in range(len(aliases)-1):\n",
    "        join_conditions=(join_conditions+\n",
    "                         aliases[k]+'.GalaxyID='+aliases[k+1]+'.GalaxyID'+' and ')\n",
    "    join_conditions=join_conditions[:-5]\n",
    "\n",
    "where=''    \n",
    "for alias,condit in zip(aliases,conditions):\n",
    "    if len(condit)>0:\n",
    "        where=where+(' and '.join(alias+'.'+cond for cond in condit))+ ' and '\n",
    "        if len(aliases)==1:\n",
    "            where=where[:-4] # Esto es para borrar un 'and' molesto\n",
    "where=where+join_conditions"
   ]
  },
  {
   "cell_type": "code",
   "execution_count": 4,
   "metadata": {},
   "outputs": [
    {
     "name": "stdout",
     "output_type": "stream",
     "text": [
      "SELECT\n",
      "sub.GalaxyID,sub.Redshift,sub.SubGroupNumber,sub.CentreOfPotential_x,sub.CentreOfPotential_y,sub.CentreOfPotential_z,sub.Stars_Mass,sub.SF_Mass,sub.NSF_Mass,sub.MassType_DM,sub.MassType_BH,sub.HalfMassRad_Star,sub.HalfMassRad_Gas,sub.HalfMassRad_DM,sub.Stars_Hydrogen,sub.Stars_Oxygen,sub.Stars_Metallicity,sub.SF_Hydrogen,sub.SF_Oxygen,sub.SF_Metallicity,sub.NSF_Hydrogen,sub.NSF_Oxygen,sub.NSF_Metallicity,sub.StarFormationRate,sub.InitialMassWeightedStellarAge,mk.GalaxyID as mk_GalaxyID,mk.KappaCoRot,mk.DiscToTotal,mk.RotToDispRatio,mag.GalaxyID as mag_GalaxyID,mag.u_nodust,mag.g_nodust,mag.r_nodust,mag.i_nodust,mag.z_nodust\n",
      "\n",
      "FROM\n",
      "RefL0100N1504_Subhalo as sub,RefL0100N1504_Morphokinem as mk,RefL0100N1504_Magnitudes as mag\n",
      "\n",
      "WHERE\n",
      "sub.SnapNum=28 and sub.Stars_Mass>=1e9 and mk.KappaCoRot>0.4 and mk.DiscToTotal>0.6 and mag.g_nodust>-19 and sub.GalaxyID=mk.GalaxyID and mk.GalaxyID=mag.GalaxyID\n"
     ]
    }
   ],
   "source": [
    "# Testeo de la query\n",
    "print('SELECT')\n",
    "print(select)\n",
    "print()\n",
    "print('FROM')\n",
    "print(from_table)\n",
    "print()\n",
    "print('WHERE')\n",
    "print(where)"
   ]
  },
  {
   "cell_type": "markdown",
   "metadata": {},
   "source": [
    "#### Conexión a la base de datos y descarga"
   ]
  },
  {
   "cell_type": "code",
   "execution_count": 5,
   "metadata": {},
   "outputs": [],
   "source": [
    "# Conectarse a la base de datos\n",
    "con = sql.connect(usr,password=pwd)\n",
    "\n",
    "# Query en SQL\n",
    "query = 'SELECT '+select+' FROM '+from_table+' WHERE '+where\n",
    "\n",
    "# Execute query \n",
    "exquery = sql.execute_query(con, query)\n",
    "\n",
    "# List of column names of downloaded data\n",
    "colnames=(exquery.view(np.recarray).dtype.names)\n",
    "\n",
    "# Dictionary of data\n",
    "mytable={}\n",
    "for name in colnames:\n",
    "    mytable[name]=exquery[name]\n",
    "    \n",
    "# dictionary={key1:value,key2:value,....}\n",
    "    "
   ]
  },
  {
   "cell_type": "markdown",
   "metadata": {},
   "source": [
    "#### Guardar los datos en un archivo ascii"
   ]
  },
  {
   "cell_type": "code",
   "execution_count": 6,
   "metadata": {},
   "outputs": [],
   "source": [
    "# Abrir el archivo donde se guardarán los datos\n",
    "outf=open(download_folder+filename,'w')\n",
    "\n",
    "# Transformar el diccionario a una tabla ascii\n",
    "data_ascii=Table(mytable)\n",
    "\n",
    "# Escribir los datos al archivo\n",
    "data_ascii.write(outf,format='csv')\n",
    "\n",
    "# Cerrar el archivo\n",
    "outf.close()"
   ]
  },
  {
   "cell_type": "markdown",
   "metadata": {},
   "source": [
    "#### EoP"
   ]
  }
 ],
 "metadata": {
  "kernelspec": {
   "display_name": "Python 3",
   "language": "python",
   "name": "python3"
  },
  "language_info": {
   "codemirror_mode": {
    "name": "ipython",
    "version": 3
   },
   "file_extension": ".py",
   "mimetype": "text/x-python",
   "name": "python",
   "nbconvert_exporter": "python",
   "pygments_lexer": "ipython3",
   "version": "3.7.4"
  }
 },
 "nbformat": 4,
 "nbformat_minor": 2
}
