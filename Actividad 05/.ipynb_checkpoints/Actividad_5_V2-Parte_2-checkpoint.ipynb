{
 "cells": [
  {
   "cell_type": "markdown",
   "metadata": {},
   "source": [
    "## Actividad 5_V2"
   ]
  },
  {
   "cell_type": "markdown",
   "metadata": {},
   "source": [
    "**Punto 9 de la actividad 5. Hacemos un data frame con la info del punto 7 para todas las galaxias de la simulación con masa mayor a 1e10**"
   ]
  },
  {
   "cell_type": "code",
   "execution_count": 34,
   "metadata": {},
   "outputs": [],
   "source": [
    "import numpy as np\n",
    "import pandas as pd\n",
    "import os\n",
    "import matplotlib.pyplot as plt\n",
    "import plotly.graph_objects as go"
   ]
  },
  {
   "cell_type": "code",
   "execution_count": 35,
   "metadata": {},
   "outputs": [],
   "source": [
    "pwd = os.getcwd()"
   ]
  },
  {
   "cell_type": "markdown",
   "metadata": {},
   "source": [
    "Cargamos la tabla de datos que descargamos:"
   ]
  },
  {
   "cell_type": "code",
   "execution_count": null,
   "metadata": {},
   "outputs": [],
   "source": [
    "table   = pd.read_csv('Aperturas_RefL0100N1504_snap_28_aperture_30.dat')#,index_col='GalaxyID')"
   ]
  },
  {
   "cell_type": "code",
   "execution_count": 40,
   "metadata": {},
   "outputs": [
    {
     "data": {
      "text/html": [
       "<div>\n",
       "<style scoped>\n",
       "    .dataframe tbody tr th:only-of-type {\n",
       "        vertical-align: middle;\n",
       "    }\n",
       "\n",
       "    .dataframe tbody tr th {\n",
       "        vertical-align: top;\n",
       "    }\n",
       "\n",
       "    .dataframe thead th {\n",
       "        text-align: right;\n",
       "    }\n",
       "</style>\n",
       "<table border=\"1\" class=\"dataframe\">\n",
       "  <thead>\n",
       "    <tr style=\"text-align: right;\">\n",
       "      <th></th>\n",
       "      <th>GalaxyID</th>\n",
       "      <th>GroupID</th>\n",
       "      <th>SnapNum</th>\n",
       "      <th>Redshift</th>\n",
       "      <th>SubGroupNumber</th>\n",
       "      <th>CentreOfPotential_x</th>\n",
       "      <th>CentreOfPotential_y</th>\n",
       "      <th>CentreOfPotential_z</th>\n",
       "      <th>Stars_Mass</th>\n",
       "      <th>SF_Mass</th>\n",
       "      <th>...</th>\n",
       "      <th>NSF_Hydrogen</th>\n",
       "      <th>NSF_Oxygen</th>\n",
       "      <th>NSF_Metallicity</th>\n",
       "      <th>StarFormationRate</th>\n",
       "      <th>InitialMassWeightedStellarAge</th>\n",
       "      <th>ApertureSize</th>\n",
       "      <th>Mass_Star</th>\n",
       "      <th>SFR_30pkpc</th>\n",
       "      <th>Group_R_Crit200</th>\n",
       "      <th>Group_M_Crit200</th>\n",
       "    </tr>\n",
       "  </thead>\n",
       "  <tbody>\n",
       "    <tr>\n",
       "      <th>0</th>\n",
       "      <td>9498012</td>\n",
       "      <td>28000000000002</td>\n",
       "      <td>28</td>\n",
       "      <td>2.220446e-16</td>\n",
       "      <td>6</td>\n",
       "      <td>8.913222</td>\n",
       "      <td>35.828056</td>\n",
       "      <td>54.839039</td>\n",
       "      <td>1.538708e+11</td>\n",
       "      <td>0.000000e+00</td>\n",
       "      <td>...</td>\n",
       "      <td>0.000000</td>\n",
       "      <td>0.000000</td>\n",
       "      <td>0.000000</td>\n",
       "      <td>0.000000</td>\n",
       "      <td>10.139413</td>\n",
       "      <td>30</td>\n",
       "      <td>1.307842e+11</td>\n",
       "      <td>0.000000</td>\n",
       "      <td>1411.312012</td>\n",
       "      <td>3.002119e+14</td>\n",
       "    </tr>\n",
       "    <tr>\n",
       "      <th>1</th>\n",
       "      <td>9508202</td>\n",
       "      <td>28000000000002</td>\n",
       "      <td>28</td>\n",
       "      <td>2.220446e-16</td>\n",
       "      <td>7</td>\n",
       "      <td>6.904262</td>\n",
       "      <td>35.705917</td>\n",
       "      <td>57.397373</td>\n",
       "      <td>7.604099e+10</td>\n",
       "      <td>2.281596e+09</td>\n",
       "      <td>...</td>\n",
       "      <td>0.727174</td>\n",
       "      <td>0.004796</td>\n",
       "      <td>0.011342</td>\n",
       "      <td>0.841832</td>\n",
       "      <td>9.455478</td>\n",
       "      <td>30</td>\n",
       "      <td>6.641890e+10</td>\n",
       "      <td>0.823222</td>\n",
       "      <td>1411.312012</td>\n",
       "      <td>3.002119e+14</td>\n",
       "    </tr>\n",
       "    <tr>\n",
       "      <th>2</th>\n",
       "      <td>9512113</td>\n",
       "      <td>28000000000002</td>\n",
       "      <td>28</td>\n",
       "      <td>2.220446e-16</td>\n",
       "      <td>8</td>\n",
       "      <td>8.682913</td>\n",
       "      <td>35.504921</td>\n",
       "      <td>54.217369</td>\n",
       "      <td>1.345128e+11</td>\n",
       "      <td>1.514760e+10</td>\n",
       "      <td>...</td>\n",
       "      <td>0.696796</td>\n",
       "      <td>0.010628</td>\n",
       "      <td>0.024796</td>\n",
       "      <td>12.094972</td>\n",
       "      <td>7.656161</td>\n",
       "      <td>30</td>\n",
       "      <td>1.183275e+11</td>\n",
       "      <td>10.984530</td>\n",
       "      <td>1411.312012</td>\n",
       "      <td>3.002119e+14</td>\n",
       "    </tr>\n",
       "    <tr>\n",
       "      <th>3</th>\n",
       "      <td>9517736</td>\n",
       "      <td>28000000000002</td>\n",
       "      <td>28</td>\n",
       "      <td>2.220446e-16</td>\n",
       "      <td>9</td>\n",
       "      <td>8.278317</td>\n",
       "      <td>37.063808</td>\n",
       "      <td>54.914932</td>\n",
       "      <td>2.232997e+10</td>\n",
       "      <td>2.754609e+09</td>\n",
       "      <td>...</td>\n",
       "      <td>0.714222</td>\n",
       "      <td>0.007443</td>\n",
       "      <td>0.017283</td>\n",
       "      <td>1.334875</td>\n",
       "      <td>8.117089</td>\n",
       "      <td>30</td>\n",
       "      <td>2.024596e+10</td>\n",
       "      <td>1.322288</td>\n",
       "      <td>1411.312012</td>\n",
       "      <td>3.002119e+14</td>\n",
       "    </tr>\n",
       "    <tr>\n",
       "      <th>4</th>\n",
       "      <td>9519365</td>\n",
       "      <td>28000000000002</td>\n",
       "      <td>28</td>\n",
       "      <td>2.220446e-16</td>\n",
       "      <td>10</td>\n",
       "      <td>8.262937</td>\n",
       "      <td>36.454063</td>\n",
       "      <td>55.901993</td>\n",
       "      <td>4.833353e+10</td>\n",
       "      <td>0.000000e+00</td>\n",
       "      <td>...</td>\n",
       "      <td>0.000000</td>\n",
       "      <td>0.000000</td>\n",
       "      <td>0.000000</td>\n",
       "      <td>0.000000</td>\n",
       "      <td>8.520104</td>\n",
       "      <td>30</td>\n",
       "      <td>3.944613e+10</td>\n",
       "      <td>0.000000</td>\n",
       "      <td>1411.312012</td>\n",
       "      <td>3.002119e+14</td>\n",
       "    </tr>\n",
       "    <tr>\n",
       "      <th>...</th>\n",
       "      <td>...</td>\n",
       "      <td>...</td>\n",
       "      <td>...</td>\n",
       "      <td>...</td>\n",
       "      <td>...</td>\n",
       "      <td>...</td>\n",
       "      <td>...</td>\n",
       "      <td>...</td>\n",
       "      <td>...</td>\n",
       "      <td>...</td>\n",
       "      <td>...</td>\n",
       "      <td>...</td>\n",
       "      <td>...</td>\n",
       "      <td>...</td>\n",
       "      <td>...</td>\n",
       "      <td>...</td>\n",
       "      <td>...</td>\n",
       "      <td>...</td>\n",
       "      <td>...</td>\n",
       "      <td>...</td>\n",
       "      <td>...</td>\n",
       "    </tr>\n",
       "    <tr>\n",
       "      <th>13131</th>\n",
       "      <td>10365607</td>\n",
       "      <td>28000000002202</td>\n",
       "      <td>28</td>\n",
       "      <td>2.220446e-16</td>\n",
       "      <td>0</td>\n",
       "      <td>35.516003</td>\n",
       "      <td>10.797990</td>\n",
       "      <td>34.600616</td>\n",
       "      <td>1.226640e+10</td>\n",
       "      <td>1.538676e+09</td>\n",
       "      <td>...</td>\n",
       "      <td>0.740806</td>\n",
       "      <td>0.002266</td>\n",
       "      <td>0.005160</td>\n",
       "      <td>0.456897</td>\n",
       "      <td>7.618259</td>\n",
       "      <td>30</td>\n",
       "      <td>1.191011e+10</td>\n",
       "      <td>0.433110</td>\n",
       "      <td>179.046371</td>\n",
       "      <td>6.129222e+11</td>\n",
       "    </tr>\n",
       "    <tr>\n",
       "      <th>13145</th>\n",
       "      <td>10859653</td>\n",
       "      <td>28000000002570</td>\n",
       "      <td>28</td>\n",
       "      <td>2.220446e-16</td>\n",
       "      <td>0</td>\n",
       "      <td>61.355499</td>\n",
       "      <td>48.616516</td>\n",
       "      <td>65.236801</td>\n",
       "      <td>1.094640e+10</td>\n",
       "      <td>3.207207e+09</td>\n",
       "      <td>...</td>\n",
       "      <td>0.741599</td>\n",
       "      <td>0.002183</td>\n",
       "      <td>0.004858</td>\n",
       "      <td>1.192947</td>\n",
       "      <td>6.309848</td>\n",
       "      <td>30</td>\n",
       "      <td>1.063636e+10</td>\n",
       "      <td>1.192947</td>\n",
       "      <td>168.661011</td>\n",
       "      <td>5.124048e+11</td>\n",
       "    </tr>\n",
       "    <tr>\n",
       "      <th>13155</th>\n",
       "      <td>11104654</td>\n",
       "      <td>28000000002905</td>\n",
       "      <td>28</td>\n",
       "      <td>2.220446e-16</td>\n",
       "      <td>0</td>\n",
       "      <td>97.197350</td>\n",
       "      <td>82.709518</td>\n",
       "      <td>43.676567</td>\n",
       "      <td>1.200869e+10</td>\n",
       "      <td>1.247963e+09</td>\n",
       "      <td>...</td>\n",
       "      <td>0.743705</td>\n",
       "      <td>0.001579</td>\n",
       "      <td>0.003758</td>\n",
       "      <td>0.506203</td>\n",
       "      <td>6.814752</td>\n",
       "      <td>30</td>\n",
       "      <td>1.192049e+10</td>\n",
       "      <td>0.506203</td>\n",
       "      <td>159.761032</td>\n",
       "      <td>4.354551e+11</td>\n",
       "    </tr>\n",
       "    <tr>\n",
       "      <th>13164</th>\n",
       "      <td>11247394</td>\n",
       "      <td>28000000003127</td>\n",
       "      <td>28</td>\n",
       "      <td>2.220446e-16</td>\n",
       "      <td>0</td>\n",
       "      <td>88.764885</td>\n",
       "      <td>47.226864</td>\n",
       "      <td>81.905136</td>\n",
       "      <td>1.186733e+10</td>\n",
       "      <td>2.167418e+09</td>\n",
       "      <td>...</td>\n",
       "      <td>0.737761</td>\n",
       "      <td>0.002874</td>\n",
       "      <td>0.006602</td>\n",
       "      <td>0.686905</td>\n",
       "      <td>6.787498</td>\n",
       "      <td>30</td>\n",
       "      <td>1.124763e+10</td>\n",
       "      <td>0.604550</td>\n",
       "      <td>152.119400</td>\n",
       "      <td>3.759434e+11</td>\n",
       "    </tr>\n",
       "    <tr>\n",
       "      <th>13199</th>\n",
       "      <td>12002343</td>\n",
       "      <td>28000000004258</td>\n",
       "      <td>28</td>\n",
       "      <td>2.220446e-16</td>\n",
       "      <td>0</td>\n",
       "      <td>81.653595</td>\n",
       "      <td>7.551041</td>\n",
       "      <td>69.749985</td>\n",
       "      <td>1.051248e+10</td>\n",
       "      <td>5.572393e+08</td>\n",
       "      <td>...</td>\n",
       "      <td>0.695981</td>\n",
       "      <td>0.010365</td>\n",
       "      <td>0.025381</td>\n",
       "      <td>0.195091</td>\n",
       "      <td>7.920490</td>\n",
       "      <td>30</td>\n",
       "      <td>1.030419e+10</td>\n",
       "      <td>0.195091</td>\n",
       "      <td>139.948212</td>\n",
       "      <td>2.927332e+11</td>\n",
       "    </tr>\n",
       "  </tbody>\n",
       "</table>\n",
       "<p>3638 rows × 32 columns</p>\n",
       "</div>"
      ],
      "text/plain": [
       "       GalaxyID         GroupID  SnapNum      Redshift  SubGroupNumber  \\\n",
       "0       9498012  28000000000002       28  2.220446e-16               6   \n",
       "1       9508202  28000000000002       28  2.220446e-16               7   \n",
       "2       9512113  28000000000002       28  2.220446e-16               8   \n",
       "3       9517736  28000000000002       28  2.220446e-16               9   \n",
       "4       9519365  28000000000002       28  2.220446e-16              10   \n",
       "...         ...             ...      ...           ...             ...   \n",
       "13131  10365607  28000000002202       28  2.220446e-16               0   \n",
       "13145  10859653  28000000002570       28  2.220446e-16               0   \n",
       "13155  11104654  28000000002905       28  2.220446e-16               0   \n",
       "13164  11247394  28000000003127       28  2.220446e-16               0   \n",
       "13199  12002343  28000000004258       28  2.220446e-16               0   \n",
       "\n",
       "       CentreOfPotential_x  CentreOfPotential_y  CentreOfPotential_z  \\\n",
       "0                 8.913222            35.828056            54.839039   \n",
       "1                 6.904262            35.705917            57.397373   \n",
       "2                 8.682913            35.504921            54.217369   \n",
       "3                 8.278317            37.063808            54.914932   \n",
       "4                 8.262937            36.454063            55.901993   \n",
       "...                    ...                  ...                  ...   \n",
       "13131            35.516003            10.797990            34.600616   \n",
       "13145            61.355499            48.616516            65.236801   \n",
       "13155            97.197350            82.709518            43.676567   \n",
       "13164            88.764885            47.226864            81.905136   \n",
       "13199            81.653595             7.551041            69.749985   \n",
       "\n",
       "         Stars_Mass       SF_Mass  ...  NSF_Hydrogen  NSF_Oxygen  \\\n",
       "0      1.538708e+11  0.000000e+00  ...      0.000000    0.000000   \n",
       "1      7.604099e+10  2.281596e+09  ...      0.727174    0.004796   \n",
       "2      1.345128e+11  1.514760e+10  ...      0.696796    0.010628   \n",
       "3      2.232997e+10  2.754609e+09  ...      0.714222    0.007443   \n",
       "4      4.833353e+10  0.000000e+00  ...      0.000000    0.000000   \n",
       "...             ...           ...  ...           ...         ...   \n",
       "13131  1.226640e+10  1.538676e+09  ...      0.740806    0.002266   \n",
       "13145  1.094640e+10  3.207207e+09  ...      0.741599    0.002183   \n",
       "13155  1.200869e+10  1.247963e+09  ...      0.743705    0.001579   \n",
       "13164  1.186733e+10  2.167418e+09  ...      0.737761    0.002874   \n",
       "13199  1.051248e+10  5.572393e+08  ...      0.695981    0.010365   \n",
       "\n",
       "       NSF_Metallicity  StarFormationRate  InitialMassWeightedStellarAge  \\\n",
       "0             0.000000           0.000000                      10.139413   \n",
       "1             0.011342           0.841832                       9.455478   \n",
       "2             0.024796          12.094972                       7.656161   \n",
       "3             0.017283           1.334875                       8.117089   \n",
       "4             0.000000           0.000000                       8.520104   \n",
       "...                ...                ...                            ...   \n",
       "13131         0.005160           0.456897                       7.618259   \n",
       "13145         0.004858           1.192947                       6.309848   \n",
       "13155         0.003758           0.506203                       6.814752   \n",
       "13164         0.006602           0.686905                       6.787498   \n",
       "13199         0.025381           0.195091                       7.920490   \n",
       "\n",
       "       ApertureSize     Mass_Star  SFR_30pkpc  Group_R_Crit200  \\\n",
       "0                30  1.307842e+11    0.000000      1411.312012   \n",
       "1                30  6.641890e+10    0.823222      1411.312012   \n",
       "2                30  1.183275e+11   10.984530      1411.312012   \n",
       "3                30  2.024596e+10    1.322288      1411.312012   \n",
       "4                30  3.944613e+10    0.000000      1411.312012   \n",
       "...             ...           ...         ...              ...   \n",
       "13131            30  1.191011e+10    0.433110       179.046371   \n",
       "13145            30  1.063636e+10    1.192947       168.661011   \n",
       "13155            30  1.192049e+10    0.506203       159.761032   \n",
       "13164            30  1.124763e+10    0.604550       152.119400   \n",
       "13199            30  1.030419e+10    0.195091       139.948212   \n",
       "\n",
       "       Group_M_Crit200  \n",
       "0         3.002119e+14  \n",
       "1         3.002119e+14  \n",
       "2         3.002119e+14  \n",
       "3         3.002119e+14  \n",
       "4         3.002119e+14  \n",
       "...                ...  \n",
       "13131     6.129222e+11  \n",
       "13145     5.124048e+11  \n",
       "13155     4.354551e+11  \n",
       "13164     3.759434e+11  \n",
       "13199     2.927332e+11  \n",
       "\n",
       "[3638 rows x 32 columns]"
      ]
     },
     "execution_count": 40,
     "metadata": {},
     "output_type": "execute_result"
    }
   ],
   "source": [
    "table_a = table[(table['Stars_Mass']>=1e10)].copy()\n",
    "table_a"
   ]
  },
  {
   "cell_type": "code",
   "execution_count": 41,
   "metadata": {},
   "outputs": [],
   "source": [
    "# n = 20                              #Como prueba tomo los primeros 50 valores de la tabla\n",
    "n = len(table_a)                    #Acá tomo todas las galáxias mayores a 1e10 masas solares para armarnos la tabla del punto 7\n",
    "\n",
    "N = np.arange(0,n)       \n",
    "\n",
    "data = {'GalaxyID_test':[],'GroupID_test':[],'GalaxyID_V1':[],'GalaxyID_V2':[],'R_1':[],'R_2':[],'r_sep_1':[],'r_sep_2':[],\n",
    "        'mu_1':[],'mu_2':[],'N_2':[]}#Defino las columnas de output\n",
    "DATA = pd.DataFrame(data=data)\n",
    "\n",
    "for i in N:\n",
    "    \n",
    "    mask   = (table_a['GalaxyID']==int(table_a['GalaxyID'].iloc[i]))  #usamos como máscara la galáxia i-ésima de la table_a\n",
    "    G_test = float(table_a['Stars_Mass'][mask])                       #masa de la galáxia\n",
    "    x_test = table_a['CentreOfPotential_x'][mask]                     #nos guardamos su posición\n",
    "    y_test = table_a['CentreOfPotential_y'][mask]\n",
    "    z_test = table_a['CentreOfPotential_z'][mask]\n",
    "    \n",
    "    table_b = table_a[((table_a['Stars_Mass']/G_test)>0.1)].copy() #tabla para masas acotadas respecto de la i-ésima\n",
    "    table_b['Distancias_test'] = np.sqrt( (table_b['CentreOfPotential_x']-float(x_test))**2\n",
    "                                     +(table_b['CentreOfPotential_y']-float(y_test))**2\n",
    "                                     +(table_b['CentreOfPotential_z']-float(z_test))**2)    #Nueva columna que tiene las distancias a la i-ésima\n",
    "    \n",
    "    table_b = table_b.sort_values(by=['Distancias_test'],ascending=True)\n",
    "    \n",
    "    N_2 = table_b[(table_b['Distancias_test']<=2)].sort_values(by=['Distancias_test'],ascending=True).copy() #Tabla con R<2Mpc\n",
    "    \n",
    "    r_sep_1= table_b.iloc[1,32]/((table_b.iloc[0,13]/1000)+(table_b.iloc[1,13]/1000)) #HalfMassRad_Star, en la columna 13, está en kpc.\n",
    "    r_sep_2= table_b.iloc[1,32]/((table_b.iloc[0,13]/1000)+(table_b.iloc[2,13]/1000))\n",
    "    \n",
    "    \n",
    "    mu_1 = table_b.iloc[1,8]/G_test\n",
    "    mu_2 = table_b.iloc[2,8]/G_test\n",
    "    \n",
    "    \n",
    "    data = {'GalaxyID_test':table_b.iloc[0,0],'GroupID_test':table_b.iloc[0,1],'GalaxyID_V1':table_b.iloc[1,0],'GalaxyID_V2':table_b.iloc[2,0],\n",
    "            'R_1':table_b.iloc[1,32],'R_2':table_b.iloc[2,32],'r_sep_1':r_sep_1,'r_sep_2':r_sep_2,\n",
    "            'mu_1':mu_1,'mu_2':mu_2,'N_2':len(N_2)-1}\n",
    "    \n",
    "    DATA = DATA.append(data,ignore_index=True)\n",
    "    \n",
    "DATA = DATA.astype({'GalaxyID_test':int,'GroupID_test':int,'GalaxyID_V1':int,\n",
    "                    'GalaxyID_V2':int,'R_1':float,'R_2':float,'r_sep_1':float,\n",
    "                     'r_sep_2':float,'mu_1':float,'mu_2':float,'N_2':int})      #Cambiamos el tipo de dato por columna\n",
    "        "
   ]
  },
  {
   "cell_type": "markdown",
   "metadata": {},
   "source": [
    "Imprimimos la tabla para ver que todo está bien:"
   ]
  },
  {
   "cell_type": "code",
   "execution_count": 42,
   "metadata": {},
   "outputs": [
    {
     "data": {
      "text/html": [
       "<div>\n",
       "<style scoped>\n",
       "    .dataframe tbody tr th:only-of-type {\n",
       "        vertical-align: middle;\n",
       "    }\n",
       "\n",
       "    .dataframe tbody tr th {\n",
       "        vertical-align: top;\n",
       "    }\n",
       "\n",
       "    .dataframe thead th {\n",
       "        text-align: right;\n",
       "    }\n",
       "</style>\n",
       "<table border=\"1\" class=\"dataframe\">\n",
       "  <thead>\n",
       "    <tr style=\"text-align: right;\">\n",
       "      <th></th>\n",
       "      <th>GalaxyID_test</th>\n",
       "      <th>GroupID_test</th>\n",
       "      <th>GalaxyID_V1</th>\n",
       "      <th>GalaxyID_V2</th>\n",
       "      <th>R_1</th>\n",
       "      <th>R_2</th>\n",
       "      <th>r_sep_1</th>\n",
       "      <th>r_sep_2</th>\n",
       "      <th>mu_1</th>\n",
       "      <th>mu_2</th>\n",
       "      <th>N_2</th>\n",
       "    </tr>\n",
       "  </thead>\n",
       "  <tbody>\n",
       "    <tr>\n",
       "      <th>0</th>\n",
       "      <td>9498012</td>\n",
       "      <td>28000000000002</td>\n",
       "      <td>9532694</td>\n",
       "      <td>3461244</td>\n",
       "      <td>0.505941</td>\n",
       "      <td>0.518791</td>\n",
       "      <td>40.259414</td>\n",
       "      <td>47.588796</td>\n",
       "      <td>0.649263</td>\n",
       "      <td>0.125630</td>\n",
       "      <td>35</td>\n",
       "    </tr>\n",
       "    <tr>\n",
       "      <th>1</th>\n",
       "      <td>9508202</td>\n",
       "      <td>28000000000002</td>\n",
       "      <td>9562859</td>\n",
       "      <td>14910180</td>\n",
       "      <td>0.257705</td>\n",
       "      <td>0.463580</td>\n",
       "      <td>21.223224</td>\n",
       "      <td>18.740497</td>\n",
       "      <td>0.315459</td>\n",
       "      <td>0.823968</td>\n",
       "      <td>3</td>\n",
       "    </tr>\n",
       "    <tr>\n",
       "      <th>2</th>\n",
       "      <td>9512113</td>\n",
       "      <td>28000000000002</td>\n",
       "      <td>3467928</td>\n",
       "      <td>9554089</td>\n",
       "      <td>0.150475</td>\n",
       "      <td>0.231956</td>\n",
       "      <td>13.328678</td>\n",
       "      <td>12.114495</td>\n",
       "      <td>0.120308</td>\n",
       "      <td>0.314345</td>\n",
       "      <td>34</td>\n",
       "    </tr>\n",
       "    <tr>\n",
       "      <th>3</th>\n",
       "      <td>9517736</td>\n",
       "      <td>28000000000002</td>\n",
       "      <td>9537911</td>\n",
       "      <td>9542932</td>\n",
       "      <td>0.423763</td>\n",
       "      <td>0.677967</td>\n",
       "      <td>37.490817</td>\n",
       "      <td>35.437225</td>\n",
       "      <td>1.999591</td>\n",
       "      <td>1.722059</td>\n",
       "      <td>35</td>\n",
       "    </tr>\n",
       "    <tr>\n",
       "      <th>4</th>\n",
       "      <td>9519365</td>\n",
       "      <td>28000000000002</td>\n",
       "      <td>9542932</td>\n",
       "      <td>9539937</td>\n",
       "      <td>0.634224</td>\n",
       "      <td>0.952579</td>\n",
       "      <td>38.135130</td>\n",
       "      <td>45.156889</td>\n",
       "      <td>0.795587</td>\n",
       "      <td>0.615451</td>\n",
       "      <td>34</td>\n",
       "    </tr>\n",
       "    <tr>\n",
       "      <th>...</th>\n",
       "      <td>...</td>\n",
       "      <td>...</td>\n",
       "      <td>...</td>\n",
       "      <td>...</td>\n",
       "      <td>...</td>\n",
       "      <td>...</td>\n",
       "      <td>...</td>\n",
       "      <td>...</td>\n",
       "      <td>...</td>\n",
       "      <td>...</td>\n",
       "      <td>...</td>\n",
       "    </tr>\n",
       "    <tr>\n",
       "      <th>3633</th>\n",
       "      <td>10365607</td>\n",
       "      <td>28000000002202</td>\n",
       "      <td>18478750</td>\n",
       "      <td>18181888</td>\n",
       "      <td>1.911730</td>\n",
       "      <td>3.737239</td>\n",
       "      <td>212.966353</td>\n",
       "      <td>133.449873</td>\n",
       "      <td>2.058146</td>\n",
       "      <td>2.369121</td>\n",
       "      <td>1</td>\n",
       "    </tr>\n",
       "    <tr>\n",
       "      <th>3634</th>\n",
       "      <td>10859653</td>\n",
       "      <td>28000000002570</td>\n",
       "      <td>9779252</td>\n",
       "      <td>9744960</td>\n",
       "      <td>1.526021</td>\n",
       "      <td>5.217671</td>\n",
       "      <td>148.669482</td>\n",
       "      <td>155.489860</td>\n",
       "      <td>2.014763</td>\n",
       "      <td>1.325153</td>\n",
       "      <td>1</td>\n",
       "    </tr>\n",
       "    <tr>\n",
       "      <th>3635</th>\n",
       "      <td>11104654</td>\n",
       "      <td>28000000002905</td>\n",
       "      <td>9034191</td>\n",
       "      <td>10942165</td>\n",
       "      <td>1.503464</td>\n",
       "      <td>2.124332</td>\n",
       "      <td>167.615303</td>\n",
       "      <td>172.812802</td>\n",
       "      <td>1.657043</td>\n",
       "      <td>0.965701</td>\n",
       "      <td>1</td>\n",
       "    </tr>\n",
       "    <tr>\n",
       "      <th>3636</th>\n",
       "      <td>11247394</td>\n",
       "      <td>28000000003127</td>\n",
       "      <td>18043220</td>\n",
       "      <td>13249045</td>\n",
       "      <td>2.053687</td>\n",
       "      <td>2.693730</td>\n",
       "      <td>123.996389</td>\n",
       "      <td>139.723614</td>\n",
       "      <td>4.079843</td>\n",
       "      <td>1.619644</td>\n",
       "      <td>0</td>\n",
       "    </tr>\n",
       "    <tr>\n",
       "      <th>3637</th>\n",
       "      <td>12002343</td>\n",
       "      <td>28000000004258</td>\n",
       "      <td>9319534</td>\n",
       "      <td>16828343</td>\n",
       "      <td>0.576453</td>\n",
       "      <td>1.202926</td>\n",
       "      <td>67.695244</td>\n",
       "      <td>54.654032</td>\n",
       "      <td>2.021934</td>\n",
       "      <td>5.654810</td>\n",
       "      <td>9</td>\n",
       "    </tr>\n",
       "  </tbody>\n",
       "</table>\n",
       "<p>3638 rows × 11 columns</p>\n",
       "</div>"
      ],
      "text/plain": [
       "      GalaxyID_test    GroupID_test  GalaxyID_V1  GalaxyID_V2       R_1  \\\n",
       "0           9498012  28000000000002      9532694      3461244  0.505941   \n",
       "1           9508202  28000000000002      9562859     14910180  0.257705   \n",
       "2           9512113  28000000000002      3467928      9554089  0.150475   \n",
       "3           9517736  28000000000002      9537911      9542932  0.423763   \n",
       "4           9519365  28000000000002      9542932      9539937  0.634224   \n",
       "...             ...             ...          ...          ...       ...   \n",
       "3633       10365607  28000000002202     18478750     18181888  1.911730   \n",
       "3634       10859653  28000000002570      9779252      9744960  1.526021   \n",
       "3635       11104654  28000000002905      9034191     10942165  1.503464   \n",
       "3636       11247394  28000000003127     18043220     13249045  2.053687   \n",
       "3637       12002343  28000000004258      9319534     16828343  0.576453   \n",
       "\n",
       "           R_2     r_sep_1     r_sep_2      mu_1      mu_2  N_2  \n",
       "0     0.518791   40.259414   47.588796  0.649263  0.125630   35  \n",
       "1     0.463580   21.223224   18.740497  0.315459  0.823968    3  \n",
       "2     0.231956   13.328678   12.114495  0.120308  0.314345   34  \n",
       "3     0.677967   37.490817   35.437225  1.999591  1.722059   35  \n",
       "4     0.952579   38.135130   45.156889  0.795587  0.615451   34  \n",
       "...        ...         ...         ...       ...       ...  ...  \n",
       "3633  3.737239  212.966353  133.449873  2.058146  2.369121    1  \n",
       "3634  5.217671  148.669482  155.489860  2.014763  1.325153    1  \n",
       "3635  2.124332  167.615303  172.812802  1.657043  0.965701    1  \n",
       "3636  2.693730  123.996389  139.723614  4.079843  1.619644    0  \n",
       "3637  1.202926   67.695244   54.654032  2.021934  5.654810    9  \n",
       "\n",
       "[3638 rows x 11 columns]"
      ]
     },
     "execution_count": 42,
     "metadata": {},
     "output_type": "execute_result"
    }
   ],
   "source": [
    "DATA"
   ]
  },
  {
   "cell_type": "markdown",
   "metadata": {},
   "source": [
    "También podemos oredenarlas por la cantidad de vecinos que tengan:"
   ]
  },
  {
   "cell_type": "code",
   "execution_count": 43,
   "metadata": {},
   "outputs": [
    {
     "data": {
      "text/html": [
       "<div>\n",
       "<style scoped>\n",
       "    .dataframe tbody tr th:only-of-type {\n",
       "        vertical-align: middle;\n",
       "    }\n",
       "\n",
       "    .dataframe tbody tr th {\n",
       "        vertical-align: top;\n",
       "    }\n",
       "\n",
       "    .dataframe thead th {\n",
       "        text-align: right;\n",
       "    }\n",
       "</style>\n",
       "<table border=\"1\" class=\"dataframe\">\n",
       "  <thead>\n",
       "    <tr style=\"text-align: right;\">\n",
       "      <th></th>\n",
       "      <th>GalaxyID_test</th>\n",
       "      <th>GroupID_test</th>\n",
       "      <th>GalaxyID_V1</th>\n",
       "      <th>GalaxyID_V2</th>\n",
       "      <th>R_1</th>\n",
       "      <th>R_2</th>\n",
       "      <th>r_sep_1</th>\n",
       "      <th>r_sep_2</th>\n",
       "      <th>mu_1</th>\n",
       "      <th>mu_2</th>\n",
       "      <th>N_2</th>\n",
       "    </tr>\n",
       "  </thead>\n",
       "  <tbody>\n",
       "    <tr>\n",
       "      <th>456</th>\n",
       "      <td>3436883</td>\n",
       "      <td>28000000000002</td>\n",
       "      <td>21573586</td>\n",
       "      <td>3456595</td>\n",
       "      <td>0.022942</td>\n",
       "      <td>0.055859</td>\n",
       "      <td>0.151136</td>\n",
       "      <td>4.065141</td>\n",
       "      <td>60.546007</td>\n",
       "      <td>0.931451</td>\n",
       "      <td>44</td>\n",
       "    </tr>\n",
       "    <tr>\n",
       "      <th>1539</th>\n",
       "      <td>9479185</td>\n",
       "      <td>28000000000001</td>\n",
       "      <td>8230966</td>\n",
       "      <td>9463307</td>\n",
       "      <td>0.011185</td>\n",
       "      <td>0.139386</td>\n",
       "      <td>0.160178</td>\n",
       "      <td>1.598302</td>\n",
       "      <td>0.725565</td>\n",
       "      <td>0.862289</td>\n",
       "      <td>28</td>\n",
       "    </tr>\n",
       "    <tr>\n",
       "      <th>837</th>\n",
       "      <td>8230966</td>\n",
       "      <td>28000000000001</td>\n",
       "      <td>9479185</td>\n",
       "      <td>9463307</td>\n",
       "      <td>0.011185</td>\n",
       "      <td>0.130458</td>\n",
       "      <td>0.160178</td>\n",
       "      <td>0.156799</td>\n",
       "      <td>1.378236</td>\n",
       "      <td>1.188437</td>\n",
       "      <td>28</td>\n",
       "    </tr>\n",
       "    <tr>\n",
       "      <th>457</th>\n",
       "      <td>3456595</td>\n",
       "      <td>28000000000002</td>\n",
       "      <td>21573586</td>\n",
       "      <td>3436883</td>\n",
       "      <td>0.042418</td>\n",
       "      <td>0.055859</td>\n",
       "      <td>0.276193</td>\n",
       "      <td>7.516062</td>\n",
       "      <td>65.001851</td>\n",
       "      <td>1.073594</td>\n",
       "      <td>44</td>\n",
       "    </tr>\n",
       "    <tr>\n",
       "      <th>1501</th>\n",
       "      <td>65695</td>\n",
       "      <td>28000000000000</td>\n",
       "      <td>21109760</td>\n",
       "      <td>56965</td>\n",
       "      <td>0.026003</td>\n",
       "      <td>0.051614</td>\n",
       "      <td>0.332458</td>\n",
       "      <td>6.772250</td>\n",
       "      <td>84.251276</td>\n",
       "      <td>1.048732</td>\n",
       "      <td>35</td>\n",
       "    </tr>\n",
       "    <tr>\n",
       "      <th>2218</th>\n",
       "      <td>10586237</td>\n",
       "      <td>28000000000003</td>\n",
       "      <td>21730535</td>\n",
       "      <td>3550457</td>\n",
       "      <td>0.058006</td>\n",
       "      <td>0.099999</td>\n",
       "      <td>0.444520</td>\n",
       "      <td>10.867605</td>\n",
       "      <td>16.276223</td>\n",
       "      <td>0.103513</td>\n",
       "      <td>46</td>\n",
       "    </tr>\n",
       "    <tr>\n",
       "      <th>777</th>\n",
       "      <td>124303</td>\n",
       "      <td>28000000000001</td>\n",
       "      <td>21379521</td>\n",
       "      <td>127771</td>\n",
       "      <td>0.092964</td>\n",
       "      <td>0.127569</td>\n",
       "      <td>0.446405</td>\n",
       "      <td>15.849664</td>\n",
       "      <td>44.604437</td>\n",
       "      <td>0.833957</td>\n",
       "      <td>65</td>\n",
       "    </tr>\n",
       "    <tr>\n",
       "      <th>32</th>\n",
       "      <td>1</td>\n",
       "      <td>28000000000000</td>\n",
       "      <td>21242350</td>\n",
       "      <td>42233</td>\n",
       "      <td>0.038289</td>\n",
       "      <td>0.142329</td>\n",
       "      <td>0.501191</td>\n",
       "      <td>7.270142</td>\n",
       "      <td>25.058664</td>\n",
       "      <td>0.339860</td>\n",
       "      <td>37</td>\n",
       "    </tr>\n",
       "    <tr>\n",
       "      <th>290</th>\n",
       "      <td>4476932</td>\n",
       "      <td>28000000000004</td>\n",
       "      <td>21924775</td>\n",
       "      <td>4461431</td>\n",
       "      <td>0.082835</td>\n",
       "      <td>0.090761</td>\n",
       "      <td>0.502380</td>\n",
       "      <td>9.879866</td>\n",
       "      <td>36.055507</td>\n",
       "      <td>1.931206</td>\n",
       "      <td>41</td>\n",
       "    </tr>\n",
       "    <tr>\n",
       "      <th>2568</th>\n",
       "      <td>10736949</td>\n",
       "      <td>28000000000006</td>\n",
       "      <td>19182761</td>\n",
       "      <td>4561773</td>\n",
       "      <td>0.163511</td>\n",
       "      <td>0.244855</td>\n",
       "      <td>0.505181</td>\n",
       "      <td>20.776010</td>\n",
       "      <td>20.991998</td>\n",
       "      <td>0.724450</td>\n",
       "      <td>16</td>\n",
       "    </tr>\n",
       "    <tr>\n",
       "      <th>1082</th>\n",
       "      <td>2659779</td>\n",
       "      <td>28000000000001</td>\n",
       "      <td>21379521</td>\n",
       "      <td>140113</td>\n",
       "      <td>0.114650</td>\n",
       "      <td>0.175328</td>\n",
       "      <td>0.547751</td>\n",
       "      <td>25.120958</td>\n",
       "      <td>169.487116</td>\n",
       "      <td>2.339990</td>\n",
       "      <td>61</td>\n",
       "    </tr>\n",
       "    <tr>\n",
       "      <th>875</th>\n",
       "      <td>6004914</td>\n",
       "      <td>28000000000014</td>\n",
       "      <td>20845348</td>\n",
       "      <td>6022577</td>\n",
       "      <td>0.035300</td>\n",
       "      <td>0.073482</td>\n",
       "      <td>0.589914</td>\n",
       "      <td>6.411635</td>\n",
       "      <td>8.539204</td>\n",
       "      <td>0.522289</td>\n",
       "      <td>10</td>\n",
       "    </tr>\n",
       "    <tr>\n",
       "      <th>854</th>\n",
       "      <td>20845348</td>\n",
       "      <td>28000000000014</td>\n",
       "      <td>6004914</td>\n",
       "      <td>11540307</td>\n",
       "      <td>0.035300</td>\n",
       "      <td>0.180660</td>\n",
       "      <td>0.589914</td>\n",
       "      <td>0.568739</td>\n",
       "      <td>0.117107</td>\n",
       "      <td>0.106441</td>\n",
       "      <td>5</td>\n",
       "    </tr>\n",
       "    <tr>\n",
       "      <th>645</th>\n",
       "      <td>4513778</td>\n",
       "      <td>28000000000005</td>\n",
       "      <td>21986361</td>\n",
       "      <td>10672054</td>\n",
       "      <td>0.054493</td>\n",
       "      <td>0.207871</td>\n",
       "      <td>0.653350</td>\n",
       "      <td>5.294780</td>\n",
       "      <td>38.361870</td>\n",
       "      <td>4.697479</td>\n",
       "      <td>24</td>\n",
       "    </tr>\n",
       "    <tr>\n",
       "      <th>876</th>\n",
       "      <td>6022577</td>\n",
       "      <td>28000000000014</td>\n",
       "      <td>20845348</td>\n",
       "      <td>6004914</td>\n",
       "      <td>0.039384</td>\n",
       "      <td>0.073482</td>\n",
       "      <td>0.653477</td>\n",
       "      <td>7.153383</td>\n",
       "      <td>16.349588</td>\n",
       "      <td>1.914650</td>\n",
       "      <td>10</td>\n",
       "    </tr>\n",
       "    <tr>\n",
       "      <th>2566</th>\n",
       "      <td>19182761</td>\n",
       "      <td>28000000000006</td>\n",
       "      <td>10705994</td>\n",
       "      <td>10728997</td>\n",
       "      <td>0.219577</td>\n",
       "      <td>0.566649</td>\n",
       "      <td>0.671616</td>\n",
       "      <td>0.682065</td>\n",
       "      <td>0.415820</td>\n",
       "      <td>0.123559</td>\n",
       "      <td>5</td>\n",
       "    </tr>\n",
       "    <tr>\n",
       "      <th>842</th>\n",
       "      <td>19835441</td>\n",
       "      <td>28000000000065</td>\n",
       "      <td>197363</td>\n",
       "      <td>13198688</td>\n",
       "      <td>0.027675</td>\n",
       "      <td>0.671043</td>\n",
       "      <td>0.729907</td>\n",
       "      <td>0.700499</td>\n",
       "      <td>0.156441</td>\n",
       "      <td>0.144945</td>\n",
       "      <td>2</td>\n",
       "    </tr>\n",
       "    <tr>\n",
       "      <th>843</th>\n",
       "      <td>197363</td>\n",
       "      <td>28000000000065</td>\n",
       "      <td>19835441</td>\n",
       "      <td>210843</td>\n",
       "      <td>0.027675</td>\n",
       "      <td>0.246987</td>\n",
       "      <td>0.729907</td>\n",
       "      <td>3.853937</td>\n",
       "      <td>6.392191</td>\n",
       "      <td>0.282106</td>\n",
       "      <td>3</td>\n",
       "    </tr>\n",
       "    <tr>\n",
       "      <th>1676</th>\n",
       "      <td>1745905</td>\n",
       "      <td>28000000000188</td>\n",
       "      <td>14687754</td>\n",
       "      <td>9943637</td>\n",
       "      <td>0.016172</td>\n",
       "      <td>5.846673</td>\n",
       "      <td>0.759637</td>\n",
       "      <td>1.806306</td>\n",
       "      <td>14.350612</td>\n",
       "      <td>0.806287</td>\n",
       "      <td>1</td>\n",
       "    </tr>\n",
       "    <tr>\n",
       "      <th>639</th>\n",
       "      <td>6077306</td>\n",
       "      <td>28000000000017</td>\n",
       "      <td>20943532</td>\n",
       "      <td>6076300</td>\n",
       "      <td>0.041418</td>\n",
       "      <td>0.067476</td>\n",
       "      <td>0.792272</td>\n",
       "      <td>8.312191</td>\n",
       "      <td>38.426890</td>\n",
       "      <td>1.013612</td>\n",
       "      <td>10</td>\n",
       "    </tr>\n",
       "  </tbody>\n",
       "</table>\n",
       "</div>"
      ],
      "text/plain": [
       "      GalaxyID_test    GroupID_test  GalaxyID_V1  GalaxyID_V2       R_1  \\\n",
       "456         3436883  28000000000002     21573586      3456595  0.022942   \n",
       "1539        9479185  28000000000001      8230966      9463307  0.011185   \n",
       "837         8230966  28000000000001      9479185      9463307  0.011185   \n",
       "457         3456595  28000000000002     21573586      3436883  0.042418   \n",
       "1501          65695  28000000000000     21109760        56965  0.026003   \n",
       "2218       10586237  28000000000003     21730535      3550457  0.058006   \n",
       "777          124303  28000000000001     21379521       127771  0.092964   \n",
       "32                1  28000000000000     21242350        42233  0.038289   \n",
       "290         4476932  28000000000004     21924775      4461431  0.082835   \n",
       "2568       10736949  28000000000006     19182761      4561773  0.163511   \n",
       "1082        2659779  28000000000001     21379521       140113  0.114650   \n",
       "875         6004914  28000000000014     20845348      6022577  0.035300   \n",
       "854        20845348  28000000000014      6004914     11540307  0.035300   \n",
       "645         4513778  28000000000005     21986361     10672054  0.054493   \n",
       "876         6022577  28000000000014     20845348      6004914  0.039384   \n",
       "2566       19182761  28000000000006     10705994     10728997  0.219577   \n",
       "842        19835441  28000000000065       197363     13198688  0.027675   \n",
       "843          197363  28000000000065     19835441       210843  0.027675   \n",
       "1676        1745905  28000000000188     14687754      9943637  0.016172   \n",
       "639         6077306  28000000000017     20943532      6076300  0.041418   \n",
       "\n",
       "           R_2   r_sep_1    r_sep_2        mu_1      mu_2  N_2  \n",
       "456   0.055859  0.151136   4.065141   60.546007  0.931451   44  \n",
       "1539  0.139386  0.160178   1.598302    0.725565  0.862289   28  \n",
       "837   0.130458  0.160178   0.156799    1.378236  1.188437   28  \n",
       "457   0.055859  0.276193   7.516062   65.001851  1.073594   44  \n",
       "1501  0.051614  0.332458   6.772250   84.251276  1.048732   35  \n",
       "2218  0.099999  0.444520  10.867605   16.276223  0.103513   46  \n",
       "777   0.127569  0.446405  15.849664   44.604437  0.833957   65  \n",
       "32    0.142329  0.501191   7.270142   25.058664  0.339860   37  \n",
       "290   0.090761  0.502380   9.879866   36.055507  1.931206   41  \n",
       "2568  0.244855  0.505181  20.776010   20.991998  0.724450   16  \n",
       "1082  0.175328  0.547751  25.120958  169.487116  2.339990   61  \n",
       "875   0.073482  0.589914   6.411635    8.539204  0.522289   10  \n",
       "854   0.180660  0.589914   0.568739    0.117107  0.106441    5  \n",
       "645   0.207871  0.653350   5.294780   38.361870  4.697479   24  \n",
       "876   0.073482  0.653477   7.153383   16.349588  1.914650   10  \n",
       "2566  0.566649  0.671616   0.682065    0.415820  0.123559    5  \n",
       "842   0.671043  0.729907   0.700499    0.156441  0.144945    2  \n",
       "843   0.246987  0.729907   3.853937    6.392191  0.282106    3  \n",
       "1676  5.846673  0.759637   1.806306   14.350612  0.806287    1  \n",
       "639   0.067476  0.792272   8.312191   38.426890  1.013612   10  "
      ]
     },
     "execution_count": 43,
     "metadata": {},
     "output_type": "execute_result"
    }
   ],
   "source": [
    "DATA.sort_values(by=['r_sep_1'],ascending=True).head(20) # En éste caso son las 20 con mayor cantidad de vecinos"
   ]
  },
  {
   "cell_type": "code",
   "execution_count": 58,
   "metadata": {},
   "outputs": [],
   "source": [
    "# DATA.to_csv(path_or_buf= pwd+'/Actividad_5_v2_Parte_2.dat',index=False)   # Nos guardamos los datos"
   ]
  },
  {
   "cell_type": "markdown",
   "metadata": {},
   "source": [
    "## Scatter plots de una galaxia central junto con las que se encuantran a menos de 2Mpc"
   ]
  },
  {
   "cell_type": "markdown",
   "metadata": {},
   "source": [
    "Tomamos el GalaxyID de la galáxia central que queremos graficar, que podemos sacarlo de la tabla DATA de arriba:"
   ]
  },
  {
   "cell_type": "code",
   "execution_count": 73,
   "metadata": {},
   "outputs": [],
   "source": [
    "GalaxyID_test = 2721236"
   ]
  },
  {
   "cell_type": "code",
   "execution_count": 74,
   "metadata": {},
   "outputs": [],
   "source": [
    "mask = (table_a['GalaxyID']== GalaxyID_test)\n",
    "\n",
    "G_test = float(table_a['Stars_Mass'][mask])\n",
    "\n",
    "xmax = table_a['CentreOfPotential_x'][mask]\n",
    "ymax = table_a['CentreOfPotential_y'][mask]\n",
    "zmax = table_a['CentreOfPotential_z'][mask]\n",
    "\n",
    "table_b = table_a[((table_a['Stars_Mass']/G_test)>0.1)].copy()\n",
    "\n",
    "table_b['Distancias_test'] = np.sqrt((table_b['CentreOfPotential_x']-float(xmax))**2\n",
    "                                    +(table_b['CentreOfPotential_y']-float(ymax))**2\n",
    "                                    +(table_b['CentreOfPotential_z']-float(zmax))**2)\n",
    "\n",
    "N_2 = table_b[(table_b['Distancias_test']<=2)].sort_values(by=['Distancias_test'],ascending=True).copy()"
   ]
  },
  {
   "cell_type": "markdown",
   "metadata": {},
   "source": [
    "**Eje x-y del C.O.P**"
   ]
  },
  {
   "cell_type": "code",
   "execution_count": 75,
   "metadata": {},
   "outputs": [
    {
     "data": {
      "image/png": "[encoded data removed]",
      "text/plain": [
       "<Figure size 576x432 with 1 Axes>"
      ]
     },
     "metadata": {
      "needs_background": "light"
     },
     "output_type": "display_data"
    }
   ],
   "source": [
    "eje_1 = 'x'\n",
    "eje_2 = 'y'\n",
    "\n",
    "fig,ax=plt.subplots(figsize=(8,6))\n",
    "\n",
    "xvar_1= N_2['CentreOfPotential_'+eje_1].iloc[0:3]-float(xmax)\n",
    "yvar_1= N_2['CentreOfPotential_'+eje_2].iloc[0:3]-float(ymax)\n",
    "\n",
    "xvar_2= N_2['CentreOfPotential_'+eje_1].iloc[3:]-float(xmax)\n",
    "yvar_2= N_2['CentreOfPotential_'+eje_2].iloc[3:]-float(ymax)\n",
    "\n",
    "\n",
    "ax.scatter(xvar_1,yvar_1,marker='D',s=40,c='b',label='Galaxias central con sus 2 vecinas')\n",
    "ax.scatter(xvar_2,yvar_2,marker='o',s=10,c='k',label='Galaxias periféricas')\n",
    "\n",
    "xlim=(-2,2)\n",
    "ylim=(-2,2)\n",
    "\n",
    "xlabel= 'Eje '+eje_1\n",
    "ylabel= 'Eje '+eje_2\n",
    "\n",
    "ax.set_xlabel(xlabel,fontsize=14)\n",
    "ax.set_ylabel(ylabel,fontsize=14)\n",
    "\n",
    "ax.tick_params(axis='both',labelsize=15)\n",
    "\n",
    "ax.set_xlim(xlim)\n",
    "ax.set_ylim(ylim)\n",
    "\n",
    "plt.title('CentreOfPotential '+eje_1+'[cMpc] vs CentreOfPotential '+eje_2+'[cMpc]')\n",
    "\n",
    "# plt.subplots_adjust(left=0.12,right=0.95,bottom=0.15,top=0.95)\n",
    "\n",
    "leg = plt.legend(loc='upper right',edgecolor='w',fontsize=10)\n",
    "#leg.set_title('Primeras dos vecinas', prop = {'size':15})\n",
    "\n",
    "\n",
    "# plt.axis('scaled')#Escalea los ejes para que no se deforme el plano\n",
    "\n",
    "plt.grid(True)\n",
    "# plt.savefig('CentreOfPotential_y_vs_CentreOfPotential_x_(z=0).png')\n",
    "plt.show()"
   ]
  },
  {
   "cell_type": "markdown",
   "metadata": {},
   "source": [
    "**Eje x-z del C.O.P**"
   ]
  },
  {
   "cell_type": "code",
   "execution_count": 76,
   "metadata": {},
   "outputs": [
    {
     "data": {
      "image/png": "[encoded data removed]",
      "text/plain": [
       "<Figure size 576x432 with 1 Axes>"
      ]
     },
     "metadata": {
      "needs_background": "light"
     },
     "output_type": "display_data"
    }
   ],
   "source": [
    "eje_1 = 'x'\n",
    "eje_2 = 'z'\n",
    "\n",
    "fig,ax=plt.subplots(figsize=(8,6))\n",
    "\n",
    "xvar_1= N_2['CentreOfPotential_'+eje_1].iloc[0:3]-float(xmax)\n",
    "yvar_1= N_2['CentreOfPotential_'+eje_2].iloc[0:3]-float(zmax)\n",
    "\n",
    "xvar_2= N_2['CentreOfPotential_'+eje_1].iloc[3:]-float(xmax)\n",
    "yvar_2= N_2['CentreOfPotential_'+eje_2].iloc[3:]-float(zmax)\n",
    "\n",
    "\n",
    "ax.scatter(xvar_1,yvar_1,marker='D',s=40,c='b',label='Galaxias central con sus 2 vecinas')\n",
    "ax.scatter(xvar_2,yvar_2,marker='o',s=10,c='k',label='Galaxias periféricas')\n",
    "\n",
    "xlim=(-2,2)\n",
    "ylim=(-2,2)\n",
    "\n",
    "xlabel= 'Eje '+eje_1\n",
    "ylabel= 'Eje '+eje_2\n",
    "\n",
    "ax.set_xlabel(xlabel,fontsize=14)\n",
    "ax.set_ylabel(ylabel,fontsize=14)\n",
    "\n",
    "ax.tick_params(axis='both',labelsize=15)\n",
    "\n",
    "ax.set_xlim(xlim)\n",
    "ax.set_ylim(ylim)\n",
    "\n",
    "plt.title('CentreOfPotential '+eje_1+'[cMpc] vs CentreOfPotential '+eje_2+'[cMpc]')\n",
    "\n",
    "# plt.subplots_adjust(left=0.12,right=0.95,bottom=0.15,top=0.95)\n",
    "\n",
    "leg = plt.legend(loc='upper right',edgecolor='w',fontsize=10)\n",
    "#leg.set_title('Primeras dos vecinas', prop = {'size':15})\n",
    "\n",
    "\n",
    "# plt.axis('scaled')#Escalea los ejes para que no se deforme el plano\n",
    "\n",
    "plt.grid(True)\n",
    "# plt.savefig('CentreOfPotential_y_vs_CentreOfPotential_x_(z=0).png')\n",
    "plt.show()"
   ]
  },
  {
   "cell_type": "markdown",
   "metadata": {},
   "source": [
    "**Eje y-z del C.O.P**"
   ]
  },
  {
   "cell_type": "code",
   "execution_count": 77,
   "metadata": {},
   "outputs": [
    {
     "data": {
      "image/png": "[encoded data removed]",
      "text/plain": [
       "<Figure size 576x432 with 1 Axes>"
      ]
     },
     "metadata": {
      "needs_background": "light"
     },
     "output_type": "display_data"
    }
   ],
   "source": [
    "eje_1 = 'y'\n",
    "eje_2 = 'z'\n",
    "\n",
    "fig,ax=plt.subplots(figsize=(8,6))\n",
    "\n",
    "xvar_1= N_2['CentreOfPotential_'+eje_1].iloc[0:3]-float(ymax)\n",
    "yvar_1= N_2['CentreOfPotential_'+eje_2].iloc[0:3]-float(zmax)\n",
    "\n",
    "xvar_2= N_2['CentreOfPotential_'+eje_1].iloc[3:]-float(ymax)\n",
    "yvar_2= N_2['CentreOfPotential_'+eje_2].iloc[3:]-float(zmax)\n",
    "\n",
    "ax.scatter(xvar_1,yvar_1,marker='D',s=40,c='b',label='Galaxias central con sus 2 vecinas')\n",
    "ax.scatter(xvar_2,yvar_2,marker='o',s=10,c='k',label='Galaxias periféricas')\n",
    "\n",
    "xlim=(-2,2)\n",
    "ylim=(-2,2)\n",
    "\n",
    "xlabel= 'Eje '+eje_1\n",
    "ylabel= 'Eje '+eje_2\n",
    "\n",
    "ax.set_xlabel(xlabel,fontsize=14)\n",
    "ax.set_ylabel(ylabel,fontsize=14)\n",
    "\n",
    "ax.tick_params(axis='both',labelsize=15)\n",
    "\n",
    "ax.set_xlim(xlim)\n",
    "ax.set_ylim(ylim)\n",
    "\n",
    "plt.title('CentreOfPotential '+eje_1+'[cMpc] vs CentreOfPotential '+eje_2+'[cMpc]')\n",
    "\n",
    "# plt.subplots_adjust(left=0.12,right=0.95,bottom=0.15,top=0.95)\n",
    "\n",
    "leg = plt.legend(loc='upper right',edgecolor='w',fontsize=10)\n",
    "#leg.set_title('Primeras dos vecinas', prop = {'size':15})\n",
    "\n",
    "\n",
    "# plt.axis('scaled')#Escalea los ejes para que no se deforme el plano\n",
    "\n",
    "plt.grid(True)\n",
    "# plt.savefig('CentreOfPotential_y_vs_CentreOfPotential_x_(z=0).png')\n",
    "plt.show()"
   ]
  },
  {
   "cell_type": "markdown",
   "metadata": {},
   "source": [
    "**Ploteo en 3D**"
   ]
  },
  {
   "cell_type": "code",
   "execution_count": 78,
   "metadata": {},
   "outputs": [
    {
     "data": {
      "application/vnd.plotly.v1+json": {
       "config": {
        "plotlyServerURL": "https://plot.ly"
       },
       "data": [
        {
         "marker": {
          "color": "red",
          "opacity": 1,
          "size": 2
         },
         "mode": "markers",
         "type": "scatter3d",
         "x": [
          0,
          0.04122638702392578,
          -0.021262168884277344
         ],
         "y": [
          0,
          -0.033756256103515625,
          -0.057750701904296875
         ],
         "z": [
          0,
          0.02165985107421875,
          -0.06687545776367188
         ]
        },
        {
         "marker": {
          "color": "blue",
          "opacity": 1,
          "size": 1
         },
         "mode": "markers",
         "type": "scatter3d",
         "x": [
          0.06131458282470703,
          0.03464031219482422,
          0.05081939697265625,
          -0.02720165252685547,
          0.04243183135986328,
          0.09333324432373047,
          -0.2390270233154297,
          0.041687965393066406,
          -0.12683868408203125,
          0.2569875717163086,
          -0.1993112564086914,
          -0.10627841949463068,
          0.315147399902342,
          -0.05326557159423828,
          -0.21040630340575994,
          0.03099822998046875,
          0.018021583557128906,
          -0.33992481231689453,
          -0.028347015380859375,
          0.4432649612426758,
          -0.5937356948852557,
          0.6454887390136719,
          -0.607363700866701,
          0.30287456512450994,
          0.3834962844848633,
          -0.39517784118652344,
          -0.7885885238647461,
          0.029288291931152344,
          0.7504291534423828,
          -1.0515975952148438,
          0.20738697052001953,
          0.2738676071166992,
          0.5095529556274432,
          0.6468381881713867,
          -0.4033613204956037,
          -0.8251895904541016,
          1.2370004653930664,
          -0.6039066314697283,
          -1.407902717590332,
          -0.6192874908447283,
          -0.41312313079833984,
          0.45673179626464844
         ],
         "y": [
          0.021808624267578125,
          -0.10869598388672586,
          -0.09663772583007812,
          -0.10905075073242188,
          -0.1530914306640625,
          0.137908935546875,
          0.11109542846679688,
          0.14544296264648438,
          0.2161712646484375,
          0.028400421142578125,
          0.1414947509765625,
          0.0182037353515625,
          0.31609344482421875,
          0.2574729919433594,
          -0.1048126220703125,
          0.464630126953125,
          0.18250656127929688,
          -0.41559982299803977,
          0.7065773010253977,
          -0.4203147888183665,
          -0.20953750610351562,
          0.19660186767578125,
          0.5359230041503906,
          -0.8215103149413991,
          -0.5269927978515625,
          -0.2493438720703125,
          -0.43381500244139914,
          0.3972816467285156,
          -0.840606689453125,
          0.5093841552734375,
          0.2464752197265625,
          1.1258926391601562,
          0.7575149536132812,
          1.1716842651367188,
          1.3555564880371094,
          1.1971015930175781,
          -0.6122589111328125,
          1.7003822326660156,
          0.76312255859375,
          1.09063720703125,
          -1.8697166442871094,
          0.9111671447753977
         ],
         "z": [
          0.06467056274414062,
          0.01886367797850852,
          -0.052036285400390625,
          -0.04558563232421875,
          -0.06377029418944602,
          0.1590728759765625,
          0.049652099609375,
          -0.2318420410156179,
          -0.17972946166992188,
          0.21237945556639914,
          -0.288421630859375,
          -0.431079864501946,
          0.0763854980468821,
          -0.4263458251953125,
          -0.4596138000488281,
          0.3332481384277344,
          -0.6259384155273366,
          -0.42940521240233664,
          -0.18323135375976562,
          0.403575897216804,
          -0.3853874206542969,
          0.3170127868652344,
          0.3800315856933594,
          -0.290943145751946,
          -0.7394371032714915,
          0.9305839538574219,
          0.6105880737304688,
          -1.041614532470696,
          -0.19268798828125,
          0.14209747314453125,
          -1.136199951171875,
          0.4766502380371094,
          0.9527015686035227,
          -0.045192718505859375,
          -0.5700149536132812,
          0.8058547973632812,
          0.985382080078125,
          0.40914154052734375,
          0.9740333557128906,
          1.3962020874023438,
          -0.5043678283691406,
          1.7097015380859375
         ]
        },
        {
         "marker": {
          "color": "blue",
          "opacity": 0.01,
          "size": 0
         },
         "mode": "markers",
         "type": "scatter3d",
         "x": [
          -2,
          2
         ],
         "y": [
          -2,
          2
         ],
         "z": [
          -2,
          2
         ]
        }
       ],
       "layout": {
        "autosize": true,
        "margin": {
         "b": 0,
         "l": 0,
         "r": 0,
         "t": 0
        },
        "scene": {
         "aspectmode": "auto",
         "aspectratio": {
          "x": 1,
          "y": 1,
          "z": 1
         },
         "camera": {
          "center": {
           "x": 0,
           "y": 0,
           "z": 0
          },
          "eye": {
           "x": -0.6123088161764454,
           "y": 0.09056410040922099,
           "z": 0.2852832698120047
          },
          "projection": {
           "type": "perspective"
          },
          "up": {
           "x": 0,
           "y": 0,
           "z": 1
          }
         },
         "xaxis": {
          "title": {
           "text": "C.O.P X[Mpc]"
          },
          "type": "linear"
         },
         "yaxis": {
          "title": {
           "text": "C.O.P Y[Mpc]"
          },
          "type": "linear"
         },
         "zaxis": {
          "title": {
           "text": "C.O.P Z[Mpc]"
          },
          "type": "linear"
         }
        },
        "template": {
         "data": {
          "bar": [
           {
            "error_x": {
             "color": "#2a3f5f"
            },
            "error_y": {
             "color": "#2a3f5f"
            },
            "marker": {
             "line": {
              "color": "#E5ECF6",
              "width": 0.5
             }
            },
            "type": "bar"
           }
          ],
          "barpolar": [
           {
            "marker": {
             "line": {
              "color": "#E5ECF6",
              "width": 0.5
             }
            },
            "type": "barpolar"
           }
          ],
          "carpet": [
           {
            "aaxis": {
             "endlinecolor": "#2a3f5f",
             "gridcolor": "white",
             "linecolor": "white",
             "minorgridcolor": "white",
             "startlinecolor": "#2a3f5f"
            },
            "baxis": {
             "endlinecolor": "#2a3f5f",
             "gridcolor": "white",
             "linecolor": "white",
             "minorgridcolor": "white",
             "startlinecolor": "#2a3f5f"
            },
            "type": "carpet"
           }
          ],
          "choropleth": [
           {
            "colorbar": {
             "outlinewidth": 0,
             "ticks": ""
            },
            "type": "choropleth"
           }
          ],
          "contour": [
           {
            "colorbar": {
             "outlinewidth": 0,
             "ticks": ""
            },
            "colorscale": [
             [
              0,
              "#0d0887"
             ],
             [
              0.1111111111111111,
              "#46039f"
             ],
             [
              0.2222222222222222,
              "#7201a8"
             ],
             [
              0.3333333333333333,
              "#9c179e"
             ],
             [
              0.4444444444444444,
              "#bd3786"
             ],
             [
              0.5555555555555556,
              "#d8576b"
             ],
             [
              0.6666666666666666,
              "#ed7953"
             ],
             [
              0.7777777777777778,
              "#fb9f3a"
             ],
             [
              0.8888888888888888,
              "#fdca26"
             ],
             [
              1,
              "#f0f921"
             ]
            ],
            "type": "contour"
           }
          ],
          "contourcarpet": [
           {
            "colorbar": {
             "outlinewidth": 0,
             "ticks": ""
            },
            "type": "contourcarpet"
           }
          ],
          "heatmap": [
           {
            "colorbar": {
             "outlinewidth": 0,
             "ticks": ""
            },
            "colorscale": [
             [
              0,
              "#0d0887"
             ],
             [
              0.1111111111111111,
              "#46039f"
             ],
             [
              0.2222222222222222,
              "#7201a8"
             ],
             [
              0.3333333333333333,
              "#9c179e"
             ],
             [
              0.4444444444444444,
              "#bd3786"
             ],
             [
              0.5555555555555556,
              "#d8576b"
             ],
             [
              0.6666666666666666,
              "#ed7953"
             ],
             [
              0.7777777777777778,
              "#fb9f3a"
             ],
             [
              0.8888888888888888,
              "#fdca26"
             ],
             [
              1,
              "#f0f921"
             ]
            ],
            "type": "heatmap"
           }
          ],
          "heatmapgl": [
           {
            "colorbar": {
             "outlinewidth": 0,
             "ticks": ""
            },
            "colorscale": [
             [
              0,
              "#0d0887"
             ],
             [
              0.1111111111111111,
              "#46039f"
             ],
             [
              0.2222222222222222,
              "#7201a8"
             ],
             [
              0.3333333333333333,
              "#9c179e"
             ],
             [
              0.4444444444444444,
              "#bd3786"
             ],
             [
              0.5555555555555556,
              "#d8576b"
             ],
             [
              0.6666666666666666,
              "#ed7953"
             ],
             [
              0.7777777777777778,
              "#fb9f3a"
             ],
             [
              0.8888888888888888,
              "#fdca26"
             ],
             [
              1,
              "#f0f921"
             ]
            ],
            "type": "heatmapgl"
           }
          ],
          "histogram": [
           {
            "marker": {
             "colorbar": {
              "outlinewidth": 0,
              "ticks": ""
             }
            },
            "type": "histogram"
           }
          ],
          "histogram2d": [
           {
            "colorbar": {
             "outlinewidth": 0,
             "ticks": ""
            },
            "colorscale": [
             [
              0,
              "#0d0887"
             ],
             [
              0.1111111111111111,
              "#46039f"
             ],
             [
              0.2222222222222222,
              "#7201a8"
             ],
             [
              0.3333333333333333,
              "#9c179e"
             ],
             [
              0.4444444444444444,
              "#bd3786"
             ],
             [
              0.5555555555555556,
              "#d8576b"
             ],
             [
              0.6666666666666666,
              "#ed7953"
             ],
             [
              0.7777777777777778,
              "#fb9f3a"
             ],
             [
              0.8888888888888888,
              "#fdca26"
             ],
             [
              1,
              "#f0f921"
             ]
            ],
            "type": "histogram2d"
           }
          ],
          "histogram2dcontour": [
           {
            "colorbar": {
             "outlinewidth": 0,
             "ticks": ""
            },
            "colorscale": [
             [
              0,
              "#0d0887"
             ],
             [
              0.1111111111111111,
              "#46039f"
             ],
             [
              0.2222222222222222,
              "#7201a8"
             ],
             [
              0.3333333333333333,
              "#9c179e"
             ],
             [
              0.4444444444444444,
              "#bd3786"
             ],
             [
              0.5555555555555556,
              "#d8576b"
             ],
             [
              0.6666666666666666,
              "#ed7953"
             ],
             [
              0.7777777777777778,
              "#fb9f3a"
             ],
             [
              0.8888888888888888,
              "#fdca26"
             ],
             [
              1,
              "#f0f921"
             ]
            ],
            "type": "histogram2dcontour"
           }
          ],
          "mesh3d": [
           {
            "colorbar": {
             "outlinewidth": 0,
             "ticks": ""
            },
            "type": "mesh3d"
           }
          ],
          "parcoords": [
           {
            "line": {
             "colorbar": {
              "outlinewidth": 0,
              "ticks": ""
             }
            },
            "type": "parcoords"
           }
          ],
          "pie": [
           {
            "automargin": true,
            "type": "pie"
           }
          ],
          "scatter": [
           {
            "marker": {
             "colorbar": {
              "outlinewidth": 0,
              "ticks": ""
             }
            },
            "type": "scatter"
           }
          ],
          "scatter3d": [
           {
            "line": {
             "colorbar": {
              "outlinewidth": 0,
              "ticks": ""
             }
            },
            "marker": {
             "colorbar": {
              "outlinewidth": 0,
              "ticks": ""
             }
            },
            "type": "scatter3d"
           }
          ],
          "scattercarpet": [
           {
            "marker": {
             "colorbar": {
              "outlinewidth": 0,
              "ticks": ""
             }
            },
            "type": "scattercarpet"
           }
          ],
          "scattergeo": [
           {
            "marker": {
             "colorbar": {
              "outlinewidth": 0,
              "ticks": ""
             }
            },
            "type": "scattergeo"
           }
          ],
          "scattergl": [
           {
            "marker": {
             "colorbar": {
              "outlinewidth": 0,
              "ticks": ""
             }
            },
            "type": "scattergl"
           }
          ],
          "scattermapbox": [
           {
            "marker": {
             "colorbar": {
              "outlinewidth": 0,
              "ticks": ""
             }
            },
            "type": "scattermapbox"
           }
          ],
          "scatterpolar": [
           {
            "marker": {
             "colorbar": {
              "outlinewidth": 0,
              "ticks": ""
             }
            },
            "type": "scatterpolar"
           }
          ],
          "scatterpolargl": [
           {
            "marker": {
             "colorbar": {
              "outlinewidth": 0,
              "ticks": ""
             }
            },
            "type": "scatterpolargl"
           }
          ],
          "scatterternary": [
           {
            "marker": {
             "colorbar": {
              "outlinewidth": 0,
              "ticks": ""
             }
            },
            "type": "scatterternary"
           }
          ],
          "surface": [
           {
            "colorbar": {
             "outlinewidth": 0,
             "ticks": ""
            },
            "colorscale": [
             [
              0,
              "#0d0887"
             ],
             [
              0.1111111111111111,
              "#46039f"
             ],
             [
              0.2222222222222222,
              "#7201a8"
             ],
             [
              0.3333333333333333,
              "#9c179e"
             ],
             [
              0.4444444444444444,
              "#bd3786"
             ],
             [
              0.5555555555555556,
              "#d8576b"
             ],
             [
              0.6666666666666666,
              "#ed7953"
             ],
             [
              0.7777777777777778,
              "#fb9f3a"
             ],
             [
              0.8888888888888888,
              "#fdca26"
             ],
             [
              1,
              "#f0f921"
             ]
            ],
            "type": "surface"
           }
          ],
          "table": [
           {
            "cells": {
             "fill": {
              "color": "#EBF0F8"
             },
             "line": {
              "color": "white"
             }
            },
            "header": {
             "fill": {
              "color": "#C8D4E3"
             },
             "line": {
              "color": "white"
             }
            },
            "type": "table"
           }
          ]
         },
         "layout": {
          "annotationdefaults": {
           "arrowcolor": "#2a3f5f",
           "arrowhead": 0,
           "arrowwidth": 1
          },
          "autotypenumbers": "strict",
          "coloraxis": {
           "colorbar": {
            "outlinewidth": 0,
            "ticks": ""
           }
          },
          "colorscale": {
           "diverging": [
            [
             0,
             "#8e0152"
            ],
            [
             0.1,
             "#c51b7d"
            ],
            [
             0.2,
             "#de77ae"
            ],
            [
             0.3,
             "#f1b6da"
            ],
            [
             0.4,
             "#fde0ef"
            ],
            [
             0.5,
             "#f7f7f7"
            ],
            [
             0.6,
             "#e6f5d0"
            ],
            [
             0.7,
             "#b8e186"
            ],
            [
             0.8,
             "#7fbc41"
            ],
            [
             0.9,
             "#4d9221"
            ],
            [
             1,
             "#276419"
            ]
           ],
           "sequential": [
            [
             0,
             "#0d0887"
            ],
            [
             0.1111111111111111,
             "#46039f"
            ],
            [
             0.2222222222222222,
             "#7201a8"
            ],
            [
             0.3333333333333333,
             "#9c179e"
            ],
            [
             0.4444444444444444,
             "#bd3786"
            ],
            [
             0.5555555555555556,
             "#d8576b"
            ],
            [
             0.6666666666666666,
             "#ed7953"
            ],
            [
             0.7777777777777778,
             "#fb9f3a"
            ],
            [
             0.8888888888888888,
             "#fdca26"
            ],
            [
             1,
             "#f0f921"
            ]
           ],
           "sequentialminus": [
            [
             0,
             "#0d0887"
            ],
            [
             0.1111111111111111,
             "#46039f"
            ],
            [
             0.2222222222222222,
             "#7201a8"
            ],
            [
             0.3333333333333333,
             "#9c179e"
            ],
            [
             0.4444444444444444,
             "#bd3786"
            ],
            [
             0.5555555555555556,
             "#d8576b"
            ],
            [
             0.6666666666666666,
             "#ed7953"
            ],
            [
             0.7777777777777778,
             "#fb9f3a"
            ],
            [
             0.8888888888888888,
             "#fdca26"
            ],
            [
             1,
             "#f0f921"
            ]
           ]
          },
          "colorway": [
           "#636efa",
           "#EF553B",
           "#00cc96",
           "#ab63fa",
           "#FFA15A",
           "#19d3f3",
           "#FF6692",
           "#B6E880",
           "#FF97FF",
           "#FECB52"
          ],
          "font": {
           "color": "#2a3f5f"
          },
          "geo": {
           "bgcolor": "white",
           "lakecolor": "white",
           "landcolor": "#E5ECF6",
           "showlakes": true,
           "showland": true,
           "subunitcolor": "white"
          },
          "hoverlabel": {
           "align": "left"
          },
          "hovermode": "closest",
          "mapbox": {
           "style": "light"
          },
          "paper_bgcolor": "white",
          "plot_bgcolor": "#E5ECF6",
          "polar": {
           "angularaxis": {
            "gridcolor": "white",
            "linecolor": "white",
            "ticks": ""
           },
           "bgcolor": "#E5ECF6",
           "radialaxis": {
            "gridcolor": "white",
            "linecolor": "white",
            "ticks": ""
           }
          },
          "scene": {
           "xaxis": {
            "backgroundcolor": "#E5ECF6",
            "gridcolor": "white",
            "gridwidth": 2,
            "linecolor": "white",
            "showbackground": true,
            "ticks": "",
            "zerolinecolor": "white"
           },
           "yaxis": {
            "backgroundcolor": "#E5ECF6",
            "gridcolor": "white",
            "gridwidth": 2,
            "linecolor": "white",
            "showbackground": true,
            "ticks": "",
            "zerolinecolor": "white"
           },
           "zaxis": {
            "backgroundcolor": "#E5ECF6",
            "gridcolor": "white",
            "gridwidth": 2,
            "linecolor": "white",
            "showbackground": true,
            "ticks": "",
            "zerolinecolor": "white"
           }
          },
          "shapedefaults": {
           "line": {
            "color": "#2a3f5f"
           }
          },
          "ternary": {
           "aaxis": {
            "gridcolor": "white",
            "linecolor": "white",
            "ticks": ""
           },
           "baxis": {
            "gridcolor": "white",
            "linecolor": "white",
            "ticks": ""
           },
           "bgcolor": "#E5ECF6",
           "caxis": {
            "gridcolor": "white",
            "linecolor": "white",
            "ticks": ""
           }
          },
          "title": {
           "x": 0.05
          },
          "xaxis": {
           "automargin": true,
           "gridcolor": "white",
           "linecolor": "white",
           "ticks": "",
           "title": {
            "standoff": 15
           },
           "zerolinecolor": "white",
           "zerolinewidth": 2
          },
          "yaxis": {
           "automargin": true,
           "gridcolor": "white",
           "linecolor": "white",
           "ticks": "",
           "title": {
            "standoff": 15
           },
           "zerolinecolor": "white",
           "zerolinewidth": 2
          }
         }
        }
       }
      },
      "image/png": "[encoded data removed]",
      "text/html": [
       "<div>                            <div id=\"43da7d6e-f722-497e-92ad-1fc9cc91d6e4\" class=\"plotly-graph-div\" style=\"height:525px; width:70px;\"></div>            <script type=\"text/javascript\">                require([\"plotly\"], function(Plotly) {                    window.PLOTLYENV=window.PLOTLYENV || {};                                    if (document.getElementById(\"43da7d6e-f722-497e-92ad-1fc9cc91d6e4\")) {                    Plotly.newPlot(                        \"43da7d6e-f722-497e-92ad-1fc9cc91d6e4\",                        [{\"marker\": {\"color\": \"red\", \"opacity\": 1, \"size\": 2}, \"mode\": \"markers\", \"type\": \"scatter3d\", \"x\": [0.0, 0.04122638702392578, -0.021262168884277344], \"y\": [0.0, -0.033756256103515625, -0.057750701904296875], \"z\": [0.0, 0.02165985107421875, -0.06687545776367188]}, {\"marker\": {\"color\": \"blue\", \"opacity\": 1, \"size\": 1}, \"mode\": \"markers\", \"type\": \"scatter3d\", \"x\": [0.06131458282470703, 0.03464031219482422, 0.05081939697265625, -0.02720165252685547, 0.04243183135986328, 0.09333324432373047, -0.2390270233154297, 0.041687965393066406, -0.12683868408203125, 0.2569875717163086, -0.1993112564086914, -0.10627841949463068, 0.315147399902342, -0.05326557159423828, -0.21040630340575994, 0.03099822998046875, 0.018021583557128906, -0.33992481231689453, -0.028347015380859375, 0.4432649612426758, -0.5937356948852557, 0.6454887390136719, -0.607363700866701, 0.30287456512450994, 0.3834962844848633, -0.39517784118652344, -0.7885885238647461, 0.029288291931152344, 0.7504291534423828, -1.0515975952148438, 0.20738697052001953, 0.2738676071166992, 0.5095529556274432, 0.6468381881713867, -0.4033613204956037, -0.8251895904541016, 1.2370004653930664, -0.6039066314697283, -1.407902717590332, -0.6192874908447283, -0.41312313079833984, 0.45673179626464844], \"y\": [0.021808624267578125, -0.10869598388672586, -0.09663772583007812, -0.10905075073242188, -0.1530914306640625, 0.137908935546875, 0.11109542846679688, 0.14544296264648438, 0.2161712646484375, 0.028400421142578125, 0.1414947509765625, 0.0182037353515625, 0.31609344482421875, 0.2574729919433594, -0.1048126220703125, 0.464630126953125, 0.18250656127929688, -0.41559982299803977, 0.7065773010253977, -0.4203147888183665, -0.20953750610351562, 0.19660186767578125, 0.5359230041503906, -0.8215103149413991, -0.5269927978515625, -0.2493438720703125, -0.43381500244139914, 0.3972816467285156, -0.840606689453125, 0.5093841552734375, 0.2464752197265625, 1.1258926391601562, 0.7575149536132812, 1.1716842651367188, 1.3555564880371094, 1.1971015930175781, -0.6122589111328125, 1.7003822326660156, 0.76312255859375, 1.09063720703125, -1.8697166442871094, 0.9111671447753977], \"z\": [0.06467056274414062, 0.01886367797850852, -0.052036285400390625, -0.04558563232421875, -0.06377029418944602, 0.1590728759765625, 0.049652099609375, -0.2318420410156179, -0.17972946166992188, 0.21237945556639914, -0.288421630859375, -0.431079864501946, 0.0763854980468821, -0.4263458251953125, -0.4596138000488281, 0.3332481384277344, -0.6259384155273366, -0.42940521240233664, -0.18323135375976562, 0.403575897216804, -0.3853874206542969, 0.3170127868652344, 0.3800315856933594, -0.290943145751946, -0.7394371032714915, 0.9305839538574219, 0.6105880737304688, -1.041614532470696, -0.19268798828125, 0.14209747314453125, -1.136199951171875, 0.4766502380371094, 0.9527015686035227, -0.045192718505859375, -0.5700149536132812, 0.8058547973632812, 0.985382080078125, 0.40914154052734375, 0.9740333557128906, 1.3962020874023438, -0.5043678283691406, 1.7097015380859375]}, {\"marker\": {\"color\": \"blue\", \"opacity\": 0.01, \"size\": 0}, \"mode\": \"markers\", \"type\": \"scatter3d\", \"x\": [-2, 2], \"y\": [-2, 2], \"z\": [-2, 2]}],                        {\"margin\": {\"b\": 0, \"l\": 0, \"r\": 0, \"t\": 0}, \"scene\": {\"xaxis\": {\"title\": {\"text\": \"C.O.P X[Mpc]\"}}, \"yaxis\": {\"title\": {\"text\": \"C.O.P Y[Mpc]\"}}, \"zaxis\": {\"title\": {\"text\": \"C.O.P Z[Mpc]\"}}}, \"template\": {\"data\": {\"bar\": [{\"error_x\": {\"color\": \"#2a3f5f\"}, \"error_y\": {\"color\": \"#2a3f5f\"}, \"marker\": {\"line\": {\"color\": \"#E5ECF6\", \"width\": 0.5}}, \"type\": \"bar\"}], \"barpolar\": [{\"marker\": {\"line\": {\"color\": \"#E5ECF6\", \"width\": 0.5}}, \"type\": \"barpolar\"}], \"carpet\": [{\"aaxis\": {\"endlinecolor\": \"#2a3f5f\", \"gridcolor\": \"white\", \"linecolor\": \"white\", \"minorgridcolor\": \"white\", \"startlinecolor\": \"#2a3f5f\"}, \"baxis\": {\"endlinecolor\": \"#2a3f5f\", \"gridcolor\": \"white\", \"linecolor\": \"white\", \"minorgridcolor\": \"white\", \"startlinecolor\": \"#2a3f5f\"}, \"type\": \"carpet\"}], \"choropleth\": [{\"colorbar\": {\"outlinewidth\": 0, \"ticks\": \"\"}, \"type\": \"choropleth\"}], \"contour\": [{\"colorbar\": {\"outlinewidth\": 0, \"ticks\": \"\"}, \"colorscale\": [[0.0, \"#0d0887\"], [0.1111111111111111, \"#46039f\"], [0.2222222222222222, \"#7201a8\"], [0.3333333333333333, \"#9c179e\"], [0.4444444444444444, \"#bd3786\"], [0.5555555555555556, \"#d8576b\"], [0.6666666666666666, \"#ed7953\"], [0.7777777777777778, \"#fb9f3a\"], [0.8888888888888888, \"#fdca26\"], [1.0, \"#f0f921\"]], \"type\": \"contour\"}], \"contourcarpet\": [{\"colorbar\": {\"outlinewidth\": 0, \"ticks\": \"\"}, \"type\": \"contourcarpet\"}], \"heatmap\": [{\"colorbar\": {\"outlinewidth\": 0, \"ticks\": \"\"}, \"colorscale\": [[0.0, \"#0d0887\"], [0.1111111111111111, \"#46039f\"], [0.2222222222222222, \"#7201a8\"], [0.3333333333333333, \"#9c179e\"], [0.4444444444444444, \"#bd3786\"], [0.5555555555555556, \"#d8576b\"], [0.6666666666666666, \"#ed7953\"], [0.7777777777777778, \"#fb9f3a\"], [0.8888888888888888, \"#fdca26\"], [1.0, \"#f0f921\"]], \"type\": \"heatmap\"}], \"heatmapgl\": [{\"colorbar\": {\"outlinewidth\": 0, \"ticks\": \"\"}, \"colorscale\": [[0.0, \"#0d0887\"], [0.1111111111111111, \"#46039f\"], [0.2222222222222222, \"#7201a8\"], [0.3333333333333333, \"#9c179e\"], [0.4444444444444444, \"#bd3786\"], [0.5555555555555556, \"#d8576b\"], [0.6666666666666666, \"#ed7953\"], [0.7777777777777778, \"#fb9f3a\"], [0.8888888888888888, \"#fdca26\"], [1.0, \"#f0f921\"]], \"type\": \"heatmapgl\"}], \"histogram\": [{\"marker\": {\"colorbar\": {\"outlinewidth\": 0, \"ticks\": \"\"}}, \"type\": \"histogram\"}], \"histogram2d\": [{\"colorbar\": {\"outlinewidth\": 0, \"ticks\": \"\"}, \"colorscale\": [[0.0, \"#0d0887\"], [0.1111111111111111, \"#46039f\"], [0.2222222222222222, \"#7201a8\"], [0.3333333333333333, \"#9c179e\"], [0.4444444444444444, \"#bd3786\"], [0.5555555555555556, \"#d8576b\"], [0.6666666666666666, \"#ed7953\"], [0.7777777777777778, \"#fb9f3a\"], [0.8888888888888888, \"#fdca26\"], [1.0, \"#f0f921\"]], \"type\": \"histogram2d\"}], \"histogram2dcontour\": [{\"colorbar\": {\"outlinewidth\": 0, \"ticks\": \"\"}, \"colorscale\": [[0.0, \"#0d0887\"], [0.1111111111111111, \"#46039f\"], [0.2222222222222222, \"#7201a8\"], [0.3333333333333333, \"#9c179e\"], [0.4444444444444444, \"#bd3786\"], [0.5555555555555556, \"#d8576b\"], [0.6666666666666666, \"#ed7953\"], [0.7777777777777778, \"#fb9f3a\"], [0.8888888888888888, \"#fdca26\"], [1.0, \"#f0f921\"]], \"type\": \"histogram2dcontour\"}], \"mesh3d\": [{\"colorbar\": {\"outlinewidth\": 0, \"ticks\": \"\"}, \"type\": \"mesh3d\"}], \"parcoords\": [{\"line\": {\"colorbar\": {\"outlinewidth\": 0, \"ticks\": \"\"}}, \"type\": \"parcoords\"}], \"pie\": [{\"automargin\": true, \"type\": \"pie\"}], \"scatter\": [{\"marker\": {\"colorbar\": {\"outlinewidth\": 0, \"ticks\": \"\"}}, \"type\": \"scatter\"}], \"scatter3d\": [{\"line\": {\"colorbar\": {\"outlinewidth\": 0, \"ticks\": \"\"}}, \"marker\": {\"colorbar\": {\"outlinewidth\": 0, \"ticks\": \"\"}}, \"type\": \"scatter3d\"}], \"scattercarpet\": [{\"marker\": {\"colorbar\": {\"outlinewidth\": 0, \"ticks\": \"\"}}, \"type\": \"scattercarpet\"}], \"scattergeo\": [{\"marker\": {\"colorbar\": {\"outlinewidth\": 0, \"ticks\": \"\"}}, \"type\": \"scattergeo\"}], \"scattergl\": [{\"marker\": {\"colorbar\": {\"outlinewidth\": 0, \"ticks\": \"\"}}, \"type\": \"scattergl\"}], \"scattermapbox\": [{\"marker\": {\"colorbar\": {\"outlinewidth\": 0, \"ticks\": \"\"}}, \"type\": \"scattermapbox\"}], \"scatterpolar\": [{\"marker\": {\"colorbar\": {\"outlinewidth\": 0, \"ticks\": \"\"}}, \"type\": \"scatterpolar\"}], \"scatterpolargl\": [{\"marker\": {\"colorbar\": {\"outlinewidth\": 0, \"ticks\": \"\"}}, \"type\": \"scatterpolargl\"}], \"scatterternary\": [{\"marker\": {\"colorbar\": {\"outlinewidth\": 0, \"ticks\": \"\"}}, \"type\": \"scatterternary\"}], \"surface\": [{\"colorbar\": {\"outlinewidth\": 0, \"ticks\": \"\"}, \"colorscale\": [[0.0, \"#0d0887\"], [0.1111111111111111, \"#46039f\"], [0.2222222222222222, \"#7201a8\"], [0.3333333333333333, \"#9c179e\"], [0.4444444444444444, \"#bd3786\"], [0.5555555555555556, \"#d8576b\"], [0.6666666666666666, \"#ed7953\"], [0.7777777777777778, \"#fb9f3a\"], [0.8888888888888888, \"#fdca26\"], [1.0, \"#f0f921\"]], \"type\": \"surface\"}], \"table\": [{\"cells\": {\"fill\": {\"color\": \"#EBF0F8\"}, \"line\": {\"color\": \"white\"}}, \"header\": {\"fill\": {\"color\": \"#C8D4E3\"}, \"line\": {\"color\": \"white\"}}, \"type\": \"table\"}]}, \"layout\": {\"annotationdefaults\": {\"arrowcolor\": \"#2a3f5f\", \"arrowhead\": 0, \"arrowwidth\": 1}, \"autotypenumbers\": \"strict\", \"coloraxis\": {\"colorbar\": {\"outlinewidth\": 0, \"ticks\": \"\"}}, \"colorscale\": {\"diverging\": [[0, \"#8e0152\"], [0.1, \"#c51b7d\"], [0.2, \"#de77ae\"], [0.3, \"#f1b6da\"], [0.4, \"#fde0ef\"], [0.5, \"#f7f7f7\"], [0.6, \"#e6f5d0\"], [0.7, \"#b8e186\"], [0.8, \"#7fbc41\"], [0.9, \"#4d9221\"], [1, \"#276419\"]], \"sequential\": [[0.0, \"#0d0887\"], [0.1111111111111111, \"#46039f\"], [0.2222222222222222, \"#7201a8\"], [0.3333333333333333, \"#9c179e\"], [0.4444444444444444, \"#bd3786\"], [0.5555555555555556, \"#d8576b\"], [0.6666666666666666, \"#ed7953\"], [0.7777777777777778, \"#fb9f3a\"], [0.8888888888888888, \"#fdca26\"], [1.0, \"#f0f921\"]], \"sequentialminus\": [[0.0, \"#0d0887\"], [0.1111111111111111, \"#46039f\"], [0.2222222222222222, \"#7201a8\"], [0.3333333333333333, \"#9c179e\"], [0.4444444444444444, \"#bd3786\"], [0.5555555555555556, \"#d8576b\"], [0.6666666666666666, \"#ed7953\"], [0.7777777777777778, \"#fb9f3a\"], [0.8888888888888888, \"#fdca26\"], [1.0, \"#f0f921\"]]}, \"colorway\": [\"#636efa\", \"#EF553B\", \"#00cc96\", \"#ab63fa\", \"#FFA15A\", \"#19d3f3\", \"#FF6692\", \"#B6E880\", \"#FF97FF\", \"#FECB52\"], \"font\": {\"color\": \"#2a3f5f\"}, \"geo\": {\"bgcolor\": \"white\", \"lakecolor\": \"white\", \"landcolor\": \"#E5ECF6\", \"showlakes\": true, \"showland\": true, \"subunitcolor\": \"white\"}, \"hoverlabel\": {\"align\": \"left\"}, \"hovermode\": \"closest\", \"mapbox\": {\"style\": \"light\"}, \"paper_bgcolor\": \"white\", \"plot_bgcolor\": \"#E5ECF6\", \"polar\": {\"angularaxis\": {\"gridcolor\": \"white\", \"linecolor\": \"white\", \"ticks\": \"\"}, \"bgcolor\": \"#E5ECF6\", \"radialaxis\": {\"gridcolor\": \"white\", \"linecolor\": \"white\", \"ticks\": \"\"}}, \"scene\": {\"xaxis\": {\"backgroundcolor\": \"#E5ECF6\", \"gridcolor\": \"white\", \"gridwidth\": 2, \"linecolor\": \"white\", \"showbackground\": true, \"ticks\": \"\", \"zerolinecolor\": \"white\"}, \"yaxis\": {\"backgroundcolor\": \"#E5ECF6\", \"gridcolor\": \"white\", \"gridwidth\": 2, \"linecolor\": \"white\", \"showbackground\": true, \"ticks\": \"\", \"zerolinecolor\": \"white\"}, \"zaxis\": {\"backgroundcolor\": \"#E5ECF6\", \"gridcolor\": \"white\", \"gridwidth\": 2, \"linecolor\": \"white\", \"showbackground\": true, \"ticks\": \"\", \"zerolinecolor\": \"white\"}}, \"shapedefaults\": {\"line\": {\"color\": \"#2a3f5f\"}}, \"ternary\": {\"aaxis\": {\"gridcolor\": \"white\", \"linecolor\": \"white\", \"ticks\": \"\"}, \"baxis\": {\"gridcolor\": \"white\", \"linecolor\": \"white\", \"ticks\": \"\"}, \"bgcolor\": \"#E5ECF6\", \"caxis\": {\"gridcolor\": \"white\", \"linecolor\": \"white\", \"ticks\": \"\"}}, \"title\": {\"x\": 0.05}, \"xaxis\": {\"automargin\": true, \"gridcolor\": \"white\", \"linecolor\": \"white\", \"ticks\": \"\", \"title\": {\"standoff\": 15}, \"zerolinecolor\": \"white\", \"zerolinewidth\": 2}, \"yaxis\": {\"automargin\": true, \"gridcolor\": \"white\", \"linecolor\": \"white\", \"ticks\": \"\", \"title\": {\"standoff\": 15}, \"zerolinecolor\": \"white\", \"zerolinewidth\": 2}}}, \"width\": 70},                        {\"responsive\": true}                    ).then(function(){\n",
       "                            \n",
       "var gd = document.getElementById('43da7d6e-f722-497e-92ad-1fc9cc91d6e4');\n",
       "var x = new MutationObserver(function (mutations, observer) {{\n",
       "        var display = window.getComputedStyle(gd).display;\n",
       "        if (!display || display === 'none') {{\n",
       "            console.log([gd, 'removed!']);\n",
       "            Plotly.purge(gd);\n",
       "            observer.disconnect();\n",
       "        }}\n",
       "}});\n",
       "\n",
       "// Listen for the removal of the full notebook cells\n",
       "var notebookContainer = gd.closest('#notebook-container');\n",
       "if (notebookContainer) {{\n",
       "    x.observe(notebookContainer, {childList: true});\n",
       "}}\n",
       "\n",
       "// Listen for the clearing of the current output cell\n",
       "var outputEl = gd.closest('.output');\n",
       "if (outputEl) {{\n",
       "    x.observe(outputEl, {childList: true});\n",
       "}}\n",
       "\n",
       "                        })                };                });            </script>        </div>"
      ]
     },
     "metadata": {},
     "output_type": "display_data"
    }
   ],
   "source": [
    "xvar_1= N_2['CentreOfPotential_x'].iloc[0:3]-float(xmax)\n",
    "yvar_1= N_2['CentreOfPotential_y'].iloc[0:3]-float(ymax)\n",
    "zvar_1= N_2['CentreOfPotential_z'].iloc[0:3]-float(zmax)\n",
    "\n",
    "xvar_2= N_2['CentreOfPotential_x'].iloc[3:]-float(xmax)\n",
    "yvar_2= N_2['CentreOfPotential_y'].iloc[3:]-float(ymax)\n",
    "zvar_2= N_2['CentreOfPotential_z'].iloc[3:]-float(zmax)\n",
    "\n",
    "x_lim = [-2,2]\n",
    "y_lim = [-2,2]\n",
    "z_lim = [-2,2]\n",
    "\n",
    "fig = go.Figure(data=[go.Scatter3d(\n",
    "    x=xvar_1,\n",
    "    y=yvar_1,\n",
    "    z=zvar_1,\n",
    "    mode='markers',\n",
    "    marker=dict(\n",
    "        size = 2,\n",
    "        color='red',\n",
    "        opacity=1\n",
    "    )\n",
    "    ),go.Scatter3d(\n",
    "        x=xvar_2,\n",
    "        y=yvar_2,\n",
    "        z=zvar_2,\n",
    "        mode='markers',\n",
    "        marker=dict(\n",
    "        size = 1,\n",
    "        color='blue',\n",
    "        opacity=1\n",
    "    )      \n",
    "    ),go.Scatter3d(\n",
    "        x=x_lim,\n",
    "        y=y_lim,\n",
    "        z=z_lim,\n",
    "        mode='markers',\n",
    "        marker=dict(\n",
    "        size=0,\n",
    "        color='blue',\n",
    "        opacity=0.01))\n",
    "                     ])\n",
    "\n",
    "# tight layout\n",
    "fig.update_layout(scene = dict(\n",
    "                    xaxis_title='C.O.P X[Mpc]',\n",
    "                    yaxis_title='C.O.P Y[Mpc]',\n",
    "                    zaxis_title='C.O.P Z[Mpc]'),\n",
    "                    width=70,\n",
    "                    margin =dict(l=0, r=0, b=0, t=0))\n",
    "\n",
    "\n",
    "\n",
    "fig.show()\n"
   ]
  },
  {
   "cell_type": "code",
   "execution_count": null,
   "metadata": {},
   "outputs": [],
   "source": []
  },
  {
   "cell_type": "code",
   "execution_count": null,
   "metadata": {},
   "outputs": [],
   "source": []
  },
  {
   "cell_type": "code",
   "execution_count": null,
   "metadata": {},
   "outputs": [],
   "source": []
  }
 ],
 "metadata": {
  "kernelspec": {
   "display_name": "Python 3",
   "language": "python",
   "name": "python3"
  },
  "language_info": {
   "codemirror_mode": {
    "name": "ipython",
    "version": 3
   },
   "file_extension": ".py",
   "mimetype": "text/x-python",
   "name": "python",
   "nbconvert_exporter": "python",
   "pygments_lexer": "ipython3",
   "version": "3.8.5"
  }
 },
 "nbformat": 4,
 "nbformat_minor": 4
}
