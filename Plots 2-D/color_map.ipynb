{
 "cells": [
  {
   "cell_type": "code",
   "execution_count": 1,
   "metadata": {},
   "outputs": [],
   "source": [
    "import numpy as np\n",
    "from astropy.io import ascii\n",
    "import matplotlib.pyplot as plt\n",
    "from matplotlib import colors\n",
    "import matplotlib.ticker as ticker"
   ]
  },
  {
   "cell_type": "code",
   "execution_count": 2,
   "metadata": {},
   "outputs": [],
   "source": [
    "# Simulacion y archivo de datos\n",
    "\n",
    "simu='RefL0100N1504'\n",
    "snap='28'\n",
    "\n",
    "folder='/home/ramiro/Facultad/Tesis/Python/Actividad 6/'\n",
    "file_table='Aperturas_'+simu+'_snap_'+snap+'_aperture_30.dat'\n",
    "path_data=folder+file_table\n",
    "\n",
    "raw_data=ascii.read(path_data)"
   ]
  },
  {
   "cell_type": "code",
   "execution_count": 3,
   "metadata": {},
   "outputs": [],
   "source": [
    "# Definir nuevas variables, si es necesario\n",
    "raw_data['sSFR']=raw_data['StarFormationRate']/raw_data['Stars_Mass']\n",
    "raw_data['SF_Frac']=raw_data['SF_Mass']/(raw_data['SF_Mass']+raw_data['Stars_Mass'])\n",
    "raw_data['Baryonic_Mass']=raw_data['Stars_Mass']+raw_data['SF_Mass']+raw_data['NSF_Mass']"
   ]
  },
  {
   "cell_type": "code",
   "execution_count": 4,
   "metadata": {},
   "outputs": [
    {
     "name": "stderr",
     "output_type": "stream",
     "text": [
      "<ipython-input-4-f96a78f7c5a2>:9: RuntimeWarning: invalid value encountered in true_divide\n",
      "  raw_data['sf_metalicity'] = 12+np.log10(M_O_SF/(16*M_H_SF))\n"
     ]
    }
   ],
   "source": [
    "SF_O  = raw_data['SF_Oxygen']\n",
    "SF_H  = raw_data['SF_Hydrogen']\n",
    "SF_M  = raw_data['SF_Mass']\n",
    "M_Star= raw_data['Stars_Mass']\n",
    "\n",
    "M_O_SF = SF_O*SF_M\n",
    "M_H_SF = SF_H*SF_M\n",
    "\n",
    "raw_data['sf_metalicity'] = 12+np.log10(M_O_SF/(16*M_H_SF))"
   ]
  },
  {
   "cell_type": "code",
   "execution_count": 13,
   "metadata": {},
   "outputs": [],
   "source": [
    "# Condiciones para seleccionar muestra\n",
    "mask=((raw_data['Stars_Mass']>=1e9) & (raw_data['StarFormationRate']>0) & \n",
    "      (raw_data['SF_Mass']>0) )\n",
    "\n",
    "data={}\n",
    "for key in raw_data.keys():\n",
    "    data[key]=raw_data[key][mask]"
   ]
  },
  {
   "cell_type": "code",
   "execution_count": 14,
   "metadata": {},
   "outputs": [],
   "source": [
    "# Variables (ejes) a graficar\n",
    "xplot=np.log10(data['Stars_Mass'])\n",
    "yplot=data['sf_metalicity']\n",
    "\n",
    "xlabel=r'$\\log(M_\\bigstar)~[\\rm{M}_\\odot]$'\n",
    "ylabel=r'$12+log(M_{O}/M_{H})$'"
   ]
  },
  {
   "cell_type": "code",
   "execution_count": 11,
   "metadata": {},
   "outputs": [],
   "source": [
    "#-------------------- Variables para pintar grilla 2D-----------------------------------------------\n",
    "# Variable a usar para colorear\n",
    "var_color=data['SnapNum']\n",
    "\n",
    "# Estadístico a usar ('counts','mean','median')\n",
    "statistic='median'\n",
    "\n",
    "# 'counts' es para contar el número de galaxias en cada bin (digamos, es para hacer un histograma2D)\n",
    "# 'mean' y 'median' son para calcular la media o la mediana de var en cada bin.\n",
    "           \n",
    "# Label to use in color bar reference\n",
    "var_label=r'$\\log(SFR)~[\\rm{M}_\\odot ~ \\rm{yr}^{-1}]$'\n",
    "\n",
    "# Número de bines en cada eje\n",
    "nbinsx=40\n",
    "nbinsy=30\n",
    "    \n",
    "# Minimum number of galaxies to color bin (bins with less galaxies than this value will\n",
    "# not be taken into account)\n",
    "cmin=5\n",
    "\n",
    "# Color map to use. Use 'mapname_r' to invert colours. For example, if want to\n",
    "# invert the color map \"jet\", use \"jet_r\".\n",
    "cmap='jet_r'"
   ]
  },
  {
   "cell_type": "code",
   "execution_count": 12,
   "metadata": {},
   "outputs": [
    {
     "name": "stderr",
     "output_type": "stream",
     "text": [
      "<ipython-input-12-ea6555f64f99>:79: MatplotlibDeprecationWarning: You are modifying the state of a globally registered colormap. In future versions, you will not be able to modify a registered colormap in-place. To remove this warning, you can make a copy of the colormap first. cmap = copy.copy(mpl.cm.get_cmap(\"jet_r\"))\n",
      "  cmap.set_under('white')                      # \"bad-defined\" bins will be of colour white.\n"
     ]
    },
    {
     "data": {
      "image/png": "[encoded data removed]",
      "text/plain": [
       "<Figure size 576x432 with 1 Axes>"
      ]
     },
     "metadata": {
      "needs_background": "light"
     },
     "output_type": "display_data"
    }
   ],
   "source": [
    "# Plot color map\n",
    "fig,ax=plt.subplots(figsize=(8,6))\n",
    "\n",
    "# Intervals of binning, as function of nbinsx and nbinsy:\n",
    "intx=(max(xplot)-min(xplot))/nbinsx\n",
    "inty=(max(yplot)-min(yplot))/nbinsy\n",
    "\n",
    "# If 'var_color' is an empty sequence or 'statistic=='counts'', plot a 2D histogram. \n",
    "if (var_color==[]) or (statistic=='counts'):   \n",
    "    # Min and Max of each variable\n",
    "    xmin,xmax=min(xplot),max(xplot)\n",
    "    xlim=[xmin,xmax]\n",
    "\n",
    "    ymin,ymax=min(yplot),max(yplot)\n",
    "    ylim=[ymin,ymax]\n",
    "        \n",
    "    # Construct the 2D histogram\n",
    "    hist2d,xedges,yedges,im=ax.hist2d(xplot, yplot, bins=(nbinsx,nbinsy),cmap=cmap,\n",
    "                                      range=(xlim,ylim),cmin=cmin)\n",
    "    var_label='N'\n",
    "        \n",
    "# If not want to plot a 2D histogram, construct the color map\n",
    "else:\n",
    "            #Define a \"density\" array of 2x2 used for binning. Its elements will be the values of the statistic\n",
    "            density=np.zeros((nbinsy+1,nbinsx+1))    # NOTE THE TRANSPOSITION OF AXIS! It is done like this in\n",
    "                                                     # order to use 'meshgrid' later.\n",
    "\n",
    "            # Calculate the desired statistic in each bin\n",
    "            auxx=min(xplot)\n",
    "            for i in range(nbinsx+1):\n",
    "                auxy=min(yplot)\n",
    "                for j in range(nbinsy+1):\n",
    "                    # Select data of elements that belong to the bin\n",
    "                    var=var_color[(xplot >= auxx) & (xplot < auxx+intx) & (yplot >= auxy) & (yplot < auxy+inty)]\n",
    "                    # Calculate the statistic in the bin, if there are at least cmin elements inside the bin.\n",
    "                    if (var.size >=cmin):\n",
    "                        if statistic=='mean':\n",
    "                            stat_val=np.mean(var)\n",
    "                        elif statistic=='median':\n",
    "                            stat_val=np.median(var)                        \n",
    "                    # If not enough elements in the bin, assign the value -1e99 to the statistic        \n",
    "                    else:\n",
    "                        stat_val=-1e99\n",
    "                \n",
    "                    # Overwrite the [j,i] element (bin) of density array with the calculated statistic\n",
    "                    density[j,i]=stat_val\n",
    "                    auxy=auxy+inty\n",
    "                auxx=auxx+intx\n",
    "\n",
    "            # Define x-coordinates of 2D grid\n",
    "            x=np.zeros(nbinsx+1)\n",
    "            auxx=min(xplot)\n",
    "            for i in range(nbinsx+1):\n",
    "                x[i]=auxx\n",
    "                auxx=auxx+intx\n",
    "            \n",
    "            # Define y-coordinates of 2D grid\n",
    "            y=np.zeros(nbinsy+1)\n",
    "            auxy=min(yplot)\n",
    "            for j in range(nbinsy+1):\n",
    "                y[j]=auxy\n",
    "                auxy=auxy+inty\n",
    "\n",
    "            # Construct two 2D array with grid coordinates\n",
    "            x,y=np.meshgrid(x,y)\n",
    "\n",
    "            # Define again the density (statistic) array\n",
    "            z=density\n",
    "        \n",
    "            # IMPORTANT!!: x, y, z MUST have the same shape.\n",
    "\n",
    "            # Search min and max of statistic, considering only bins with \"well-defined\" statistic\n",
    "            densitylim=density[density > -1e99]\n",
    "            vmin=np.amin(densitylim)\n",
    "            vmax=np.amax(densitylim)\n",
    "\n",
    "            # Prepare the color map\n",
    "            cmap = plt.get_cmap(cmap)       # Name of the color map\n",
    "            cmap.set_under('white')                      # \"bad-defined\" bins will be of colour white. \n",
    "            norm = colors.Normalize(vmin=vmin, vmax=vmax, clip=False)    # Normalize colors to the interval (vmin,vmax)\n",
    "\n",
    "            # Construct color grid\n",
    "            im=ax.pcolormesh(x,y,z,cmap=cmap,norm=norm,shading='auto')                     \n",
    "\n",
    "# Barra de referencia y \"tuneo\" del gráfico\n",
    "# Add an axis that will contain the color bar \n",
    "cbaxes=ax.inset_axes([0.12,0.94,0.76,0.04]) \n",
    "\n",
    "# Construct color bar using the color grid (object 'im')\n",
    "cbar=plt.colorbar(im,cax=cbaxes,orientation='horizontal')   \n",
    "cbar.set_label(var_label,fontsize=16)    # Label of color bar\n",
    "cbaxes.tick_params(axis='both', which='major', labelsize=14)   # Size of ticks labels\n",
    "\n",
    "# Number of ticks in color bar\n",
    "loc = ticker.LinearLocator(numticks=5)   # For simplicity, use always linear-separated ticks in the color bar\n",
    "cbar.locator=loc\n",
    "cbar.update_ticks()\n",
    "if (var_color==[]) or (statistic=='counts'):   # Format the string of color bar ticks label\n",
    "    cbaxes.xaxis.set_major_formatter(ticker.StrMethodFormatter(\"{x:.0f}\"))\n",
    "else:\n",
    "    cbaxes.xaxis.set_major_formatter(ticker.StrMethodFormatter(\"{x:.2f}\"))\n",
    "    \n",
    "# Ajustar cosas del gráfico\n",
    "ax.set_xlabel(xlabel,fontsize=16)\n",
    "ax.set_ylabel(ylabel,fontsize=16)\n",
    "\n",
    "xmin,xmax=8.8,12.1\n",
    "ax.set_xlim(xmin,xmax)\n",
    "\n",
    "ymin,ymax=4.5,10.2\n",
    "ax.set_ylim(ymin,ymax)\n",
    "\n",
    "ax.tick_params(axis='both',labelsize=14)\n",
    "\n",
    "# Guardar la figura, si es necesario\n",
    "# plt.savefig('Mstar_Mbh_SFR_RefL0100N1504_snap28.png')\n",
    "    \n",
    "plt.show()"
   ]
  },
  {
   "cell_type": "code",
   "execution_count": 16,
   "metadata": {},
   "outputs": [
    {
     "data": {
      "text/plain": [
       "astropy.table.column.Column"
      ]
     },
     "execution_count": 16,
     "metadata": {},
     "output_type": "execute_result"
    }
   ],
   "source": [
    "type(xplot)"
   ]
  },
  {
   "cell_type": "code",
   "execution_count": null,
   "metadata": {},
   "outputs": [],
   "source": [
    "# EoP"
   ]
  }
 ],
 "metadata": {
  "kernelspec": {
   "display_name": "Python 3",
   "language": "python",
   "name": "python3"
  },
  "language_info": {
   "codemirror_mode": {
    "name": "ipython",
    "version": 3
   },
   "file_extension": ".py",
   "mimetype": "text/x-python",
   "name": "python",
   "nbconvert_exporter": "python",
   "pygments_lexer": "ipython3",
   "version": "3.8.5"
  }
 },
 "nbformat": 4,
 "nbformat_minor": 4
}
