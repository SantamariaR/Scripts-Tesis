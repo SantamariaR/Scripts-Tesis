{
 "cells": [
  {
   "cell_type": "markdown",
   "metadata": {},
   "source": [
    "## Actividad 7"
   ]
  },
  {
   "cell_type": "code",
   "execution_count": 1,
   "metadata": {},
   "outputs": [],
   "source": [
    "import merger_tree_tools as mtt\n",
    "import numpy as np\n",
    "import matplotlib.pyplot as plt\n",
    "from matplotlib import colors\n",
    "from astropy.table import Table\n",
    "from astropy.cosmology import Planck15 as cosmo\n",
    "import h5py\n",
    "import pandas as pd"
   ]
  },
  {
   "cell_type": "code",
   "execution_count": 2,
   "metadata": {},
   "outputs": [],
   "source": [
    "data = {'GalaxyID_test':[],'GroupID_test':[],'snap_lm':[],'z_lm':[],'L_lm':[],'snap_lmm':[],'z_lmm':[],'L_lmm':[]}\n",
    "DATA_merge = pd.DataFrame(data=data)"
   ]
  },
  {
   "cell_type": "code",
   "execution_count": 3,
   "metadata": {},
   "outputs": [],
   "source": [
    "table  = pd.read_csv('Aperturas_RefL0100N1504_snap_28_aperture_30.dat')"
   ]
  },
  {
   "cell_type": "code",
   "execution_count": 4,
   "metadata": {},
   "outputs": [
    {
     "data": {
      "text/html": [
       "<div>\n",
       "<style scoped>\n",
       "    .dataframe tbody tr th:only-of-type {\n",
       "        vertical-align: middle;\n",
       "    }\n",
       "\n",
       "    .dataframe tbody tr th {\n",
       "        vertical-align: top;\n",
       "    }\n",
       "\n",
       "    .dataframe thead th {\n",
       "        text-align: right;\n",
       "    }\n",
       "</style>\n",
       "<table border=\"1\" class=\"dataframe\">\n",
       "  <thead>\n",
       "    <tr style=\"text-align: right;\">\n",
       "      <th></th>\n",
       "      <th>GalaxyID</th>\n",
       "      <th>GroupID</th>\n",
       "      <th>SnapNum</th>\n",
       "      <th>Redshift</th>\n",
       "      <th>SubGroupNumber</th>\n",
       "      <th>CentreOfPotential_x</th>\n",
       "      <th>CentreOfPotential_y</th>\n",
       "      <th>CentreOfPotential_z</th>\n",
       "      <th>Stars_Mass</th>\n",
       "      <th>SF_Mass</th>\n",
       "      <th>...</th>\n",
       "      <th>NSF_Hydrogen</th>\n",
       "      <th>NSF_Oxygen</th>\n",
       "      <th>NSF_Metallicity</th>\n",
       "      <th>StarFormationRate</th>\n",
       "      <th>InitialMassWeightedStellarAge</th>\n",
       "      <th>ApertureSize</th>\n",
       "      <th>Mass_Star</th>\n",
       "      <th>SFR_30pkpc</th>\n",
       "      <th>Group_R_Crit200</th>\n",
       "      <th>Group_M_Crit200</th>\n",
       "    </tr>\n",
       "  </thead>\n",
       "  <tbody>\n",
       "    <tr>\n",
       "      <th>0</th>\n",
       "      <td>9498012</td>\n",
       "      <td>28000000000002</td>\n",
       "      <td>28</td>\n",
       "      <td>2.220446e-16</td>\n",
       "      <td>6</td>\n",
       "      <td>8.913222</td>\n",
       "      <td>35.828056</td>\n",
       "      <td>54.839039</td>\n",
       "      <td>1.538708e+11</td>\n",
       "      <td>0.000000e+00</td>\n",
       "      <td>...</td>\n",
       "      <td>0.000000</td>\n",
       "      <td>0.000000</td>\n",
       "      <td>0.000000</td>\n",
       "      <td>0.000000</td>\n",
       "      <td>10.139413</td>\n",
       "      <td>30</td>\n",
       "      <td>1.307842e+11</td>\n",
       "      <td>0.000000</td>\n",
       "      <td>1411.312012</td>\n",
       "      <td>3.002119e+14</td>\n",
       "    </tr>\n",
       "    <tr>\n",
       "      <th>1</th>\n",
       "      <td>9508202</td>\n",
       "      <td>28000000000002</td>\n",
       "      <td>28</td>\n",
       "      <td>2.220446e-16</td>\n",
       "      <td>7</td>\n",
       "      <td>6.904262</td>\n",
       "      <td>35.705917</td>\n",
       "      <td>57.397373</td>\n",
       "      <td>7.604099e+10</td>\n",
       "      <td>2.281596e+09</td>\n",
       "      <td>...</td>\n",
       "      <td>0.727174</td>\n",
       "      <td>0.004796</td>\n",
       "      <td>0.011342</td>\n",
       "      <td>0.841832</td>\n",
       "      <td>9.455478</td>\n",
       "      <td>30</td>\n",
       "      <td>6.641890e+10</td>\n",
       "      <td>0.823222</td>\n",
       "      <td>1411.312012</td>\n",
       "      <td>3.002119e+14</td>\n",
       "    </tr>\n",
       "    <tr>\n",
       "      <th>2</th>\n",
       "      <td>9512113</td>\n",
       "      <td>28000000000002</td>\n",
       "      <td>28</td>\n",
       "      <td>2.220446e-16</td>\n",
       "      <td>8</td>\n",
       "      <td>8.682913</td>\n",
       "      <td>35.504921</td>\n",
       "      <td>54.217369</td>\n",
       "      <td>1.345128e+11</td>\n",
       "      <td>1.514760e+10</td>\n",
       "      <td>...</td>\n",
       "      <td>0.696796</td>\n",
       "      <td>0.010628</td>\n",
       "      <td>0.024796</td>\n",
       "      <td>12.094972</td>\n",
       "      <td>7.656161</td>\n",
       "      <td>30</td>\n",
       "      <td>1.183275e+11</td>\n",
       "      <td>10.984530</td>\n",
       "      <td>1411.312012</td>\n",
       "      <td>3.002119e+14</td>\n",
       "    </tr>\n",
       "    <tr>\n",
       "      <th>3</th>\n",
       "      <td>9517736</td>\n",
       "      <td>28000000000002</td>\n",
       "      <td>28</td>\n",
       "      <td>2.220446e-16</td>\n",
       "      <td>9</td>\n",
       "      <td>8.278317</td>\n",
       "      <td>37.063808</td>\n",
       "      <td>54.914932</td>\n",
       "      <td>2.232997e+10</td>\n",
       "      <td>2.754609e+09</td>\n",
       "      <td>...</td>\n",
       "      <td>0.714222</td>\n",
       "      <td>0.007443</td>\n",
       "      <td>0.017283</td>\n",
       "      <td>1.334875</td>\n",
       "      <td>8.117089</td>\n",
       "      <td>30</td>\n",
       "      <td>2.024596e+10</td>\n",
       "      <td>1.322288</td>\n",
       "      <td>1411.312012</td>\n",
       "      <td>3.002119e+14</td>\n",
       "    </tr>\n",
       "    <tr>\n",
       "      <th>4</th>\n",
       "      <td>9519365</td>\n",
       "      <td>28000000000002</td>\n",
       "      <td>28</td>\n",
       "      <td>2.220446e-16</td>\n",
       "      <td>10</td>\n",
       "      <td>8.262937</td>\n",
       "      <td>36.454063</td>\n",
       "      <td>55.901993</td>\n",
       "      <td>4.833353e+10</td>\n",
       "      <td>0.000000e+00</td>\n",
       "      <td>...</td>\n",
       "      <td>0.000000</td>\n",
       "      <td>0.000000</td>\n",
       "      <td>0.000000</td>\n",
       "      <td>0.000000</td>\n",
       "      <td>8.520104</td>\n",
       "      <td>30</td>\n",
       "      <td>3.944613e+10</td>\n",
       "      <td>0.000000</td>\n",
       "      <td>1411.312012</td>\n",
       "      <td>3.002119e+14</td>\n",
       "    </tr>\n",
       "    <tr>\n",
       "      <th>...</th>\n",
       "      <td>...</td>\n",
       "      <td>...</td>\n",
       "      <td>...</td>\n",
       "      <td>...</td>\n",
       "      <td>...</td>\n",
       "      <td>...</td>\n",
       "      <td>...</td>\n",
       "      <td>...</td>\n",
       "      <td>...</td>\n",
       "      <td>...</td>\n",
       "      <td>...</td>\n",
       "      <td>...</td>\n",
       "      <td>...</td>\n",
       "      <td>...</td>\n",
       "      <td>...</td>\n",
       "      <td>...</td>\n",
       "      <td>...</td>\n",
       "      <td>...</td>\n",
       "      <td>...</td>\n",
       "      <td>...</td>\n",
       "      <td>...</td>\n",
       "    </tr>\n",
       "    <tr>\n",
       "      <th>13131</th>\n",
       "      <td>10365607</td>\n",
       "      <td>28000000002202</td>\n",
       "      <td>28</td>\n",
       "      <td>2.220446e-16</td>\n",
       "      <td>0</td>\n",
       "      <td>35.516003</td>\n",
       "      <td>10.797990</td>\n",
       "      <td>34.600616</td>\n",
       "      <td>1.226640e+10</td>\n",
       "      <td>1.538676e+09</td>\n",
       "      <td>...</td>\n",
       "      <td>0.740806</td>\n",
       "      <td>0.002266</td>\n",
       "      <td>0.005160</td>\n",
       "      <td>0.456897</td>\n",
       "      <td>7.618259</td>\n",
       "      <td>30</td>\n",
       "      <td>1.191011e+10</td>\n",
       "      <td>0.433110</td>\n",
       "      <td>179.046371</td>\n",
       "      <td>6.129222e+11</td>\n",
       "    </tr>\n",
       "    <tr>\n",
       "      <th>13145</th>\n",
       "      <td>10859653</td>\n",
       "      <td>28000000002570</td>\n",
       "      <td>28</td>\n",
       "      <td>2.220446e-16</td>\n",
       "      <td>0</td>\n",
       "      <td>61.355499</td>\n",
       "      <td>48.616516</td>\n",
       "      <td>65.236801</td>\n",
       "      <td>1.094640e+10</td>\n",
       "      <td>3.207207e+09</td>\n",
       "      <td>...</td>\n",
       "      <td>0.741599</td>\n",
       "      <td>0.002183</td>\n",
       "      <td>0.004858</td>\n",
       "      <td>1.192947</td>\n",
       "      <td>6.309848</td>\n",
       "      <td>30</td>\n",
       "      <td>1.063636e+10</td>\n",
       "      <td>1.192947</td>\n",
       "      <td>168.661011</td>\n",
       "      <td>5.124048e+11</td>\n",
       "    </tr>\n",
       "    <tr>\n",
       "      <th>13155</th>\n",
       "      <td>11104654</td>\n",
       "      <td>28000000002905</td>\n",
       "      <td>28</td>\n",
       "      <td>2.220446e-16</td>\n",
       "      <td>0</td>\n",
       "      <td>97.197350</td>\n",
       "      <td>82.709518</td>\n",
       "      <td>43.676567</td>\n",
       "      <td>1.200869e+10</td>\n",
       "      <td>1.247963e+09</td>\n",
       "      <td>...</td>\n",
       "      <td>0.743705</td>\n",
       "      <td>0.001579</td>\n",
       "      <td>0.003758</td>\n",
       "      <td>0.506203</td>\n",
       "      <td>6.814752</td>\n",
       "      <td>30</td>\n",
       "      <td>1.192049e+10</td>\n",
       "      <td>0.506203</td>\n",
       "      <td>159.761032</td>\n",
       "      <td>4.354551e+11</td>\n",
       "    </tr>\n",
       "    <tr>\n",
       "      <th>13164</th>\n",
       "      <td>11247394</td>\n",
       "      <td>28000000003127</td>\n",
       "      <td>28</td>\n",
       "      <td>2.220446e-16</td>\n",
       "      <td>0</td>\n",
       "      <td>88.764885</td>\n",
       "      <td>47.226864</td>\n",
       "      <td>81.905136</td>\n",
       "      <td>1.186733e+10</td>\n",
       "      <td>2.167418e+09</td>\n",
       "      <td>...</td>\n",
       "      <td>0.737761</td>\n",
       "      <td>0.002874</td>\n",
       "      <td>0.006602</td>\n",
       "      <td>0.686905</td>\n",
       "      <td>6.787498</td>\n",
       "      <td>30</td>\n",
       "      <td>1.124763e+10</td>\n",
       "      <td>0.604550</td>\n",
       "      <td>152.119400</td>\n",
       "      <td>3.759434e+11</td>\n",
       "    </tr>\n",
       "    <tr>\n",
       "      <th>13199</th>\n",
       "      <td>12002343</td>\n",
       "      <td>28000000004258</td>\n",
       "      <td>28</td>\n",
       "      <td>2.220446e-16</td>\n",
       "      <td>0</td>\n",
       "      <td>81.653595</td>\n",
       "      <td>7.551041</td>\n",
       "      <td>69.749985</td>\n",
       "      <td>1.051248e+10</td>\n",
       "      <td>5.572393e+08</td>\n",
       "      <td>...</td>\n",
       "      <td>0.695981</td>\n",
       "      <td>0.010365</td>\n",
       "      <td>0.025381</td>\n",
       "      <td>0.195091</td>\n",
       "      <td>7.920490</td>\n",
       "      <td>30</td>\n",
       "      <td>1.030419e+10</td>\n",
       "      <td>0.195091</td>\n",
       "      <td>139.948212</td>\n",
       "      <td>2.927332e+11</td>\n",
       "    </tr>\n",
       "  </tbody>\n",
       "</table>\n",
       "<p>3638 rows × 32 columns</p>\n",
       "</div>"
      ],
      "text/plain": [
       "       GalaxyID         GroupID  SnapNum      Redshift  SubGroupNumber  \\\n",
       "0       9498012  28000000000002       28  2.220446e-16               6   \n",
       "1       9508202  28000000000002       28  2.220446e-16               7   \n",
       "2       9512113  28000000000002       28  2.220446e-16               8   \n",
       "3       9517736  28000000000002       28  2.220446e-16               9   \n",
       "4       9519365  28000000000002       28  2.220446e-16              10   \n",
       "...         ...             ...      ...           ...             ...   \n",
       "13131  10365607  28000000002202       28  2.220446e-16               0   \n",
       "13145  10859653  28000000002570       28  2.220446e-16               0   \n",
       "13155  11104654  28000000002905       28  2.220446e-16               0   \n",
       "13164  11247394  28000000003127       28  2.220446e-16               0   \n",
       "13199  12002343  28000000004258       28  2.220446e-16               0   \n",
       "\n",
       "       CentreOfPotential_x  CentreOfPotential_y  CentreOfPotential_z  \\\n",
       "0                 8.913222            35.828056            54.839039   \n",
       "1                 6.904262            35.705917            57.397373   \n",
       "2                 8.682913            35.504921            54.217369   \n",
       "3                 8.278317            37.063808            54.914932   \n",
       "4                 8.262937            36.454063            55.901993   \n",
       "...                    ...                  ...                  ...   \n",
       "13131            35.516003            10.797990            34.600616   \n",
       "13145            61.355499            48.616516            65.236801   \n",
       "13155            97.197350            82.709518            43.676567   \n",
       "13164            88.764885            47.226864            81.905136   \n",
       "13199            81.653595             7.551041            69.749985   \n",
       "\n",
       "         Stars_Mass       SF_Mass  ...  NSF_Hydrogen  NSF_Oxygen  \\\n",
       "0      1.538708e+11  0.000000e+00  ...      0.000000    0.000000   \n",
       "1      7.604099e+10  2.281596e+09  ...      0.727174    0.004796   \n",
       "2      1.345128e+11  1.514760e+10  ...      0.696796    0.010628   \n",
       "3      2.232997e+10  2.754609e+09  ...      0.714222    0.007443   \n",
       "4      4.833353e+10  0.000000e+00  ...      0.000000    0.000000   \n",
       "...             ...           ...  ...           ...         ...   \n",
       "13131  1.226640e+10  1.538676e+09  ...      0.740806    0.002266   \n",
       "13145  1.094640e+10  3.207207e+09  ...      0.741599    0.002183   \n",
       "13155  1.200869e+10  1.247963e+09  ...      0.743705    0.001579   \n",
       "13164  1.186733e+10  2.167418e+09  ...      0.737761    0.002874   \n",
       "13199  1.051248e+10  5.572393e+08  ...      0.695981    0.010365   \n",
       "\n",
       "       NSF_Metallicity  StarFormationRate  InitialMassWeightedStellarAge  \\\n",
       "0             0.000000           0.000000                      10.139413   \n",
       "1             0.011342           0.841832                       9.455478   \n",
       "2             0.024796          12.094972                       7.656161   \n",
       "3             0.017283           1.334875                       8.117089   \n",
       "4             0.000000           0.000000                       8.520104   \n",
       "...                ...                ...                            ...   \n",
       "13131         0.005160           0.456897                       7.618259   \n",
       "13145         0.004858           1.192947                       6.309848   \n",
       "13155         0.003758           0.506203                       6.814752   \n",
       "13164         0.006602           0.686905                       6.787498   \n",
       "13199         0.025381           0.195091                       7.920490   \n",
       "\n",
       "       ApertureSize     Mass_Star  SFR_30pkpc  Group_R_Crit200  \\\n",
       "0                30  1.307842e+11    0.000000      1411.312012   \n",
       "1                30  6.641890e+10    0.823222      1411.312012   \n",
       "2                30  1.183275e+11   10.984530      1411.312012   \n",
       "3                30  2.024596e+10    1.322288      1411.312012   \n",
       "4                30  3.944613e+10    0.000000      1411.312012   \n",
       "...             ...           ...         ...              ...   \n",
       "13131            30  1.191011e+10    0.433110       179.046371   \n",
       "13145            30  1.063636e+10    1.192947       168.661011   \n",
       "13155            30  1.192049e+10    0.506203       159.761032   \n",
       "13164            30  1.124763e+10    0.604550       152.119400   \n",
       "13199            30  1.030419e+10    0.195091       139.948212   \n",
       "\n",
       "       Group_M_Crit200  \n",
       "0         3.002119e+14  \n",
       "1         3.002119e+14  \n",
       "2         3.002119e+14  \n",
       "3         3.002119e+14  \n",
       "4         3.002119e+14  \n",
       "...                ...  \n",
       "13131     6.129222e+11  \n",
       "13145     5.124048e+11  \n",
       "13155     4.354551e+11  \n",
       "13164     3.759434e+11  \n",
       "13199     2.927332e+11  \n",
       "\n",
       "[3638 rows x 32 columns]"
      ]
     },
     "execution_count": 4,
     "metadata": {},
     "output_type": "execute_result"
    }
   ],
   "source": [
    "table_a = table[(table['Stars_Mass']>=1e10)].copy()\n",
    "table_a"
   ]
  },
  {
   "cell_type": "markdown",
   "metadata": {},
   "source": [
    "data = {'GalaxyID_test':[],'GroupID_test':[],'snap_lm':[],'z_lm':[],'L_lm':[],'snap_lmm':[],'z_lmm':[],'L_lmm':[]}#Defino las columnas de output\n",
    "DATA = pd.DataFrame(data=data)"
   ]
  },
  {
   "cell_type": "code",
   "execution_count": 7,
   "metadata": {},
   "outputs": [
    {
     "data": {
      "text/plain": [
       "21379521"
      ]
     },
     "execution_count": 7,
     "metadata": {},
     "output_type": "execute_result"
    }
   ],
   "source": [
    "mass = max(table_a['Stars_Mass'])\n",
    "mask = (table_a['Stars_Mass']==mass)\n",
    "ID   = table_a['GalaxyID'][mask]\n",
    "int(ID)"
   ]
  },
  {
   "cell_type": "code",
   "execution_count": 26,
   "metadata": {},
   "outputs": [],
   "source": [
    "p=1"
   ]
  },
  {
   "cell_type": "code",
   "execution_count": 27,
   "metadata": {},
   "outputs": [],
   "source": [
    "# Simulación a usar y datos de galaxia deseada\n",
    "simu='RefL0100N1504'\n",
    "snap=28"
   ]
  },
  {
   "cell_type": "code",
   "execution_count": 28,
   "metadata": {},
   "outputs": [],
   "source": [
    "galid=table_a['GalaxyID'][p]"
   ]
  },
  {
   "cell_type": "code",
   "execution_count": 29,
   "metadata": {},
   "outputs": [],
   "source": [
    "# Usuario y contraseña para conectarse a EAGLE DataBase\n",
    "usr='cht015'\n",
    "pwd='BH457tfj'\n",
    "\n",
    "# Descargar todos los IDS necesarios de la galaxia deseada\n",
    "\n",
    "myIDs=mtt.retrieve_ids(usr,pwd,simu,snap,galid)\n",
    "\n",
    "# Descargar merger tree completo de la galaxia deseada\n",
    "# Nombre y alias de la tabla de la cual se quieren descargar datos\n",
    "table='SubHalo'\n",
    "table_alias='sub'\n",
    "\n",
    "# Variables que se quiere descargar. OJO!! Asegurarse que estas variables\n",
    "# estén en la tabla deseada.\n",
    "columns=[\n",
    "         'GalaxyID','LastProgID','TopLeafID','DescendantID',\n",
    "         'SnapNum','Redshift','Stars_Mass','SF_Mass','GroupID'\n",
    "        ]\n",
    "\n",
    "raw_tree=mtt.download_merger_tree(usr,pwd,simu,myIDs['GalaxyID'],myIDs['LastProgID'],\n",
    "                                  table=table,table_alias=table_alias,columns=columns)\n",
    "\n",
    "# NOTA: si ya se tiene descargados en un archivo todas las galaxias de la simu, se puede\n",
    "#       saltear esta celda, y en su lugar, leer dicho archivo de datos y usar máscaras\n",
    "#       para seleccionar las galaxias del árbol deseado"
   ]
  },
  {
   "cell_type": "code",
   "execution_count": 30,
   "metadata": {},
   "outputs": [],
   "source": [
    "# Aplicar condiciones a las galaxias del árbol, si es necesario\n",
    "mask=(\n",
    "      (raw_tree['Stars_Mass']>0e6) &\n",
    "      (raw_tree['SF_Mass']>0)\n",
    "     )"
   ]
  },
  {
   "cell_type": "code",
   "execution_count": 31,
   "metadata": {},
   "outputs": [],
   "source": [
    "# Armar arbol sólo con galaxias seleccionadas según condiciones anteriores\n",
    "tree={}\n",
    "for key in raw_tree.keys():\n",
    "    tree[key]=raw_tree[key][mask]\n",
    "        \n",
    "# Ordeno las galaxias según SnapNum creciente\n",
    "mask_order=(tree['SnapNum']).argsort()\n",
    "for key in tree.keys():\n",
    "    tree[key]=tree[key][mask_order]"
   ]
  },
  {
   "cell_type": "code",
   "execution_count": 32,
   "metadata": {},
   "outputs": [],
   "source": [
    "# Armo un diccionario con solo la main branch del árbol\n",
    "main_branch={}\n",
    "# Select galaxies in the main branch \n",
    "mask_main=np.logical_and(tree['GalaxyID']>=myIDs['GalaxyID'],\n",
    "                         tree['GalaxyID']<=myIDs['TopLeafID']) \n",
    "\n",
    "for key in tree.keys():\n",
    "    main_branch[key]=tree[key][mask_main]"
   ]
  },
  {
   "cell_type": "code",
   "execution_count": 33,
   "metadata": {},
   "outputs": [],
   "source": [
    "xplot_main=main_branch['SnapNum']\n",
    "xlabel='SnapNum'\n",
    "\n",
    "# Calculo level of merger\n",
    "level_merger=[1]       # Inicializo con un 1, porque la primer galaxia del main branch \n",
    "                       # no viene de ninguna fusión...\n",
    "    \n",
    "for k in range(np.size(xplot_main)-1):\n",
    "    m1=main_branch['Stars_Mass'][k]+main_branch['SF_Mass'][k]\n",
    "    mask=(tree['DescendantID']==main_branch['GalaxyID'][k+1]) & (tree['SnapNum']!=28)\n",
    "    # La condición de snapnum distinto a 28 es porque galaxias a z=0 no tienen descendiente,\n",
    "    # y se les asigna como DescendantID su propio GalaxyID\n",
    "    m2=np.sum(tree['Stars_Mass'][mask])+np.sum(tree['SF_Mass'][mask])\n",
    "    level=m2/m1\n",
    "    level_merger=np.append(level_merger,level)  "
   ]
  },
  {
   "cell_type": "code",
   "execution_count": 34,
   "metadata": {},
   "outputs": [],
   "source": [
    "# Variable a graficar en eje y\n",
    "yplot_main=level_merger\n",
    "#yplot_main=np.log10(main_branch['Stars_Mass'])\n",
    "#yplot_main=np.log10(main_branch['StarFormationRate'])\n",
    "\n",
    "ylabel=r'$L_{\\rm{merger}}$'\n",
    "#ylabel=r'$\\log(M_\\bigstar)~[\\rm{M}_\\odot]$'\n",
    "#ylabel=r'$\\log(SFR)~[\\rm{M}_\\odot~\\rm{yr}^{-1}]$'\n"
   ]
  },
  {
   "cell_type": "code",
   "execution_count": 35,
   "metadata": {},
   "outputs": [
    {
     "data": {
      "image/png": "[encoded data removed]",
      "text/plain": [
       "<Figure size 576x432 with 1 Axes>"
      ]
     },
     "metadata": {
      "needs_background": "light"
     },
     "output_type": "display_data"
    }
   ],
   "source": [
    "# Graficar level of merger vs. redshift\n",
    "\n",
    "fig2,ax2=plt.subplots(figsize=(8,6))\n",
    "#ax2.set_xlim(4.1,-0.1)\n",
    "ax2.plot(xplot_main,yplot_main,c='k',lw=2,\n",
    "         label=r'$\\rm{GalaxyID}_{z=0}=$'+str(galid))\n",
    "ax2.scatter(xplot_main,yplot_main,color='k',s=40)\n",
    "\n",
    "ax2.set_xlabel(xlabel,fontsize=20)\n",
    "ax2.set_ylabel(ylabel,fontsize=20)\n",
    "\n",
    "ax2.tick_params(which='major',axis='both',labelsize=18)\n",
    "ax2.grid()\n",
    "ax2.legend(loc='upper right',fontsize=16,edgecolor='w')\n",
    "\n",
    "xmin, xmax = -0.3,29\n",
    "ax2.set_xlim(xmin,xmax)\n",
    "\n",
    "ymin,ymax=0.95,1.65\n",
    "#ax2.set_ylim(ymin,ymax)\n",
    "\n",
    "# Adjust subplots\n",
    "plt.tight_layout()\n",
    "\n",
    "# plt.savefig('level_of_merger.png')"
   ]
  },
  {
   "cell_type": "code",
   "execution_count": 36,
   "metadata": {},
   "outputs": [
    {
     "data": {
      "text/plain": [
       "array([ 1003800000002,  2000200000052,  3000100000401,  4000100000336,\n",
       "        5000100000726,  6000100000643,  7000000001255,  8000100000139,\n",
       "        9000000001409, 10000000001316, 11000000001562, 12000000001596,\n",
       "       13000000000824, 14000000000704, 15000000000440, 16000000000380,\n",
       "       17000000000395, 18000000000420, 19000100000014, 20000000000646,\n",
       "       21000000000635, 22000000000213, 23000000000170, 24000000000160,\n",
       "       25000000000149, 26000000000107, 27000000000106, 28000000000002])"
      ]
     },
     "execution_count": 36,
     "metadata": {},
     "output_type": "execute_result"
    }
   ],
   "source": [
    "main_branch['GroupID']"
   ]
  },
  {
   "cell_type": "code",
   "execution_count": 37,
   "metadata": {},
   "outputs": [
    {
     "data": {
      "text/plain": [
       "array([ 1,  2,  3,  4,  5,  6,  7,  8,  9, 10, 11, 12, 13, 14, 15, 16, 17,\n",
       "       18, 19, 20, 21, 22, 23, 24, 25, 26, 27, 28], dtype=int32)"
      ]
     },
     "execution_count": 37,
     "metadata": {},
     "output_type": "execute_result"
    }
   ],
   "source": [
    "main_branch['SnapNum']"
   ]
  },
  {
   "cell_type": "code",
   "execution_count": 38,
   "metadata": {},
   "outputs": [
    {
     "data": {
      "text/plain": [
       "array([1.        , 1.        , 1.        , 1.        , 1.        ,\n",
       "       1.        , 1.        , 1.1543014 , 1.05009127, 1.0228076 ,\n",
       "       1.00643444, 1.01521516, 1.01042926, 1.        , 1.01281881,\n",
       "       1.15638995, 1.01944029, 1.01792443, 1.32582641, 1.00184298,\n",
       "       1.00132096, 1.00120258, 1.00082481, 1.00285351, 1.0032686 ,\n",
       "       1.00042152, 1.        , 1.        ])"
      ]
     },
     "execution_count": 38,
     "metadata": {},
     "output_type": "execute_result"
    }
   ],
   "source": [
    "level_merger"
   ]
  },
  {
   "cell_type": "code",
   "execution_count": 39,
   "metadata": {},
   "outputs": [],
   "source": [
    "i=1\n",
    "j=1\n",
    "while level_merger[-i]<=1:\n",
    "    if i<len(level_merger):\n",
    "        i+=1\n",
    "        snap_lm = main_branch['SnapNum'][-i]\n",
    "        z_lm    = main_branch['Redshift'][-i]\n",
    "        L_lm    = level_merger[-i]\n",
    "    else:\n",
    "        snap_lm = np.nan\n",
    "        z_lm    = np.nan\n",
    "        L_lm    = np.nan\n",
    "        break\n",
    "\n",
    "while level_merger[-j]<=1.3:\n",
    "    if j<len(level_merger):\n",
    "        j+=1\n",
    "        snap_lmm= main_branch['SnapNum'][-j]\n",
    "        z_lmm   = main_branch['Redshift'][-j]\n",
    "        L_lmm   = level_merger[-j]\n",
    "    else:\n",
    "        snap_lmm= np.nan\n",
    "        z_lmm   = np.nan\n",
    "        L_lmm   = np.nan\n",
    "        break"
   ]
  },
  {
   "cell_type": "code",
   "execution_count": 40,
   "metadata": {},
   "outputs": [
    {
     "name": "stdout",
     "output_type": "stream",
     "text": [
      "snap_lm: 26\n",
      "z_lm: 0.18270987\n",
      "L_lm: 1.0004215240478516\n",
      "snap_lmm: 19\n",
      "z_lmm: 1.0041217\n",
      "L_lmm: 1.3258264064788818\n"
     ]
    }
   ],
   "source": [
    "print('snap_lm:',snap_lm)\n",
    "print('z_lm:',z_lm)\n",
    "print('L_lm:',L_lm)\n",
    "print('snap_lmm:',snap_lmm)\n",
    "print('z_lmm:',z_lmm)\n",
    "print('L_lmm:',L_lmm)"
   ]
  },
  {
   "cell_type": "code",
   "execution_count": 41,
   "metadata": {},
   "outputs": [],
   "source": [
    "data = {'GalaxyID_test':table_a['GalaxyID'][p],'GroupID_test':table_a['GroupID'][p],\n",
    "         'snap_lm':snap_lm,'z_lm':z_lm,'L_lm':L_lm,'snap_lmm':snap_lmm,'z_lmm':z_lmm,'L_lmm':L_lmm}\n",
    "\n",
    "DATA_merge = DATA_merge.append(data,ignore_index=True).astype({'GalaxyID_test':int,'GroupID_test':int,\n",
    "                                                               'snap_lm':int,'z_lm':float,'L_lm':float,\n",
    "                                                               'snap_lmm':int,'z_lmm':float,'L_lmm':float})"
   ]
  },
  {
   "cell_type": "code",
   "execution_count": 42,
   "metadata": {},
   "outputs": [
    {
     "data": {
      "text/html": [
       "<div>\n",
       "<style scoped>\n",
       "    .dataframe tbody tr th:only-of-type {\n",
       "        vertical-align: middle;\n",
       "    }\n",
       "\n",
       "    .dataframe tbody tr th {\n",
       "        vertical-align: top;\n",
       "    }\n",
       "\n",
       "    .dataframe thead th {\n",
       "        text-align: right;\n",
       "    }\n",
       "</style>\n",
       "<table border=\"1\" class=\"dataframe\">\n",
       "  <thead>\n",
       "    <tr style=\"text-align: right;\">\n",
       "      <th></th>\n",
       "      <th>GalaxyID_test</th>\n",
       "      <th>GroupID_test</th>\n",
       "      <th>snap_lm</th>\n",
       "      <th>z_lm</th>\n",
       "      <th>L_lm</th>\n",
       "      <th>snap_lmm</th>\n",
       "      <th>z_lmm</th>\n",
       "      <th>L_lmm</th>\n",
       "    </tr>\n",
       "  </thead>\n",
       "  <tbody>\n",
       "    <tr>\n",
       "      <th>0</th>\n",
       "      <td>9498012</td>\n",
       "      <td>28000000000002</td>\n",
       "      <td>22</td>\n",
       "      <td>0.61519</td>\n",
       "      <td>1.369978</td>\n",
       "      <td>22</td>\n",
       "      <td>0.615190</td>\n",
       "      <td>1.369978</td>\n",
       "    </tr>\n",
       "    <tr>\n",
       "      <th>1</th>\n",
       "      <td>9498012</td>\n",
       "      <td>28000000000002</td>\n",
       "      <td>22</td>\n",
       "      <td>0.61519</td>\n",
       "      <td>1.369978</td>\n",
       "      <td>22</td>\n",
       "      <td>0.615190</td>\n",
       "      <td>1.369978</td>\n",
       "    </tr>\n",
       "    <tr>\n",
       "      <th>2</th>\n",
       "      <td>9508202</td>\n",
       "      <td>28000000000002</td>\n",
       "      <td>26</td>\n",
       "      <td>0.18271</td>\n",
       "      <td>1.000422</td>\n",
       "      <td>19</td>\n",
       "      <td>1.004122</td>\n",
       "      <td>1.325826</td>\n",
       "    </tr>\n",
       "  </tbody>\n",
       "</table>\n",
       "</div>"
      ],
      "text/plain": [
       "   GalaxyID_test    GroupID_test  snap_lm     z_lm      L_lm  snap_lmm  \\\n",
       "0        9498012  28000000000002       22  0.61519  1.369978        22   \n",
       "1        9498012  28000000000002       22  0.61519  1.369978        22   \n",
       "2        9508202  28000000000002       26  0.18271  1.000422        19   \n",
       "\n",
       "      z_lmm     L_lmm  \n",
       "0  0.615190  1.369978  \n",
       "1  0.615190  1.369978  \n",
       "2  1.004122  1.325826  "
      ]
     },
     "execution_count": 42,
     "metadata": {},
     "output_type": "execute_result"
    }
   ],
   "source": [
    "DATA_merge"
   ]
  },
  {
   "cell_type": "code",
   "execution_count": 43,
   "metadata": {},
   "outputs": [
    {
     "data": {
      "text/plain": [
       "9508202"
      ]
     },
     "execution_count": 43,
     "metadata": {},
     "output_type": "execute_result"
    }
   ],
   "source": [
    "table_a['GalaxyID'][p]"
   ]
  },
  {
   "cell_type": "code",
   "execution_count": 2,
   "metadata": {},
   "outputs": [
    {
     "name": "stdout",
     "output_type": "stream",
     "text": [
      "1.099999\r"
     ]
    }
   ],
   "source": [
    "i=0\n",
    "long = 1000000\n",
    "for i in np.arange(long):\n",
    "    i+=1\n",
    "    print(i/long,end='\\r')"
   ]
  },
  {
   "cell_type": "code",
   "execution_count": 4,
   "metadata": {},
   "outputs": [
    {
     "data": {
      "text/plain": [
       "1.0"
      ]
     },
     "execution_count": 4,
     "metadata": {},
     "output_type": "execute_result"
    }
   ],
   "source": [
    "i/long"
   ]
  },
  {
   "cell_type": "code",
   "execution_count": null,
   "metadata": {},
   "outputs": [],
   "source": []
  }
 ],
 "metadata": {
  "kernelspec": {
   "display_name": "Python 3",
   "language": "python",
   "name": "python3"
  },
  "language_info": {
   "codemirror_mode": {
    "name": "ipython",
    "version": 3
   },
   "file_extension": ".py",
   "mimetype": "text/x-python",
   "name": "python",
   "nbconvert_exporter": "python",
   "pygments_lexer": "ipython3",
   "version": "3.8.5"
  }
 },
 "nbformat": 4,
 "nbformat_minor": 4
}
