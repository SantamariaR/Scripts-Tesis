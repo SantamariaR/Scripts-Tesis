{
 "cells": [
  {
   "cell_type": "markdown",
   "metadata": {},
   "source": [
    "# Actividad 5"
   ]
  },
  {
   "cell_type": "code",
   "execution_count": 14,
   "metadata": {},
   "outputs": [],
   "source": [
    "import numpy as np\n",
    "import pandas as pd\n",
    "import matplotlib.pyplot as plt\n",
    "import plotly.graph_objects as go"
   ]
  },
  {
   "cell_type": "markdown",
   "metadata": {},
   "source": [
    "**Descargo los datos y creo una copia con la cual trabajar, van a ser la muestra A**"
   ]
  },
  {
   "cell_type": "code",
   "execution_count": 15,
   "metadata": {},
   "outputs": [
    {
     "data": {
      "text/html": [
       "<div>\n",
       "<style scoped>\n",
       "    .dataframe tbody tr th:only-of-type {\n",
       "        vertical-align: middle;\n",
       "    }\n",
       "\n",
       "    .dataframe tbody tr th {\n",
       "        vertical-align: top;\n",
       "    }\n",
       "\n",
       "    .dataframe thead th {\n",
       "        text-align: right;\n",
       "    }\n",
       "</style>\n",
       "<table border=\"1\" class=\"dataframe\">\n",
       "  <thead>\n",
       "    <tr style=\"text-align: right;\">\n",
       "      <th></th>\n",
       "      <th>GalaxyID</th>\n",
       "      <th>GroupID</th>\n",
       "      <th>SnapNum</th>\n",
       "      <th>Redshift</th>\n",
       "      <th>SubGroupNumber</th>\n",
       "      <th>CentreOfPotential_x</th>\n",
       "      <th>CentreOfPotential_y</th>\n",
       "      <th>CentreOfPotential_z</th>\n",
       "      <th>Stars_Mass</th>\n",
       "      <th>SF_Mass</th>\n",
       "      <th>...</th>\n",
       "      <th>NSF_Hydrogen</th>\n",
       "      <th>NSF_Oxygen</th>\n",
       "      <th>NSF_Metallicity</th>\n",
       "      <th>StarFormationRate</th>\n",
       "      <th>InitialMassWeightedStellarAge</th>\n",
       "      <th>ApertureSize</th>\n",
       "      <th>Mass_Star</th>\n",
       "      <th>SFR_30pkpc</th>\n",
       "      <th>Group_R_Crit200</th>\n",
       "      <th>Group_M_Crit200</th>\n",
       "    </tr>\n",
       "  </thead>\n",
       "  <tbody>\n",
       "    <tr>\n",
       "      <th>0</th>\n",
       "      <td>9498012</td>\n",
       "      <td>28000000000002</td>\n",
       "      <td>28</td>\n",
       "      <td>2.220446e-16</td>\n",
       "      <td>6</td>\n",
       "      <td>8.913222</td>\n",
       "      <td>35.828056</td>\n",
       "      <td>54.839039</td>\n",
       "      <td>1.538708e+11</td>\n",
       "      <td>0.000000e+00</td>\n",
       "      <td>...</td>\n",
       "      <td>0.000000</td>\n",
       "      <td>0.000000</td>\n",
       "      <td>0.000000</td>\n",
       "      <td>0.000000</td>\n",
       "      <td>10.139413</td>\n",
       "      <td>30</td>\n",
       "      <td>1.307842e+11</td>\n",
       "      <td>0.000000</td>\n",
       "      <td>1411.312012</td>\n",
       "      <td>3.002119e+14</td>\n",
       "    </tr>\n",
       "    <tr>\n",
       "      <th>1</th>\n",
       "      <td>9508202</td>\n",
       "      <td>28000000000002</td>\n",
       "      <td>28</td>\n",
       "      <td>2.220446e-16</td>\n",
       "      <td>7</td>\n",
       "      <td>6.904262</td>\n",
       "      <td>35.705917</td>\n",
       "      <td>57.397373</td>\n",
       "      <td>7.604099e+10</td>\n",
       "      <td>2.281596e+09</td>\n",
       "      <td>...</td>\n",
       "      <td>0.727174</td>\n",
       "      <td>0.004796</td>\n",
       "      <td>0.011342</td>\n",
       "      <td>0.841832</td>\n",
       "      <td>9.455478</td>\n",
       "      <td>30</td>\n",
       "      <td>6.641890e+10</td>\n",
       "      <td>0.823222</td>\n",
       "      <td>1411.312012</td>\n",
       "      <td>3.002119e+14</td>\n",
       "    </tr>\n",
       "    <tr>\n",
       "      <th>2</th>\n",
       "      <td>9512113</td>\n",
       "      <td>28000000000002</td>\n",
       "      <td>28</td>\n",
       "      <td>2.220446e-16</td>\n",
       "      <td>8</td>\n",
       "      <td>8.682913</td>\n",
       "      <td>35.504921</td>\n",
       "      <td>54.217369</td>\n",
       "      <td>1.345128e+11</td>\n",
       "      <td>1.514760e+10</td>\n",
       "      <td>...</td>\n",
       "      <td>0.696796</td>\n",
       "      <td>0.010628</td>\n",
       "      <td>0.024796</td>\n",
       "      <td>12.094972</td>\n",
       "      <td>7.656161</td>\n",
       "      <td>30</td>\n",
       "      <td>1.183275e+11</td>\n",
       "      <td>10.984530</td>\n",
       "      <td>1411.312012</td>\n",
       "      <td>3.002119e+14</td>\n",
       "    </tr>\n",
       "    <tr>\n",
       "      <th>3</th>\n",
       "      <td>9517736</td>\n",
       "      <td>28000000000002</td>\n",
       "      <td>28</td>\n",
       "      <td>2.220446e-16</td>\n",
       "      <td>9</td>\n",
       "      <td>8.278317</td>\n",
       "      <td>37.063808</td>\n",
       "      <td>54.914932</td>\n",
       "      <td>2.232997e+10</td>\n",
       "      <td>2.754609e+09</td>\n",
       "      <td>...</td>\n",
       "      <td>0.714222</td>\n",
       "      <td>0.007443</td>\n",
       "      <td>0.017283</td>\n",
       "      <td>1.334875</td>\n",
       "      <td>8.117089</td>\n",
       "      <td>30</td>\n",
       "      <td>2.024596e+10</td>\n",
       "      <td>1.322288</td>\n",
       "      <td>1411.312012</td>\n",
       "      <td>3.002119e+14</td>\n",
       "    </tr>\n",
       "    <tr>\n",
       "      <th>4</th>\n",
       "      <td>9519365</td>\n",
       "      <td>28000000000002</td>\n",
       "      <td>28</td>\n",
       "      <td>2.220446e-16</td>\n",
       "      <td>10</td>\n",
       "      <td>8.262937</td>\n",
       "      <td>36.454063</td>\n",
       "      <td>55.901993</td>\n",
       "      <td>4.833353e+10</td>\n",
       "      <td>0.000000e+00</td>\n",
       "      <td>...</td>\n",
       "      <td>0.000000</td>\n",
       "      <td>0.000000</td>\n",
       "      <td>0.000000</td>\n",
       "      <td>0.000000</td>\n",
       "      <td>8.520104</td>\n",
       "      <td>30</td>\n",
       "      <td>3.944613e+10</td>\n",
       "      <td>0.000000</td>\n",
       "      <td>1411.312012</td>\n",
       "      <td>3.002119e+14</td>\n",
       "    </tr>\n",
       "    <tr>\n",
       "      <th>...</th>\n",
       "      <td>...</td>\n",
       "      <td>...</td>\n",
       "      <td>...</td>\n",
       "      <td>...</td>\n",
       "      <td>...</td>\n",
       "      <td>...</td>\n",
       "      <td>...</td>\n",
       "      <td>...</td>\n",
       "      <td>...</td>\n",
       "      <td>...</td>\n",
       "      <td>...</td>\n",
       "      <td>...</td>\n",
       "      <td>...</td>\n",
       "      <td>...</td>\n",
       "      <td>...</td>\n",
       "      <td>...</td>\n",
       "      <td>...</td>\n",
       "      <td>...</td>\n",
       "      <td>...</td>\n",
       "      <td>...</td>\n",
       "      <td>...</td>\n",
       "    </tr>\n",
       "    <tr>\n",
       "      <th>13295</th>\n",
       "      <td>4317555</td>\n",
       "      <td>28000100003223</td>\n",
       "      <td>28</td>\n",
       "      <td>2.220446e-16</td>\n",
       "      <td>0</td>\n",
       "      <td>17.477247</td>\n",
       "      <td>79.643379</td>\n",
       "      <td>54.909241</td>\n",
       "      <td>2.390242e+09</td>\n",
       "      <td>0.000000e+00</td>\n",
       "      <td>...</td>\n",
       "      <td>0.000000</td>\n",
       "      <td>0.000000</td>\n",
       "      <td>0.000000</td>\n",
       "      <td>0.000000</td>\n",
       "      <td>8.292501</td>\n",
       "      <td>30</td>\n",
       "      <td>2.374284e+09</td>\n",
       "      <td>0.000000</td>\n",
       "      <td>89.337975</td>\n",
       "      <td>7.614508e+10</td>\n",
       "    </tr>\n",
       "    <tr>\n",
       "      <th>13296</th>\n",
       "      <td>4710749</td>\n",
       "      <td>28000100004466</td>\n",
       "      <td>28</td>\n",
       "      <td>2.220446e-16</td>\n",
       "      <td>0</td>\n",
       "      <td>58.681110</td>\n",
       "      <td>84.345787</td>\n",
       "      <td>24.601583</td>\n",
       "      <td>1.280501e+09</td>\n",
       "      <td>3.723092e+08</td>\n",
       "      <td>...</td>\n",
       "      <td>0.738459</td>\n",
       "      <td>0.002793</td>\n",
       "      <td>0.006326</td>\n",
       "      <td>0.140465</td>\n",
       "      <td>6.375748</td>\n",
       "      <td>30</td>\n",
       "      <td>1.277753e+09</td>\n",
       "      <td>0.140465</td>\n",
       "      <td>92.395576</td>\n",
       "      <td>8.424494e+10</td>\n",
       "    </tr>\n",
       "    <tr>\n",
       "      <th>13297</th>\n",
       "      <td>5387790</td>\n",
       "      <td>28000200000262</td>\n",
       "      <td>28</td>\n",
       "      <td>2.220446e-16</td>\n",
       "      <td>0</td>\n",
       "      <td>70.492355</td>\n",
       "      <td>5.389233</td>\n",
       "      <td>91.000664</td>\n",
       "      <td>1.631883e+09</td>\n",
       "      <td>4.478066e+08</td>\n",
       "      <td>...</td>\n",
       "      <td>0.734583</td>\n",
       "      <td>0.003821</td>\n",
       "      <td>0.008329</td>\n",
       "      <td>0.148282</td>\n",
       "      <td>5.915991</td>\n",
       "      <td>30</td>\n",
       "      <td>1.589539e+09</td>\n",
       "      <td>0.148282</td>\n",
       "      <td>76.062782</td>\n",
       "      <td>4.699878e+10</td>\n",
       "    </tr>\n",
       "    <tr>\n",
       "      <th>13298</th>\n",
       "      <td>6104686</td>\n",
       "      <td>28000200004222</td>\n",
       "      <td>28</td>\n",
       "      <td>2.220446e-16</td>\n",
       "      <td>0</td>\n",
       "      <td>12.975779</td>\n",
       "      <td>81.673553</td>\n",
       "      <td>52.292992</td>\n",
       "      <td>2.849959e+09</td>\n",
       "      <td>0.000000e+00</td>\n",
       "      <td>...</td>\n",
       "      <td>0.000000</td>\n",
       "      <td>0.000000</td>\n",
       "      <td>0.000000</td>\n",
       "      <td>0.000000</td>\n",
       "      <td>9.001393</td>\n",
       "      <td>30</td>\n",
       "      <td>2.772405e+09</td>\n",
       "      <td>0.000000</td>\n",
       "      <td>71.829155</td>\n",
       "      <td>3.958096e+10</td>\n",
       "    </tr>\n",
       "    <tr>\n",
       "      <th>13299</th>\n",
       "      <td>61518775</td>\n",
       "      <td>28000900002358</td>\n",
       "      <td>28</td>\n",
       "      <td>2.220446e-16</td>\n",
       "      <td>0</td>\n",
       "      <td>8.211574</td>\n",
       "      <td>76.852783</td>\n",
       "      <td>48.471100</td>\n",
       "      <td>1.009073e+09</td>\n",
       "      <td>0.000000e+00</td>\n",
       "      <td>...</td>\n",
       "      <td>0.000000</td>\n",
       "      <td>0.000000</td>\n",
       "      <td>0.000000</td>\n",
       "      <td>0.000000</td>\n",
       "      <td>10.406497</td>\n",
       "      <td>30</td>\n",
       "      <td>1.002521e+09</td>\n",
       "      <td>0.000000</td>\n",
       "      <td>39.541702</td>\n",
       "      <td>6.601791e+09</td>\n",
       "    </tr>\n",
       "  </tbody>\n",
       "</table>\n",
       "<p>13300 rows × 32 columns</p>\n",
       "</div>"
      ],
      "text/plain": [
       "       GalaxyID         GroupID  SnapNum      Redshift  SubGroupNumber  \\\n",
       "0       9498012  28000000000002       28  2.220446e-16               6   \n",
       "1       9508202  28000000000002       28  2.220446e-16               7   \n",
       "2       9512113  28000000000002       28  2.220446e-16               8   \n",
       "3       9517736  28000000000002       28  2.220446e-16               9   \n",
       "4       9519365  28000000000002       28  2.220446e-16              10   \n",
       "...         ...             ...      ...           ...             ...   \n",
       "13295   4317555  28000100003223       28  2.220446e-16               0   \n",
       "13296   4710749  28000100004466       28  2.220446e-16               0   \n",
       "13297   5387790  28000200000262       28  2.220446e-16               0   \n",
       "13298   6104686  28000200004222       28  2.220446e-16               0   \n",
       "13299  61518775  28000900002358       28  2.220446e-16               0   \n",
       "\n",
       "       CentreOfPotential_x  CentreOfPotential_y  CentreOfPotential_z  \\\n",
       "0                 8.913222            35.828056            54.839039   \n",
       "1                 6.904262            35.705917            57.397373   \n",
       "2                 8.682913            35.504921            54.217369   \n",
       "3                 8.278317            37.063808            54.914932   \n",
       "4                 8.262937            36.454063            55.901993   \n",
       "...                    ...                  ...                  ...   \n",
       "13295            17.477247            79.643379            54.909241   \n",
       "13296            58.681110            84.345787            24.601583   \n",
       "13297            70.492355             5.389233            91.000664   \n",
       "13298            12.975779            81.673553            52.292992   \n",
       "13299             8.211574            76.852783            48.471100   \n",
       "\n",
       "         Stars_Mass       SF_Mass  ...  NSF_Hydrogen  NSF_Oxygen  \\\n",
       "0      1.538708e+11  0.000000e+00  ...      0.000000    0.000000   \n",
       "1      7.604099e+10  2.281596e+09  ...      0.727174    0.004796   \n",
       "2      1.345128e+11  1.514760e+10  ...      0.696796    0.010628   \n",
       "3      2.232997e+10  2.754609e+09  ...      0.714222    0.007443   \n",
       "4      4.833353e+10  0.000000e+00  ...      0.000000    0.000000   \n",
       "...             ...           ...  ...           ...         ...   \n",
       "13295  2.390242e+09  0.000000e+00  ...      0.000000    0.000000   \n",
       "13296  1.280501e+09  3.723092e+08  ...      0.738459    0.002793   \n",
       "13297  1.631883e+09  4.478066e+08  ...      0.734583    0.003821   \n",
       "13298  2.849959e+09  0.000000e+00  ...      0.000000    0.000000   \n",
       "13299  1.009073e+09  0.000000e+00  ...      0.000000    0.000000   \n",
       "\n",
       "       NSF_Metallicity  StarFormationRate  InitialMassWeightedStellarAge  \\\n",
       "0             0.000000           0.000000                      10.139413   \n",
       "1             0.011342           0.841832                       9.455478   \n",
       "2             0.024796          12.094972                       7.656161   \n",
       "3             0.017283           1.334875                       8.117089   \n",
       "4             0.000000           0.000000                       8.520104   \n",
       "...                ...                ...                            ...   \n",
       "13295         0.000000           0.000000                       8.292501   \n",
       "13296         0.006326           0.140465                       6.375748   \n",
       "13297         0.008329           0.148282                       5.915991   \n",
       "13298         0.000000           0.000000                       9.001393   \n",
       "13299         0.000000           0.000000                      10.406497   \n",
       "\n",
       "       ApertureSize     Mass_Star  SFR_30pkpc  Group_R_Crit200  \\\n",
       "0                30  1.307842e+11    0.000000      1411.312012   \n",
       "1                30  6.641890e+10    0.823222      1411.312012   \n",
       "2                30  1.183275e+11   10.984530      1411.312012   \n",
       "3                30  2.024596e+10    1.322288      1411.312012   \n",
       "4                30  3.944613e+10    0.000000      1411.312012   \n",
       "...             ...           ...         ...              ...   \n",
       "13295            30  2.374284e+09    0.000000        89.337975   \n",
       "13296            30  1.277753e+09    0.140465        92.395576   \n",
       "13297            30  1.589539e+09    0.148282        76.062782   \n",
       "13298            30  2.772405e+09    0.000000        71.829155   \n",
       "13299            30  1.002521e+09    0.000000        39.541702   \n",
       "\n",
       "       Group_M_Crit200  \n",
       "0         3.002119e+14  \n",
       "1         3.002119e+14  \n",
       "2         3.002119e+14  \n",
       "3         3.002119e+14  \n",
       "4         3.002119e+14  \n",
       "...                ...  \n",
       "13295     7.614508e+10  \n",
       "13296     8.424494e+10  \n",
       "13297     4.699878e+10  \n",
       "13298     3.958096e+10  \n",
       "13299     6.601791e+09  \n",
       "\n",
       "[13300 rows x 32 columns]"
      ]
     },
     "execution_count": 15,
     "metadata": {},
     "output_type": "execute_result"
    }
   ],
   "source": [
    "table  = pd.read_csv('Aperturas_RefL0100N1504_snap_28_aperture_30.dat')#,index_col='GalaxyID')\n",
    "table_a= table.copy()\n",
    "table_a"
   ]
  },
  {
   "cell_type": "markdown",
   "metadata": {},
   "source": [
    "**Filtro la galaxia más masiva de la simulación,G_test:**"
   ]
  },
  {
   "cell_type": "code",
   "execution_count": 16,
   "metadata": {},
   "outputs": [],
   "source": [
    "# mask = (table_a['GalaxyID']== 1 )\n",
    "G_test = max(table_a['Stars_Mass'])#[mask])\n",
    "\n",
    "mask = (table_a['Stars_Mass']==G_test)\n",
    "\n",
    "xmax = table_a['CentreOfPotential_x'][mask]\n",
    "ymax = table_a['CentreOfPotential_y'][mask]\n",
    "zmax = table_a['CentreOfPotential_z'][mask]"
   ]
  },
  {
   "cell_type": "code",
   "execution_count": 17,
   "metadata": {},
   "outputs": [
    {
     "name": "stdout",
     "output_type": "stream",
     "text": [
      "3745    5.563246\n",
      "Name: CentreOfPotential_x, dtype: float64\n",
      "3745    75.687302\n",
      "Name: CentreOfPotential_y, dtype: float64\n",
      "3745    47.833393\n",
      "Name: CentreOfPotential_z, dtype: float64\n"
     ]
    }
   ],
   "source": [
    "print(xmax)\n",
    "print(ymax)\n",
    "print(zmax)"
   ]
  },
  {
   "cell_type": "markdown",
   "metadata": {},
   "source": [
    "**Creamos la tabla de muestras B con las condiciones que querramos a partir de la tabla de muestra A**"
   ]
  },
  {
   "cell_type": "code",
   "execution_count": 18,
   "metadata": {},
   "outputs": [
    {
     "data": {
      "text/html": [
       "<div>\n",
       "<style scoped>\n",
       "    .dataframe tbody tr th:only-of-type {\n",
       "        vertical-align: middle;\n",
       "    }\n",
       "\n",
       "    .dataframe tbody tr th {\n",
       "        vertical-align: top;\n",
       "    }\n",
       "\n",
       "    .dataframe thead th {\n",
       "        text-align: right;\n",
       "    }\n",
       "</style>\n",
       "<table border=\"1\" class=\"dataframe\">\n",
       "  <thead>\n",
       "    <tr style=\"text-align: right;\">\n",
       "      <th></th>\n",
       "      <th>GalaxyID</th>\n",
       "      <th>GroupID</th>\n",
       "      <th>SnapNum</th>\n",
       "      <th>Redshift</th>\n",
       "      <th>SubGroupNumber</th>\n",
       "      <th>CentreOfPotential_x</th>\n",
       "      <th>CentreOfPotential_y</th>\n",
       "      <th>CentreOfPotential_z</th>\n",
       "      <th>Stars_Mass</th>\n",
       "      <th>SF_Mass</th>\n",
       "      <th>...</th>\n",
       "      <th>NSF_Hydrogen</th>\n",
       "      <th>NSF_Oxygen</th>\n",
       "      <th>NSF_Metallicity</th>\n",
       "      <th>StarFormationRate</th>\n",
       "      <th>InitialMassWeightedStellarAge</th>\n",
       "      <th>ApertureSize</th>\n",
       "      <th>Mass_Star</th>\n",
       "      <th>SFR_30pkpc</th>\n",
       "      <th>Group_R_Crit200</th>\n",
       "      <th>Group_M_Crit200</th>\n",
       "    </tr>\n",
       "  </thead>\n",
       "  <tbody>\n",
       "    <tr>\n",
       "      <th>25</th>\n",
       "      <td>21573586</td>\n",
       "      <td>28000000000002</td>\n",
       "      <td>28</td>\n",
       "      <td>2.220446e-16</td>\n",
       "      <td>0</td>\n",
       "      <td>8.865488</td>\n",
       "      <td>35.284275</td>\n",
       "      <td>54.431995</td>\n",
       "      <td>1.665042e+12</td>\n",
       "      <td>3.504242e+10</td>\n",
       "      <td>...</td>\n",
       "      <td>0.744971</td>\n",
       "      <td>0.001391</td>\n",
       "      <td>0.003191</td>\n",
       "      <td>18.168200</td>\n",
       "      <td>9.314658</td>\n",
       "      <td>30</td>\n",
       "      <td>2.890146e+11</td>\n",
       "      <td>0.852622</td>\n",
       "      <td>1411.312012</td>\n",
       "      <td>3.002119e+14</td>\n",
       "    </tr>\n",
       "    <tr>\n",
       "      <th>171</th>\n",
       "      <td>18849992</td>\n",
       "      <td>28000000000029</td>\n",
       "      <td>28</td>\n",
       "      <td>2.220446e-16</td>\n",
       "      <td>0</td>\n",
       "      <td>24.749594</td>\n",
       "      <td>66.266762</td>\n",
       "      <td>10.026003</td>\n",
       "      <td>2.682328e+11</td>\n",
       "      <td>3.719723e+09</td>\n",
       "      <td>...</td>\n",
       "      <td>0.745446</td>\n",
       "      <td>0.001309</td>\n",
       "      <td>0.002989</td>\n",
       "      <td>1.505429</td>\n",
       "      <td>10.423353</td>\n",
       "      <td>30</td>\n",
       "      <td>1.618996e+11</td>\n",
       "      <td>0.147896</td>\n",
       "      <td>672.236206</td>\n",
       "      <td>3.244126e+13</td>\n",
       "    </tr>\n",
       "    <tr>\n",
       "      <th>232</th>\n",
       "      <td>16300531</td>\n",
       "      <td>28000000000011</td>\n",
       "      <td>28</td>\n",
       "      <td>2.220446e-16</td>\n",
       "      <td>1</td>\n",
       "      <td>12.573014</td>\n",
       "      <td>77.506760</td>\n",
       "      <td>46.602718</td>\n",
       "      <td>3.224529e+11</td>\n",
       "      <td>1.904817e+09</td>\n",
       "      <td>...</td>\n",
       "      <td>0.701772</td>\n",
       "      <td>0.009413</td>\n",
       "      <td>0.022564</td>\n",
       "      <td>1.814224</td>\n",
       "      <td>9.213924</td>\n",
       "      <td>30</td>\n",
       "      <td>2.217209e+11</td>\n",
       "      <td>1.589004</td>\n",
       "      <td>901.221375</td>\n",
       "      <td>7.816545e+13</td>\n",
       "    </tr>\n",
       "    <tr>\n",
       "      <th>262</th>\n",
       "      <td>19927838</td>\n",
       "      <td>28000000000071</td>\n",
       "      <td>28</td>\n",
       "      <td>2.220446e-16</td>\n",
       "      <td>0</td>\n",
       "      <td>50.413116</td>\n",
       "      <td>86.991829</td>\n",
       "      <td>12.512447</td>\n",
       "      <td>2.238078e+11</td>\n",
       "      <td>1.275148e+09</td>\n",
       "      <td>...</td>\n",
       "      <td>0.744718</td>\n",
       "      <td>0.001437</td>\n",
       "      <td>0.003302</td>\n",
       "      <td>0.588558</td>\n",
       "      <td>10.018118</td>\n",
       "      <td>30</td>\n",
       "      <td>1.428564e+11</td>\n",
       "      <td>0.271839</td>\n",
       "      <td>599.594971</td>\n",
       "      <td>2.302005e+13</td>\n",
       "    </tr>\n",
       "    <tr>\n",
       "      <th>282</th>\n",
       "      <td>20324216</td>\n",
       "      <td>28000000000089</td>\n",
       "      <td>28</td>\n",
       "      <td>2.220446e-16</td>\n",
       "      <td>0</td>\n",
       "      <td>75.086815</td>\n",
       "      <td>23.149065</td>\n",
       "      <td>30.368618</td>\n",
       "      <td>1.988487e+11</td>\n",
       "      <td>7.724971e+09</td>\n",
       "      <td>...</td>\n",
       "      <td>0.744317</td>\n",
       "      <td>0.001536</td>\n",
       "      <td>0.003487</td>\n",
       "      <td>5.653688</td>\n",
       "      <td>9.936666</td>\n",
       "      <td>30</td>\n",
       "      <td>1.476648e+11</td>\n",
       "      <td>5.411038</td>\n",
       "      <td>531.989746</td>\n",
       "      <td>1.607768e+13</td>\n",
       "    </tr>\n",
       "    <tr>\n",
       "      <th>...</th>\n",
       "      <td>...</td>\n",
       "      <td>...</td>\n",
       "      <td>...</td>\n",
       "      <td>...</td>\n",
       "      <td>...</td>\n",
       "      <td>...</td>\n",
       "      <td>...</td>\n",
       "      <td>...</td>\n",
       "      <td>...</td>\n",
       "      <td>...</td>\n",
       "      <td>...</td>\n",
       "      <td>...</td>\n",
       "      <td>...</td>\n",
       "      <td>...</td>\n",
       "      <td>...</td>\n",
       "      <td>...</td>\n",
       "      <td>...</td>\n",
       "      <td>...</td>\n",
       "      <td>...</td>\n",
       "      <td>...</td>\n",
       "      <td>...</td>\n",
       "    </tr>\n",
       "    <tr>\n",
       "      <th>10328</th>\n",
       "      <td>20504298</td>\n",
       "      <td>28000000000103</td>\n",
       "      <td>28</td>\n",
       "      <td>2.220446e-16</td>\n",
       "      <td>0</td>\n",
       "      <td>60.663757</td>\n",
       "      <td>29.979982</td>\n",
       "      <td>22.025434</td>\n",
       "      <td>2.049879e+11</td>\n",
       "      <td>9.759225e+09</td>\n",
       "      <td>...</td>\n",
       "      <td>0.743069</td>\n",
       "      <td>0.001778</td>\n",
       "      <td>0.004074</td>\n",
       "      <td>5.490111</td>\n",
       "      <td>8.865683</td>\n",
       "      <td>30</td>\n",
       "      <td>1.175951e+11</td>\n",
       "      <td>5.225101</td>\n",
       "      <td>540.061340</td>\n",
       "      <td>1.682116e+13</td>\n",
       "    </tr>\n",
       "    <tr>\n",
       "      <th>10337</th>\n",
       "      <td>18253968</td>\n",
       "      <td>28000000000121</td>\n",
       "      <td>28</td>\n",
       "      <td>2.220446e-16</td>\n",
       "      <td>0</td>\n",
       "      <td>82.757988</td>\n",
       "      <td>33.273685</td>\n",
       "      <td>9.216462</td>\n",
       "      <td>2.450569e+11</td>\n",
       "      <td>9.419394e+09</td>\n",
       "      <td>...</td>\n",
       "      <td>0.744330</td>\n",
       "      <td>0.001495</td>\n",
       "      <td>0.003471</td>\n",
       "      <td>3.237528</td>\n",
       "      <td>8.847554</td>\n",
       "      <td>30</td>\n",
       "      <td>1.405900e+11</td>\n",
       "      <td>0.000000</td>\n",
       "      <td>481.691284</td>\n",
       "      <td>1.193520e+13</td>\n",
       "    </tr>\n",
       "    <tr>\n",
       "      <th>12912</th>\n",
       "      <td>20099625</td>\n",
       "      <td>28000000000009</td>\n",
       "      <td>28</td>\n",
       "      <td>2.220446e-16</td>\n",
       "      <td>0</td>\n",
       "      <td>87.671326</td>\n",
       "      <td>50.578793</td>\n",
       "      <td>4.692914</td>\n",
       "      <td>6.971925e+11</td>\n",
       "      <td>1.055631e+10</td>\n",
       "      <td>...</td>\n",
       "      <td>0.744416</td>\n",
       "      <td>0.001506</td>\n",
       "      <td>0.003449</td>\n",
       "      <td>7.157520</td>\n",
       "      <td>9.476007</td>\n",
       "      <td>30</td>\n",
       "      <td>3.049994e+11</td>\n",
       "      <td>1.840386</td>\n",
       "      <td>964.668701</td>\n",
       "      <td>9.586163e+13</td>\n",
       "    </tr>\n",
       "    <tr>\n",
       "      <th>12949</th>\n",
       "      <td>19595681</td>\n",
       "      <td>28000000000060</td>\n",
       "      <td>28</td>\n",
       "      <td>2.220446e-16</td>\n",
       "      <td>0</td>\n",
       "      <td>70.138268</td>\n",
       "      <td>56.923412</td>\n",
       "      <td>71.687996</td>\n",
       "      <td>3.331239e+11</td>\n",
       "      <td>6.189937e+09</td>\n",
       "      <td>...</td>\n",
       "      <td>0.743517</td>\n",
       "      <td>0.001653</td>\n",
       "      <td>0.003848</td>\n",
       "      <td>3.946349</td>\n",
       "      <td>9.631774</td>\n",
       "      <td>30</td>\n",
       "      <td>1.936739e+11</td>\n",
       "      <td>2.724785</td>\n",
       "      <td>622.656006</td>\n",
       "      <td>2.577956e+13</td>\n",
       "    </tr>\n",
       "    <tr>\n",
       "      <th>12956</th>\n",
       "      <td>17891603</td>\n",
       "      <td>28000000000074</td>\n",
       "      <td>28</td>\n",
       "      <td>2.220446e-16</td>\n",
       "      <td>0</td>\n",
       "      <td>99.947517</td>\n",
       "      <td>72.526550</td>\n",
       "      <td>48.809879</td>\n",
       "      <td>1.930203e+11</td>\n",
       "      <td>8.336077e+09</td>\n",
       "      <td>...</td>\n",
       "      <td>0.744066</td>\n",
       "      <td>0.001580</td>\n",
       "      <td>0.003617</td>\n",
       "      <td>4.712289</td>\n",
       "      <td>9.698195</td>\n",
       "      <td>30</td>\n",
       "      <td>1.363424e+11</td>\n",
       "      <td>4.673118</td>\n",
       "      <td>505.076813</td>\n",
       "      <td>1.375906e+13</td>\n",
       "    </tr>\n",
       "  </tbody>\n",
       "</table>\n",
       "<p>108 rows × 32 columns</p>\n",
       "</div>"
      ],
      "text/plain": [
       "       GalaxyID         GroupID  SnapNum      Redshift  SubGroupNumber  \\\n",
       "25     21573586  28000000000002       28  2.220446e-16               0   \n",
       "171    18849992  28000000000029       28  2.220446e-16               0   \n",
       "232    16300531  28000000000011       28  2.220446e-16               1   \n",
       "262    19927838  28000000000071       28  2.220446e-16               0   \n",
       "282    20324216  28000000000089       28  2.220446e-16               0   \n",
       "...         ...             ...      ...           ...             ...   \n",
       "10328  20504298  28000000000103       28  2.220446e-16               0   \n",
       "10337  18253968  28000000000121       28  2.220446e-16               0   \n",
       "12912  20099625  28000000000009       28  2.220446e-16               0   \n",
       "12949  19595681  28000000000060       28  2.220446e-16               0   \n",
       "12956  17891603  28000000000074       28  2.220446e-16               0   \n",
       "\n",
       "       CentreOfPotential_x  CentreOfPotential_y  CentreOfPotential_z  \\\n",
       "25                8.865488            35.284275            54.431995   \n",
       "171              24.749594            66.266762            10.026003   \n",
       "232              12.573014            77.506760            46.602718   \n",
       "262              50.413116            86.991829            12.512447   \n",
       "282              75.086815            23.149065            30.368618   \n",
       "...                    ...                  ...                  ...   \n",
       "10328            60.663757            29.979982            22.025434   \n",
       "10337            82.757988            33.273685             9.216462   \n",
       "12912            87.671326            50.578793             4.692914   \n",
       "12949            70.138268            56.923412            71.687996   \n",
       "12956            99.947517            72.526550            48.809879   \n",
       "\n",
       "         Stars_Mass       SF_Mass  ...  NSF_Hydrogen  NSF_Oxygen  \\\n",
       "25     1.665042e+12  3.504242e+10  ...      0.744971    0.001391   \n",
       "171    2.682328e+11  3.719723e+09  ...      0.745446    0.001309   \n",
       "232    3.224529e+11  1.904817e+09  ...      0.701772    0.009413   \n",
       "262    2.238078e+11  1.275148e+09  ...      0.744718    0.001437   \n",
       "282    1.988487e+11  7.724971e+09  ...      0.744317    0.001536   \n",
       "...             ...           ...  ...           ...         ...   \n",
       "10328  2.049879e+11  9.759225e+09  ...      0.743069    0.001778   \n",
       "10337  2.450569e+11  9.419394e+09  ...      0.744330    0.001495   \n",
       "12912  6.971925e+11  1.055631e+10  ...      0.744416    0.001506   \n",
       "12949  3.331239e+11  6.189937e+09  ...      0.743517    0.001653   \n",
       "12956  1.930203e+11  8.336077e+09  ...      0.744066    0.001580   \n",
       "\n",
       "       NSF_Metallicity  StarFormationRate  InitialMassWeightedStellarAge  \\\n",
       "25            0.003191          18.168200                       9.314658   \n",
       "171           0.002989           1.505429                      10.423353   \n",
       "232           0.022564           1.814224                       9.213924   \n",
       "262           0.003302           0.588558                      10.018118   \n",
       "282           0.003487           5.653688                       9.936666   \n",
       "...                ...                ...                            ...   \n",
       "10328         0.004074           5.490111                       8.865683   \n",
       "10337         0.003471           3.237528                       8.847554   \n",
       "12912         0.003449           7.157520                       9.476007   \n",
       "12949         0.003848           3.946349                       9.631774   \n",
       "12956         0.003617           4.712289                       9.698195   \n",
       "\n",
       "       ApertureSize     Mass_Star  SFR_30pkpc  Group_R_Crit200  \\\n",
       "25               30  2.890146e+11    0.852622      1411.312012   \n",
       "171              30  1.618996e+11    0.147896       672.236206   \n",
       "232              30  2.217209e+11    1.589004       901.221375   \n",
       "262              30  1.428564e+11    0.271839       599.594971   \n",
       "282              30  1.476648e+11    5.411038       531.989746   \n",
       "...             ...           ...         ...              ...   \n",
       "10328            30  1.175951e+11    5.225101       540.061340   \n",
       "10337            30  1.405900e+11    0.000000       481.691284   \n",
       "12912            30  3.049994e+11    1.840386       964.668701   \n",
       "12949            30  1.936739e+11    2.724785       622.656006   \n",
       "12956            30  1.363424e+11    4.673118       505.076813   \n",
       "\n",
       "       Group_M_Crit200  \n",
       "25        3.002119e+14  \n",
       "171       3.244126e+13  \n",
       "232       7.816545e+13  \n",
       "262       2.302005e+13  \n",
       "282       1.607768e+13  \n",
       "...                ...  \n",
       "10328     1.682116e+13  \n",
       "10337     1.193520e+13  \n",
       "12912     9.586163e+13  \n",
       "12949     2.577956e+13  \n",
       "12956     1.375906e+13  \n",
       "\n",
       "[108 rows x 32 columns]"
      ]
     },
     "execution_count": 18,
     "metadata": {},
     "output_type": "execute_result"
    }
   ],
   "source": [
    "table_b = table_a[(table_a['Stars_Mass']>=1e9)&((table_a['Stars_Mass']/G_test)>0.1)&((table_a['Stars_Mass']/G_test)<10)].copy()\n",
    "table_b"
   ]
  },
  {
   "cell_type": "markdown",
   "metadata": {},
   "source": [
    "**A la tabla de muestra B agregamos una columna que contenga la información de la distancia que tiene la galaxia indicada con\n",
    "la más masiva de la simulación**"
   ]
  },
  {
   "cell_type": "code",
   "execution_count": 19,
   "metadata": {},
   "outputs": [
    {
     "data": {
      "text/html": [
       "<div>\n",
       "<style scoped>\n",
       "    .dataframe tbody tr th:only-of-type {\n",
       "        vertical-align: middle;\n",
       "    }\n",
       "\n",
       "    .dataframe tbody tr th {\n",
       "        vertical-align: top;\n",
       "    }\n",
       "\n",
       "    .dataframe thead th {\n",
       "        text-align: right;\n",
       "    }\n",
       "</style>\n",
       "<table border=\"1\" class=\"dataframe\">\n",
       "  <thead>\n",
       "    <tr style=\"text-align: right;\">\n",
       "      <th></th>\n",
       "      <th>GalaxyID</th>\n",
       "      <th>GroupID</th>\n",
       "      <th>SnapNum</th>\n",
       "      <th>Redshift</th>\n",
       "      <th>SubGroupNumber</th>\n",
       "      <th>CentreOfPotential_x</th>\n",
       "      <th>CentreOfPotential_y</th>\n",
       "      <th>CentreOfPotential_z</th>\n",
       "      <th>Stars_Mass</th>\n",
       "      <th>SF_Mass</th>\n",
       "      <th>...</th>\n",
       "      <th>NSF_Oxygen</th>\n",
       "      <th>NSF_Metallicity</th>\n",
       "      <th>StarFormationRate</th>\n",
       "      <th>InitialMassWeightedStellarAge</th>\n",
       "      <th>ApertureSize</th>\n",
       "      <th>Mass_Star</th>\n",
       "      <th>SFR_30pkpc</th>\n",
       "      <th>Group_R_Crit200</th>\n",
       "      <th>Group_M_Crit200</th>\n",
       "      <th>Distancias_test</th>\n",
       "    </tr>\n",
       "  </thead>\n",
       "  <tbody>\n",
       "    <tr>\n",
       "      <th>25</th>\n",
       "      <td>21573586</td>\n",
       "      <td>28000000000002</td>\n",
       "      <td>28</td>\n",
       "      <td>2.220446e-16</td>\n",
       "      <td>0</td>\n",
       "      <td>8.865488</td>\n",
       "      <td>35.284275</td>\n",
       "      <td>54.431995</td>\n",
       "      <td>1.665042e+12</td>\n",
       "      <td>3.504242e+10</td>\n",
       "      <td>...</td>\n",
       "      <td>0.001391</td>\n",
       "      <td>0.003191</td>\n",
       "      <td>18.168200</td>\n",
       "      <td>9.314658</td>\n",
       "      <td>30</td>\n",
       "      <td>2.890146e+11</td>\n",
       "      <td>0.852622</td>\n",
       "      <td>1411.312012</td>\n",
       "      <td>3.002119e+14</td>\n",
       "      <td>41.071291</td>\n",
       "    </tr>\n",
       "    <tr>\n",
       "      <th>171</th>\n",
       "      <td>18849992</td>\n",
       "      <td>28000000000029</td>\n",
       "      <td>28</td>\n",
       "      <td>2.220446e-16</td>\n",
       "      <td>0</td>\n",
       "      <td>24.749594</td>\n",
       "      <td>66.266762</td>\n",
       "      <td>10.026003</td>\n",
       "      <td>2.682328e+11</td>\n",
       "      <td>3.719723e+09</td>\n",
       "      <td>...</td>\n",
       "      <td>0.001309</td>\n",
       "      <td>0.002989</td>\n",
       "      <td>1.505429</td>\n",
       "      <td>10.423353</td>\n",
       "      <td>30</td>\n",
       "      <td>1.618996e+11</td>\n",
       "      <td>0.147896</td>\n",
       "      <td>672.236206</td>\n",
       "      <td>3.244126e+13</td>\n",
       "      <td>43.431109</td>\n",
       "    </tr>\n",
       "    <tr>\n",
       "      <th>232</th>\n",
       "      <td>16300531</td>\n",
       "      <td>28000000000011</td>\n",
       "      <td>28</td>\n",
       "      <td>2.220446e-16</td>\n",
       "      <td>1</td>\n",
       "      <td>12.573014</td>\n",
       "      <td>77.506760</td>\n",
       "      <td>46.602718</td>\n",
       "      <td>3.224529e+11</td>\n",
       "      <td>1.904817e+09</td>\n",
       "      <td>...</td>\n",
       "      <td>0.009413</td>\n",
       "      <td>0.022564</td>\n",
       "      <td>1.814224</td>\n",
       "      <td>9.213924</td>\n",
       "      <td>30</td>\n",
       "      <td>2.217209e+11</td>\n",
       "      <td>1.589004</td>\n",
       "      <td>901.221375</td>\n",
       "      <td>7.816545e+13</td>\n",
       "      <td>7.345872</td>\n",
       "    </tr>\n",
       "    <tr>\n",
       "      <th>262</th>\n",
       "      <td>19927838</td>\n",
       "      <td>28000000000071</td>\n",
       "      <td>28</td>\n",
       "      <td>2.220446e-16</td>\n",
       "      <td>0</td>\n",
       "      <td>50.413116</td>\n",
       "      <td>86.991829</td>\n",
       "      <td>12.512447</td>\n",
       "      <td>2.238078e+11</td>\n",
       "      <td>1.275148e+09</td>\n",
       "      <td>...</td>\n",
       "      <td>0.001437</td>\n",
       "      <td>0.003302</td>\n",
       "      <td>0.588558</td>\n",
       "      <td>10.018118</td>\n",
       "      <td>30</td>\n",
       "      <td>1.428564e+11</td>\n",
       "      <td>0.271839</td>\n",
       "      <td>599.594971</td>\n",
       "      <td>2.302005e+13</td>\n",
       "      <td>58.196842</td>\n",
       "    </tr>\n",
       "    <tr>\n",
       "      <th>282</th>\n",
       "      <td>20324216</td>\n",
       "      <td>28000000000089</td>\n",
       "      <td>28</td>\n",
       "      <td>2.220446e-16</td>\n",
       "      <td>0</td>\n",
       "      <td>75.086815</td>\n",
       "      <td>23.149065</td>\n",
       "      <td>30.368618</td>\n",
       "      <td>1.988487e+11</td>\n",
       "      <td>7.724971e+09</td>\n",
       "      <td>...</td>\n",
       "      <td>0.001536</td>\n",
       "      <td>0.003487</td>\n",
       "      <td>5.653688</td>\n",
       "      <td>9.936666</td>\n",
       "      <td>30</td>\n",
       "      <td>1.476648e+11</td>\n",
       "      <td>5.411038</td>\n",
       "      <td>531.989746</td>\n",
       "      <td>1.607768e+13</td>\n",
       "      <td>88.875257</td>\n",
       "    </tr>\n",
       "    <tr>\n",
       "      <th>...</th>\n",
       "      <td>...</td>\n",
       "      <td>...</td>\n",
       "      <td>...</td>\n",
       "      <td>...</td>\n",
       "      <td>...</td>\n",
       "      <td>...</td>\n",
       "      <td>...</td>\n",
       "      <td>...</td>\n",
       "      <td>...</td>\n",
       "      <td>...</td>\n",
       "      <td>...</td>\n",
       "      <td>...</td>\n",
       "      <td>...</td>\n",
       "      <td>...</td>\n",
       "      <td>...</td>\n",
       "      <td>...</td>\n",
       "      <td>...</td>\n",
       "      <td>...</td>\n",
       "      <td>...</td>\n",
       "      <td>...</td>\n",
       "      <td>...</td>\n",
       "    </tr>\n",
       "    <tr>\n",
       "      <th>10328</th>\n",
       "      <td>20504298</td>\n",
       "      <td>28000000000103</td>\n",
       "      <td>28</td>\n",
       "      <td>2.220446e-16</td>\n",
       "      <td>0</td>\n",
       "      <td>60.663757</td>\n",
       "      <td>29.979982</td>\n",
       "      <td>22.025434</td>\n",
       "      <td>2.049879e+11</td>\n",
       "      <td>9.759225e+09</td>\n",
       "      <td>...</td>\n",
       "      <td>0.001778</td>\n",
       "      <td>0.004074</td>\n",
       "      <td>5.490111</td>\n",
       "      <td>8.865683</td>\n",
       "      <td>30</td>\n",
       "      <td>1.175951e+11</td>\n",
       "      <td>5.225101</td>\n",
       "      <td>540.061340</td>\n",
       "      <td>1.682116e+13</td>\n",
       "      <td>76.100434</td>\n",
       "    </tr>\n",
       "    <tr>\n",
       "      <th>10337</th>\n",
       "      <td>18253968</td>\n",
       "      <td>28000000000121</td>\n",
       "      <td>28</td>\n",
       "      <td>2.220446e-16</td>\n",
       "      <td>0</td>\n",
       "      <td>82.757988</td>\n",
       "      <td>33.273685</td>\n",
       "      <td>9.216462</td>\n",
       "      <td>2.450569e+11</td>\n",
       "      <td>9.419394e+09</td>\n",
       "      <td>...</td>\n",
       "      <td>0.001495</td>\n",
       "      <td>0.003471</td>\n",
       "      <td>3.237528</td>\n",
       "      <td>8.847554</td>\n",
       "      <td>30</td>\n",
       "      <td>1.405900e+11</td>\n",
       "      <td>0.000000</td>\n",
       "      <td>481.691284</td>\n",
       "      <td>1.193520e+13</td>\n",
       "      <td>96.172815</td>\n",
       "    </tr>\n",
       "    <tr>\n",
       "      <th>12912</th>\n",
       "      <td>20099625</td>\n",
       "      <td>28000000000009</td>\n",
       "      <td>28</td>\n",
       "      <td>2.220446e-16</td>\n",
       "      <td>0</td>\n",
       "      <td>87.671326</td>\n",
       "      <td>50.578793</td>\n",
       "      <td>4.692914</td>\n",
       "      <td>6.971925e+11</td>\n",
       "      <td>1.055631e+10</td>\n",
       "      <td>...</td>\n",
       "      <td>0.001506</td>\n",
       "      <td>0.003449</td>\n",
       "      <td>7.157520</td>\n",
       "      <td>9.476007</td>\n",
       "      <td>30</td>\n",
       "      <td>3.049994e+11</td>\n",
       "      <td>1.840386</td>\n",
       "      <td>964.668701</td>\n",
       "      <td>9.586163e+13</td>\n",
       "      <td>96.089931</td>\n",
       "    </tr>\n",
       "    <tr>\n",
       "      <th>12949</th>\n",
       "      <td>19595681</td>\n",
       "      <td>28000000000060</td>\n",
       "      <td>28</td>\n",
       "      <td>2.220446e-16</td>\n",
       "      <td>0</td>\n",
       "      <td>70.138268</td>\n",
       "      <td>56.923412</td>\n",
       "      <td>71.687996</td>\n",
       "      <td>3.331239e+11</td>\n",
       "      <td>6.189937e+09</td>\n",
       "      <td>...</td>\n",
       "      <td>0.001653</td>\n",
       "      <td>0.003848</td>\n",
       "      <td>3.946349</td>\n",
       "      <td>9.631774</td>\n",
       "      <td>30</td>\n",
       "      <td>1.936739e+11</td>\n",
       "      <td>2.724785</td>\n",
       "      <td>622.656006</td>\n",
       "      <td>2.577956e+13</td>\n",
       "      <td>71.351657</td>\n",
       "    </tr>\n",
       "    <tr>\n",
       "      <th>12956</th>\n",
       "      <td>17891603</td>\n",
       "      <td>28000000000074</td>\n",
       "      <td>28</td>\n",
       "      <td>2.220446e-16</td>\n",
       "      <td>0</td>\n",
       "      <td>99.947517</td>\n",
       "      <td>72.526550</td>\n",
       "      <td>48.809879</td>\n",
       "      <td>1.930203e+11</td>\n",
       "      <td>8.336077e+09</td>\n",
       "      <td>...</td>\n",
       "      <td>0.001580</td>\n",
       "      <td>0.003617</td>\n",
       "      <td>4.712289</td>\n",
       "      <td>9.698195</td>\n",
       "      <td>30</td>\n",
       "      <td>1.363424e+11</td>\n",
       "      <td>4.673118</td>\n",
       "      <td>505.076813</td>\n",
       "      <td>1.375906e+13</td>\n",
       "      <td>94.442228</td>\n",
       "    </tr>\n",
       "  </tbody>\n",
       "</table>\n",
       "<p>108 rows × 33 columns</p>\n",
       "</div>"
      ],
      "text/plain": [
       "       GalaxyID         GroupID  SnapNum      Redshift  SubGroupNumber  \\\n",
       "25     21573586  28000000000002       28  2.220446e-16               0   \n",
       "171    18849992  28000000000029       28  2.220446e-16               0   \n",
       "232    16300531  28000000000011       28  2.220446e-16               1   \n",
       "262    19927838  28000000000071       28  2.220446e-16               0   \n",
       "282    20324216  28000000000089       28  2.220446e-16               0   \n",
       "...         ...             ...      ...           ...             ...   \n",
       "10328  20504298  28000000000103       28  2.220446e-16               0   \n",
       "10337  18253968  28000000000121       28  2.220446e-16               0   \n",
       "12912  20099625  28000000000009       28  2.220446e-16               0   \n",
       "12949  19595681  28000000000060       28  2.220446e-16               0   \n",
       "12956  17891603  28000000000074       28  2.220446e-16               0   \n",
       "\n",
       "       CentreOfPotential_x  CentreOfPotential_y  CentreOfPotential_z  \\\n",
       "25                8.865488            35.284275            54.431995   \n",
       "171              24.749594            66.266762            10.026003   \n",
       "232              12.573014            77.506760            46.602718   \n",
       "262              50.413116            86.991829            12.512447   \n",
       "282              75.086815            23.149065            30.368618   \n",
       "...                    ...                  ...                  ...   \n",
       "10328            60.663757            29.979982            22.025434   \n",
       "10337            82.757988            33.273685             9.216462   \n",
       "12912            87.671326            50.578793             4.692914   \n",
       "12949            70.138268            56.923412            71.687996   \n",
       "12956            99.947517            72.526550            48.809879   \n",
       "\n",
       "         Stars_Mass       SF_Mass  ...  NSF_Oxygen  NSF_Metallicity  \\\n",
       "25     1.665042e+12  3.504242e+10  ...    0.001391         0.003191   \n",
       "171    2.682328e+11  3.719723e+09  ...    0.001309         0.002989   \n",
       "232    3.224529e+11  1.904817e+09  ...    0.009413         0.022564   \n",
       "262    2.238078e+11  1.275148e+09  ...    0.001437         0.003302   \n",
       "282    1.988487e+11  7.724971e+09  ...    0.001536         0.003487   \n",
       "...             ...           ...  ...         ...              ...   \n",
       "10328  2.049879e+11  9.759225e+09  ...    0.001778         0.004074   \n",
       "10337  2.450569e+11  9.419394e+09  ...    0.001495         0.003471   \n",
       "12912  6.971925e+11  1.055631e+10  ...    0.001506         0.003449   \n",
       "12949  3.331239e+11  6.189937e+09  ...    0.001653         0.003848   \n",
       "12956  1.930203e+11  8.336077e+09  ...    0.001580         0.003617   \n",
       "\n",
       "       StarFormationRate  InitialMassWeightedStellarAge  ApertureSize  \\\n",
       "25             18.168200                       9.314658            30   \n",
       "171             1.505429                      10.423353            30   \n",
       "232             1.814224                       9.213924            30   \n",
       "262             0.588558                      10.018118            30   \n",
       "282             5.653688                       9.936666            30   \n",
       "...                  ...                            ...           ...   \n",
       "10328           5.490111                       8.865683            30   \n",
       "10337           3.237528                       8.847554            30   \n",
       "12912           7.157520                       9.476007            30   \n",
       "12949           3.946349                       9.631774            30   \n",
       "12956           4.712289                       9.698195            30   \n",
       "\n",
       "          Mass_Star  SFR_30pkpc  Group_R_Crit200  Group_M_Crit200  \\\n",
       "25     2.890146e+11    0.852622      1411.312012     3.002119e+14   \n",
       "171    1.618996e+11    0.147896       672.236206     3.244126e+13   \n",
       "232    2.217209e+11    1.589004       901.221375     7.816545e+13   \n",
       "262    1.428564e+11    0.271839       599.594971     2.302005e+13   \n",
       "282    1.476648e+11    5.411038       531.989746     1.607768e+13   \n",
       "...             ...         ...              ...              ...   \n",
       "10328  1.175951e+11    5.225101       540.061340     1.682116e+13   \n",
       "10337  1.405900e+11    0.000000       481.691284     1.193520e+13   \n",
       "12912  3.049994e+11    1.840386       964.668701     9.586163e+13   \n",
       "12949  1.936739e+11    2.724785       622.656006     2.577956e+13   \n",
       "12956  1.363424e+11    4.673118       505.076813     1.375906e+13   \n",
       "\n",
       "       Distancias_test  \n",
       "25           41.071291  \n",
       "171          43.431109  \n",
       "232           7.345872  \n",
       "262          58.196842  \n",
       "282          88.875257  \n",
       "...                ...  \n",
       "10328        76.100434  \n",
       "10337        96.172815  \n",
       "12912        96.089931  \n",
       "12949        71.351657  \n",
       "12956        94.442228  \n",
       "\n",
       "[108 rows x 33 columns]"
      ]
     },
     "execution_count": 19,
     "metadata": {},
     "output_type": "execute_result"
    }
   ],
   "source": [
    "table_b['Distancias_test'] = np.sqrt( (table_b['CentreOfPotential_x']-float(xmax))**2\n",
    "                                     +(table_b['CentreOfPotential_y']-float(ymax))**2\n",
    "                                     +(table_b['CentreOfPotential_z']-float(zmax))**2)\n",
    "\n",
    "table_b"
   ]
  },
  {
   "cell_type": "markdown",
   "metadata": {},
   "source": [
    "**Calculamos el parámetro número de vecinas de la galáxia G_test a una distancia menos a 2Mpc(N_2) para la muestra B:**"
   ]
  },
  {
   "cell_type": "code",
   "execution_count": 20,
   "metadata": {},
   "outputs": [
    {
     "data": {
      "text/html": [
       "<div>\n",
       "<style scoped>\n",
       "    .dataframe tbody tr th:only-of-type {\n",
       "        vertical-align: middle;\n",
       "    }\n",
       "\n",
       "    .dataframe tbody tr th {\n",
       "        vertical-align: top;\n",
       "    }\n",
       "\n",
       "    .dataframe thead th {\n",
       "        text-align: right;\n",
       "    }\n",
       "</style>\n",
       "<table border=\"1\" class=\"dataframe\">\n",
       "  <thead>\n",
       "    <tr style=\"text-align: right;\">\n",
       "      <th></th>\n",
       "      <th>GalaxyID</th>\n",
       "      <th>GroupID</th>\n",
       "      <th>SnapNum</th>\n",
       "      <th>Redshift</th>\n",
       "      <th>SubGroupNumber</th>\n",
       "      <th>CentreOfPotential_x</th>\n",
       "      <th>CentreOfPotential_y</th>\n",
       "      <th>CentreOfPotential_z</th>\n",
       "      <th>Stars_Mass</th>\n",
       "      <th>SF_Mass</th>\n",
       "      <th>...</th>\n",
       "      <th>NSF_Oxygen</th>\n",
       "      <th>NSF_Metallicity</th>\n",
       "      <th>StarFormationRate</th>\n",
       "      <th>InitialMassWeightedStellarAge</th>\n",
       "      <th>ApertureSize</th>\n",
       "      <th>Mass_Star</th>\n",
       "      <th>SFR_30pkpc</th>\n",
       "      <th>Group_R_Crit200</th>\n",
       "      <th>Group_M_Crit200</th>\n",
       "      <th>Distancias_test</th>\n",
       "    </tr>\n",
       "  </thead>\n",
       "  <tbody>\n",
       "    <tr>\n",
       "      <th>3745</th>\n",
       "      <td>21379521</td>\n",
       "      <td>28000000000001</td>\n",
       "      <td>28</td>\n",
       "      <td>2.220446e-16</td>\n",
       "      <td>0</td>\n",
       "      <td>5.563246</td>\n",
       "      <td>75.687302</td>\n",
       "      <td>47.833393</td>\n",
       "      <td>1.905425e+12</td>\n",
       "      <td>5.368436e+10</td>\n",
       "      <td>...</td>\n",
       "      <td>0.001306</td>\n",
       "      <td>0.002984</td>\n",
       "      <td>31.461987</td>\n",
       "      <td>9.558145</td>\n",
       "      <td>30</td>\n",
       "      <td>3.533667e+11</td>\n",
       "      <td>6.078175</td>\n",
       "      <td>1518.191895</td>\n",
       "      <td>3.736875e+14</td>\n",
       "      <td>0.000000</td>\n",
       "    </tr>\n",
       "    <tr>\n",
       "      <th>3124</th>\n",
       "      <td>8166017</td>\n",
       "      <td>28000000000001</td>\n",
       "      <td>28</td>\n",
       "      <td>2.220446e-16</td>\n",
       "      <td>4</td>\n",
       "      <td>5.338991</td>\n",
       "      <td>75.401672</td>\n",
       "      <td>47.782757</td>\n",
       "      <td>1.913326e+11</td>\n",
       "      <td>0.000000e+00</td>\n",
       "      <td>...</td>\n",
       "      <td>0.000000</td>\n",
       "      <td>0.000000</td>\n",
       "      <td>0.000000</td>\n",
       "      <td>10.306704</td>\n",
       "      <td>30</td>\n",
       "      <td>1.699581e+11</td>\n",
       "      <td>0.000000</td>\n",
       "      <td>1518.191895</td>\n",
       "      <td>3.736875e+14</td>\n",
       "      <td>0.366659</td>\n",
       "    </tr>\n",
       "    <tr>\n",
       "      <th>4915</th>\n",
       "      <td>13965936</td>\n",
       "      <td>28000000000001</td>\n",
       "      <td>28</td>\n",
       "      <td>2.220446e-16</td>\n",
       "      <td>3</td>\n",
       "      <td>5.821166</td>\n",
       "      <td>75.176056</td>\n",
       "      <td>48.301750</td>\n",
       "      <td>3.861892e+11</td>\n",
       "      <td>3.471855e+09</td>\n",
       "      <td>...</td>\n",
       "      <td>0.015506</td>\n",
       "      <td>0.035486</td>\n",
       "      <td>1.822888</td>\n",
       "      <td>9.752939</td>\n",
       "      <td>30</td>\n",
       "      <td>2.432346e+11</td>\n",
       "      <td>0.124453</td>\n",
       "      <td>1518.191895</td>\n",
       "      <td>3.736875e+14</td>\n",
       "      <td>0.739766</td>\n",
       "    </tr>\n",
       "  </tbody>\n",
       "</table>\n",
       "<p>3 rows × 33 columns</p>\n",
       "</div>"
      ],
      "text/plain": [
       "      GalaxyID         GroupID  SnapNum      Redshift  SubGroupNumber  \\\n",
       "3745  21379521  28000000000001       28  2.220446e-16               0   \n",
       "3124   8166017  28000000000001       28  2.220446e-16               4   \n",
       "4915  13965936  28000000000001       28  2.220446e-16               3   \n",
       "\n",
       "      CentreOfPotential_x  CentreOfPotential_y  CentreOfPotential_z  \\\n",
       "3745             5.563246            75.687302            47.833393   \n",
       "3124             5.338991            75.401672            47.782757   \n",
       "4915             5.821166            75.176056            48.301750   \n",
       "\n",
       "        Stars_Mass       SF_Mass  ...  NSF_Oxygen  NSF_Metallicity  \\\n",
       "3745  1.905425e+12  5.368436e+10  ...    0.001306         0.002984   \n",
       "3124  1.913326e+11  0.000000e+00  ...    0.000000         0.000000   \n",
       "4915  3.861892e+11  3.471855e+09  ...    0.015506         0.035486   \n",
       "\n",
       "      StarFormationRate  InitialMassWeightedStellarAge  ApertureSize  \\\n",
       "3745          31.461987                       9.558145            30   \n",
       "3124           0.000000                      10.306704            30   \n",
       "4915           1.822888                       9.752939            30   \n",
       "\n",
       "         Mass_Star  SFR_30pkpc  Group_R_Crit200  Group_M_Crit200  \\\n",
       "3745  3.533667e+11    6.078175      1518.191895     3.736875e+14   \n",
       "3124  1.699581e+11    0.000000      1518.191895     3.736875e+14   \n",
       "4915  2.432346e+11    0.124453      1518.191895     3.736875e+14   \n",
       "\n",
       "      Distancias_test  \n",
       "3745         0.000000  \n",
       "3124         0.366659  \n",
       "4915         0.739766  \n",
       "\n",
       "[3 rows x 33 columns]"
      ]
     },
     "execution_count": 20,
     "metadata": {},
     "output_type": "execute_result"
    }
   ],
   "source": [
    "N_2 = table_b[(table_b['Distancias_test']<=2)].sort_values(by=['Distancias_test'],ascending=True).copy()\n",
    "N_2"
   ]
  },
  {
   "cell_type": "markdown",
   "metadata": {},
   "source": [
    "**Creamos un nuevo DataFrame que contenga los datos que nos interecen(estaría bueno hacer más general el proceso de selección de los lugares)** "
   ]
  },
  {
   "cell_type": "code",
   "execution_count": 22,
   "metadata": {},
   "outputs": [
    {
     "data": {
      "text/html": [
       "<div>\n",
       "<style scoped>\n",
       "    .dataframe tbody tr th:only-of-type {\n",
       "        vertical-align: middle;\n",
       "    }\n",
       "\n",
       "    .dataframe tbody tr th {\n",
       "        vertical-align: top;\n",
       "    }\n",
       "\n",
       "    .dataframe thead th {\n",
       "        text-align: right;\n",
       "    }\n",
       "</style>\n",
       "<table border=\"1\" class=\"dataframe\">\n",
       "  <thead>\n",
       "    <tr style=\"text-align: right;\">\n",
       "      <th></th>\n",
       "      <th>GalaxyID_test</th>\n",
       "      <th>GroupID_test</th>\n",
       "      <th>GalaxyID_V1</th>\n",
       "      <th>GalaxyID_V2</th>\n",
       "      <th>R_1</th>\n",
       "      <th>R_2</th>\n",
       "      <th>N_2</th>\n",
       "    </tr>\n",
       "  </thead>\n",
       "  <tbody>\n",
       "    <tr>\n",
       "      <th>0</th>\n",
       "      <td>21379521</td>\n",
       "      <td>28000000000001</td>\n",
       "      <td>8166017</td>\n",
       "      <td>13965936</td>\n",
       "      <td>0.366659</td>\n",
       "      <td>0.739766</td>\n",
       "      <td>2</td>\n",
       "    </tr>\n",
       "  </tbody>\n",
       "</table>\n",
       "</div>"
      ],
      "text/plain": [
       "   GalaxyID_test    GroupID_test  GalaxyID_V1  GalaxyID_V2       R_1  \\\n",
       "0       21379521  28000000000001      8166017     13965936  0.366659   \n",
       "\n",
       "        R_2  N_2  \n",
       "0  0.739766    2  "
      ]
     },
     "execution_count": 22,
     "metadata": {},
     "output_type": "execute_result"
    }
   ],
   "source": [
    "data = {'GalaxyID_test':[N_2.iloc[0,0]],'GroupID_test':[N_2.iloc[0,1]],'GalaxyID_V1':[N_2.iloc[1,0]],'GalaxyID_V2':[N_2.iloc[2,0]],\n",
    "        'R_1':[N_2.iloc[1,32]],'R_2':[N_2.iloc[2,32]],'N_2':[len(N_2)-1]}\n",
    "DATA = pd.DataFrame(data=data)\n",
    "DATA"
   ]
  },
  {
   "cell_type": "markdown",
   "metadata": {},
   "source": [
    "**Creo que también está bueno guardarnos las posiciones relativas de las vecinas respecto de la galaxia central, para poder hacer scatter plots\n",
    "más rápido.\n",
    "Paso a hacer los gráficos en 2D y 3D.**"
   ]
  },
  {
   "cell_type": "code",
   "execution_count": 169,
   "metadata": {},
   "outputs": [],
   "source": [
    "eje_1 = 'x'\n",
    "eje_2 = 'y'"
   ]
  },
  {
   "cell_type": "code",
   "execution_count": 174,
   "metadata": {},
   "outputs": [
    {
     "data": {
      "image/png": "[encoded data removed]",
      "text/plain": [
       "<Figure size 576x432 with 1 Axes>"
      ]
     },
     "metadata": {
      "needs_background": "light"
     },
     "output_type": "display_data"
    }
   ],
   "source": [
    "fig,ax=plt.subplots(figsize=(8,6))\n",
    "\n",
    "xvar_1= N_2['CentreOfPotential_'+eje_1].iloc[0:3]-float(xmax)\n",
    "yvar_1= N_2['CentreOfPotential_'+eje_2].iloc[0:3]-float(ymax)\n",
    "\n",
    "xvar_2= N_2['CentreOfPotential_'+eje_1].iloc[3:]-float(xmax)\n",
    "yvar_2= N_2['CentreOfPotential_'+eje_2].iloc[3:]-float(ymax)\n",
    "\n",
    "\n",
    "ax.scatter(xvar_1,yvar_1,marker='D',s=50,c='b',label='Galaxias central con sus 2 vecinas')\n",
    "ax.scatter(xvar_2,yvar_2,marker='o',s=20,c='k',label='Galaxias periféricas')\n",
    "\n",
    "xlim=(-2,2)\n",
    "ylim=(-2,2)\n",
    "\n",
    "xlabel= 'Eje '+eje_1\n",
    "ylabel= 'Eje '+eje_2\n",
    "\n",
    "ax.set_xlabel(xlabel,fontsize=14)\n",
    "ax.set_ylabel(ylabel,fontsize=14)\n",
    "\n",
    "ax.tick_params(axis='both',labelsize=15)\n",
    "\n",
    "ax.set_xlim(xlim)\n",
    "ax.set_ylim(ylim)\n",
    "\n",
    "plt.title('CentreOfPotential '+eje_1+'[cMpc] vs CentreOfPotential '+eje_2+'[cMpc]')\n",
    "\n",
    "# plt.subplots_adjust(left=0.12,right=0.95,bottom=0.15,top=0.95)\n",
    "\n",
    "leg = plt.legend(loc='upper right',edgecolor='w',fontsize=10)\n",
    "#leg.set_title('Primeras dos vecinas', prop = {'size':15})\n",
    "\n",
    "\n",
    "# plt.axis('scaled')#Escalea los ejes para que no se deforme el plano\n",
    "\n",
    "plt.grid(True)\n",
    "# plt.savefig('CentreOfPotential_y_vs_CentreOfPotential_x_(z=0).png')\n",
    "plt.show()"
   ]
  },
  {
   "cell_type": "code",
   "execution_count": null,
   "metadata": {},
   "outputs": [],
   "source": []
  },
  {
   "cell_type": "code",
   "execution_count": 175,
   "metadata": {},
   "outputs": [],
   "source": [
    "eje_1 = 'x'\n",
    "eje_2 = 'z'"
   ]
  },
  {
   "cell_type": "code",
   "execution_count": 176,
   "metadata": {},
   "outputs": [
    {
     "data": {
      "image/png": "[encoded data removed]",
      "text/plain": [
       "<Figure size 576x432 with 1 Axes>"
      ]
     },
     "metadata": {
      "needs_background": "light"
     },
     "output_type": "display_data"
    }
   ],
   "source": [
    "fig,ax=plt.subplots(figsize=(8,6))\n",
    "\n",
    "xvar_1= N_2['CentreOfPotential_'+eje_1].iloc[0:3]-float(xmax)\n",
    "yvar_1= N_2['CentreOfPotential_'+eje_2].iloc[0:3]-float(zmax)\n",
    "\n",
    "xvar_2= N_2['CentreOfPotential_'+eje_1].iloc[3:]-float(xmax)\n",
    "yvar_2= N_2['CentreOfPotential_'+eje_2].iloc[3:]-float(zmax)\n",
    "\n",
    "\n",
    "ax.scatter(xvar_1,yvar_1,marker='D',s=50,c='b',label='Galaxias central con sus 2 vecinas')\n",
    "ax.scatter(xvar_2,yvar_2,marker='o',s=20,c='k',label='Galaxias periféricas')\n",
    "\n",
    "xlim=(-2,2)\n",
    "ylim=(-2,2)\n",
    "\n",
    "xlabel= 'Eje '+eje_1\n",
    "ylabel= 'Eje '+eje_2\n",
    "\n",
    "ax.set_xlabel(xlabel,fontsize=14)\n",
    "ax.set_ylabel(ylabel,fontsize=14)\n",
    "\n",
    "ax.tick_params(axis='both',labelsize=15)\n",
    "\n",
    "ax.set_xlim(xlim)\n",
    "ax.set_ylim(ylim)\n",
    "\n",
    "plt.title('CentreOfPotential '+eje_1+'[cMpc] vs CentreOfPotential '+eje_2+'[cMpc]')\n",
    "\n",
    "# plt.subplots_adjust(left=0.12,right=0.95,bottom=0.15,top=0.95)\n",
    "\n",
    "leg = plt.legend(loc='upper right',edgecolor='w',fontsize=10)\n",
    "#leg.set_title('Primeras dos vecinas', prop = {'size':15})\n",
    "\n",
    "\n",
    "# plt.axis('scaled')#Escalea los ejes para que no se deforme el plano\n",
    "\n",
    "plt.grid(True)\n",
    "# plt.savefig('CentreOfPotential_y_vs_CentreOfPotential_x_(z=0).png')\n",
    "plt.show()"
   ]
  },
  {
   "cell_type": "code",
   "execution_count": null,
   "metadata": {},
   "outputs": [],
   "source": []
  },
  {
   "cell_type": "code",
   "execution_count": 177,
   "metadata": {},
   "outputs": [],
   "source": [
    "eje_1 = 'y'\n",
    "eje_2 = 'z'"
   ]
  },
  {
   "cell_type": "code",
   "execution_count": 178,
   "metadata": {},
   "outputs": [
    {
     "data": {
      "image/png": "[encoded data removed]",
      "text/plain": [
       "<Figure size 576x432 with 1 Axes>"
      ]
     },
     "metadata": {
      "needs_background": "light"
     },
     "output_type": "display_data"
    }
   ],
   "source": [
    "fig,ax=plt.subplots(figsize=(8,6))\n",
    "\n",
    "xvar_1= N_2['CentreOfPotential_'+eje_1].iloc[0:3]-float(ymax)\n",
    "yvar_1= N_2['CentreOfPotential_'+eje_2].iloc[0:3]-float(zmax)\n",
    "\n",
    "xvar_2= N_2['CentreOfPotential_'+eje_1].iloc[3:]-float(ymax)\n",
    "yvar_2= N_2['CentreOfPotential_'+eje_2].iloc[3:]-float(zmax)\n",
    "\n",
    "ax.scatter(xvar_1,yvar_1,marker='D',s=50,c='b',label='Galaxias central con sus 2 vecinas')\n",
    "ax.scatter(xvar_2,yvar_2,marker='o',s=20,c='k',label='Galaxias periféricas')\n",
    "\n",
    "xlim=(-2,2)\n",
    "ylim=(-2,2)\n",
    "\n",
    "xlabel= 'Eje '+eje_1\n",
    "ylabel= 'Eje '+eje_2\n",
    "\n",
    "ax.set_xlabel(xlabel,fontsize=14)\n",
    "ax.set_ylabel(ylabel,fontsize=14)\n",
    "\n",
    "ax.tick_params(axis='both',labelsize=15)\n",
    "\n",
    "ax.set_xlim(xlim)\n",
    "ax.set_ylim(ylim)\n",
    "\n",
    "plt.title('CentreOfPotential '+eje_1+'[cMpc] vs CentreOfPotential '+eje_2+'[cMpc]')\n",
    "\n",
    "# plt.subplots_adjust(left=0.12,right=0.95,bottom=0.15,top=0.95)\n",
    "\n",
    "leg = plt.legend(loc='upper right',edgecolor='w',fontsize=10)\n",
    "#leg.set_title('Primeras dos vecinas', prop = {'size':15})\n",
    "\n",
    "\n",
    "# plt.axis('scaled')#Escalea los ejes para que no se deforme el plano\n",
    "\n",
    "plt.grid(True)\n",
    "# plt.savefig('CentreOfPotential_y_vs_CentreOfPotential_x_(z=0).png')\n",
    "plt.show()"
   ]
  },
  {
   "cell_type": "code",
   "execution_count": null,
   "metadata": {},
   "outputs": [],
   "source": []
  },
  {
   "cell_type": "code",
   "execution_count": 179,
   "metadata": {},
   "outputs": [
    {
     "data": {
      "application/vnd.plotly.v1+json": {
       "config": {
        "plotlyServerURL": "https://plot.ly"
       },
       "data": [
        {
         "marker": {
          "color": "red",
          "opacity": 1,
          "size": 2
         },
         "mode": "markers",
         "type": "scatter3d",
         "x": [
          0,
          0.07247257232666016,
          0.14604568481445312
         ],
         "y": [
          0,
          0.074676513671875,
          0.11597824096679688
         ],
         "z": [
          0,
          0.10869216918945312,
          -0.1379241943359375
         ]
        },
        {
         "marker": {
          "color": "blue",
          "opacity": 1,
          "size": 1
         },
         "mode": "markers",
         "type": "scatter3d",
         "x": [
          0.2409992218017578,
          -0.011095046997068536,
          -0.03971576690673828,
          0.17804908752441406,
          0.1993112564086914,
          0.17210960388183594,
          0.2173328399658203,
          0.2405376434326172,
          0.26062583923339844,
          -0.14061355590820312,
          0.17096424102783203,
          0.456298828125,
          0.23030948638916016,
          0.22859954833984375,
          -0.4080524444580096,
          0.40669822692871094,
          0.5828075408935547,
          -0.8522863388061523,
          0.5021858215332013,
          0.6425762176513672,
          -0.5892772674560547,
          -0.2040500640869123,
          -0.19586658477783203,
          0.4731788635253906,
          0.8461494445800781,
          0.9497404098510742,
          0.7088642120361346,
          -0.6258783340454102,
          -0.40459537506103693,
          -1.2085914611816406,
          -0.41997623443603693
         ],
         "y": [
          0.003948211669921875,
          -0.246307373046875,
          -0.030399322509765625,
          -0.19924545288085938,
          -0.1414947509765625,
          -0.2505455017089844,
          0.041011810302734375,
          -0.17525100708007812,
          -0.11968612670898438,
          -0.5570945739746023,
          0.5650825500488352,
          -0.11309432983398438,
          0.3231353759765625,
          0.2557868957519531,
          0.3944282531738281,
          0.10498046875,
          -0.668487548828125,
          0.367889404296875,
          -0.9630050659179616,
          -0.561809539794929,
          -0.5753097534179616,
          1.2140617370605469,
          -0.390838623046875,
          0.9843978881835938,
          1.0301895141601562,
          -0.9821014404296875,
          0.6160202026367188,
          1.0556068420410156,
          1.5588874816894531,
          0.6216278076171875,
          0.9491424560546875
         ],
         "z": [
          0.056579589843757105,
          -0.17119216918945312,
          0.33807373046875,
          0.22154617309570312,
          0.288421630859375,
          0.24283599853515625,
          -0.33751678466796164,
          0.31008148193359375,
          0.3530921936035156,
          -0.14098358154296164,
          0.10519027709960938,
          0.5008010864257741,
          0.6216697692871094,
          -0.753192901611321,
          0.6684532165527344,
          -0.8477783203125,
          -0.4510154724121165,
          0.43051910400390625,
          -0.0025215148925710196,
          0.691997528076179,
          0.8990097045898438,
          -0.28159332275390625,
          1.2190055847167969,
          0.7650718688964844,
          0.24322891235351562,
          0.095733642578125,
          1.2411231994628977,
          1.0942764282226562,
          0.6975631713867188,
          1.2624549865722656,
          1.6846237182617188
         ]
        },
        {
         "marker": {
          "color": "blue",
          "opacity": 0.01,
          "size": 0
         },
         "mode": "markers",
         "type": "scatter3d",
         "x": [
          -2,
          2
         ],
         "y": [
          -2,
          2
         ],
         "z": [
          -2,
          2
         ]
        }
       ],
       "layout": {
        "autosize": true,
        "dragmode": "pan",
        "margin": {
         "b": 0,
         "l": 0,
         "r": 0,
         "t": 0
        },
        "scene": {
         "aspectmode": "auto",
         "aspectratio": {
          "x": 1,
          "y": 1,
          "z": 1
         },
         "camera": {
          "center": {
           "x": -0.004121783016166601,
           "y": -0.009029147269292362,
           "z": -0.15201701311608606
          },
          "eye": {
           "x": -1.0866898230335327,
           "y": -1.6344437033066226,
           "z": -0.02612177567522017
          },
          "projection": {
           "type": "perspective"
          },
          "up": {
           "x": 0,
           "y": 0,
           "z": 1
          }
         },
         "dragmode": "pan",
         "xaxis": {
          "title": {
           "text": "C.O.P X[kpc]"
          },
          "type": "linear"
         },
         "yaxis": {
          "title": {
           "text": "C.O.P Y[kpc]"
          },
          "type": "linear"
         },
         "zaxis": {
          "title": {
           "text": "C.O.P Z[kpc]"
          },
          "type": "linear"
         }
        },
        "template": {
         "data": {
          "bar": [
           {
            "error_x": {
             "color": "#2a3f5f"
            },
            "error_y": {
             "color": "#2a3f5f"
            },
            "marker": {
             "line": {
              "color": "#E5ECF6",
              "width": 0.5
             }
            },
            "type": "bar"
           }
          ],
          "barpolar": [
           {
            "marker": {
             "line": {
              "color": "#E5ECF6",
              "width": 0.5
             }
            },
            "type": "barpolar"
           }
          ],
          "carpet": [
           {
            "aaxis": {
             "endlinecolor": "#2a3f5f",
             "gridcolor": "white",
             "linecolor": "white",
             "minorgridcolor": "white",
             "startlinecolor": "#2a3f5f"
            },
            "baxis": {
             "endlinecolor": "#2a3f5f",
             "gridcolor": "white",
             "linecolor": "white",
             "minorgridcolor": "white",
             "startlinecolor": "#2a3f5f"
            },
            "type": "carpet"
           }
          ],
          "choropleth": [
           {
            "colorbar": {
             "outlinewidth": 0,
             "ticks": ""
            },
            "type": "choropleth"
           }
          ],
          "contour": [
           {
            "colorbar": {
             "outlinewidth": 0,
             "ticks": ""
            },
            "colorscale": [
             [
              0,
              "#0d0887"
             ],
             [
              0.1111111111111111,
              "#46039f"
             ],
             [
              0.2222222222222222,
              "#7201a8"
             ],
             [
              0.3333333333333333,
              "#9c179e"
             ],
             [
              0.4444444444444444,
              "#bd3786"
             ],
             [
              0.5555555555555556,
              "#d8576b"
             ],
             [
              0.6666666666666666,
              "#ed7953"
             ],
             [
              0.7777777777777778,
              "#fb9f3a"
             ],
             [
              0.8888888888888888,
              "#fdca26"
             ],
             [
              1,
              "#f0f921"
             ]
            ],
            "type": "contour"
           }
          ],
          "contourcarpet": [
           {
            "colorbar": {
             "outlinewidth": 0,
             "ticks": ""
            },
            "type": "contourcarpet"
           }
          ],
          "heatmap": [
           {
            "colorbar": {
             "outlinewidth": 0,
             "ticks": ""
            },
            "colorscale": [
             [
              0,
              "#0d0887"
             ],
             [
              0.1111111111111111,
              "#46039f"
             ],
             [
              0.2222222222222222,
              "#7201a8"
             ],
             [
              0.3333333333333333,
              "#9c179e"
             ],
             [
              0.4444444444444444,
              "#bd3786"
             ],
             [
              0.5555555555555556,
              "#d8576b"
             ],
             [
              0.6666666666666666,
              "#ed7953"
             ],
             [
              0.7777777777777778,
              "#fb9f3a"
             ],
             [
              0.8888888888888888,
              "#fdca26"
             ],
             [
              1,
              "#f0f921"
             ]
            ],
            "type": "heatmap"
           }
          ],
          "heatmapgl": [
           {
            "colorbar": {
             "outlinewidth": 0,
             "ticks": ""
            },
            "colorscale": [
             [
              0,
              "#0d0887"
             ],
             [
              0.1111111111111111,
              "#46039f"
             ],
             [
              0.2222222222222222,
              "#7201a8"
             ],
             [
              0.3333333333333333,
              "#9c179e"
             ],
             [
              0.4444444444444444,
              "#bd3786"
             ],
             [
              0.5555555555555556,
              "#d8576b"
             ],
             [
              0.6666666666666666,
              "#ed7953"
             ],
             [
              0.7777777777777778,
              "#fb9f3a"
             ],
             [
              0.8888888888888888,
              "#fdca26"
             ],
             [
              1,
              "#f0f921"
             ]
            ],
            "type": "heatmapgl"
           }
          ],
          "histogram": [
           {
            "marker": {
             "colorbar": {
              "outlinewidth": 0,
              "ticks": ""
             }
            },
            "type": "histogram"
           }
          ],
          "histogram2d": [
           {
            "colorbar": {
             "outlinewidth": 0,
             "ticks": ""
            },
            "colorscale": [
             [
              0,
              "#0d0887"
             ],
             [
              0.1111111111111111,
              "#46039f"
             ],
             [
              0.2222222222222222,
              "#7201a8"
             ],
             [
              0.3333333333333333,
              "#9c179e"
             ],
             [
              0.4444444444444444,
              "#bd3786"
             ],
             [
              0.5555555555555556,
              "#d8576b"
             ],
             [
              0.6666666666666666,
              "#ed7953"
             ],
             [
              0.7777777777777778,
              "#fb9f3a"
             ],
             [
              0.8888888888888888,
              "#fdca26"
             ],
             [
              1,
              "#f0f921"
             ]
            ],
            "type": "histogram2d"
           }
          ],
          "histogram2dcontour": [
           {
            "colorbar": {
             "outlinewidth": 0,
             "ticks": ""
            },
            "colorscale": [
             [
              0,
              "#0d0887"
             ],
             [
              0.1111111111111111,
              "#46039f"
             ],
             [
              0.2222222222222222,
              "#7201a8"
             ],
             [
              0.3333333333333333,
              "#9c179e"
             ],
             [
              0.4444444444444444,
              "#bd3786"
             ],
             [
              0.5555555555555556,
              "#d8576b"
             ],
             [
              0.6666666666666666,
              "#ed7953"
             ],
             [
              0.7777777777777778,
              "#fb9f3a"
             ],
             [
              0.8888888888888888,
              "#fdca26"
             ],
             [
              1,
              "#f0f921"
             ]
            ],
            "type": "histogram2dcontour"
           }
          ],
          "mesh3d": [
           {
            "colorbar": {
             "outlinewidth": 0,
             "ticks": ""
            },
            "type": "mesh3d"
           }
          ],
          "parcoords": [
           {
            "line": {
             "colorbar": {
              "outlinewidth": 0,
              "ticks": ""
             }
            },
            "type": "parcoords"
           }
          ],
          "pie": [
           {
            "automargin": true,
            "type": "pie"
           }
          ],
          "scatter": [
           {
            "marker": {
             "colorbar": {
              "outlinewidth": 0,
              "ticks": ""
             }
            },
            "type": "scatter"
           }
          ],
          "scatter3d": [
           {
            "line": {
             "colorbar": {
              "outlinewidth": 0,
              "ticks": ""
             }
            },
            "marker": {
             "colorbar": {
              "outlinewidth": 0,
              "ticks": ""
             }
            },
            "type": "scatter3d"
           }
          ],
          "scattercarpet": [
           {
            "marker": {
             "colorbar": {
              "outlinewidth": 0,
              "ticks": ""
             }
            },
            "type": "scattercarpet"
           }
          ],
          "scattergeo": [
           {
            "marker": {
             "colorbar": {
              "outlinewidth": 0,
              "ticks": ""
             }
            },
            "type": "scattergeo"
           }
          ],
          "scattergl": [
           {
            "marker": {
             "colorbar": {
              "outlinewidth": 0,
              "ticks": ""
             }
            },
            "type": "scattergl"
           }
          ],
          "scattermapbox": [
           {
            "marker": {
             "colorbar": {
              "outlinewidth": 0,
              "ticks": ""
             }
            },
            "type": "scattermapbox"
           }
          ],
          "scatterpolar": [
           {
            "marker": {
             "colorbar": {
              "outlinewidth": 0,
              "ticks": ""
             }
            },
            "type": "scatterpolar"
           }
          ],
          "scatterpolargl": [
           {
            "marker": {
             "colorbar": {
              "outlinewidth": 0,
              "ticks": ""
             }
            },
            "type": "scatterpolargl"
           }
          ],
          "scatterternary": [
           {
            "marker": {
             "colorbar": {
              "outlinewidth": 0,
              "ticks": ""
             }
            },
            "type": "scatterternary"
           }
          ],
          "surface": [
           {
            "colorbar": {
             "outlinewidth": 0,
             "ticks": ""
            },
            "colorscale": [
             [
              0,
              "#0d0887"
             ],
             [
              0.1111111111111111,
              "#46039f"
             ],
             [
              0.2222222222222222,
              "#7201a8"
             ],
             [
              0.3333333333333333,
              "#9c179e"
             ],
             [
              0.4444444444444444,
              "#bd3786"
             ],
             [
              0.5555555555555556,
              "#d8576b"
             ],
             [
              0.6666666666666666,
              "#ed7953"
             ],
             [
              0.7777777777777778,
              "#fb9f3a"
             ],
             [
              0.8888888888888888,
              "#fdca26"
             ],
             [
              1,
              "#f0f921"
             ]
            ],
            "type": "surface"
           }
          ],
          "table": [
           {
            "cells": {
             "fill": {
              "color": "#EBF0F8"
             },
             "line": {
              "color": "white"
             }
            },
            "header": {
             "fill": {
              "color": "#C8D4E3"
             },
             "line": {
              "color": "white"
             }
            },
            "type": "table"
           }
          ]
         },
         "layout": {
          "annotationdefaults": {
           "arrowcolor": "#2a3f5f",
           "arrowhead": 0,
           "arrowwidth": 1
          },
          "autotypenumbers": "strict",
          "coloraxis": {
           "colorbar": {
            "outlinewidth": 0,
            "ticks": ""
           }
          },
          "colorscale": {
           "diverging": [
            [
             0,
             "#8e0152"
            ],
            [
             0.1,
             "#c51b7d"
            ],
            [
             0.2,
             "#de77ae"
            ],
            [
             0.3,
             "#f1b6da"
            ],
            [
             0.4,
             "#fde0ef"
            ],
            [
             0.5,
             "#f7f7f7"
            ],
            [
             0.6,
             "#e6f5d0"
            ],
            [
             0.7,
             "#b8e186"
            ],
            [
             0.8,
             "#7fbc41"
            ],
            [
             0.9,
             "#4d9221"
            ],
            [
             1,
             "#276419"
            ]
           ],
           "sequential": [
            [
             0,
             "#0d0887"
            ],
            [
             0.1111111111111111,
             "#46039f"
            ],
            [
             0.2222222222222222,
             "#7201a8"
            ],
            [
             0.3333333333333333,
             "#9c179e"
            ],
            [
             0.4444444444444444,
             "#bd3786"
            ],
            [
             0.5555555555555556,
             "#d8576b"
            ],
            [
             0.6666666666666666,
             "#ed7953"
            ],
            [
             0.7777777777777778,
             "#fb9f3a"
            ],
            [
             0.8888888888888888,
             "#fdca26"
            ],
            [
             1,
             "#f0f921"
            ]
           ],
           "sequentialminus": [
            [
             0,
             "#0d0887"
            ],
            [
             0.1111111111111111,
             "#46039f"
            ],
            [
             0.2222222222222222,
             "#7201a8"
            ],
            [
             0.3333333333333333,
             "#9c179e"
            ],
            [
             0.4444444444444444,
             "#bd3786"
            ],
            [
             0.5555555555555556,
             "#d8576b"
            ],
            [
             0.6666666666666666,
             "#ed7953"
            ],
            [
             0.7777777777777778,
             "#fb9f3a"
            ],
            [
             0.8888888888888888,
             "#fdca26"
            ],
            [
             1,
             "#f0f921"
            ]
           ]
          },
          "colorway": [
           "#636efa",
           "#EF553B",
           "#00cc96",
           "#ab63fa",
           "#FFA15A",
           "#19d3f3",
           "#FF6692",
           "#B6E880",
           "#FF97FF",
           "#FECB52"
          ],
          "font": {
           "color": "#2a3f5f"
          },
          "geo": {
           "bgcolor": "white",
           "lakecolor": "white",
           "landcolor": "#E5ECF6",
           "showlakes": true,
           "showland": true,
           "subunitcolor": "white"
          },
          "hoverlabel": {
           "align": "left"
          },
          "hovermode": "closest",
          "mapbox": {
           "style": "light"
          },
          "paper_bgcolor": "white",
          "plot_bgcolor": "#E5ECF6",
          "polar": {
           "angularaxis": {
            "gridcolor": "white",
            "linecolor": "white",
            "ticks": ""
           },
           "bgcolor": "#E5ECF6",
           "radialaxis": {
            "gridcolor": "white",
            "linecolor": "white",
            "ticks": ""
           }
          },
          "scene": {
           "xaxis": {
            "backgroundcolor": "#E5ECF6",
            "gridcolor": "white",
            "gridwidth": 2,
            "linecolor": "white",
            "showbackground": true,
            "ticks": "",
            "zerolinecolor": "white"
           },
           "yaxis": {
            "backgroundcolor": "#E5ECF6",
            "gridcolor": "white",
            "gridwidth": 2,
            "linecolor": "white",
            "showbackground": true,
            "ticks": "",
            "zerolinecolor": "white"
           },
           "zaxis": {
            "backgroundcolor": "#E5ECF6",
            "gridcolor": "white",
            "gridwidth": 2,
            "linecolor": "white",
            "showbackground": true,
            "ticks": "",
            "zerolinecolor": "white"
           }
          },
          "shapedefaults": {
           "line": {
            "color": "#2a3f5f"
           }
          },
          "ternary": {
           "aaxis": {
            "gridcolor": "white",
            "linecolor": "white",
            "ticks": ""
           },
           "baxis": {
            "gridcolor": "white",
            "linecolor": "white",
            "ticks": ""
           },
           "bgcolor": "#E5ECF6",
           "caxis": {
            "gridcolor": "white",
            "linecolor": "white",
            "ticks": ""
           }
          },
          "title": {
           "x": 0.05
          },
          "xaxis": {
           "automargin": true,
           "gridcolor": "white",
           "linecolor": "white",
           "ticks": "",
           "title": {
            "standoff": 15
           },
           "zerolinecolor": "white",
           "zerolinewidth": 2
          },
          "yaxis": {
           "automargin": true,
           "gridcolor": "white",
           "linecolor": "white",
           "ticks": "",
           "title": {
            "standoff": 15
           },
           "zerolinecolor": "white",
           "zerolinewidth": 2
          }
         }
        }
       }
      },
      "image/png": "[encoded data removed]",
      "text/html": [
       "<div>                            <div id=\"2d247184-0f8a-408d-98dc-7d9cd7668f05\" class=\"plotly-graph-div\" style=\"height:525px; width:70px;\"></div>            <script type=\"text/javascript\">                require([\"plotly\"], function(Plotly) {                    window.PLOTLYENV=window.PLOTLYENV || {};                                    if (document.getElementById(\"2d247184-0f8a-408d-98dc-7d9cd7668f05\")) {                    Plotly.newPlot(                        \"2d247184-0f8a-408d-98dc-7d9cd7668f05\",                        [{\"marker\": {\"color\": \"red\", \"opacity\": 1, \"size\": 2}, \"mode\": \"markers\", \"type\": \"scatter3d\", \"x\": [0.0, 0.07247257232666016, 0.14604568481445312], \"y\": [0.0, 0.074676513671875, 0.11597824096679688], \"z\": [0.0, 0.10869216918945312, -0.1379241943359375]}, {\"marker\": {\"color\": \"blue\", \"opacity\": 1, \"size\": 1}, \"mode\": \"markers\", \"type\": \"scatter3d\", \"x\": [0.2409992218017578, -0.011095046997068536, -0.03971576690673828, 0.17804908752441406, 0.1993112564086914, 0.17210960388183594, 0.2173328399658203, 0.2405376434326172, 0.26062583923339844, -0.14061355590820312, 0.17096424102783203, 0.456298828125, 0.23030948638916016, 0.22859954833984375, -0.4080524444580096, 0.40669822692871094, 0.5828075408935547, -0.8522863388061523, 0.5021858215332013, 0.6425762176513672, -0.5892772674560547, -0.2040500640869123, -0.19586658477783203, 0.4731788635253906, 0.8461494445800781, 0.9497404098510742, 0.7088642120361346, -0.6258783340454102, -0.40459537506103693, -1.2085914611816406, -0.41997623443603693], \"y\": [0.003948211669921875, -0.246307373046875, -0.030399322509765625, -0.19924545288085938, -0.1414947509765625, -0.2505455017089844, 0.041011810302734375, -0.17525100708007812, -0.11968612670898438, -0.5570945739746023, 0.5650825500488352, -0.11309432983398438, 0.3231353759765625, 0.2557868957519531, 0.3944282531738281, 0.10498046875, -0.668487548828125, 0.367889404296875, -0.9630050659179616, -0.561809539794929, -0.5753097534179616, 1.2140617370605469, -0.390838623046875, 0.9843978881835938, 1.0301895141601562, -0.9821014404296875, 0.6160202026367188, 1.0556068420410156, 1.5588874816894531, 0.6216278076171875, 0.9491424560546875], \"z\": [0.056579589843757105, -0.17119216918945312, 0.33807373046875, 0.22154617309570312, 0.288421630859375, 0.24283599853515625, -0.33751678466796164, 0.31008148193359375, 0.3530921936035156, -0.14098358154296164, 0.10519027709960938, 0.5008010864257741, 0.6216697692871094, -0.753192901611321, 0.6684532165527344, -0.8477783203125, -0.4510154724121165, 0.43051910400390625, -0.0025215148925710196, 0.691997528076179, 0.8990097045898438, -0.28159332275390625, 1.2190055847167969, 0.7650718688964844, 0.24322891235351562, 0.095733642578125, 1.2411231994628977, 1.0942764282226562, 0.6975631713867188, 1.2624549865722656, 1.6846237182617188]}, {\"marker\": {\"color\": \"blue\", \"opacity\": 0.01, \"size\": 0}, \"mode\": \"markers\", \"type\": \"scatter3d\", \"x\": [-2, 2], \"y\": [-2, 2], \"z\": [-2, 2]}],                        {\"margin\": {\"b\": 0, \"l\": 0, \"r\": 0, \"t\": 0}, \"scene\": {\"xaxis\": {\"title\": {\"text\": \"C.O.P X[kpc]\"}}, \"yaxis\": {\"title\": {\"text\": \"C.O.P Y[kpc]\"}}, \"zaxis\": {\"title\": {\"text\": \"C.O.P Z[kpc]\"}}}, \"template\": {\"data\": {\"bar\": [{\"error_x\": {\"color\": \"#2a3f5f\"}, \"error_y\": {\"color\": \"#2a3f5f\"}, \"marker\": {\"line\": {\"color\": \"#E5ECF6\", \"width\": 0.5}}, \"type\": \"bar\"}], \"barpolar\": [{\"marker\": {\"line\": {\"color\": \"#E5ECF6\", \"width\": 0.5}}, \"type\": \"barpolar\"}], \"carpet\": [{\"aaxis\": {\"endlinecolor\": \"#2a3f5f\", \"gridcolor\": \"white\", \"linecolor\": \"white\", \"minorgridcolor\": \"white\", \"startlinecolor\": \"#2a3f5f\"}, \"baxis\": {\"endlinecolor\": \"#2a3f5f\", \"gridcolor\": \"white\", \"linecolor\": \"white\", \"minorgridcolor\": \"white\", \"startlinecolor\": \"#2a3f5f\"}, \"type\": \"carpet\"}], \"choropleth\": [{\"colorbar\": {\"outlinewidth\": 0, \"ticks\": \"\"}, \"type\": \"choropleth\"}], \"contour\": [{\"colorbar\": {\"outlinewidth\": 0, \"ticks\": \"\"}, \"colorscale\": [[0.0, \"#0d0887\"], [0.1111111111111111, \"#46039f\"], [0.2222222222222222, \"#7201a8\"], [0.3333333333333333, \"#9c179e\"], [0.4444444444444444, \"#bd3786\"], [0.5555555555555556, \"#d8576b\"], [0.6666666666666666, \"#ed7953\"], [0.7777777777777778, \"#fb9f3a\"], [0.8888888888888888, \"#fdca26\"], [1.0, \"#f0f921\"]], \"type\": \"contour\"}], \"contourcarpet\": [{\"colorbar\": {\"outlinewidth\": 0, \"ticks\": \"\"}, \"type\": \"contourcarpet\"}], \"heatmap\": [{\"colorbar\": {\"outlinewidth\": 0, \"ticks\": \"\"}, \"colorscale\": [[0.0, \"#0d0887\"], [0.1111111111111111, \"#46039f\"], [0.2222222222222222, \"#7201a8\"], [0.3333333333333333, \"#9c179e\"], [0.4444444444444444, \"#bd3786\"], [0.5555555555555556, \"#d8576b\"], [0.6666666666666666, \"#ed7953\"], [0.7777777777777778, \"#fb9f3a\"], [0.8888888888888888, \"#fdca26\"], [1.0, \"#f0f921\"]], \"type\": \"heatmap\"}], \"heatmapgl\": [{\"colorbar\": {\"outlinewidth\": 0, \"ticks\": \"\"}, \"colorscale\": [[0.0, \"#0d0887\"], [0.1111111111111111, \"#46039f\"], [0.2222222222222222, \"#7201a8\"], [0.3333333333333333, \"#9c179e\"], [0.4444444444444444, \"#bd3786\"], [0.5555555555555556, \"#d8576b\"], [0.6666666666666666, \"#ed7953\"], [0.7777777777777778, \"#fb9f3a\"], [0.8888888888888888, \"#fdca26\"], [1.0, \"#f0f921\"]], \"type\": \"heatmapgl\"}], \"histogram\": [{\"marker\": {\"colorbar\": {\"outlinewidth\": 0, \"ticks\": \"\"}}, \"type\": \"histogram\"}], \"histogram2d\": [{\"colorbar\": {\"outlinewidth\": 0, \"ticks\": \"\"}, \"colorscale\": [[0.0, \"#0d0887\"], [0.1111111111111111, \"#46039f\"], [0.2222222222222222, \"#7201a8\"], [0.3333333333333333, \"#9c179e\"], [0.4444444444444444, \"#bd3786\"], [0.5555555555555556, \"#d8576b\"], [0.6666666666666666, \"#ed7953\"], [0.7777777777777778, \"#fb9f3a\"], [0.8888888888888888, \"#fdca26\"], [1.0, \"#f0f921\"]], \"type\": \"histogram2d\"}], \"histogram2dcontour\": [{\"colorbar\": {\"outlinewidth\": 0, \"ticks\": \"\"}, \"colorscale\": [[0.0, \"#0d0887\"], [0.1111111111111111, \"#46039f\"], [0.2222222222222222, \"#7201a8\"], [0.3333333333333333, \"#9c179e\"], [0.4444444444444444, \"#bd3786\"], [0.5555555555555556, \"#d8576b\"], [0.6666666666666666, \"#ed7953\"], [0.7777777777777778, \"#fb9f3a\"], [0.8888888888888888, \"#fdca26\"], [1.0, \"#f0f921\"]], \"type\": \"histogram2dcontour\"}], \"mesh3d\": [{\"colorbar\": {\"outlinewidth\": 0, \"ticks\": \"\"}, \"type\": \"mesh3d\"}], \"parcoords\": [{\"line\": {\"colorbar\": {\"outlinewidth\": 0, \"ticks\": \"\"}}, \"type\": \"parcoords\"}], \"pie\": [{\"automargin\": true, \"type\": \"pie\"}], \"scatter\": [{\"marker\": {\"colorbar\": {\"outlinewidth\": 0, \"ticks\": \"\"}}, \"type\": \"scatter\"}], \"scatter3d\": [{\"line\": {\"colorbar\": {\"outlinewidth\": 0, \"ticks\": \"\"}}, \"marker\": {\"colorbar\": {\"outlinewidth\": 0, \"ticks\": \"\"}}, \"type\": \"scatter3d\"}], \"scattercarpet\": [{\"marker\": {\"colorbar\": {\"outlinewidth\": 0, \"ticks\": \"\"}}, \"type\": \"scattercarpet\"}], \"scattergeo\": [{\"marker\": {\"colorbar\": {\"outlinewidth\": 0, \"ticks\": \"\"}}, \"type\": \"scattergeo\"}], \"scattergl\": [{\"marker\": {\"colorbar\": {\"outlinewidth\": 0, \"ticks\": \"\"}}, \"type\": \"scattergl\"}], \"scattermapbox\": [{\"marker\": {\"colorbar\": {\"outlinewidth\": 0, \"ticks\": \"\"}}, \"type\": \"scattermapbox\"}], \"scatterpolar\": [{\"marker\": {\"colorbar\": {\"outlinewidth\": 0, \"ticks\": \"\"}}, \"type\": \"scatterpolar\"}], \"scatterpolargl\": [{\"marker\": {\"colorbar\": {\"outlinewidth\": 0, \"ticks\": \"\"}}, \"type\": \"scatterpolargl\"}], \"scatterternary\": [{\"marker\": {\"colorbar\": {\"outlinewidth\": 0, \"ticks\": \"\"}}, \"type\": \"scatterternary\"}], \"surface\": [{\"colorbar\": {\"outlinewidth\": 0, \"ticks\": \"\"}, \"colorscale\": [[0.0, \"#0d0887\"], [0.1111111111111111, \"#46039f\"], [0.2222222222222222, \"#7201a8\"], [0.3333333333333333, \"#9c179e\"], [0.4444444444444444, \"#bd3786\"], [0.5555555555555556, \"#d8576b\"], [0.6666666666666666, \"#ed7953\"], [0.7777777777777778, \"#fb9f3a\"], [0.8888888888888888, \"#fdca26\"], [1.0, \"#f0f921\"]], \"type\": \"surface\"}], \"table\": [{\"cells\": {\"fill\": {\"color\": \"#EBF0F8\"}, \"line\": {\"color\": \"white\"}}, \"header\": {\"fill\": {\"color\": \"#C8D4E3\"}, \"line\": {\"color\": \"white\"}}, \"type\": \"table\"}]}, \"layout\": {\"annotationdefaults\": {\"arrowcolor\": \"#2a3f5f\", \"arrowhead\": 0, \"arrowwidth\": 1}, \"autotypenumbers\": \"strict\", \"coloraxis\": {\"colorbar\": {\"outlinewidth\": 0, \"ticks\": \"\"}}, \"colorscale\": {\"diverging\": [[0, \"#8e0152\"], [0.1, \"#c51b7d\"], [0.2, \"#de77ae\"], [0.3, \"#f1b6da\"], [0.4, \"#fde0ef\"], [0.5, \"#f7f7f7\"], [0.6, \"#e6f5d0\"], [0.7, \"#b8e186\"], [0.8, \"#7fbc41\"], [0.9, \"#4d9221\"], [1, \"#276419\"]], \"sequential\": [[0.0, \"#0d0887\"], [0.1111111111111111, \"#46039f\"], [0.2222222222222222, \"#7201a8\"], [0.3333333333333333, \"#9c179e\"], [0.4444444444444444, \"#bd3786\"], [0.5555555555555556, \"#d8576b\"], [0.6666666666666666, \"#ed7953\"], [0.7777777777777778, \"#fb9f3a\"], [0.8888888888888888, \"#fdca26\"], [1.0, \"#f0f921\"]], \"sequentialminus\": [[0.0, \"#0d0887\"], [0.1111111111111111, \"#46039f\"], [0.2222222222222222, \"#7201a8\"], [0.3333333333333333, \"#9c179e\"], [0.4444444444444444, \"#bd3786\"], [0.5555555555555556, \"#d8576b\"], [0.6666666666666666, \"#ed7953\"], [0.7777777777777778, \"#fb9f3a\"], [0.8888888888888888, \"#fdca26\"], [1.0, \"#f0f921\"]]}, \"colorway\": [\"#636efa\", \"#EF553B\", \"#00cc96\", \"#ab63fa\", \"#FFA15A\", \"#19d3f3\", \"#FF6692\", \"#B6E880\", \"#FF97FF\", \"#FECB52\"], \"font\": {\"color\": \"#2a3f5f\"}, \"geo\": {\"bgcolor\": \"white\", \"lakecolor\": \"white\", \"landcolor\": \"#E5ECF6\", \"showlakes\": true, \"showland\": true, \"subunitcolor\": \"white\"}, \"hoverlabel\": {\"align\": \"left\"}, \"hovermode\": \"closest\", \"mapbox\": {\"style\": \"light\"}, \"paper_bgcolor\": \"white\", \"plot_bgcolor\": \"#E5ECF6\", \"polar\": {\"angularaxis\": {\"gridcolor\": \"white\", \"linecolor\": \"white\", \"ticks\": \"\"}, \"bgcolor\": \"#E5ECF6\", \"radialaxis\": {\"gridcolor\": \"white\", \"linecolor\": \"white\", \"ticks\": \"\"}}, \"scene\": {\"xaxis\": {\"backgroundcolor\": \"#E5ECF6\", \"gridcolor\": \"white\", \"gridwidth\": 2, \"linecolor\": \"white\", \"showbackground\": true, \"ticks\": \"\", \"zerolinecolor\": \"white\"}, \"yaxis\": {\"backgroundcolor\": \"#E5ECF6\", \"gridcolor\": \"white\", \"gridwidth\": 2, \"linecolor\": \"white\", \"showbackground\": true, \"ticks\": \"\", \"zerolinecolor\": \"white\"}, \"zaxis\": {\"backgroundcolor\": \"#E5ECF6\", \"gridcolor\": \"white\", \"gridwidth\": 2, \"linecolor\": \"white\", \"showbackground\": true, \"ticks\": \"\", \"zerolinecolor\": \"white\"}}, \"shapedefaults\": {\"line\": {\"color\": \"#2a3f5f\"}}, \"ternary\": {\"aaxis\": {\"gridcolor\": \"white\", \"linecolor\": \"white\", \"ticks\": \"\"}, \"baxis\": {\"gridcolor\": \"white\", \"linecolor\": \"white\", \"ticks\": \"\"}, \"bgcolor\": \"#E5ECF6\", \"caxis\": {\"gridcolor\": \"white\", \"linecolor\": \"white\", \"ticks\": \"\"}}, \"title\": {\"x\": 0.05}, \"xaxis\": {\"automargin\": true, \"gridcolor\": \"white\", \"linecolor\": \"white\", \"ticks\": \"\", \"title\": {\"standoff\": 15}, \"zerolinecolor\": \"white\", \"zerolinewidth\": 2}, \"yaxis\": {\"automargin\": true, \"gridcolor\": \"white\", \"linecolor\": \"white\", \"ticks\": \"\", \"title\": {\"standoff\": 15}, \"zerolinecolor\": \"white\", \"zerolinewidth\": 2}}}, \"width\": 70},                        {\"responsive\": true}                    ).then(function(){\n",
       "                            \n",
       "var gd = document.getElementById('2d247184-0f8a-408d-98dc-7d9cd7668f05');\n",
       "var x = new MutationObserver(function (mutations, observer) {{\n",
       "        var display = window.getComputedStyle(gd).display;\n",
       "        if (!display || display === 'none') {{\n",
       "            console.log([gd, 'removed!']);\n",
       "            Plotly.purge(gd);\n",
       "            observer.disconnect();\n",
       "        }}\n",
       "}});\n",
       "\n",
       "// Listen for the removal of the full notebook cells\n",
       "var notebookContainer = gd.closest('#notebook-container');\n",
       "if (notebookContainer) {{\n",
       "    x.observe(notebookContainer, {childList: true});\n",
       "}}\n",
       "\n",
       "// Listen for the clearing of the current output cell\n",
       "var outputEl = gd.closest('.output');\n",
       "if (outputEl) {{\n",
       "    x.observe(outputEl, {childList: true});\n",
       "}}\n",
       "\n",
       "                        })                };                });            </script>        </div>"
      ]
     },
     "metadata": {},
     "output_type": "display_data"
    }
   ],
   "source": [
    "xvar_1= N_2['CentreOfPotential_x'].iloc[0:3]-float(xmax)\n",
    "yvar_1= N_2['CentreOfPotential_y'].iloc[0:3]-float(ymax)\n",
    "zvar_1= N_2['CentreOfPotential_z'].iloc[0:3]-float(zmax)\n",
    "\n",
    "xvar_2= N_2['CentreOfPotential_x'].iloc[3:]-float(xmax)\n",
    "yvar_2= N_2['CentreOfPotential_y'].iloc[3:]-float(ymax)\n",
    "zvar_2= N_2['CentreOfPotential_z'].iloc[3:]-float(zmax)\n",
    "\n",
    "x_lim = [-2,2]\n",
    "y_lim = [-2,2]\n",
    "z_lim = [-2,2]\n",
    "\n",
    "fig = go.Figure(data=[go.Scatter3d(\n",
    "    x=xvar_1,\n",
    "    y=yvar_1,\n",
    "    z=zvar_1,\n",
    "    mode='markers',\n",
    "    marker=dict(\n",
    "        size = 2,\n",
    "        color='red',\n",
    "        opacity=1\n",
    "    )\n",
    "    ),go.Scatter3d(\n",
    "        x=xvar_2,\n",
    "        y=yvar_2,\n",
    "        z=zvar_2,\n",
    "        mode='markers',\n",
    "        marker=dict(\n",
    "        size = 1,\n",
    "        color='blue',\n",
    "        opacity=1\n",
    "    )      \n",
    "    ),go.Scatter3d(\n",
    "        x=x_lim,\n",
    "        y=y_lim,\n",
    "        z=z_lim,\n",
    "        mode='markers',\n",
    "        marker=dict(\n",
    "        size=0,\n",
    "        color='blue',\n",
    "        opacity=0.01))\n",
    "                     ])\n",
    "\n",
    "# tight layout\n",
    "fig.update_layout(scene = dict(\n",
    "                    xaxis_title='C.O.P X[Mpc]',\n",
    "                    yaxis_title='C.O.P Y[Mpc]',\n",
    "                    zaxis_title='C.O.P Z[Mpc]'),\n",
    "                    width=70,\n",
    "                    margin =dict(l=0, r=0, b=0, t=0))\n",
    "\n",
    "\n",
    "\n",
    "fig.show()\n"
   ]
  },
  {
   "cell_type": "code",
   "execution_count": 24,
   "metadata": {},
   "outputs": [
    {
     "data": {
      "text/html": [
       "<div>\n",
       "<style scoped>\n",
       "    .dataframe tbody tr th:only-of-type {\n",
       "        vertical-align: middle;\n",
       "    }\n",
       "\n",
       "    .dataframe tbody tr th {\n",
       "        vertical-align: top;\n",
       "    }\n",
       "\n",
       "    .dataframe thead th {\n",
       "        text-align: right;\n",
       "    }\n",
       "</style>\n",
       "<table border=\"1\" class=\"dataframe\">\n",
       "  <thead>\n",
       "    <tr style=\"text-align: right;\">\n",
       "      <th></th>\n",
       "      <th>GalaxyID_test</th>\n",
       "      <th>GroupID_test</th>\n",
       "      <th>GalaxyID_V1</th>\n",
       "      <th>GalaxyID_V2</th>\n",
       "      <th>R_1</th>\n",
       "      <th>R_2</th>\n",
       "      <th>N_2</th>\n",
       "    </tr>\n",
       "  </thead>\n",
       "  <tbody>\n",
       "    <tr>\n",
       "      <th>0</th>\n",
       "      <td>9498012</td>\n",
       "      <td>28000000000002</td>\n",
       "      <td>9532694</td>\n",
       "      <td>3461244</td>\n",
       "      <td>0.505941</td>\n",
       "      <td>0.518791</td>\n",
       "      <td>34</td>\n",
       "    </tr>\n",
       "    <tr>\n",
       "      <th>1</th>\n",
       "      <td>9508202</td>\n",
       "      <td>28000000000002</td>\n",
       "      <td>9562859</td>\n",
       "      <td>14910180</td>\n",
       "      <td>0.257705</td>\n",
       "      <td>0.463580</td>\n",
       "      <td>3</td>\n",
       "    </tr>\n",
       "    <tr>\n",
       "      <th>2</th>\n",
       "      <td>9512113</td>\n",
       "      <td>28000000000002</td>\n",
       "      <td>3467928</td>\n",
       "      <td>9554089</td>\n",
       "      <td>0.150475</td>\n",
       "      <td>0.231956</td>\n",
       "      <td>33</td>\n",
       "    </tr>\n",
       "    <tr>\n",
       "      <th>3</th>\n",
       "      <td>9517736</td>\n",
       "      <td>28000000000002</td>\n",
       "      <td>9537911</td>\n",
       "      <td>9542932</td>\n",
       "      <td>0.423763</td>\n",
       "      <td>0.677967</td>\n",
       "      <td>33</td>\n",
       "    </tr>\n",
       "    <tr>\n",
       "      <th>4</th>\n",
       "      <td>9519365</td>\n",
       "      <td>28000000000002</td>\n",
       "      <td>9542932</td>\n",
       "      <td>9539937</td>\n",
       "      <td>0.634224</td>\n",
       "      <td>0.952579</td>\n",
       "      <td>33</td>\n",
       "    </tr>\n",
       "    <tr>\n",
       "      <th>...</th>\n",
       "      <td>...</td>\n",
       "      <td>...</td>\n",
       "      <td>...</td>\n",
       "      <td>...</td>\n",
       "      <td>...</td>\n",
       "      <td>...</td>\n",
       "      <td>...</td>\n",
       "    </tr>\n",
       "    <tr>\n",
       "      <th>3633</th>\n",
       "      <td>10365607</td>\n",
       "      <td>28000000002202</td>\n",
       "      <td>18478750</td>\n",
       "      <td>0</td>\n",
       "      <td>1.911730</td>\n",
       "      <td>0.000000</td>\n",
       "      <td>1</td>\n",
       "    </tr>\n",
       "    <tr>\n",
       "      <th>3634</th>\n",
       "      <td>10859653</td>\n",
       "      <td>28000000002570</td>\n",
       "      <td>9779252</td>\n",
       "      <td>0</td>\n",
       "      <td>1.526021</td>\n",
       "      <td>0.000000</td>\n",
       "      <td>1</td>\n",
       "    </tr>\n",
       "    <tr>\n",
       "      <th>3635</th>\n",
       "      <td>11104654</td>\n",
       "      <td>28000000002905</td>\n",
       "      <td>9034191</td>\n",
       "      <td>0</td>\n",
       "      <td>1.503464</td>\n",
       "      <td>0.000000</td>\n",
       "      <td>1</td>\n",
       "    </tr>\n",
       "    <tr>\n",
       "      <th>3636</th>\n",
       "      <td>11247394</td>\n",
       "      <td>28000000003127</td>\n",
       "      <td>0</td>\n",
       "      <td>0</td>\n",
       "      <td>0.000000</td>\n",
       "      <td>0.000000</td>\n",
       "      <td>0</td>\n",
       "    </tr>\n",
       "    <tr>\n",
       "      <th>3637</th>\n",
       "      <td>12002343</td>\n",
       "      <td>28000000004258</td>\n",
       "      <td>9319534</td>\n",
       "      <td>16828343</td>\n",
       "      <td>0.576453</td>\n",
       "      <td>1.202926</td>\n",
       "      <td>8</td>\n",
       "    </tr>\n",
       "  </tbody>\n",
       "</table>\n",
       "<p>3638 rows × 7 columns</p>\n",
       "</div>"
      ],
      "text/plain": [
       "      GalaxyID_test    GroupID_test  GalaxyID_V1  GalaxyID_V2       R_1  \\\n",
       "0           9498012  28000000000002      9532694      3461244  0.505941   \n",
       "1           9508202  28000000000002      9562859     14910180  0.257705   \n",
       "2           9512113  28000000000002      3467928      9554089  0.150475   \n",
       "3           9517736  28000000000002      9537911      9542932  0.423763   \n",
       "4           9519365  28000000000002      9542932      9539937  0.634224   \n",
       "...             ...             ...          ...          ...       ...   \n",
       "3633       10365607  28000000002202     18478750            0  1.911730   \n",
       "3634       10859653  28000000002570      9779252            0  1.526021   \n",
       "3635       11104654  28000000002905      9034191            0  1.503464   \n",
       "3636       11247394  28000000003127            0            0  0.000000   \n",
       "3637       12002343  28000000004258      9319534     16828343  0.576453   \n",
       "\n",
       "           R_2  N_2  \n",
       "0     0.518791   34  \n",
       "1     0.463580    3  \n",
       "2     0.231956   33  \n",
       "3     0.677967   33  \n",
       "4     0.952579   33  \n",
       "...        ...  ...  \n",
       "3633  0.000000    1  \n",
       "3634  0.000000    1  \n",
       "3635  0.000000    1  \n",
       "3636  0.000000    0  \n",
       "3637  1.202926    8  \n",
       "\n",
       "[3638 rows x 7 columns]"
      ]
     },
     "execution_count": 24,
     "metadata": {},
     "output_type": "execute_result"
    }
   ],
   "source": [
    "TABLE  = pd.read_csv('Actividad_5_v2.dat')\n",
    "TABLE"
   ]
  },
  {
   "cell_type": "code",
   "execution_count": null,
   "metadata": {},
   "outputs": [],
   "source": []
  },
  {
   "cell_type": "code",
   "execution_count": null,
   "metadata": {},
   "outputs": [],
   "source": []
  },
  {
   "cell_type": "code",
   "execution_count": null,
   "metadata": {},
   "outputs": [],
   "source": []
  }
 ],
 "metadata": {
  "kernelspec": {
   "display_name": "Python 3",
   "language": "python",
   "name": "python3"
  },
  "language_info": {
   "codemirror_mode": {
    "name": "ipython",
    "version": 3
   },
   "file_extension": ".py",
   "mimetype": "text/x-python",
   "name": "python",
   "nbconvert_exporter": "python",
   "pygments_lexer": "ipython3",
   "version": "3.8.5"
  }
 },
 "nbformat": 4,
 "nbformat_minor": 4
}
