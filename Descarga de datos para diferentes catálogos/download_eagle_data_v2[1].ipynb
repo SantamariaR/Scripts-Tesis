{
 "cells": [
  {
   "cell_type": "markdown",
   "metadata": {},
   "source": [
    "# Script de python sencillo para descargar datos de EAGLE "
   ]
  },
  {
   "cell_type": "markdown",
   "metadata": {},
   "source": [
    "#### Antes de empezar: una herramienta útil para descargar datos de EAGLE desde Python, es el paquete eagleSQLtools.\n",
    "\n",
    "#### Repositorio del paquete: https://github.com/kyleaoman/eagleSqlTools\n",
    "\n",
    "#### Para instalarlo, en una terminal correr el siguiente comando:\n",
    "\n",
    "#### pip install eaglesqltools"
   ]
  },
  {
   "cell_type": "markdown",
   "metadata": {},
   "source": [
    "#### Importar paquetes necesarios. Agregar paquete si hace falta"
   ]
  },
  {
   "cell_type": "code",
   "execution_count": 1,
   "metadata": {},
   "outputs": [],
   "source": [
    "import matplotlib.pyplot as plt\n",
    "import eagleSqlTools as sql\n",
    "from astropy.io import ascii\n",
    "from astropy.table import Table\n",
    "import numpy as np"
   ]
  },
  {
   "cell_type": "markdown",
   "metadata": {},
   "source": [
    "#### Datos para la descarga (usuario, contraseña, simulación, snapnum, fragmentos de la query)"
   ]
  },
  {
   "cell_type": "code",
   "execution_count": 23,
   "metadata": {},
   "outputs": [],
   "source": [
    "# Usuario y contraseña\n",
    "usr='cht015'\n",
    "pwd='BH457tfj'\n",
    "\n",
    "# =========================================================================================\n",
    "\n",
    "# Simulación y snapnum deseado\n",
    "simu='NoAGNL0050N0752'\n",
    "snap = 28\n",
    "# aperture = 30\n",
    "\n",
    "# =========================================================================================\n",
    "\n",
    "# Carpeta donde guardar archivo. Dejar un caracter 'vacío' para descargar los datos\n",
    "# en la misma carpeta desde donde se ejecuta la notebook. Datos guardados/Facultad/Tesis/Datos/Proyecto Altas Masas\n",
    "download_folder='/home/ramiro/Datos guardados/Facultad/Tesis/Datos/Proyecto Altas Masas/'\n",
    "\n",
    "# Nombre del archivo que guardará los datos descargados\n",
    "filename='catalogo_proyecto_altas_masas_'+simu+'_snap_'+str(snap)+'.dat'\n",
    "\n",
    "# =========================================================================================\n",
    "# Cosas para armar la query\n",
    "\n",
    "# Tablas y Alias de las tablas desde donde quiero descargar datos\n",
    "# Agregar/quitar según sea necesario\n",
    "tables=[\n",
    "        'Subhalo',\n",
    "        'MorphoKinem',\n",
    "#         ,'FOF'\n",
    "       ]\n",
    "\n",
    "aliases=[\n",
    "         'sub'\n",
    "         ,'mor'\n",
    "#          ,'fof' \n",
    "        ]\n",
    "\n",
    "# --------------------------------------------------------------------------------\n",
    "\n",
    "# Columnas a seleccionar de cada tabla (agregar/quitar según sea necesario)\n",
    "columns=[\n",
    "          \n",
    "          [\n",
    "          'GalaxyID','SnapNum','GroupID','SubGroupNumber','Stars_Mass','SF_Hydrogen','SF_Oxygen','SF_Mass','NSF_Mass','BlackHoleMass','StarFormationRate'\n",
    "          ]\n",
    "          ,[\n",
    "          'KappaCoRot '\n",
    "          ]\n",
    "#           ,[\n",
    "#           'Group_M_Crit200'\n",
    "#           ]\n",
    "         ]\n",
    "\n",
    "# --------------------------------------------------------------------------------\n",
    "\n",
    "# Condiciones sobre las columnas de las tablas a seleccionar\n",
    "# NO AGREGAR ACÁ EL ALIAS DE LA TABLA! Se agregará después\n",
    "# Agregar/quitar según sea necesario\n",
    "# Cada lista de la siguiente lista establece condiciones para la tabla\n",
    "# a seleccionar (respetando el orden en que se definieron las tablas).\n",
    "# Si no se quieren condiciones sobre alguna tabla, dejar la correspondiente\n",
    "# lista como vacía.\n",
    "\n",
    "conditions=[\n",
    "            ['SnapNum='+str(snap),'SF_Oxygen>0','SF_Hydrogen>0','SubGroupNumber = 0']\n",
    "           ]\n",
    "\n",
    "# --------------------------------------------------------------------------------\n"
   ]
  },
  {
   "cell_type": "markdown",
   "metadata": {},
   "source": [
    "#### Construcción de las distintas partes de la query"
   ]
  },
  {
   "cell_type": "code",
   "execution_count": 24,
   "metadata": {},
   "outputs": [],
   "source": [
    "# Armo la sentencia SELECT \n",
    "select=''\n",
    "for alias,col in zip(aliases,columns):\n",
    "    select=select+(','.join([alias+'.'+name for name in col]))+','\n",
    "select=select[:-1]   # Esto es para borrar una última coma 'molesta'\n",
    "\n",
    "# --------------------------------------------------------------------------------\n",
    "\n",
    "# Armo la sentencia FROM\n",
    "from_table=''\n",
    "for tab,alias in zip(tables,aliases):\n",
    "    from_table=from_table+simu+'_'+tab+' as '+alias+','\n",
    "from_table=from_table[:-1]   # Esto es para borrar una última coma 'molesta'\n",
    "\n",
    "# --------------------------------------------------------------------------------\n",
    "\n",
    "# Armo la sentencia WHERE\n",
    "# Condiciones para unir tablas (igualdad de GalaxyIDs)\n",
    "join_conditions=''\n",
    "# Lo sigueinte solo se ejecutará si hay más de una tabla\n",
    "if len(tables)>1:\n",
    "    for k in range(len(aliases)-1):\n",
    "        join_conditions=(join_conditions+\n",
    "                         aliases[k]+'.GalaxyID='+aliases[k+1]+'.GalaxyID'+' and ')\n",
    "    join_conditions=join_conditions[:-5]\n",
    "\n",
    "where=''    \n",
    "for alias,condit in zip(aliases,conditions):\n",
    "    if len(condit)>0:\n",
    "        where=where+(' and '.join(alias+'.'+cond for cond in condit))+ ' and '\n",
    "        if len(aliases)==1:\n",
    "            where=where[:-4] # Esto es para borrar un 'and' molesto\n",
    "where=where+join_conditions"
   ]
  },
  {
   "cell_type": "code",
   "execution_count": 25,
   "metadata": {},
   "outputs": [
    {
     "name": "stdout",
     "output_type": "stream",
     "text": [
      "SELECT\n",
      "sub.GalaxyID,sub.SnapNum,sub.GroupID,sub.SubGroupNumber,sub.Stars_Mass,sub.SF_Hydrogen,sub.SF_Oxygen,sub.SF_Mass,sub.NSF_Mass,sub.BlackHoleMass,sub.StarFormationRate,mor.KappaCoRot \n",
      "\n",
      "FROM\n",
      "NoAGNL0050N0752_Subhalo as sub,NoAGNL0050N0752_MorphoKinem as mor\n",
      "\n",
      "WHERE\n",
      "sub.SnapNum=28 and sub.SF_Oxygen>0 and sub.SF_Hydrogen>0 and sub.SubGroupNumber = 0 and sub.GalaxyID=mor.GalaxyID\n"
     ]
    }
   ],
   "source": [
    "# Testeo de la query\n",
    "print('SELECT')\n",
    "print(select)\n",
    "print()\n",
    "print('FROM')\n",
    "print(from_table)\n",
    "print()\n",
    "print('WHERE')\n",
    "print(where)"
   ]
  },
  {
   "cell_type": "code",
   "execution_count": 26,
   "metadata": {},
   "outputs": [],
   "source": [
    "# where = 'sub.SnapNum='+str(snap)+' and sub.Stars_Mass>=1e10 and sub.SF_Oxygen>0 and sub.SF_Hydrogen>0 and sub.GalaxyID=mor.GalaxyID and sub.GroupID=fof.GroupID'"
   ]
  },
  {
   "cell_type": "code",
   "execution_count": 27,
   "metadata": {},
   "outputs": [],
   "source": [
    "# print(where)"
   ]
  },
  {
   "cell_type": "markdown",
   "metadata": {},
   "source": [
    "#### Conexión a la base de datos y descarga"
   ]
  },
  {
   "cell_type": "code",
   "execution_count": 28,
   "metadata": {},
   "outputs": [
    {
     "ename": "Exception",
     "evalue": "[b'#SQL= SELECT sub.GalaxyID,sub.SnapNum,sub.GroupID,sub.SubGroupNumber,sub.Stars_Mass,sub.SF_Hydrogen,sub.SF_Oxygen,sub.SF_Mass,sub.NSF_Mass,sub.BlackHoleMass,sub.StarFormationRate,mor.KappaCoRot  FROM NoAGNL0050N0752_Subhalo as sub,NoAGNL0050N0752_MorphoKinem as mor WHERE sub.SnapNum=28 and sub.SF_Oxygen>0 and sub.SF_Hydrogen>0 and sub.SubGroupNumber = 0 and sub.GalaxyID=mor.GalaxyID\\n', b'#MAXROWS UNLIMITED\\n', b'#QUERYTIMEOUT 1800 sec\\n', b'#SQLSTATE S0002\\n', b'#SQLERRORCODE 208\\n', b\"#SQLEXCEPTION =Invalid object name 'NoAGNL0050N0752_MorphoKinem'.\"]",
     "output_type": "error",
     "traceback": [
      "\u001b[0;31m---------------------------------------------------------------------------\u001b[0m",
      "\u001b[0;31mException\u001b[0m                                 Traceback (most recent call last)",
      "Cell \u001b[0;32mIn[28], line 8\u001b[0m\n\u001b[1;32m      5\u001b[0m query \u001b[38;5;241m=\u001b[39m \u001b[38;5;124m'\u001b[39m\u001b[38;5;124mSELECT \u001b[39m\u001b[38;5;124m'\u001b[39m\u001b[38;5;241m+\u001b[39mselect\u001b[38;5;241m+\u001b[39m\u001b[38;5;124m'\u001b[39m\u001b[38;5;124m FROM \u001b[39m\u001b[38;5;124m'\u001b[39m\u001b[38;5;241m+\u001b[39mfrom_table\u001b[38;5;241m+\u001b[39m\u001b[38;5;124m'\u001b[39m\u001b[38;5;124m WHERE \u001b[39m\u001b[38;5;124m'\u001b[39m\u001b[38;5;241m+\u001b[39mwhere\n\u001b[1;32m      7\u001b[0m \u001b[38;5;66;03m# Execute query \u001b[39;00m\n\u001b[0;32m----> 8\u001b[0m exquery \u001b[38;5;241m=\u001b[39m \u001b[43msql\u001b[49m\u001b[38;5;241;43m.\u001b[39;49m\u001b[43mexecute_query\u001b[49m\u001b[43m(\u001b[49m\u001b[43mcon\u001b[49m\u001b[43m,\u001b[49m\u001b[43m \u001b[49m\u001b[43mquery\u001b[49m\u001b[43m)\u001b[49m\n\u001b[1;32m     10\u001b[0m \u001b[38;5;66;03m# List of column names of downloaded data\u001b[39;00m\n\u001b[1;32m     11\u001b[0m colnames\u001b[38;5;241m=\u001b[39m(exquery\u001b[38;5;241m.\u001b[39mview(np\u001b[38;5;241m.\u001b[39mrecarray)\u001b[38;5;241m.\u001b[39mdtype\u001b[38;5;241m.\u001b[39mnames)\n",
      "File \u001b[0;32m~/anaconda3/lib/python3.10/site-packages/eagleSqlTools/_eagleSqlTools.py:134\u001b[0m, in \u001b[0;36mexecute_query\u001b[0;34m(con, sql)\u001b[0m\n\u001b[1;32m    133\u001b[0m \u001b[38;5;28;01mdef\u001b[39;00m \u001b[38;5;21mexecute_query\u001b[39m(con, sql):\n\u001b[0;32m--> 134\u001b[0m     \u001b[38;5;28;01mreturn\u001b[39;00m \u001b[43mcon\u001b[49m\u001b[38;5;241;43m.\u001b[39;49m\u001b[43m_execute_query\u001b[49m\u001b[43m(\u001b[49m\u001b[43msql\u001b[49m\u001b[43m)\u001b[49m\n",
      "File \u001b[0;32m~/anaconda3/lib/python3.10/site-packages/eagleSqlTools/_eagleSqlTools.py:71\u001b[0m, in \u001b[0;36m_WebDBConnection._execute_query\u001b[0;34m(self, sql)\u001b[0m\n\u001b[1;32m     69\u001b[0m line \u001b[38;5;241m=\u001b[39m response\u001b[38;5;241m.\u001b[39mreadline()\n\u001b[1;32m     70\u001b[0m \u001b[38;5;28;01mif\u001b[39;00m \u001b[38;5;28mbytes\u001b[39m(line) \u001b[38;5;241m!=\u001b[39m \u001b[38;5;124mb\u001b[39m\u001b[38;5;124m\"\u001b[39m\u001b[38;5;124m#OK\u001b[39m\u001b[38;5;130;01m\\n\u001b[39;00m\u001b[38;5;124m\"\u001b[39m:\n\u001b[0;32m---> 71\u001b[0m     \u001b[38;5;28;01mraise\u001b[39;00m \u001b[38;5;167;01mException\u001b[39;00m(response\u001b[38;5;241m.\u001b[39mreadlines())\n\u001b[1;32m     73\u001b[0m \u001b[38;5;66;03m# Skip rows until we reach QUERYTIMEOUT\u001b[39;00m\n\u001b[1;32m     74\u001b[0m \u001b[38;5;28;01mwhile\u001b[39;00m \u001b[38;5;28;01mTrue\u001b[39;00m:\n",
      "\u001b[0;31mException\u001b[0m: [b'#SQL= SELECT sub.GalaxyID,sub.SnapNum,sub.GroupID,sub.SubGroupNumber,sub.Stars_Mass,sub.SF_Hydrogen,sub.SF_Oxygen,sub.SF_Mass,sub.NSF_Mass,sub.BlackHoleMass,sub.StarFormationRate,mor.KappaCoRot  FROM NoAGNL0050N0752_Subhalo as sub,NoAGNL0050N0752_MorphoKinem as mor WHERE sub.SnapNum=28 and sub.SF_Oxygen>0 and sub.SF_Hydrogen>0 and sub.SubGroupNumber = 0 and sub.GalaxyID=mor.GalaxyID\\n', b'#MAXROWS UNLIMITED\\n', b'#QUERYTIMEOUT 1800 sec\\n', b'#SQLSTATE S0002\\n', b'#SQLERRORCODE 208\\n', b\"#SQLEXCEPTION =Invalid object name 'NoAGNL0050N0752_MorphoKinem'.\"]"
     ]
    }
   ],
   "source": [
    "# Conectarse a la base de datos\n",
    "con = sql.connect(usr,password=pwd)\n",
    "\n",
    "# Query en SQL\n",
    "query = 'SELECT '+select+' FROM '+from_table+' WHERE '+where\n",
    "\n",
    "# Execute query \n",
    "exquery = sql.execute_query(con, query)\n",
    "\n",
    "# List of column names of downloaded data\n",
    "colnames=(exquery.view(np.recarray).dtype.names)\n",
    "\n",
    "# Dictionary of data\n",
    "mytable={}\n",
    "for name in colnames:\n",
    "    mytable[name]=exquery[name]\n",
    "\n",
    "# dictionary={key1:value,key2:value,....}\n",
    "    "
   ]
  },
  {
   "cell_type": "markdown",
   "metadata": {},
   "source": [
    "#### Guardar los datos en un archivo ascii"
   ]
  },
  {
   "cell_type": "code",
   "execution_count": null,
   "metadata": {},
   "outputs": [],
   "source": [
    "# Abrir el archivo donde se guardarán los datos\n",
    "outf=open(download_folder+filename,'w')\n",
    "\n",
    "# Transformar el diccionario a una tabla ascii\n",
    "data_ascii=Table(mytable)\n",
    "\n",
    "# Escribir los datos al archivo\n",
    "data_ascii.write(outf,format='csv')\n",
    "\n",
    "# Cerrar el archivo\n",
    "outf.close()"
   ]
  },
  {
   "cell_type": "markdown",
   "metadata": {},
   "source": [
    "#### EoP"
   ]
  },
  {
   "cell_type": "code",
   "execution_count": null,
   "metadata": {},
   "outputs": [],
   "source": []
  }
 ],
 "metadata": {
  "kernelspec": {
   "display_name": "Python 3 (ipykernel)",
   "language": "python",
   "name": "python3"
  },
  "language_info": {
   "codemirror_mode": {
    "name": "ipython",
    "version": 3
   },
   "file_extension": ".py",
   "mimetype": "text/x-python",
   "name": "python",
   "nbconvert_exporter": "python",
   "pygments_lexer": "ipython3",
   "version": "3.10.9"
  }
 },
 "nbformat": 4,
 "nbformat_minor": 4
}
