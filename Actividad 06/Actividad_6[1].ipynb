{
 "cells": [
  {
   "cell_type": "markdown",
   "metadata": {},
   "source": [
    "## Actividad 6"
   ]
  },
  {
   "cell_type": "code",
   "execution_count": 1,
   "metadata": {},
   "outputs": [],
   "source": [
    "import numpy as np\n",
    "import pandas as pd\n",
    "from astropy.io import ascii\n",
    "import os\n",
    "import matplotlib.pyplot as plt\n",
    "import plotly.graph_objects as go\n",
    "import Curves2D\n",
    "from matplotlib import colors\n",
    "import matplotlib.ticker as ticker\n",
    "from scipy import interpolate\n",
    "from astropy.table import Table"
   ]
  },
  {
   "cell_type": "markdown",
   "metadata": {},
   "source": [
    "https://plotly.com/python/getting-started/"
   ]
  },
  {
   "cell_type": "markdown",
   "metadata": {},
   "source": [
    "**Fuente de latex para los gráficos. Para algunos caracteres especiale no funciona y hay que cambiar la configuración a False**"
   ]
  },
  {
   "cell_type": "code",
   "execution_count": 2,
   "metadata": {},
   "outputs": [],
   "source": [
    "plt.rcParams['text.usetex'] = False"
   ]
  },
  {
   "cell_type": "markdown",
   "metadata": {},
   "source": [
    "**Uso el script de Lucas Curves2D.py, que está subida al Dropbox**"
   ]
  },
  {
   "cell_type": "code",
   "execution_count": 3,
   "metadata": {},
   "outputs": [],
   "source": [
    "path_lin ='/home/ramiro/Facultad/Tesis/Datos/Actividad 06/' \n",
    "# path_win ="
   ]
  },
  {
   "cell_type": "code",
   "execution_count": 4,
   "metadata": {},
   "outputs": [],
   "source": [
    "path_lin_fig = '/home/ramiro/Facultad/Tesis/Figuras/Actividad 6/'"
   ]
  },
  {
   "cell_type": "markdown",
   "metadata": {},
   "source": [
    "Cargamos la tabla de datos que descargamos:"
   ]
  },
  {
   "cell_type": "code",
   "execution_count": 5,
   "metadata": {},
   "outputs": [],
   "source": [
    "table   = pd.read_csv(path_lin+'Aperturas_RefL0100N1504_snap_28_aperture_30.dat')"
   ]
  },
  {
   "cell_type": "code",
   "execution_count": 6,
   "metadata": {},
   "outputs": [
    {
     "data": {
      "text/html": [
       "<div>\n",
       "<style scoped>\n",
       "    .dataframe tbody tr th:only-of-type {\n",
       "        vertical-align: middle;\n",
       "    }\n",
       "\n",
       "    .dataframe tbody tr th {\n",
       "        vertical-align: top;\n",
       "    }\n",
       "\n",
       "    .dataframe thead th {\n",
       "        text-align: right;\n",
       "    }\n",
       "</style>\n",
       "<table border=\"1\" class=\"dataframe\">\n",
       "  <thead>\n",
       "    <tr style=\"text-align: right;\">\n",
       "      <th></th>\n",
       "      <th>GalaxyID</th>\n",
       "      <th>GroupID</th>\n",
       "      <th>SnapNum</th>\n",
       "      <th>Redshift</th>\n",
       "      <th>SubGroupNumber</th>\n",
       "      <th>CentreOfPotential_x</th>\n",
       "      <th>CentreOfPotential_y</th>\n",
       "      <th>CentreOfPotential_z</th>\n",
       "      <th>Stars_Mass</th>\n",
       "      <th>SF_Mass</th>\n",
       "      <th>...</th>\n",
       "      <th>NSF_Hydrogen</th>\n",
       "      <th>NSF_Oxygen</th>\n",
       "      <th>NSF_Metallicity</th>\n",
       "      <th>StarFormationRate</th>\n",
       "      <th>InitialMassWeightedStellarAge</th>\n",
       "      <th>ApertureSize</th>\n",
       "      <th>Mass_Star</th>\n",
       "      <th>SFR_30pkpc</th>\n",
       "      <th>Group_R_Crit200</th>\n",
       "      <th>Group_M_Crit200</th>\n",
       "    </tr>\n",
       "  </thead>\n",
       "  <tbody>\n",
       "    <tr>\n",
       "      <th>1</th>\n",
       "      <td>9508202</td>\n",
       "      <td>28000000000002</td>\n",
       "      <td>28</td>\n",
       "      <td>2.220446e-16</td>\n",
       "      <td>7</td>\n",
       "      <td>6.904262</td>\n",
       "      <td>35.705917</td>\n",
       "      <td>57.397373</td>\n",
       "      <td>7.604099e+10</td>\n",
       "      <td>2.281596e+09</td>\n",
       "      <td>...</td>\n",
       "      <td>0.727174</td>\n",
       "      <td>0.004796</td>\n",
       "      <td>0.011342</td>\n",
       "      <td>0.841832</td>\n",
       "      <td>9.455478</td>\n",
       "      <td>30</td>\n",
       "      <td>6.641890e+10</td>\n",
       "      <td>0.823222</td>\n",
       "      <td>1411.312012</td>\n",
       "      <td>3.002119e+14</td>\n",
       "    </tr>\n",
       "    <tr>\n",
       "      <th>2</th>\n",
       "      <td>9512113</td>\n",
       "      <td>28000000000002</td>\n",
       "      <td>28</td>\n",
       "      <td>2.220446e-16</td>\n",
       "      <td>8</td>\n",
       "      <td>8.682913</td>\n",
       "      <td>35.504921</td>\n",
       "      <td>54.217369</td>\n",
       "      <td>1.345128e+11</td>\n",
       "      <td>1.514760e+10</td>\n",
       "      <td>...</td>\n",
       "      <td>0.696796</td>\n",
       "      <td>0.010628</td>\n",
       "      <td>0.024796</td>\n",
       "      <td>12.094972</td>\n",
       "      <td>7.656161</td>\n",
       "      <td>30</td>\n",
       "      <td>1.183275e+11</td>\n",
       "      <td>10.984530</td>\n",
       "      <td>1411.312012</td>\n",
       "      <td>3.002119e+14</td>\n",
       "    </tr>\n",
       "    <tr>\n",
       "      <th>3</th>\n",
       "      <td>9517736</td>\n",
       "      <td>28000000000002</td>\n",
       "      <td>28</td>\n",
       "      <td>2.220446e-16</td>\n",
       "      <td>9</td>\n",
       "      <td>8.278317</td>\n",
       "      <td>37.063808</td>\n",
       "      <td>54.914932</td>\n",
       "      <td>2.232997e+10</td>\n",
       "      <td>2.754609e+09</td>\n",
       "      <td>...</td>\n",
       "      <td>0.714222</td>\n",
       "      <td>0.007443</td>\n",
       "      <td>0.017283</td>\n",
       "      <td>1.334875</td>\n",
       "      <td>8.117089</td>\n",
       "      <td>30</td>\n",
       "      <td>2.024596e+10</td>\n",
       "      <td>1.322288</td>\n",
       "      <td>1411.312012</td>\n",
       "      <td>3.002119e+14</td>\n",
       "    </tr>\n",
       "    <tr>\n",
       "      <th>24</th>\n",
       "      <td>14957972</td>\n",
       "      <td>28000000000002</td>\n",
       "      <td>28</td>\n",
       "      <td>2.220446e-16</td>\n",
       "      <td>5</td>\n",
       "      <td>6.932319</td>\n",
       "      <td>35.628769</td>\n",
       "      <td>56.786160</td>\n",
       "      <td>5.408647e+10</td>\n",
       "      <td>2.563663e+09</td>\n",
       "      <td>...</td>\n",
       "      <td>0.734066</td>\n",
       "      <td>0.003858</td>\n",
       "      <td>0.008299</td>\n",
       "      <td>1.392074</td>\n",
       "      <td>9.234837</td>\n",
       "      <td>30</td>\n",
       "      <td>4.320196e+10</td>\n",
       "      <td>0.999526</td>\n",
       "      <td>1411.312012</td>\n",
       "      <td>3.002119e+14</td>\n",
       "    </tr>\n",
       "    <tr>\n",
       "      <th>25</th>\n",
       "      <td>21573586</td>\n",
       "      <td>28000000000002</td>\n",
       "      <td>28</td>\n",
       "      <td>2.220446e-16</td>\n",
       "      <td>0</td>\n",
       "      <td>8.865488</td>\n",
       "      <td>35.284275</td>\n",
       "      <td>54.431995</td>\n",
       "      <td>1.665042e+12</td>\n",
       "      <td>3.504242e+10</td>\n",
       "      <td>...</td>\n",
       "      <td>0.744971</td>\n",
       "      <td>0.001391</td>\n",
       "      <td>0.003191</td>\n",
       "      <td>18.168200</td>\n",
       "      <td>9.314658</td>\n",
       "      <td>30</td>\n",
       "      <td>2.890146e+11</td>\n",
       "      <td>0.852622</td>\n",
       "      <td>1411.312012</td>\n",
       "      <td>3.002119e+14</td>\n",
       "    </tr>\n",
       "    <tr>\n",
       "      <th>...</th>\n",
       "      <td>...</td>\n",
       "      <td>...</td>\n",
       "      <td>...</td>\n",
       "      <td>...</td>\n",
       "      <td>...</td>\n",
       "      <td>...</td>\n",
       "      <td>...</td>\n",
       "      <td>...</td>\n",
       "      <td>...</td>\n",
       "      <td>...</td>\n",
       "      <td>...</td>\n",
       "      <td>...</td>\n",
       "      <td>...</td>\n",
       "      <td>...</td>\n",
       "      <td>...</td>\n",
       "      <td>...</td>\n",
       "      <td>...</td>\n",
       "      <td>...</td>\n",
       "      <td>...</td>\n",
       "      <td>...</td>\n",
       "      <td>...</td>\n",
       "    </tr>\n",
       "    <tr>\n",
       "      <th>13131</th>\n",
       "      <td>10365607</td>\n",
       "      <td>28000000002202</td>\n",
       "      <td>28</td>\n",
       "      <td>2.220446e-16</td>\n",
       "      <td>0</td>\n",
       "      <td>35.516003</td>\n",
       "      <td>10.797990</td>\n",
       "      <td>34.600616</td>\n",
       "      <td>1.226640e+10</td>\n",
       "      <td>1.538676e+09</td>\n",
       "      <td>...</td>\n",
       "      <td>0.740806</td>\n",
       "      <td>0.002266</td>\n",
       "      <td>0.005160</td>\n",
       "      <td>0.456897</td>\n",
       "      <td>7.618259</td>\n",
       "      <td>30</td>\n",
       "      <td>1.191011e+10</td>\n",
       "      <td>0.433110</td>\n",
       "      <td>179.046371</td>\n",
       "      <td>6.129222e+11</td>\n",
       "    </tr>\n",
       "    <tr>\n",
       "      <th>13145</th>\n",
       "      <td>10859653</td>\n",
       "      <td>28000000002570</td>\n",
       "      <td>28</td>\n",
       "      <td>2.220446e-16</td>\n",
       "      <td>0</td>\n",
       "      <td>61.355499</td>\n",
       "      <td>48.616516</td>\n",
       "      <td>65.236801</td>\n",
       "      <td>1.094640e+10</td>\n",
       "      <td>3.207207e+09</td>\n",
       "      <td>...</td>\n",
       "      <td>0.741599</td>\n",
       "      <td>0.002183</td>\n",
       "      <td>0.004858</td>\n",
       "      <td>1.192947</td>\n",
       "      <td>6.309848</td>\n",
       "      <td>30</td>\n",
       "      <td>1.063636e+10</td>\n",
       "      <td>1.192947</td>\n",
       "      <td>168.661011</td>\n",
       "      <td>5.124048e+11</td>\n",
       "    </tr>\n",
       "    <tr>\n",
       "      <th>13155</th>\n",
       "      <td>11104654</td>\n",
       "      <td>28000000002905</td>\n",
       "      <td>28</td>\n",
       "      <td>2.220446e-16</td>\n",
       "      <td>0</td>\n",
       "      <td>97.197350</td>\n",
       "      <td>82.709518</td>\n",
       "      <td>43.676567</td>\n",
       "      <td>1.200869e+10</td>\n",
       "      <td>1.247963e+09</td>\n",
       "      <td>...</td>\n",
       "      <td>0.743705</td>\n",
       "      <td>0.001579</td>\n",
       "      <td>0.003758</td>\n",
       "      <td>0.506203</td>\n",
       "      <td>6.814752</td>\n",
       "      <td>30</td>\n",
       "      <td>1.192049e+10</td>\n",
       "      <td>0.506203</td>\n",
       "      <td>159.761032</td>\n",
       "      <td>4.354551e+11</td>\n",
       "    </tr>\n",
       "    <tr>\n",
       "      <th>13164</th>\n",
       "      <td>11247394</td>\n",
       "      <td>28000000003127</td>\n",
       "      <td>28</td>\n",
       "      <td>2.220446e-16</td>\n",
       "      <td>0</td>\n",
       "      <td>88.764885</td>\n",
       "      <td>47.226864</td>\n",
       "      <td>81.905136</td>\n",
       "      <td>1.186733e+10</td>\n",
       "      <td>2.167418e+09</td>\n",
       "      <td>...</td>\n",
       "      <td>0.737761</td>\n",
       "      <td>0.002874</td>\n",
       "      <td>0.006602</td>\n",
       "      <td>0.686905</td>\n",
       "      <td>6.787498</td>\n",
       "      <td>30</td>\n",
       "      <td>1.124763e+10</td>\n",
       "      <td>0.604550</td>\n",
       "      <td>152.119400</td>\n",
       "      <td>3.759434e+11</td>\n",
       "    </tr>\n",
       "    <tr>\n",
       "      <th>13199</th>\n",
       "      <td>12002343</td>\n",
       "      <td>28000000004258</td>\n",
       "      <td>28</td>\n",
       "      <td>2.220446e-16</td>\n",
       "      <td>0</td>\n",
       "      <td>81.653595</td>\n",
       "      <td>7.551041</td>\n",
       "      <td>69.749985</td>\n",
       "      <td>1.051248e+10</td>\n",
       "      <td>5.572393e+08</td>\n",
       "      <td>...</td>\n",
       "      <td>0.695981</td>\n",
       "      <td>0.010365</td>\n",
       "      <td>0.025381</td>\n",
       "      <td>0.195091</td>\n",
       "      <td>7.920490</td>\n",
       "      <td>30</td>\n",
       "      <td>1.030419e+10</td>\n",
       "      <td>0.195091</td>\n",
       "      <td>139.948212</td>\n",
       "      <td>2.927332e+11</td>\n",
       "    </tr>\n",
       "  </tbody>\n",
       "</table>\n",
       "<p>3093 rows × 32 columns</p>\n",
       "</div>"
      ],
      "text/plain": [
       "       GalaxyID         GroupID  SnapNum      Redshift  SubGroupNumber  \\\n",
       "1       9508202  28000000000002       28  2.220446e-16               7   \n",
       "2       9512113  28000000000002       28  2.220446e-16               8   \n",
       "3       9517736  28000000000002       28  2.220446e-16               9   \n",
       "24     14957972  28000000000002       28  2.220446e-16               5   \n",
       "25     21573586  28000000000002       28  2.220446e-16               0   \n",
       "...         ...             ...      ...           ...             ...   \n",
       "13131  10365607  28000000002202       28  2.220446e-16               0   \n",
       "13145  10859653  28000000002570       28  2.220446e-16               0   \n",
       "13155  11104654  28000000002905       28  2.220446e-16               0   \n",
       "13164  11247394  28000000003127       28  2.220446e-16               0   \n",
       "13199  12002343  28000000004258       28  2.220446e-16               0   \n",
       "\n",
       "       CentreOfPotential_x  CentreOfPotential_y  CentreOfPotential_z  \\\n",
       "1                 6.904262            35.705917            57.397373   \n",
       "2                 8.682913            35.504921            54.217369   \n",
       "3                 8.278317            37.063808            54.914932   \n",
       "24                6.932319            35.628769            56.786160   \n",
       "25                8.865488            35.284275            54.431995   \n",
       "...                    ...                  ...                  ...   \n",
       "13131            35.516003            10.797990            34.600616   \n",
       "13145            61.355499            48.616516            65.236801   \n",
       "13155            97.197350            82.709518            43.676567   \n",
       "13164            88.764885            47.226864            81.905136   \n",
       "13199            81.653595             7.551041            69.749985   \n",
       "\n",
       "         Stars_Mass       SF_Mass  ...  NSF_Hydrogen  NSF_Oxygen  \\\n",
       "1      7.604099e+10  2.281596e+09  ...      0.727174    0.004796   \n",
       "2      1.345128e+11  1.514760e+10  ...      0.696796    0.010628   \n",
       "3      2.232997e+10  2.754609e+09  ...      0.714222    0.007443   \n",
       "24     5.408647e+10  2.563663e+09  ...      0.734066    0.003858   \n",
       "25     1.665042e+12  3.504242e+10  ...      0.744971    0.001391   \n",
       "...             ...           ...  ...           ...         ...   \n",
       "13131  1.226640e+10  1.538676e+09  ...      0.740806    0.002266   \n",
       "13145  1.094640e+10  3.207207e+09  ...      0.741599    0.002183   \n",
       "13155  1.200869e+10  1.247963e+09  ...      0.743705    0.001579   \n",
       "13164  1.186733e+10  2.167418e+09  ...      0.737761    0.002874   \n",
       "13199  1.051248e+10  5.572393e+08  ...      0.695981    0.010365   \n",
       "\n",
       "       NSF_Metallicity  StarFormationRate  InitialMassWeightedStellarAge  \\\n",
       "1             0.011342           0.841832                       9.455478   \n",
       "2             0.024796          12.094972                       7.656161   \n",
       "3             0.017283           1.334875                       8.117089   \n",
       "24            0.008299           1.392074                       9.234837   \n",
       "25            0.003191          18.168200                       9.314658   \n",
       "...                ...                ...                            ...   \n",
       "13131         0.005160           0.456897                       7.618259   \n",
       "13145         0.004858           1.192947                       6.309848   \n",
       "13155         0.003758           0.506203                       6.814752   \n",
       "13164         0.006602           0.686905                       6.787498   \n",
       "13199         0.025381           0.195091                       7.920490   \n",
       "\n",
       "       ApertureSize     Mass_Star  SFR_30pkpc  Group_R_Crit200  \\\n",
       "1                30  6.641890e+10    0.823222      1411.312012   \n",
       "2                30  1.183275e+11   10.984530      1411.312012   \n",
       "3                30  2.024596e+10    1.322288      1411.312012   \n",
       "24               30  4.320196e+10    0.999526      1411.312012   \n",
       "25               30  2.890146e+11    0.852622      1411.312012   \n",
       "...             ...           ...         ...              ...   \n",
       "13131            30  1.191011e+10    0.433110       179.046371   \n",
       "13145            30  1.063636e+10    1.192947       168.661011   \n",
       "13155            30  1.192049e+10    0.506203       159.761032   \n",
       "13164            30  1.124763e+10    0.604550       152.119400   \n",
       "13199            30  1.030419e+10    0.195091       139.948212   \n",
       "\n",
       "       Group_M_Crit200  \n",
       "1         3.002119e+14  \n",
       "2         3.002119e+14  \n",
       "3         3.002119e+14  \n",
       "24        3.002119e+14  \n",
       "25        3.002119e+14  \n",
       "...                ...  \n",
       "13131     6.129222e+11  \n",
       "13145     5.124048e+11  \n",
       "13155     4.354551e+11  \n",
       "13164     3.759434e+11  \n",
       "13199     2.927332e+11  \n",
       "\n",
       "[3093 rows x 32 columns]"
      ]
     },
     "execution_count": 6,
     "metadata": {},
     "output_type": "execute_result"
    }
   ],
   "source": [
    "DATA_sub = table[(table['Stars_Mass']>=1e10)&(table['SF_Mass']>0)].copy()\n",
    "DATA_sub"
   ]
  },
  {
   "cell_type": "code",
   "execution_count": 7,
   "metadata": {},
   "outputs": [],
   "source": [
    "data = pd.read_csv(path_lin+'Actividad_5_v2_Parte_2_modificacion_12_10_22.dat')"
   ]
  },
  {
   "cell_type": "code",
   "execution_count": 8,
   "metadata": {},
   "outputs": [
    {
     "data": {
      "text/html": [
       "<div>\n",
       "<style scoped>\n",
       "    .dataframe tbody tr th:only-of-type {\n",
       "        vertical-align: middle;\n",
       "    }\n",
       "\n",
       "    .dataframe tbody tr th {\n",
       "        vertical-align: top;\n",
       "    }\n",
       "\n",
       "    .dataframe thead th {\n",
       "        text-align: right;\n",
       "    }\n",
       "</style>\n",
       "<table border=\"1\" class=\"dataframe\">\n",
       "  <thead>\n",
       "    <tr style=\"text-align: right;\">\n",
       "      <th></th>\n",
       "      <th>GalaxyID_test</th>\n",
       "      <th>Mass_Host</th>\n",
       "      <th>SubGroupNumber</th>\n",
       "      <th>GroupID_test</th>\n",
       "      <th>GalaxyID_V1</th>\n",
       "      <th>GalaxyID_V2</th>\n",
       "      <th>R_1[kpc]</th>\n",
       "      <th>R_2[kpc]</th>\n",
       "      <th>r_sep_1</th>\n",
       "      <th>r_sep_2</th>\n",
       "      <th>mu_1</th>\n",
       "      <th>mu_2</th>\n",
       "      <th>N_1</th>\n",
       "      <th>N_2</th>\n",
       "      <th>N_3</th>\n",
       "    </tr>\n",
       "  </thead>\n",
       "  <tbody>\n",
       "    <tr>\n",
       "      <th>0</th>\n",
       "      <td>9498012</td>\n",
       "      <td>1.538708e+11</td>\n",
       "      <td>6</td>\n",
       "      <td>28000000000002</td>\n",
       "      <td>9532694</td>\n",
       "      <td>3461244</td>\n",
       "      <td>505.941476</td>\n",
       "      <td>518.790785</td>\n",
       "      <td>40.259414</td>\n",
       "      <td>48.797400</td>\n",
       "      <td>0.649263</td>\n",
       "      <td>0.125630</td>\n",
       "      <td>18</td>\n",
       "      <td>35</td>\n",
       "      <td>41</td>\n",
       "    </tr>\n",
       "    <tr>\n",
       "      <th>1</th>\n",
       "      <td>9508202</td>\n",
       "      <td>7.604099e+10</td>\n",
       "      <td>7</td>\n",
       "      <td>28000000000002</td>\n",
       "      <td>9562859</td>\n",
       "      <td>14910180</td>\n",
       "      <td>257.704984</td>\n",
       "      <td>463.580494</td>\n",
       "      <td>21.223224</td>\n",
       "      <td>33.711917</td>\n",
       "      <td>0.315459</td>\n",
       "      <td>0.823968</td>\n",
       "      <td>4</td>\n",
       "      <td>4</td>\n",
       "      <td>16</td>\n",
       "    </tr>\n",
       "    <tr>\n",
       "      <th>2</th>\n",
       "      <td>9512113</td>\n",
       "      <td>1.345128e+11</td>\n",
       "      <td>8</td>\n",
       "      <td>28000000000002</td>\n",
       "      <td>3467928</td>\n",
       "      <td>9554089</td>\n",
       "      <td>150.475390</td>\n",
       "      <td>231.955551</td>\n",
       "      <td>13.328678</td>\n",
       "      <td>18.674313</td>\n",
       "      <td>0.120308</td>\n",
       "      <td>0.314345</td>\n",
       "      <td>20</td>\n",
       "      <td>34</td>\n",
       "      <td>40</td>\n",
       "    </tr>\n",
       "    <tr>\n",
       "      <th>3</th>\n",
       "      <td>9517736</td>\n",
       "      <td>2.232997e+10</td>\n",
       "      <td>9</td>\n",
       "      <td>28000000000002</td>\n",
       "      <td>9537911</td>\n",
       "      <td>9542932</td>\n",
       "      <td>423.762584</td>\n",
       "      <td>677.966783</td>\n",
       "      <td>37.490817</td>\n",
       "      <td>56.695098</td>\n",
       "      <td>1.999591</td>\n",
       "      <td>1.722059</td>\n",
       "      <td>4</td>\n",
       "      <td>64</td>\n",
       "      <td>124</td>\n",
       "    </tr>\n",
       "    <tr>\n",
       "      <th>4</th>\n",
       "      <td>9519365</td>\n",
       "      <td>4.833353e+10</td>\n",
       "      <td>10</td>\n",
       "      <td>28000000000002</td>\n",
       "      <td>9542932</td>\n",
       "      <td>9539937</td>\n",
       "      <td>634.224143</td>\n",
       "      <td>952.578742</td>\n",
       "      <td>38.135130</td>\n",
       "      <td>67.823802</td>\n",
       "      <td>0.795587</td>\n",
       "      <td>0.615451</td>\n",
       "      <td>2</td>\n",
       "      <td>42</td>\n",
       "      <td>77</td>\n",
       "    </tr>\n",
       "    <tr>\n",
       "      <th>...</th>\n",
       "      <td>...</td>\n",
       "      <td>...</td>\n",
       "      <td>...</td>\n",
       "      <td>...</td>\n",
       "      <td>...</td>\n",
       "      <td>...</td>\n",
       "      <td>...</td>\n",
       "      <td>...</td>\n",
       "      <td>...</td>\n",
       "      <td>...</td>\n",
       "      <td>...</td>\n",
       "      <td>...</td>\n",
       "      <td>...</td>\n",
       "      <td>...</td>\n",
       "      <td>...</td>\n",
       "    </tr>\n",
       "    <tr>\n",
       "      <th>3633</th>\n",
       "      <td>10365607</td>\n",
       "      <td>1.226640e+10</td>\n",
       "      <td>0</td>\n",
       "      <td>28000000002202</td>\n",
       "      <td>11089791</td>\n",
       "      <td>18478750</td>\n",
       "      <td>1646.564354</td>\n",
       "      <td>1911.729539</td>\n",
       "      <td>176.116165</td>\n",
       "      <td>212.966353</td>\n",
       "      <td>0.550852</td>\n",
       "      <td>2.058146</td>\n",
       "      <td>0</td>\n",
       "      <td>2</td>\n",
       "      <td>3</td>\n",
       "    </tr>\n",
       "    <tr>\n",
       "      <th>3634</th>\n",
       "      <td>10859653</td>\n",
       "      <td>1.094640e+10</td>\n",
       "      <td>0</td>\n",
       "      <td>28000000002570</td>\n",
       "      <td>11932563</td>\n",
       "      <td>9779252</td>\n",
       "      <td>784.391114</td>\n",
       "      <td>1526.021178</td>\n",
       "      <td>88.020495</td>\n",
       "      <td>148.669482</td>\n",
       "      <td>0.212703</td>\n",
       "      <td>2.014763</td>\n",
       "      <td>1</td>\n",
       "      <td>2</td>\n",
       "      <td>3</td>\n",
       "    </tr>\n",
       "    <tr>\n",
       "      <th>3635</th>\n",
       "      <td>11104654</td>\n",
       "      <td>1.200869e+10</td>\n",
       "      <td>0</td>\n",
       "      <td>28000000002905</td>\n",
       "      <td>9034191</td>\n",
       "      <td>9035302</td>\n",
       "      <td>1503.463598</td>\n",
       "      <td>1552.982660</td>\n",
       "      <td>167.615303</td>\n",
       "      <td>169.120146</td>\n",
       "      <td>1.657043</td>\n",
       "      <td>0.678887</td>\n",
       "      <td>0</td>\n",
       "      <td>2</td>\n",
       "      <td>5</td>\n",
       "    </tr>\n",
       "    <tr>\n",
       "      <th>3636</th>\n",
       "      <td>11247394</td>\n",
       "      <td>1.186733e+10</td>\n",
       "      <td>0</td>\n",
       "      <td>28000000003127</td>\n",
       "      <td>13476191</td>\n",
       "      <td>18043220</td>\n",
       "      <td>562.608513</td>\n",
       "      <td>2053.687348</td>\n",
       "      <td>39.664941</td>\n",
       "      <td>123.996389</td>\n",
       "      <td>0.282211</td>\n",
       "      <td>4.079843</td>\n",
       "      <td>1</td>\n",
       "      <td>1</td>\n",
       "      <td>7</td>\n",
       "    </tr>\n",
       "    <tr>\n",
       "      <th>3637</th>\n",
       "      <td>12002343</td>\n",
       "      <td>1.051248e+10</td>\n",
       "      <td>0</td>\n",
       "      <td>28000000004258</td>\n",
       "      <td>9319534</td>\n",
       "      <td>3001795</td>\n",
       "      <td>576.452593</td>\n",
       "      <td>587.156084</td>\n",
       "      <td>67.695244</td>\n",
       "      <td>80.384446</td>\n",
       "      <td>2.021934</td>\n",
       "      <td>0.414397</td>\n",
       "      <td>2</td>\n",
       "      <td>25</td>\n",
       "      <td>39</td>\n",
       "    </tr>\n",
       "  </tbody>\n",
       "</table>\n",
       "<p>3638 rows × 15 columns</p>\n",
       "</div>"
      ],
      "text/plain": [
       "      GalaxyID_test     Mass_Host  SubGroupNumber    GroupID_test  \\\n",
       "0           9498012  1.538708e+11               6  28000000000002   \n",
       "1           9508202  7.604099e+10               7  28000000000002   \n",
       "2           9512113  1.345128e+11               8  28000000000002   \n",
       "3           9517736  2.232997e+10               9  28000000000002   \n",
       "4           9519365  4.833353e+10              10  28000000000002   \n",
       "...             ...           ...             ...             ...   \n",
       "3633       10365607  1.226640e+10               0  28000000002202   \n",
       "3634       10859653  1.094640e+10               0  28000000002570   \n",
       "3635       11104654  1.200869e+10               0  28000000002905   \n",
       "3636       11247394  1.186733e+10               0  28000000003127   \n",
       "3637       12002343  1.051248e+10               0  28000000004258   \n",
       "\n",
       "      GalaxyID_V1  GalaxyID_V2     R_1[kpc]     R_2[kpc]     r_sep_1  \\\n",
       "0         9532694      3461244   505.941476   518.790785   40.259414   \n",
       "1         9562859     14910180   257.704984   463.580494   21.223224   \n",
       "2         3467928      9554089   150.475390   231.955551   13.328678   \n",
       "3         9537911      9542932   423.762584   677.966783   37.490817   \n",
       "4         9542932      9539937   634.224143   952.578742   38.135130   \n",
       "...           ...          ...          ...          ...         ...   \n",
       "3633     11089791     18478750  1646.564354  1911.729539  176.116165   \n",
       "3634     11932563      9779252   784.391114  1526.021178   88.020495   \n",
       "3635      9034191      9035302  1503.463598  1552.982660  167.615303   \n",
       "3636     13476191     18043220   562.608513  2053.687348   39.664941   \n",
       "3637      9319534      3001795   576.452593   587.156084   67.695244   \n",
       "\n",
       "         r_sep_2      mu_1      mu_2  N_1  N_2  N_3  \n",
       "0      48.797400  0.649263  0.125630   18   35   41  \n",
       "1      33.711917  0.315459  0.823968    4    4   16  \n",
       "2      18.674313  0.120308  0.314345   20   34   40  \n",
       "3      56.695098  1.999591  1.722059    4   64  124  \n",
       "4      67.823802  0.795587  0.615451    2   42   77  \n",
       "...          ...       ...       ...  ...  ...  ...  \n",
       "3633  212.966353  0.550852  2.058146    0    2    3  \n",
       "3634  148.669482  0.212703  2.014763    1    2    3  \n",
       "3635  169.120146  1.657043  0.678887    0    2    5  \n",
       "3636  123.996389  0.282211  4.079843    1    1    7  \n",
       "3637   80.384446  2.021934  0.414397    2   25   39  \n",
       "\n",
       "[3638 rows x 15 columns]"
      ]
     },
     "execution_count": 8,
     "metadata": {},
     "output_type": "execute_result"
    }
   ],
   "source": [
    "DATA = data.copy()\n",
    "DATA"
   ]
  },
  {
   "cell_type": "code",
   "execution_count": 9,
   "metadata": {},
   "outputs": [],
   "source": [
    "merge = pd.merge(left=DATA_sub,right=DATA, left_on='GalaxyID', right_on='GalaxyID_test')"
   ]
  },
  {
   "cell_type": "code",
   "execution_count": 10,
   "metadata": {},
   "outputs": [],
   "source": [
    "# merge = DATA_sub.copy()"
   ]
  },
  {
   "cell_type": "markdown",
   "metadata": {},
   "source": [
    "Creo la columna de la metalicidad componente star forming "
   ]
  },
  {
   "cell_type": "code",
   "execution_count": 11,
   "metadata": {},
   "outputs": [
    {
     "data": {
      "text/html": [
       "<div>\n",
       "<style scoped>\n",
       "    .dataframe tbody tr th:only-of-type {\n",
       "        vertical-align: middle;\n",
       "    }\n",
       "\n",
       "    .dataframe tbody tr th {\n",
       "        vertical-align: top;\n",
       "    }\n",
       "\n",
       "    .dataframe thead th {\n",
       "        text-align: right;\n",
       "    }\n",
       "</style>\n",
       "<table border=\"1\" class=\"dataframe\">\n",
       "  <thead>\n",
       "    <tr style=\"text-align: right;\">\n",
       "      <th></th>\n",
       "      <th>GalaxyID</th>\n",
       "      <th>GroupID</th>\n",
       "      <th>SnapNum</th>\n",
       "      <th>Redshift</th>\n",
       "      <th>SubGroupNumber_x</th>\n",
       "      <th>CentreOfPotential_x</th>\n",
       "      <th>CentreOfPotential_y</th>\n",
       "      <th>CentreOfPotential_z</th>\n",
       "      <th>Stars_Mass</th>\n",
       "      <th>SF_Mass</th>\n",
       "      <th>...</th>\n",
       "      <th>R_1[kpc]</th>\n",
       "      <th>R_2[kpc]</th>\n",
       "      <th>r_sep_1</th>\n",
       "      <th>r_sep_2</th>\n",
       "      <th>mu_1</th>\n",
       "      <th>mu_2</th>\n",
       "      <th>N_1</th>\n",
       "      <th>N_2</th>\n",
       "      <th>N_3</th>\n",
       "      <th>sf_metalicity</th>\n",
       "    </tr>\n",
       "  </thead>\n",
       "  <tbody>\n",
       "    <tr>\n",
       "      <th>0</th>\n",
       "      <td>9508202</td>\n",
       "      <td>28000000000002</td>\n",
       "      <td>28</td>\n",
       "      <td>2.220446e-16</td>\n",
       "      <td>7</td>\n",
       "      <td>6.904262</td>\n",
       "      <td>35.705917</td>\n",
       "      <td>57.397373</td>\n",
       "      <td>7.604099e+10</td>\n",
       "      <td>2.281596e+09</td>\n",
       "      <td>...</td>\n",
       "      <td>257.704984</td>\n",
       "      <td>463.580494</td>\n",
       "      <td>21.223224</td>\n",
       "      <td>33.711917</td>\n",
       "      <td>0.315459</td>\n",
       "      <td>0.823968</td>\n",
       "      <td>4</td>\n",
       "      <td>4</td>\n",
       "      <td>16</td>\n",
       "      <td>9.079824</td>\n",
       "    </tr>\n",
       "    <tr>\n",
       "      <th>1</th>\n",
       "      <td>9512113</td>\n",
       "      <td>28000000000002</td>\n",
       "      <td>28</td>\n",
       "      <td>2.220446e-16</td>\n",
       "      <td>8</td>\n",
       "      <td>8.682913</td>\n",
       "      <td>35.504921</td>\n",
       "      <td>54.217369</td>\n",
       "      <td>1.345128e+11</td>\n",
       "      <td>1.514760e+10</td>\n",
       "      <td>...</td>\n",
       "      <td>150.475390</td>\n",
       "      <td>231.955551</td>\n",
       "      <td>13.328678</td>\n",
       "      <td>18.674313</td>\n",
       "      <td>0.120308</td>\n",
       "      <td>0.314345</td>\n",
       "      <td>20</td>\n",
       "      <td>34</td>\n",
       "      <td>40</td>\n",
       "      <td>9.246274</td>\n",
       "    </tr>\n",
       "    <tr>\n",
       "      <th>2</th>\n",
       "      <td>9517736</td>\n",
       "      <td>28000000000002</td>\n",
       "      <td>28</td>\n",
       "      <td>2.220446e-16</td>\n",
       "      <td>9</td>\n",
       "      <td>8.278317</td>\n",
       "      <td>37.063808</td>\n",
       "      <td>54.914932</td>\n",
       "      <td>2.232997e+10</td>\n",
       "      <td>2.754609e+09</td>\n",
       "      <td>...</td>\n",
       "      <td>423.762584</td>\n",
       "      <td>677.966783</td>\n",
       "      <td>37.490817</td>\n",
       "      <td>56.695098</td>\n",
       "      <td>1.999591</td>\n",
       "      <td>1.722059</td>\n",
       "      <td>4</td>\n",
       "      <td>64</td>\n",
       "      <td>124</td>\n",
       "      <td>9.050028</td>\n",
       "    </tr>\n",
       "    <tr>\n",
       "      <th>3</th>\n",
       "      <td>14957972</td>\n",
       "      <td>28000000000002</td>\n",
       "      <td>28</td>\n",
       "      <td>2.220446e-16</td>\n",
       "      <td>5</td>\n",
       "      <td>6.932319</td>\n",
       "      <td>35.628769</td>\n",
       "      <td>56.786160</td>\n",
       "      <td>5.408647e+10</td>\n",
       "      <td>2.563663e+09</td>\n",
       "      <td>...</td>\n",
       "      <td>506.283117</td>\n",
       "      <td>598.622599</td>\n",
       "      <td>28.819485</td>\n",
       "      <td>37.510623</td>\n",
       "      <td>1.158429</td>\n",
       "      <td>0.443508</td>\n",
       "      <td>6</td>\n",
       "      <td>8</td>\n",
       "      <td>31</td>\n",
       "      <td>9.087593</td>\n",
       "    </tr>\n",
       "    <tr>\n",
       "      <th>4</th>\n",
       "      <td>21573586</td>\n",
       "      <td>28000000000002</td>\n",
       "      <td>28</td>\n",
       "      <td>2.220446e-16</td>\n",
       "      <td>0</td>\n",
       "      <td>8.865488</td>\n",
       "      <td>35.284275</td>\n",
       "      <td>54.431995</td>\n",
       "      <td>1.665042e+12</td>\n",
       "      <td>3.504242e+10</td>\n",
       "      <td>...</td>\n",
       "      <td>611.992525</td>\n",
       "      <td>1416.240833</td>\n",
       "      <td>3.911029</td>\n",
       "      <td>8.801750</td>\n",
       "      <td>0.225328</td>\n",
       "      <td>0.132064</td>\n",
       "      <td>1</td>\n",
       "      <td>2</td>\n",
       "      <td>2</td>\n",
       "      <td>9.020433</td>\n",
       "    </tr>\n",
       "    <tr>\n",
       "      <th>...</th>\n",
       "      <td>...</td>\n",
       "      <td>...</td>\n",
       "      <td>...</td>\n",
       "      <td>...</td>\n",
       "      <td>...</td>\n",
       "      <td>...</td>\n",
       "      <td>...</td>\n",
       "      <td>...</td>\n",
       "      <td>...</td>\n",
       "      <td>...</td>\n",
       "      <td>...</td>\n",
       "      <td>...</td>\n",
       "      <td>...</td>\n",
       "      <td>...</td>\n",
       "      <td>...</td>\n",
       "      <td>...</td>\n",
       "      <td>...</td>\n",
       "      <td>...</td>\n",
       "      <td>...</td>\n",
       "      <td>...</td>\n",
       "      <td>...</td>\n",
       "    </tr>\n",
       "    <tr>\n",
       "      <th>3088</th>\n",
       "      <td>10365607</td>\n",
       "      <td>28000000002202</td>\n",
       "      <td>28</td>\n",
       "      <td>2.220446e-16</td>\n",
       "      <td>0</td>\n",
       "      <td>35.516003</td>\n",
       "      <td>10.797990</td>\n",
       "      <td>34.600616</td>\n",
       "      <td>1.226640e+10</td>\n",
       "      <td>1.538676e+09</td>\n",
       "      <td>...</td>\n",
       "      <td>1646.564354</td>\n",
       "      <td>1911.729539</td>\n",
       "      <td>176.116165</td>\n",
       "      <td>212.966353</td>\n",
       "      <td>0.550852</td>\n",
       "      <td>2.058146</td>\n",
       "      <td>0</td>\n",
       "      <td>2</td>\n",
       "      <td>3</td>\n",
       "      <td>9.085429</td>\n",
       "    </tr>\n",
       "    <tr>\n",
       "      <th>3089</th>\n",
       "      <td>10859653</td>\n",
       "      <td>28000000002570</td>\n",
       "      <td>28</td>\n",
       "      <td>2.220446e-16</td>\n",
       "      <td>0</td>\n",
       "      <td>61.355499</td>\n",
       "      <td>48.616516</td>\n",
       "      <td>65.236801</td>\n",
       "      <td>1.094640e+10</td>\n",
       "      <td>3.207207e+09</td>\n",
       "      <td>...</td>\n",
       "      <td>784.391114</td>\n",
       "      <td>1526.021178</td>\n",
       "      <td>88.020495</td>\n",
       "      <td>148.669482</td>\n",
       "      <td>0.212703</td>\n",
       "      <td>2.014763</td>\n",
       "      <td>1</td>\n",
       "      <td>2</td>\n",
       "      <td>3</td>\n",
       "      <td>9.024783</td>\n",
       "    </tr>\n",
       "    <tr>\n",
       "      <th>3090</th>\n",
       "      <td>11104654</td>\n",
       "      <td>28000000002905</td>\n",
       "      <td>28</td>\n",
       "      <td>2.220446e-16</td>\n",
       "      <td>0</td>\n",
       "      <td>97.197350</td>\n",
       "      <td>82.709518</td>\n",
       "      <td>43.676567</td>\n",
       "      <td>1.200869e+10</td>\n",
       "      <td>1.247963e+09</td>\n",
       "      <td>...</td>\n",
       "      <td>1503.463598</td>\n",
       "      <td>1552.982660</td>\n",
       "      <td>167.615303</td>\n",
       "      <td>169.120146</td>\n",
       "      <td>1.657043</td>\n",
       "      <td>0.678887</td>\n",
       "      <td>0</td>\n",
       "      <td>2</td>\n",
       "      <td>5</td>\n",
       "      <td>9.286851</td>\n",
       "    </tr>\n",
       "    <tr>\n",
       "      <th>3091</th>\n",
       "      <td>11247394</td>\n",
       "      <td>28000000003127</td>\n",
       "      <td>28</td>\n",
       "      <td>2.220446e-16</td>\n",
       "      <td>0</td>\n",
       "      <td>88.764885</td>\n",
       "      <td>47.226864</td>\n",
       "      <td>81.905136</td>\n",
       "      <td>1.186733e+10</td>\n",
       "      <td>2.167418e+09</td>\n",
       "      <td>...</td>\n",
       "      <td>562.608513</td>\n",
       "      <td>2053.687348</td>\n",
       "      <td>39.664941</td>\n",
       "      <td>123.996389</td>\n",
       "      <td>0.282211</td>\n",
       "      <td>4.079843</td>\n",
       "      <td>1</td>\n",
       "      <td>1</td>\n",
       "      <td>7</td>\n",
       "      <td>9.115270</td>\n",
       "    </tr>\n",
       "    <tr>\n",
       "      <th>3092</th>\n",
       "      <td>12002343</td>\n",
       "      <td>28000000004258</td>\n",
       "      <td>28</td>\n",
       "      <td>2.220446e-16</td>\n",
       "      <td>0</td>\n",
       "      <td>81.653595</td>\n",
       "      <td>7.551041</td>\n",
       "      <td>69.749985</td>\n",
       "      <td>1.051248e+10</td>\n",
       "      <td>5.572393e+08</td>\n",
       "      <td>...</td>\n",
       "      <td>576.452593</td>\n",
       "      <td>587.156084</td>\n",
       "      <td>67.695244</td>\n",
       "      <td>80.384446</td>\n",
       "      <td>2.021934</td>\n",
       "      <td>0.414397</td>\n",
       "      <td>2</td>\n",
       "      <td>25</td>\n",
       "      <td>39</td>\n",
       "      <td>9.411070</td>\n",
       "    </tr>\n",
       "  </tbody>\n",
       "</table>\n",
       "<p>3093 rows × 48 columns</p>\n",
       "</div>"
      ],
      "text/plain": [
       "      GalaxyID         GroupID  SnapNum      Redshift  SubGroupNumber_x  \\\n",
       "0      9508202  28000000000002       28  2.220446e-16                 7   \n",
       "1      9512113  28000000000002       28  2.220446e-16                 8   \n",
       "2      9517736  28000000000002       28  2.220446e-16                 9   \n",
       "3     14957972  28000000000002       28  2.220446e-16                 5   \n",
       "4     21573586  28000000000002       28  2.220446e-16                 0   \n",
       "...        ...             ...      ...           ...               ...   \n",
       "3088  10365607  28000000002202       28  2.220446e-16                 0   \n",
       "3089  10859653  28000000002570       28  2.220446e-16                 0   \n",
       "3090  11104654  28000000002905       28  2.220446e-16                 0   \n",
       "3091  11247394  28000000003127       28  2.220446e-16                 0   \n",
       "3092  12002343  28000000004258       28  2.220446e-16                 0   \n",
       "\n",
       "      CentreOfPotential_x  CentreOfPotential_y  CentreOfPotential_z  \\\n",
       "0                6.904262            35.705917            57.397373   \n",
       "1                8.682913            35.504921            54.217369   \n",
       "2                8.278317            37.063808            54.914932   \n",
       "3                6.932319            35.628769            56.786160   \n",
       "4                8.865488            35.284275            54.431995   \n",
       "...                   ...                  ...                  ...   \n",
       "3088            35.516003            10.797990            34.600616   \n",
       "3089            61.355499            48.616516            65.236801   \n",
       "3090            97.197350            82.709518            43.676567   \n",
       "3091            88.764885            47.226864            81.905136   \n",
       "3092            81.653595             7.551041            69.749985   \n",
       "\n",
       "        Stars_Mass       SF_Mass  ...     R_1[kpc]     R_2[kpc]     r_sep_1  \\\n",
       "0     7.604099e+10  2.281596e+09  ...   257.704984   463.580494   21.223224   \n",
       "1     1.345128e+11  1.514760e+10  ...   150.475390   231.955551   13.328678   \n",
       "2     2.232997e+10  2.754609e+09  ...   423.762584   677.966783   37.490817   \n",
       "3     5.408647e+10  2.563663e+09  ...   506.283117   598.622599   28.819485   \n",
       "4     1.665042e+12  3.504242e+10  ...   611.992525  1416.240833    3.911029   \n",
       "...            ...           ...  ...          ...          ...         ...   \n",
       "3088  1.226640e+10  1.538676e+09  ...  1646.564354  1911.729539  176.116165   \n",
       "3089  1.094640e+10  3.207207e+09  ...   784.391114  1526.021178   88.020495   \n",
       "3090  1.200869e+10  1.247963e+09  ...  1503.463598  1552.982660  167.615303   \n",
       "3091  1.186733e+10  2.167418e+09  ...   562.608513  2053.687348   39.664941   \n",
       "3092  1.051248e+10  5.572393e+08  ...   576.452593   587.156084   67.695244   \n",
       "\n",
       "         r_sep_2      mu_1      mu_2  N_1  N_2  N_3  sf_metalicity  \n",
       "0      33.711917  0.315459  0.823968    4    4   16       9.079824  \n",
       "1      18.674313  0.120308  0.314345   20   34   40       9.246274  \n",
       "2      56.695098  1.999591  1.722059    4   64  124       9.050028  \n",
       "3      37.510623  1.158429  0.443508    6    8   31       9.087593  \n",
       "4       8.801750  0.225328  0.132064    1    2    2       9.020433  \n",
       "...          ...       ...       ...  ...  ...  ...            ...  \n",
       "3088  212.966353  0.550852  2.058146    0    2    3       9.085429  \n",
       "3089  148.669482  0.212703  2.014763    1    2    3       9.024783  \n",
       "3090  169.120146  1.657043  0.678887    0    2    5       9.286851  \n",
       "3091  123.996389  0.282211  4.079843    1    1    7       9.115270  \n",
       "3092   80.384446  2.021934  0.414397    2   25   39       9.411070  \n",
       "\n",
       "[3093 rows x 48 columns]"
      ]
     },
     "execution_count": 11,
     "metadata": {},
     "output_type": "execute_result"
    }
   ],
   "source": [
    "SF_O  = merge['SF_Oxygen']\n",
    "SF_H  = merge['SF_Hydrogen']\n",
    "SF_M  = merge['SF_Mass']\n",
    "M_Star= merge['Stars_Mass']\n",
    "\n",
    "M_O_SF = SF_O*SF_M\n",
    "M_H_SF = SF_H*SF_M\n",
    "\n",
    "merge['sf_metalicity'] = 12+np.log10(M_O_SF/(16*M_H_SF))\n",
    "merge"
   ]
  },
  {
   "cell_type": "markdown",
   "metadata": {},
   "source": [
    "## Graficar 12+log10(O/H) vs log10(Mstar) (scatter plot + medianas + percentiles 25th y 75th)."
   ]
  },
  {
   "cell_type": "code",
   "execution_count": 12,
   "metadata": {},
   "outputs": [],
   "source": [
    "mask = (merge['sf_metalicity'].notna())#&(merge['Stars_Mass']<=5.52e10)\n",
    "xvar = np.log10(merge['Stars_Mass'])[mask].to_numpy()\n",
    "yvar = merge['sf_metalicity'][mask].to_numpy()"
   ]
  },
  {
   "cell_type": "code",
   "execution_count": 13,
   "metadata": {},
   "outputs": [],
   "source": [
    "nbins=10        # Numero de bins en variable x a usar para dividir la muestra\n",
    "perc_low=25.        # Percentil a usar como cota inferior de error\n",
    "perc_high=75.       # Percentil a usar como cota superior de error\n",
    "min_count=10         # Mínima cantidad de elementos para considerar en un bin\n",
    "\n",
    "xmedian,ymedian,xerror,yerror,elements=Curves2D.median_curve(xvar,yvar,bins=nbins,min_count=min_count,\n",
    "                                                             perc_low=perc_low,perc_high=perc_high)"
   ]
  },
  {
   "cell_type": "code",
   "execution_count": 14,
   "metadata": {},
   "outputs": [
    {
     "data": {
      "image/png": "[encoded data removed]",
      "text/plain": [
       "<Figure size 576x432 with 1 Axes>"
      ]
     },
     "metadata": {
      "needs_background": "light"
     },
     "output_type": "display_data"
    }
   ],
   "source": [
    "fig,ax=plt.subplots(figsize=(8,6))\n",
    "\n",
    "xlim=(min(xvar),max(xvar))\n",
    "# ylim=(min(yvar),max(yvar))\n",
    "\n",
    "# xlim=()\n",
    "ylim=(8.25,9.75)\n",
    "\n",
    "xlabel=r'$log10(M_{\\bigstar})[M_{\\odot}]$'\n",
    "ylabel=r'$12 + log10(O/H)$'\n",
    "\n",
    "ax.set_xlabel(xlabel,fontsize=25)\n",
    "ax.set_ylabel(ylabel,fontsize=25)\n",
    "\n",
    "ax.set_xlim(xlim)\n",
    "ax.set_ylim(ylim)\n",
    "\n",
    "ax.tick_params(axis='both', which='major', labelsize=20)\n",
    "                \n",
    "plt.subplots_adjust(left=0.12,right=0.95,bottom=0.15,top=0.95)\n",
    "\n",
    "# scatter plot\n",
    "ax.scatter(xvar,yvar,marker='o',s=1,c='b',label='Scatter plot')\n",
    "\n",
    "ax.plot(xmedian,ymedian,c='k',marker='o',ms=8,linestyle='-',linewidth=1.5,label='Mediana')\n",
    "\n",
    "ax.errorbar(xmedian,ymedian,yerr=yerror,\n",
    "           c='k',marker='o',markersize=8,linestyle='-',\n",
    "           linewidth=1.5,label='Percentiles 25º y 75º',capsize=5,capthick=1.5)\n",
    "\n",
    "# leg1=ax.legend(edgecolor='0.1',loc='lower right',handlelength=4,fontsize=12)\n",
    "# leg1.set_title(r'$\\rm{EAGLE\\ RefL0100N1504},\\ z=0$',prop={'size':13})\n",
    "\n",
    "# ax.add_artist(leg1)\n",
    "plt.grid(True)\n",
    "# plt.savefig('scatter_MZR_seccion4.png')\n",
    "\n",
    "\n",
    "plt.show()"
   ]
  },
  {
   "cell_type": "markdown",
   "metadata": {},
   "source": [
    "**Coloreado de scatter plot para número de vecinos a menos de 2Mpc**"
   ]
  },
  {
   "cell_type": "raw",
   "metadata": {
    "jupyter": {
     "source_hidden": true
    }
   },
   "source": [
    "parametro ='N_2'"
   ]
  },
  {
   "cell_type": "raw",
   "metadata": {
    "jupyter": {
     "source_hidden": true
    }
   },
   "source": [
    "mask = (merge['sf_metalicity'].notna())&(merge[parametro]>0)#&(merge['SubGroupNumber']!=0)\n",
    "xvar = np.log10(merge['Stars_Mass'])[mask].to_numpy()\n",
    "yvar = merge['sf_metalicity'][mask].to_numpy()"
   ]
  },
  {
   "cell_type": "raw",
   "metadata": {
    "jupyter": {
     "source_hidden": true
    }
   },
   "source": [
    "color = merge[parametro][mask].to_numpy()"
   ]
  },
  {
   "cell_type": "raw",
   "metadata": {
    "jupyter": {
     "source_hidden": true
    }
   },
   "source": [
    "fig = go.Figure(data=[go.Scatter(x = xvar,y = yvar,\n",
    "                                 name=\"Scatter\",\n",
    "                                 mode='markers',\n",
    "                                 marker=dict(\n",
    "                                 size=3,\n",
    "                                 color=color,\n",
    "                                 opacity=0.7,\n",
    "                                 colorscale='Rainbow', \n",
    "                                 showscale=True,\n",
    "                                 colorbar=dict(title=parametro)\n",
    "                                 )\n",
    "                    ),go.Scatter(x = xmedian,y = ymedian,\n",
    "                                 name=\"Median\",\n",
    "                                 error_y=dict(type='data',\n",
    "                                 symmetric=False,\n",
    "                                 array=yerror[1],\n",
    "                                 arrayminus=yerror[0])\n",
    "    )])\n",
    "\n",
    "fig.update_layout(title='Scatter Plots coloreado según '+parametro+' galaxias periféricas.')\n",
    "\n",
    "fig.update_xaxes(title_text = 'Log10(M_{Star})')\n",
    "\n",
    "fig.update_yaxes(title_text = '12 + Log10(O/H)')\n",
    "\n",
    "# fig.update_layout(showlegend=False)\n",
    "\n",
    "fig.update_layout(legend=dict(\n",
    "    yanchor=\"top\",\n",
    "    y=0.2,\n",
    "    xanchor=\"left\",\n",
    "    x=0.8\n",
    "))\n",
    "\n",
    "fig.update_layout(\n",
    "    autosize=False,\n",
    "    width=650,\n",
    "    height=525\n",
    "    )\n",
    "\n",
    "\n",
    "fig.show()"
   ]
  },
  {
   "cell_type": "raw",
   "metadata": {
    "jupyter": {
     "source_hidden": true
    }
   },
   "source": [
    "**Coloreado de scatter plot para distancia del primer vecino**"
   ]
  },
  {
   "cell_type": "raw",
   "metadata": {
    "jupyter": {
     "source_hidden": true
    }
   },
   "source": [
    "parametro ='R_1'"
   ]
  },
  {
   "cell_type": "raw",
   "metadata": {
    "jupyter": {
     "source_hidden": true
    }
   },
   "source": [
    "mask = (merge['sf_metalicity'].notna())&(merge[parametro]>0)&(merge['SubGroupNumber']!=0)\n",
    "xvar = np.log10(merge['Stars_Mass'])[mask].to_numpy()\n",
    "yvar = merge['sf_metalicity'][mask].to_numpy()"
   ]
  },
  {
   "cell_type": "raw",
   "metadata": {
    "jupyter": {
     "source_hidden": true
    }
   },
   "source": [
    "color = merge[parametro][mask].to_numpy()"
   ]
  },
  {
   "cell_type": "raw",
   "metadata": {
    "jupyter": {
     "source_hidden": true
    }
   },
   "source": [
    "fig = go.Figure(data=[go.Scatter(x = xvar,y = yvar,\n",
    "                                 name=\"Scatter\",\n",
    "                                 mode='markers',\n",
    "                                 marker=dict(\n",
    "                                 size=3,\n",
    "                                 color=color,\n",
    "                                 opacity=0.7,\n",
    "                                 colorscale='Rainbow', \n",
    "                                 showscale=True,\n",
    "                                 colorbar=dict(title=parametro)\n",
    "                                 )\n",
    "                    ),go.Scatter(x = xmedian,y = ymedian,\n",
    "                                 name=\"Median\",\n",
    "                                 error_y=dict(type='data',\n",
    "                                 symmetric=False,\n",
    "                                 array=yerror[1],\n",
    "                                 arrayminus=yerror[0])\n",
    "    )])\n",
    "\n",
    "fig.update_layout(title='Scatter Plots coloreado según '+parametro+' galaxias periféricas.')\n",
    "\n",
    "fig.update_xaxes(title_text = 'Log10(M_Star)')\n",
    "\n",
    "fig.update_yaxes(title_text = '12 + Log10(O/H)')\n",
    "\n",
    "# fig.update_layout(showlegend=False)\n",
    "\n",
    "fig.update_layout(legend=dict(\n",
    "    yanchor=\"top\",\n",
    "    y=0.2,\n",
    "    xanchor=\"left\",\n",
    "    x=0.8\n",
    "))\n",
    "\n",
    "fig.update_layout(\n",
    "    autosize=False,\n",
    "    width=650,\n",
    "    height=525\n",
    "    )\n",
    "\n",
    "fig.show()"
   ]
  },
  {
   "cell_type": "raw",
   "metadata": {
    "jupyter": {
     "source_hidden": true
    }
   },
   "source": [
    "**Coloreado de scatter plot para distancia del segundo vecino**"
   ]
  },
  {
   "cell_type": "raw",
   "metadata": {
    "jupyter": {
     "source_hidden": true
    }
   },
   "source": [
    "parametro ='R_2'"
   ]
  },
  {
   "cell_type": "raw",
   "metadata": {
    "jupyter": {
     "source_hidden": true
    }
   },
   "source": [
    "mask = (merge['sf_metalicity'].notna())&(merge[parametro]>0)&(merge['SubGroupNumber']!=0)\n",
    "xvar = np.log10(merge['Stars_Mass'])[mask].to_numpy()\n",
    "yvar = merge['sf_metalicity'][mask].to_numpy()"
   ]
  },
  {
   "cell_type": "raw",
   "metadata": {
    "jupyter": {
     "source_hidden": true
    }
   },
   "source": [
    "color = merge[parametro][mask].to_numpy()"
   ]
  },
  {
   "cell_type": "raw",
   "metadata": {
    "jupyter": {
     "source_hidden": true
    }
   },
   "source": [
    "fig = go.Figure(data=[go.Scatter(x = xvar,y = yvar,\n",
    "                                 name=\"Scatter\",\n",
    "                                 mode='markers',\n",
    "                                 marker=dict(\n",
    "                                 size=3,\n",
    "                                 color=color,\n",
    "                                 opacity=0.7,\n",
    "                                 colorscale='Rainbow', \n",
    "                                 showscale=True,\n",
    "                                 colorbar=dict(title=parametro)\n",
    "                                 )\n",
    "                    ),go.Scatter(x = xmedian,y = ymedian,\n",
    "                                 name=\"Median\",\n",
    "                                 error_y=dict(type='data',\n",
    "                                 symmetric=False,\n",
    "                                 array=yerror[1],\n",
    "                                 arrayminus=yerror[0])\n",
    "    )])\n",
    "\n",
    "fig.update_layout(title='Scatter Plots coloreado según '+parametro+' galaxias periféricas.')\n",
    "\n",
    "fig.update_xaxes(title_text = 'Log10(M_Star)')\n",
    "\n",
    "fig.update_yaxes(title_text = '12 + Log10(O/H)')\n",
    "\n",
    "# fig.update_layout(showlegend=False)\n",
    "\n",
    "fig.update_layout(legend=dict(\n",
    "    yanchor=\"top\",\n",
    "    y=0.2,\n",
    "    xanchor=\"left\",\n",
    "    x=0.8\n",
    "))\n",
    "\n",
    "fig.update_layout(\n",
    "    autosize=False,\n",
    "    width=650,\n",
    "    height=525\n",
    "    )\n",
    "\n",
    "fig.show()"
   ]
  },
  {
   "cell_type": "raw",
   "metadata": {
    "jupyter": {
     "source_hidden": true
    }
   },
   "source": [
    "**Coloreado de scatter plot para el R_sep con el primer vecino**"
   ]
  },
  {
   "cell_type": "raw",
   "metadata": {
    "jupyter": {
     "source_hidden": true
    }
   },
   "source": [
    "parametro ='r_sep_1'"
   ]
  },
  {
   "cell_type": "raw",
   "metadata": {
    "jupyter": {
     "source_hidden": true
    }
   },
   "source": [
    "mask = (merge['sf_metalicity'].notna())&(merge[parametro]>0)&(merge['SubGroupNumber']!=0)\n",
    "xvar = np.log10(merge['Stars_Mass'])[mask].to_numpy()\n",
    "yvar = merge['sf_metalicity'][mask].to_numpy()"
   ]
  },
  {
   "cell_type": "raw",
   "metadata": {
    "jupyter": {
     "source_hidden": true
    }
   },
   "source": [
    "color = merge[parametro][mask].to_numpy()"
   ]
  },
  {
   "cell_type": "raw",
   "metadata": {
    "jupyter": {
     "source_hidden": true
    }
   },
   "source": [
    "fig = go.Figure(data=[go.Scatter(x = xvar,y = yvar,\n",
    "                                 name=\"Scatter\",\n",
    "                                 mode='markers',\n",
    "                                 marker=dict(\n",
    "                                 size=3,\n",
    "                                 color=color,\n",
    "                                 opacity=0.7,\n",
    "                                 colorscale='Rainbow', \n",
    "                                 showscale=True,\n",
    "                                 colorbar=dict(title=parametro)\n",
    "                                 )\n",
    "                    ),go.Scatter(x = xmedian,y = ymedian,\n",
    "                                 name=\"Median\",\n",
    "                                 error_y=dict(type='data',\n",
    "                                 symmetric=False,\n",
    "                                 array=yerror[1],\n",
    "                                 arrayminus=yerror[0])\n",
    "    )])\n",
    "\n",
    "fig.update_layout(title='Scatter Plots coloreado según '+parametro+' galaxias periféricas.')\n",
    "\n",
    "fig.update_xaxes(title_text = 'Log10(M_Star)')\n",
    "\n",
    "fig.update_yaxes(title_text = '12 + Log10(O/H)')\n",
    "\n",
    "# fig.update_layout(showlegend=False)\n",
    "\n",
    "fig.update_layout(legend=dict(\n",
    "    yanchor=\"top\",\n",
    "    y=0.2,\n",
    "    xanchor=\"left\",\n",
    "    x=0.8\n",
    "))\n",
    "\n",
    "fig.update_layout(\n",
    "    autosize=False,\n",
    "    width=650,\n",
    "    height=525\n",
    "    )\n",
    "\n",
    "fig.show()"
   ]
  },
  {
   "cell_type": "raw",
   "metadata": {
    "jupyter": {
     "source_hidden": true
    }
   },
   "source": [
    "**Coloreado de scatter plot para el R_sep con el segundo vecino**"
   ]
  },
  {
   "cell_type": "raw",
   "metadata": {
    "jupyter": {
     "source_hidden": true
    }
   },
   "source": [
    "parametro ='r_sep_2'"
   ]
  },
  {
   "cell_type": "raw",
   "metadata": {
    "jupyter": {
     "source_hidden": true
    }
   },
   "source": [
    "mask = (merge['sf_metalicity'].notna())&(merge[parametro]>0)&(merge['SubGroupNumber']!=0)\n",
    "xvar = np.log10(merge['Stars_Mass'])[mask].to_numpy()\n",
    "yvar = merge['sf_metalicity'][mask].to_numpy()"
   ]
  },
  {
   "cell_type": "raw",
   "metadata": {
    "jupyter": {
     "source_hidden": true
    }
   },
   "source": [
    "color = merge[parametro][mask].to_numpy()"
   ]
  },
  {
   "cell_type": "raw",
   "metadata": {
    "jupyter": {
     "source_hidden": true
    }
   },
   "source": [
    "fig = go.Figure(data=[go.Scatter(x = xvar,y = yvar,\n",
    "                                 name=\"Scatter\",\n",
    "                                 mode='markers',\n",
    "                                 marker=dict(\n",
    "                                 size=3,\n",
    "                                 color=color,\n",
    "                                 opacity=0.7,\n",
    "                                 colorscale='Rainbow', \n",
    "                                 showscale=True,\n",
    "                                 colorbar=dict(title=parametro)\n",
    "                                 )\n",
    "                    ),go.Scatter(x = xmedian,y = ymedian,\n",
    "                                 name=\"Median\",\n",
    "                                 error_y=dict(type='data',\n",
    "                                 symmetric=False,\n",
    "                                 array=yerror[1],\n",
    "                                 arrayminus=yerror[0])\n",
    "    )])\n",
    "\n",
    "fig.update_layout(title='Scatter Plots coloreado según '+parametro+' galaxias periféricas.')\n",
    "\n",
    "fig.update_xaxes(title_text = 'Log10(M_Star)')\n",
    "\n",
    "fig.update_yaxes(title_text = '12 + Log10(O/H)')\n",
    "\n",
    "# fig.update_layout(showlegend=False)\n",
    "\n",
    "fig.update_layout(legend=dict(\n",
    "    yanchor=\"top\",\n",
    "    y=0.2,\n",
    "    xanchor=\"left\",\n",
    "    x=0.8\n",
    "))\n",
    "\n",
    "fig.update_layout(\n",
    "    autosize=False,\n",
    "    width=650,\n",
    "    height=525\n",
    "    )\n",
    "\n",
    "fig.show()"
   ]
  },
  {
   "cell_type": "raw",
   "metadata": {
    "jupyter": {
     "source_hidden": true
    }
   },
   "source": [
    "**Coloreado de scatter plot para el la relación entre masas con el primer vecino**"
   ]
  },
  {
   "cell_type": "raw",
   "metadata": {
    "jupyter": {
     "source_hidden": true
    }
   },
   "source": [
    "parametro ='mu_1'"
   ]
  },
  {
   "cell_type": "raw",
   "metadata": {
    "jupyter": {
     "source_hidden": true
    }
   },
   "source": [
    "mask = (merge['sf_metalicity'].notna())&(merge[parametro]>0)&(merge['SubGroupNumber']!=0)\n",
    "xvar = np.log10(merge['Stars_Mass'])[mask].to_numpy()\n",
    "yvar = merge['sf_metalicity'][mask].to_numpy()"
   ]
  },
  {
   "cell_type": "raw",
   "metadata": {
    "jupyter": {
     "source_hidden": true
    }
   },
   "source": [
    "color = merge[parametro][mask].to_numpy()"
   ]
  },
  {
   "cell_type": "raw",
   "metadata": {
    "jupyter": {
     "source_hidden": true
    }
   },
   "source": [
    "fig = go.Figure(data=[go.Scatter(x = xvar,y = yvar,\n",
    "                                 name=\"Scatter\",\n",
    "                                 mode='markers',\n",
    "                                 marker=dict(\n",
    "                                 size=3,\n",
    "                                 color=color,\n",
    "                                 opacity=0.7,\n",
    "                                 colorscale='Rainbow', \n",
    "                                 showscale=True,\n",
    "                                 colorbar=dict(title=parametro)\n",
    "                                 )\n",
    "                    ),go.Scatter(x = xmedian,y = ymedian,\n",
    "                                 name=\"Median\",\n",
    "                                 error_y=dict(type='data',\n",
    "                                 symmetric=False,\n",
    "                                 array=yerror[1],\n",
    "                                 arrayminus=yerror[0])\n",
    "    )])\n",
    "\n",
    "fig.update_layout(title='Scatter Plots coloreado según '+parametro+' galaxias periféricas.')\n",
    "\n",
    "fig.update_xaxes(title_text = 'Log10(M_Star)')\n",
    "\n",
    "fig.update_yaxes(title_text = '12 + Log10(O/H)')\n",
    "\n",
    "# fig.update_layout(showlegend=False)\n",
    "\n",
    "fig.update_layout(legend=dict(\n",
    "    yanchor=\"top\",\n",
    "    y=0.2,\n",
    "    xanchor=\"left\",\n",
    "    x=0.8\n",
    "))\n",
    "\n",
    "fig.update_layout(\n",
    "    autosize=False,\n",
    "    width=650,\n",
    "    height=525\n",
    "    )\n",
    "\n",
    "fig.show()"
   ]
  },
  {
   "cell_type": "raw",
   "metadata": {
    "jupyter": {
     "source_hidden": true
    }
   },
   "source": [
    "**Coloreado de scatter plot para el la relación entre masas con el segundo vecino**"
   ]
  },
  {
   "cell_type": "raw",
   "metadata": {
    "jupyter": {
     "source_hidden": true
    }
   },
   "source": [
    "parametro ='mu_2'"
   ]
  },
  {
   "cell_type": "raw",
   "metadata": {
    "jupyter": {
     "source_hidden": true
    }
   },
   "source": [
    "mask = (merge['sf_metalicity'].notna())&(merge[parametro]>0)&(merge['SubGroupNumber']!=0)\n",
    "xvar = np.log10(merge['Stars_Mass'])[mask].to_numpy()\n",
    "yvar = merge['sf_metalicity'][mask].to_numpy()"
   ]
  },
  {
   "cell_type": "raw",
   "metadata": {
    "jupyter": {
     "source_hidden": true
    }
   },
   "source": [
    "color = merge[parametro][mask].to_numpy()"
   ]
  },
  {
   "cell_type": "raw",
   "metadata": {
    "jupyter": {
     "source_hidden": true
    }
   },
   "source": [
    "fig = go.Figure(data=[go.Scatter(x = xvar,y = yvar,\n",
    "                                 name=\"Scatter\",\n",
    "                                 mode='markers',\n",
    "                                 marker=dict(\n",
    "                                 size=3,\n",
    "                                 color=color,\n",
    "                                 opacity=0.7,\n",
    "                                 colorscale='Rainbow', \n",
    "                                 showscale=True,\n",
    "                                 colorbar=dict(title=parametro)\n",
    "                                 )\n",
    "                    ),go.Scatter(x = xmedian,y = ymedian,\n",
    "                                 name=\"Median\",\n",
    "                                 error_y=dict(type='data',\n",
    "                                 symmetric=False,\n",
    "                                 array=yerror[1],\n",
    "                                 arrayminus=yerror[0])\n",
    "    )])\n",
    "\n",
    "fig.update_layout(title='Scatter Plots coloreado según '+parametro+' galaxias periféricas.')\n",
    "\n",
    "fig.update_xaxes(title_text = 'Log10(M_Star)')\n",
    "\n",
    "fig.update_yaxes(title_text = '12 + Log10(O/H)')\n",
    "\n",
    "# fig.update_layout(showlegend=False)\n",
    "\n",
    "fig.update_layout(legend=dict(\n",
    "    yanchor=\"top\",\n",
    "    y=0.2,\n",
    "    xanchor=\"left\",\n",
    "    x=0.8\n",
    "))\n",
    "\n",
    "fig.update_layout(\n",
    "    autosize=False,\n",
    "    width=650,\n",
    "    height=525\n",
    "    )\n",
    "\n",
    "fig.show()"
   ]
  },
  {
   "cell_type": "raw",
   "metadata": {
    "jupyter": {
     "source_hidden": true
    }
   },
   "source": [
    "Ahora vemos si los valores extremos de los parámtros se desvían de la media. "
   ]
  },
  {
   "cell_type": "raw",
   "metadata": {
    "jupyter": {
     "source_hidden": true
    }
   },
   "source": [
    "parametro  ='SubGroupNumber'\n",
    "parametro_2='mu_1'\n",
    "cota_par   = 0\n",
    "cota_par_2 = 0"
   ]
  },
  {
   "cell_type": "raw",
   "metadata": {
    "jupyter": {
     "source_hidden": true
    }
   },
   "source": [
    "mask = (merge['sf_metalicity'].notna())&(merge[parametro]==cota_par)&(merge[parametro_2]>cota_par_2)\n",
    "xvar = np.log10(merge['Stars_Mass'])[mask].to_numpy()\n",
    "yvar = merge['sf_metalicity'][mask].to_numpy()"
   ]
  },
  {
   "cell_type": "raw",
   "metadata": {
    "jupyter": {
     "source_hidden": true
    }
   },
   "source": [
    "color = merge[parametro][mask].to_numpy()"
   ]
  },
  {
   "cell_type": "raw",
   "metadata": {
    "jupyter": {
     "source_hidden": true
    }
   },
   "source": [
    "fig = go.Figure(data=[go.Scatter(x = xvar,y = yvar,\n",
    "                                 name=\"Scatter\",\n",
    "                                 mode='markers',\n",
    "                                 marker=dict(\n",
    "                                 size=3,\n",
    "#                                  color=color,\n",
    "                                 opacity=0.7,\n",
    "                                 colorscale='Rainbow', \n",
    "                                 showscale=False,\n",
    "                                 colorbar=dict(title=parametro)\n",
    "                                 )\n",
    "                    ),go.Scatter(x = xmedian,y = ymedian,\n",
    "                                 name=\"Median\",\n",
    "                                 error_y=dict(type='data',\n",
    "                                 symmetric=False,\n",
    "                                 array=yerror[1],\n",
    "                                 arrayminus=yerror[0])\n",
    "    )])\n",
    "\n",
    "fig.update_layout(title='Scatter Plots para '+parametro+'<'+str(cota_par)+' y '+parametro_2+'>'+str(cota_par_2)+'.')\n",
    "\n",
    "fig.update_xaxes(title_text = 'Log10(M_{Star})')\n",
    "\n",
    "fig.update_yaxes(title_text = '12 + Log10(O/H)')\n",
    "\n",
    "# fig.update_layout(showlegend=False)\n",
    "\n",
    "fig.update_layout(legend=dict(\n",
    "    yanchor=\"top\",\n",
    "    y=0.92,\n",
    "    xanchor=\"left\",\n",
    "    x=0.8\n",
    "))\n",
    "\n",
    "fig.update_layout(\n",
    "    autosize=False,\n",
    "    width=650,\n",
    "    height=525\n",
    "    )\n",
    "\n",
    "fig.show()"
   ]
  },
  {
   "cell_type": "raw",
   "metadata": {
    "jupyter": {
     "source_hidden": true
    }
   },
   "source": [
    "parametro  ='N_2'\n",
    "parametro_2='mu_1'\n",
    "cota_par   = 10\n",
    "cota_par_2 = 1"
   ]
  },
  {
   "cell_type": "raw",
   "metadata": {
    "jupyter": {
     "source_hidden": true
    }
   },
   "source": [
    "mask = (merge['sf_metalicity'].notna())&(merge[parametro]>cota_par)&(merge[parametro_2]<cota_par_2)\n",
    "xvar = np.log10(merge['Stars_Mass'])[mask].to_numpy()\n",
    "yvar = merge['sf_metalicity'][mask].to_numpy()"
   ]
  },
  {
   "cell_type": "raw",
   "metadata": {
    "jupyter": {
     "source_hidden": true
    }
   },
   "source": [
    "color = merge[parametro][mask].to_numpy()"
   ]
  },
  {
   "cell_type": "raw",
   "metadata": {
    "jupyter": {
     "source_hidden": true
    }
   },
   "source": [
    "fig = go.Figure(data=[go.Scatter(x = xvar,y = yvar,\n",
    "                                 name=\"Scatter\",\n",
    "                                 mode='markers',\n",
    "                                 marker=dict(\n",
    "                                 size=3,\n",
    "#                                  color=color,\n",
    "                                 opacity=0.7,\n",
    "                                 colorscale='Rainbow', \n",
    "                                 showscale=False,\n",
    "                                 colorbar=dict(title=parametro)\n",
    "                                 )\n",
    "                    ),go.Scatter(x = xmedian,y = ymedian,\n",
    "                                 name=\"Median\",\n",
    "                                 error_y=dict(type='data',\n",
    "                                 symmetric=False,\n",
    "                                 array=yerror[1],\n",
    "                                 arrayminus=yerror[0])\n",
    "    )])\n",
    "\n",
    "fig.update_layout(title='Scatter Plots para '+parametro+'>'+str(cota_par)+' y '+parametro_2+'<'+str(cota_par_2)+'.')\n",
    "\n",
    "fig.update_xaxes(title_text = 'Log10(M_{Star})')\n",
    "\n",
    "fig.update_yaxes(title_text = '12 + Log10(O/H)')\n",
    "\n",
    "# fig.update_layout(showlegend=False)\n",
    "\n",
    "fig.update_layout(legend=dict(\n",
    "    yanchor=\"top\",\n",
    "    y=0.92,\n",
    "    xanchor=\"left\",\n",
    "    x=0.8\n",
    "))\n",
    "\n",
    "fig.update_layout(\n",
    "    autosize=False,\n",
    "    width=650,\n",
    "    height=525\n",
    "    )\n",
    "\n",
    "fig.show()"
   ]
  },
  {
   "cell_type": "raw",
   "metadata": {
    "jupyter": {
     "source_hidden": true
    }
   },
   "source": [
    "parametro  ='N_2'\n",
    "parametro_2='mu_1'\n",
    "cota_par   = 30\n",
    "cota_par_2 = 5"
   ]
  },
  {
   "cell_type": "raw",
   "metadata": {
    "jupyter": {
     "source_hidden": true
    }
   },
   "source": [
    "mask = (merge['sf_metalicity'].notna())&(merge[parametro]>cota_par)&(merge[parametro_2]>cota_par_2)\n",
    "xvar = np.log10(merge['Stars_Mass'])[mask].to_numpy()\n",
    "yvar = merge['sf_metalicity'][mask].to_numpy()"
   ]
  },
  {
   "cell_type": "raw",
   "metadata": {
    "jupyter": {
     "source_hidden": true
    }
   },
   "source": [
    "color = merge[parametro][mask].to_numpy()"
   ]
  },
  {
   "cell_type": "raw",
   "metadata": {
    "jupyter": {
     "source_hidden": true
    }
   },
   "source": [
    "fig = go.Figure(data=[go.Scatter(x = xvar,y = yvar,\n",
    "                                 name=\"Scatter\",\n",
    "                                 mode='markers',\n",
    "                                 marker=dict(\n",
    "                                 size=3,\n",
    "#                                  color=color,\n",
    "                                 opacity=0.7,\n",
    "                                 colorscale='Rainbow', \n",
    "                                 showscale=False,\n",
    "                                 colorbar=dict(title=parametro)\n",
    "                                 )\n",
    "                    ),go.Scatter(x = xmedian,y = ymedian,\n",
    "                                 name=\"Median\",\n",
    "                                 error_y=dict(type='data',\n",
    "                                 symmetric=False,\n",
    "                                 array=yerror[1],\n",
    "                                 arrayminus=yerror[0])\n",
    "    )])\n",
    "\n",
    "fig.update_layout(title='Scatter Plots para '+parametro+'>'+str(cota_par)+' y '+parametro_2+'>'+str(cota_par_2)+'.')\n",
    "\n",
    "fig.update_xaxes(title_text = 'Log10(M_{Star})')\n",
    "\n",
    "fig.update_yaxes(title_text = '12 + Log10(O/H)')\n",
    "\n",
    "# fig.update_layout(showlegend=False)\n",
    "\n",
    "fig.update_layout(legend=dict(\n",
    "    yanchor=\"top\",\n",
    "    y=0.92,\n",
    "    xanchor=\"left\",\n",
    "    x=0.8\n",
    "))\n",
    "\n",
    "fig.update_layout(\n",
    "    autosize=False,\n",
    "    width=650,\n",
    "    height=525\n",
    "    )\n",
    "\n",
    "fig.show()"
   ]
  },
  {
   "cell_type": "markdown",
   "metadata": {},
   "source": [
    "## Color Maps"
   ]
  },
  {
   "cell_type": "markdown",
   "metadata": {},
   "source": [
    "**Tranformamos el dataframe en Table de astropy**"
   ]
  },
  {
   "cell_type": "code",
   "execution_count": 15,
   "metadata": {},
   "outputs": [],
   "source": [
    "astro_merge = Table(data=np.array(merge),names=merge.keys())"
   ]
  },
  {
   "cell_type": "code",
   "execution_count": 16,
   "metadata": {},
   "outputs": [],
   "source": [
    "# Condiciones para seleccionar muestra\n",
    "mask=(astro_merge['Stars_Mass']>=1e10)&(astro_merge['sf_metalicity']>0)#&(astro_merge['Stars_Mass']<=5.62e10)\n",
    "\n",
    "data={}\n",
    "for key in astro_merge.keys():\n",
    "    data[key]=astro_merge[key][mask]"
   ]
  },
  {
   "cell_type": "code",
   "execution_count": 17,
   "metadata": {},
   "outputs": [],
   "source": [
    "# data"
   ]
  },
  {
   "cell_type": "markdown",
   "metadata": {},
   "source": [
    "## MZR coloreando $N_{2}$"
   ]
  },
  {
   "cell_type": "code",
   "execution_count": 18,
   "metadata": {},
   "outputs": [],
   "source": [
    "# Parámetro que colorea\n",
    "parametro= 'N_2'\n",
    "\n",
    "# Variables (ejes) a graficar\n",
    "xplot = np.log10(data['Stars_Mass'])\n",
    "yplot = data['sf_metalicity']\n",
    "\n",
    "xlabel= r'$\\log(M_\\bigstar)~[\\rm{M}_\\odot]$'\n",
    "ylabel= r'$12+log(O/H)$'"
   ]
  },
  {
   "cell_type": "code",
   "execution_count": 19,
   "metadata": {},
   "outputs": [],
   "source": [
    "#-------------------- Variables para pintar grilla 2D-----------------------------------------------\n",
    "# Variable a usar para colorear\n",
    "var_color=np.log10(data[parametro]+1)\n",
    "\n",
    "# Estadístico a usar ('counts','mean','median')\n",
    "statistic='median'\n",
    "\n",
    "# 'counts' es para contar el número de galaxias en cada bin (digamos, es para hacer un histograma2D)\n",
    "# 'mean' y 'median' son para calcular la media o la mediana de var en cada bin.\n",
    "           \n",
    "# Label to use in color bar reference\n",
    "# var_label=parametro\n",
    "var_label= r'$log(N_{2}+1)$'\n",
    "\n",
    "# Número de bines en cada eje\n",
    "nbinsx=20\n",
    "nbinsy=35\n",
    "    \n",
    "# Minimum number of galaxies to color bin (bins with less galaxies than this value will\n",
    "# not be taken into account)\n",
    "cmin=4\n",
    "\n",
    "# Color map to use. Use 'mapname_r' to invert colours. For example, if want to\n",
    "# invert the color map \"jet\", use \"jet_r\".\n",
    "cmap='jet_r'"
   ]
  },
  {
   "cell_type": "code",
   "execution_count": 21,
   "metadata": {},
   "outputs": [
    {
     "name": "stderr",
     "output_type": "stream",
     "text": [
      "<ipython-input-21-1335d68c37a4>:79: MatplotlibDeprecationWarning: You are modifying the state of a globally registered colormap. In future versions, you will not be able to modify a registered colormap in-place. To remove this warning, you can make a copy of the colormap first. cmap = copy.copy(mpl.cm.get_cmap(\"jet_r\"))\n",
      "  cmap.set_under('white')                      # \"bad-defined\" bins will be of colour white.\n"
     ]
    },
    {
     "data": {
      "image/png": "[encoded data removed]",
      "text/plain": [
       "<Figure size 720x576 with 1 Axes>"
      ]
     },
     "metadata": {
      "needs_background": "light"
     },
     "output_type": "display_data"
    }
   ],
   "source": [
    "# Plot color map\n",
    "fig,ax=plt.subplots(figsize=(10,8))\n",
    "\n",
    "# Intervals of binning, as function of nbinsx and nbinsy:\n",
    "intx=(max(xplot)-min(xplot))/nbinsx\n",
    "inty=(max(yplot)-min(yplot))/nbinsy\n",
    "\n",
    "# If 'var_color' is an empty sequence or 'statistic=='counts'', plot a 2D histogram. \n",
    "if (var_color==[]) or (statistic=='counts'):   \n",
    "    # Min and Max of each variable\n",
    "    xmin,xmax=min(xplot),max(xplot)\n",
    "    xlim=[xmin,xmax]\n",
    "\n",
    "    ymin,ymax=min(yplot),max(yplot)\n",
    "    ylim=[ymin,ymax]\n",
    "        \n",
    "    # Construct the 2D histogram\n",
    "    hist2d,xedges,yedges,im=ax.hist2d(xplot, yplot, bins=(nbinsx,nbinsy),cmap=cmap,\n",
    "                                      range=(xlim,ylim),cmin=cmin)\n",
    "    var_label='N'\n",
    "        \n",
    "# If not want to plot a 2D histogram, construct the color map\n",
    "else:\n",
    "            #Define a \"density\" array of 2x2 used for binning. Its elements will be the values of the statistic\n",
    "            density=np.zeros((nbinsy+1,nbinsx+1))    # NOTE THE TRANSPOSITION OF AXIS! It is done like this in\n",
    "                                                     # order to use 'meshgrid' later.\n",
    "\n",
    "            # Calculate the desired statistic in each bin\n",
    "            auxx=min(xplot)\n",
    "            for i in range(nbinsx+1):\n",
    "                auxy=min(yplot)\n",
    "                for j in range(nbinsy+1):\n",
    "                    # Select data of elements that belong to the bin\n",
    "                    var=var_color[(xplot >= auxx) & (xplot < auxx+intx) & (yplot >= auxy) & (yplot < auxy+inty)]\n",
    "                    # Calculate the statistic in the bin, if there are at least cmin elements inside the bin.\n",
    "                    if (var.size >=cmin):\n",
    "                        if statistic=='mean':\n",
    "                            stat_val=np.mean(var)\n",
    "                        elif statistic=='median':\n",
    "                            stat_val=np.median(var)                        \n",
    "                    # If not enough elements in the bin, assign the value -1e99 to the statistic        \n",
    "                    else:\n",
    "                        stat_val=-1e99\n",
    "                \n",
    "                    # Overwrite the [j,i] element (bin) of density array with the calculated statistic\n",
    "                    density[j,i]=stat_val\n",
    "                    auxy=auxy+inty\n",
    "                auxx=auxx+intx\n",
    "\n",
    "            # Define x-coordinates of 2D grid\n",
    "            x=np.zeros(nbinsx+1)\n",
    "            auxx=min(xplot)\n",
    "            for i in range(nbinsx+1):\n",
    "                x[i]=auxx\n",
    "                auxx=auxx+intx\n",
    "            \n",
    "            # Define y-coordinates of 2D grid\n",
    "            y=np.zeros(nbinsy+1)\n",
    "            auxy=min(yplot)\n",
    "            for j in range(nbinsy+1):\n",
    "                y[j]=auxy\n",
    "                auxy=auxy+inty\n",
    "\n",
    "            # Construct two 2D array with grid coordinates\n",
    "            x,y=np.meshgrid(x,y)\n",
    "\n",
    "            # Define again the density (statistic) array\n",
    "            z=density\n",
    "        \n",
    "            # IMPORTANT!!: x, y, z MUST have the same shape.\n",
    "\n",
    "            # Search min and max of statistic, considering only bins with \"well-defined\" statistic\n",
    "            densitylim=density[density > -1e99]\n",
    "            vmin=np.amin(densitylim)\n",
    "            vmax=np.amax(densitylim)\n",
    "\n",
    "            # Prepare the color map\n",
    "            cmap = plt.get_cmap(cmap)       # Name of the color map\n",
    "            cmap.set_under('white')                      # \"bad-defined\" bins will be of colour white. \n",
    "            norm = colors.Normalize(vmin=vmin, vmax=vmax, clip=False)    # Normalize colors to the interval (vmin,vmax)\n",
    "\n",
    "            # Construct color grid\n",
    "            im=ax.pcolormesh(x,y,z,cmap=cmap,norm=norm,shading='auto')                     \n",
    "\n",
    "# Barra de referencia y \"tuneo\" del gráfico\n",
    "# Add an axis that will contain the color bar \n",
    "cbaxes=ax.inset_axes([0.12,0.94,0.76,0.04]) \n",
    "\n",
    "# Construct color bar using the color grid (object 'im')\n",
    "cbar=plt.colorbar(im,cax=cbaxes,orientation='horizontal')   \n",
    "cbar.set_label(var_label,fontsize=30)    # Label of color bar\n",
    "cbaxes.tick_params(axis='both', which='major', labelsize=25)   # Size of ticks labels\n",
    "\n",
    "# Number of ticks in color bar\n",
    "loc = ticker.LinearLocator(numticks=5)   # For simplicity, use always linear-separated ticks in the color bar\n",
    "cbar.locator=loc\n",
    "cbar.update_ticks()\n",
    "if (var_color==[]) or (statistic=='counts'):   # Format the string of color bar ticks label\n",
    "    cbaxes.xaxis.set_major_formatter(ticker.StrMethodFormatter(\"{x:.0f}\"))\n",
    "else:\n",
    "    cbaxes.xaxis.set_major_formatter(ticker.StrMethodFormatter(\"{x:.2f}\"))\n",
    "    \n",
    "# Ajustar cosas del gráfico\n",
    "ax.set_xlabel(xlabel,fontsize=30)\n",
    "ax.set_ylabel(ylabel,fontsize=30)\n",
    "\n",
    "# xmin,xmax=min(xplot)-0.3,max(xplot)+0.2\n",
    "xmin,xmax = 9.8,11.8\n",
    "ax.set_xlim(xmin,xmax)\n",
    "\n",
    "# ymin,ymax=min(yplot)+0.2,max(yplot)+0.5\n",
    "ymin,ymax= 8.5,9.9\n",
    "ax.set_ylim(ymin,ymax)\n",
    "\n",
    "ax.tick_params(axis='both',labelsize=25)\n",
    "\n",
    "ax.plot(xmedian,ymedian,c='k',marker='o',ms=5,linestyle='-',linewidth=0.5,label='Mediana')\n",
    "\n",
    "ax.errorbar(xmedian,ymedian,yerr=yerror,\n",
    "           c='k',marker='o',markersize=2,linestyle='-',\n",
    "           linewidth=0.5,label='Percentiles 25º y 75º',capsize=5,capthick=1.5)\n",
    "\n",
    "# leg1=ax.legend(edgecolor='0.1',loc='lower right',handlelength=4,fontsize=12)\n",
    "# leg1.set_title(r'$\\rm{EAGLE\\ RefL0100N1504},\\ z=0$',prop={'size':15})\n",
    "\n",
    "# ax.add_artist(leg1)\n",
    "plt.grid(True)\n",
    "\n",
    "plt.subplots_adjust(left=0.15)\n",
    "\n",
    "# Guardar la figura, si es necesario\n",
    "plt.savefig('colormaps_MZR_segun_N2.pdf')\n",
    "    \n",
    "plt.show()"
   ]
  },
  {
   "cell_type": "markdown",
   "metadata": {},
   "source": [
    "## MZR coloreando $r_{sep1}$"
   ]
  },
  {
   "cell_type": "code",
   "execution_count": 22,
   "metadata": {},
   "outputs": [],
   "source": [
    "# Parámetro que colorea\n",
    "parametro= 'r_sep_1'\n",
    "\n",
    "# Variables (ejes) a graficar\n",
    "xplot = np.log10(data['Stars_Mass'])\n",
    "yplot = data['sf_metalicity']\n",
    "\n",
    "xlabel= r'$\\log(M_\\bigstar)~[\\rm{M}_\\odot]$'\n",
    "ylabel= r'$12+log(O/H)$'"
   ]
  },
  {
   "cell_type": "code",
   "execution_count": 23,
   "metadata": {},
   "outputs": [],
   "source": [
    "#-------------------- Variables para pintar grilla 2D-----------------------------------------------\n",
    "# Variable a usar para colorear\n",
    "var_color=data[parametro]\n",
    "\n",
    "# Estadístico a usar ('counts','mean','median')\n",
    "statistic='median'\n",
    "\n",
    "# 'counts' es para contar el número de galaxias en cada bin (digamos, es para hacer un histograma2D)\n",
    "# 'mean' y 'median' son para calcular la media o la mediana de var en cada bin.\n",
    "           \n",
    "# Label to use in color bar reference\n",
    "# var_label=parametro\n",
    "var_label= r'$r_{sep1}$'\n",
    "\n",
    "# Número de bines en cada eje\n",
    "nbinsx=20\n",
    "nbinsy=35\n",
    "    \n",
    "# Minimum number of galaxies to color bin (bins with less galaxies than this value will\n",
    "# not be taken into account)\n",
    "cmin=4\n",
    "\n",
    "# Color map to use. Use 'mapname_r' to invert colours. For example, if want to\n",
    "# invert the color map \"jet\", use \"jet_r\".\n",
    "cmap='jet_r'"
   ]
  },
  {
   "cell_type": "code",
   "execution_count": 25,
   "metadata": {},
   "outputs": [
    {
     "name": "stderr",
     "output_type": "stream",
     "text": [
      "<ipython-input-25-ce5ff556b65d>:79: MatplotlibDeprecationWarning: You are modifying the state of a globally registered colormap. In future versions, you will not be able to modify a registered colormap in-place. To remove this warning, you can make a copy of the colormap first. cmap = copy.copy(mpl.cm.get_cmap(\"jet_r\"))\n",
      "  cmap.set_under('white')                      # \"bad-defined\" bins will be of colour white.\n"
     ]
    },
    {
     "data": {
      "image/png": "[encoded data removed]",
      "text/plain": [
       "<Figure size 720x576 with 1 Axes>"
      ]
     },
     "metadata": {
      "needs_background": "light"
     },
     "output_type": "display_data"
    }
   ],
   "source": [
    "# Plot color map\n",
    "fig,ax=plt.subplots(figsize=(10,8))\n",
    "\n",
    "# Intervals of binning, as function of nbinsx and nbinsy:\n",
    "intx=(max(xplot)-min(xplot))/nbinsx\n",
    "inty=(max(yplot)-min(yplot))/nbinsy\n",
    "\n",
    "# If 'var_color' is an empty sequence or 'statistic=='counts'', plot a 2D histogram. \n",
    "if (var_color==[]) or (statistic=='counts'):   \n",
    "    # Min and Max of each variable\n",
    "    xmin,xmax=min(xplot),max(xplot)\n",
    "    xlim=[xmin,xmax]\n",
    "\n",
    "    ymin,ymax=min(yplot),max(yplot)\n",
    "    ylim=[ymin,ymax]\n",
    "        \n",
    "    # Construct the 2D histogram\n",
    "    hist2d,xedges,yedges,im=ax.hist2d(xplot, yplot, bins=(nbinsx,nbinsy),cmap=cmap,\n",
    "                                      range=(xlim,ylim),cmin=cmin)\n",
    "    var_label='N'\n",
    "        \n",
    "# If not want to plot a 2D histogram, construct the color map\n",
    "else:\n",
    "            #Define a \"density\" array of 2x2 used for binning. Its elements will be the values of the statistic\n",
    "            density=np.zeros((nbinsy+1,nbinsx+1))    # NOTE THE TRANSPOSITION OF AXIS! It is done like this in\n",
    "                                                     # order to use 'meshgrid' later.\n",
    "\n",
    "            # Calculate the desired statistic in each bin\n",
    "            auxx=min(xplot)\n",
    "            for i in range(nbinsx+1):\n",
    "                auxy=min(yplot)\n",
    "                for j in range(nbinsy+1):\n",
    "                    # Select data of elements that belong to the bin\n",
    "                    var=var_color[(xplot >= auxx) & (xplot < auxx+intx) & (yplot >= auxy) & (yplot < auxy+inty)]\n",
    "                    # Calculate the statistic in the bin, if there are at least cmin elements inside the bin.\n",
    "                    if (var.size >=cmin):\n",
    "                        if statistic=='mean':\n",
    "                            stat_val=np.mean(var)\n",
    "                        elif statistic=='median':\n",
    "                            stat_val=np.median(var)                        \n",
    "                    # If not enough elements in the bin, assign the value -1e99 to the statistic        \n",
    "                    else:\n",
    "                        stat_val=-1e99\n",
    "                \n",
    "                    # Overwrite the [j,i] element (bin) of density array with the calculated statistic\n",
    "                    density[j,i]=stat_val\n",
    "                    auxy=auxy+inty\n",
    "                auxx=auxx+intx\n",
    "\n",
    "            # Define x-coordinates of 2D grid\n",
    "            x=np.zeros(nbinsx+1)\n",
    "            auxx=min(xplot)\n",
    "            for i in range(nbinsx+1):\n",
    "                x[i]=auxx\n",
    "                auxx=auxx+intx\n",
    "            \n",
    "            # Define y-coordinates of 2D grid\n",
    "            y=np.zeros(nbinsy+1)\n",
    "            auxy=min(yplot)\n",
    "            for j in range(nbinsy+1):\n",
    "                y[j]=auxy\n",
    "                auxy=auxy+inty\n",
    "\n",
    "            # Construct two 2D array with grid coordinates\n",
    "            x,y=np.meshgrid(x,y)\n",
    "\n",
    "            # Define again the density (statistic) array\n",
    "            z=density\n",
    "        \n",
    "            # IMPORTANT!!: x, y, z MUST have the same shape.\n",
    "\n",
    "            # Search min and max of statistic, considering only bins with \"well-defined\" statistic\n",
    "            densitylim=density[density > -1e99]\n",
    "            vmin=np.amin(densitylim)\n",
    "            vmax=np.amax(densitylim)\n",
    "\n",
    "            # Prepare the color map\n",
    "            cmap = plt.get_cmap(cmap)       # Name of the color map\n",
    "            cmap.set_under('white')                      # \"bad-defined\" bins will be of colour white. \n",
    "            norm = colors.Normalize(vmin=vmin, vmax=vmax, clip=False)    # Normalize colors to the interval (vmin,vmax)\n",
    "\n",
    "            # Construct color grid\n",
    "            im=ax.pcolormesh(x,y,z,cmap=cmap,norm=norm,shading='auto')                     \n",
    "\n",
    "# Barra de referencia y \"tuneo\" del gráfico\n",
    "# Add an axis that will contain the color bar \n",
    "cbaxes=ax.inset_axes([0.12,0.94,0.76,0.04]) \n",
    "\n",
    "# Construct color bar using the color grid (object 'im')\n",
    "cbar=plt.colorbar(im,cax=cbaxes,orientation='horizontal')   \n",
    "cbar.set_label(var_label,fontsize=30)    # Label of color bar\n",
    "cbaxes.tick_params(axis='both', which='major', labelsize=25)   # Size of ticks labels\n",
    "\n",
    "# Number of ticks in color bar\n",
    "loc = ticker.LinearLocator(numticks=5)   # For simplicity, use always linear-separated ticks in the color bar\n",
    "cbar.locator=loc\n",
    "cbar.update_ticks()\n",
    "if (var_color==[]) or (statistic=='counts'):   # Format the string of color bar ticks label\n",
    "    cbaxes.xaxis.set_major_formatter(ticker.StrMethodFormatter(\"{x:.0f}\"))\n",
    "else:\n",
    "    cbaxes.xaxis.set_major_formatter(ticker.StrMethodFormatter(\"{x:.2f}\"))\n",
    "    \n",
    "# Ajustar cosas del gráfico\n",
    "ax.set_xlabel(xlabel,fontsize=30)\n",
    "ax.set_ylabel(ylabel,fontsize=30)\n",
    "\n",
    "# xmin,xmax=min(xplot)-0.3,max(xplot)+0.2\n",
    "xmin,xmax = 9.8,11.8\n",
    "ax.set_xlim(xmin,xmax)\n",
    "\n",
    "# ymin,ymax=min(yplot)+0.2,max(yplot)+0.5\n",
    "ymin,ymax= 8.5,9.9\n",
    "ax.set_ylim(ymin,ymax)\n",
    "\n",
    "ax.tick_params(axis='both',labelsize=25)\n",
    "\n",
    "ax.plot(xmedian,ymedian,c='k',marker='o',ms=5,linestyle='-',linewidth=0.5,label='Mediana')\n",
    "\n",
    "ax.errorbar(xmedian,ymedian,yerr=yerror,\n",
    "           c='k',marker='o',markersize=2,linestyle='-',\n",
    "           linewidth=0.5,label='Percentiles 25º y 75º',capsize=5,capthick=1.5)\n",
    "\n",
    "# leg1=ax.legend(edgecolor='0.1',loc='lower right',handlelength=4,fontsize=12)\n",
    "# leg1.set_title(r'$\\rm{EAGLE\\ RefL0100N1504},\\ z=0$',prop={'size':15})\n",
    "\n",
    "plt.subplots_adjust(left=0.15)\n",
    "\n",
    "# ax.add_artist(leg1)\n",
    "plt.grid(True)\n",
    "\n",
    "# Guardar la figura, si es necesario\n",
    "# plt.savefig('colormaps_MZR_segun_rsep1.pdf')\n",
    "    \n",
    "plt.show()"
   ]
  },
  {
   "cell_type": "markdown",
   "metadata": {},
   "source": [
    "## MZR coloreando $r_{sep2}$"
   ]
  },
  {
   "cell_type": "code",
   "execution_count": 26,
   "metadata": {},
   "outputs": [],
   "source": [
    "# Parámetro que colorea\n",
    "parametro= 'r_sep_2'\n",
    "\n",
    "# Variables (ejes) a graficar\n",
    "xplot = np.log10(data['Stars_Mass'])\n",
    "yplot = data['sf_metalicity']\n",
    "\n",
    "xlabel= r'$\\log(M_\\bigstar)~[\\rm{M}_\\odot]$'\n",
    "ylabel= r'$12+log(O/H)$'"
   ]
  },
  {
   "cell_type": "code",
   "execution_count": 27,
   "metadata": {},
   "outputs": [],
   "source": [
    "#-------------------- Variables para pintar grilla 2D-----------------------------------------------\n",
    "# Variable a usar para colorear\n",
    "var_color=data[parametro]\n",
    "\n",
    "# Estadístico a usar ('counts','mean','median')\n",
    "statistic='median'\n",
    "\n",
    "# 'counts' es para contar el número de galaxias en cada bin (digamos, es para hacer un histograma2D)\n",
    "# 'mean' y 'median' son para calcular la media o la mediana de var en cada bin.\n",
    "           \n",
    "# Label to use in color bar reference\n",
    "# var_label=parametro\n",
    "var_label= r'$r_{sep2}$'\n",
    "\n",
    "# Número de bines en cada eje\n",
    "nbinsx=20\n",
    "nbinsy=35\n",
    "    \n",
    "# Minimum number of galaxies to color bin (bins with less galaxies than this value will\n",
    "# not be taken into account)\n",
    "cmin=4\n",
    "\n",
    "# Color map to use. Use 'mapname_r' to invert colours. For example, if want to\n",
    "# invert the color map \"jet\", use \"jet_r\".\n",
    "cmap='jet_r'"
   ]
  },
  {
   "cell_type": "code",
   "execution_count": 29,
   "metadata": {},
   "outputs": [
    {
     "name": "stderr",
     "output_type": "stream",
     "text": [
      "<ipython-input-29-41e446b4b191>:79: MatplotlibDeprecationWarning: You are modifying the state of a globally registered colormap. In future versions, you will not be able to modify a registered colormap in-place. To remove this warning, you can make a copy of the colormap first. cmap = copy.copy(mpl.cm.get_cmap(\"jet_r\"))\n",
      "  cmap.set_under('white')                      # \"bad-defined\" bins will be of colour white.\n"
     ]
    },
    {
     "data": {
      "image/png": "[encoded data removed]",
      "text/plain": [
       "<Figure size 720x576 with 1 Axes>"
      ]
     },
     "metadata": {
      "needs_background": "light"
     },
     "output_type": "display_data"
    }
   ],
   "source": [
    "# Plot color map\n",
    "fig,ax=plt.subplots(figsize=(10,8))\n",
    "\n",
    "# Intervals of binning, as function of nbinsx and nbinsy:\n",
    "intx=(max(xplot)-min(xplot))/nbinsx\n",
    "inty=(max(yplot)-min(yplot))/nbinsy\n",
    "\n",
    "# If 'var_color' is an empty sequence or 'statistic=='counts'', plot a 2D histogram. \n",
    "if (var_color==[]) or (statistic=='counts'):   \n",
    "    # Min and Max of each variable\n",
    "    xmin,xmax=min(xplot),max(xplot)\n",
    "    xlim=[xmin,xmax]\n",
    "\n",
    "    ymin,ymax=min(yplot),max(yplot)\n",
    "    ylim=[ymin,ymax]\n",
    "        \n",
    "    # Construct the 2D histogram\n",
    "    hist2d,xedges,yedges,im=ax.hist2d(xplot, yplot, bins=(nbinsx,nbinsy),cmap=cmap,\n",
    "                                      range=(xlim,ylim),cmin=cmin)\n",
    "    var_label='N'\n",
    "        \n",
    "# If not want to plot a 2D histogram, construct the color map\n",
    "else:\n",
    "            #Define a \"density\" array of 2x2 used for binning. Its elements will be the values of the statistic\n",
    "            density=np.zeros((nbinsy+1,nbinsx+1))    # NOTE THE TRANSPOSITION OF AXIS! It is done like this in\n",
    "                                                     # order to use 'meshgrid' later.\n",
    "\n",
    "            # Calculate the desired statistic in each bin\n",
    "            auxx=min(xplot)\n",
    "            for i in range(nbinsx+1):\n",
    "                auxy=min(yplot)\n",
    "                for j in range(nbinsy+1):\n",
    "                    # Select data of elements that belong to the bin\n",
    "                    var=var_color[(xplot >= auxx) & (xplot < auxx+intx) & (yplot >= auxy) & (yplot < auxy+inty)]\n",
    "                    # Calculate the statistic in the bin, if there are at least cmin elements inside the bin.\n",
    "                    if (var.size >=cmin):\n",
    "                        if statistic=='mean':\n",
    "                            stat_val=np.mean(var)\n",
    "                        elif statistic=='median':\n",
    "                            stat_val=np.median(var)                        \n",
    "                    # If not enough elements in the bin, assign the value -1e99 to the statistic        \n",
    "                    else:\n",
    "                        stat_val=-1e99\n",
    "                \n",
    "                    # Overwrite the [j,i] element (bin) of density array with the calculated statistic\n",
    "                    density[j,i]=stat_val\n",
    "                    auxy=auxy+inty\n",
    "                auxx=auxx+intx\n",
    "\n",
    "            # Define x-coordinates of 2D grid\n",
    "            x=np.zeros(nbinsx+1)\n",
    "            auxx=min(xplot)\n",
    "            for i in range(nbinsx+1):\n",
    "                x[i]=auxx\n",
    "                auxx=auxx+intx\n",
    "            \n",
    "            # Define y-coordinates of 2D grid\n",
    "            y=np.zeros(nbinsy+1)\n",
    "            auxy=min(yplot)\n",
    "            for j in range(nbinsy+1):\n",
    "                y[j]=auxy\n",
    "                auxy=auxy+inty\n",
    "\n",
    "            # Construct two 2D array with grid coordinates\n",
    "            x,y=np.meshgrid(x,y)\n",
    "\n",
    "            # Define again the density (statistic) array\n",
    "            z=density\n",
    "        \n",
    "            # IMPORTANT!!: x, y, z MUST have the same shape.\n",
    "\n",
    "            # Search min and max of statistic, considering only bins with \"well-defined\" statistic\n",
    "            densitylim=density[density > -1e99]\n",
    "            vmin=np.amin(densitylim)\n",
    "            vmax=np.amax(densitylim)\n",
    "\n",
    "            # Prepare the color map\n",
    "            cmap = plt.get_cmap(cmap)       # Name of the color map\n",
    "            cmap.set_under('white')                      # \"bad-defined\" bins will be of colour white. \n",
    "            norm = colors.Normalize(vmin=vmin, vmax=vmax, clip=False)    # Normalize colors to the interval (vmin,vmax)\n",
    "\n",
    "            # Construct color grid\n",
    "            im=ax.pcolormesh(x,y,z,cmap=cmap,norm=norm,shading='auto')                     \n",
    "\n",
    "# Barra de referencia y \"tuneo\" del gráfico\n",
    "# Add an axis that will contain the color bar \n",
    "cbaxes=ax.inset_axes([0.12,0.94,0.76,0.04]) \n",
    "\n",
    "# Construct color bar using the color grid (object 'im')\n",
    "cbar=plt.colorbar(im,cax=cbaxes,orientation='horizontal')   \n",
    "cbar.set_label(var_label,fontsize=30)    # Label of color bar\n",
    "cbaxes.tick_params(axis='both', which='major', labelsize=25)   # Size of ticks labels\n",
    "\n",
    "# Number of ticks in color bar\n",
    "loc = ticker.LinearLocator(numticks=5)   # For simplicity, use always linear-separated ticks in the color bar\n",
    "cbar.locator=loc\n",
    "cbar.update_ticks()\n",
    "if (var_color==[]) or (statistic=='counts'):   # Format the string of color bar ticks label\n",
    "    cbaxes.xaxis.set_major_formatter(ticker.StrMethodFormatter(\"{x:.0f}\"))\n",
    "else:\n",
    "    cbaxes.xaxis.set_major_formatter(ticker.StrMethodFormatter(\"{x:.2f}\"))\n",
    "    \n",
    "# Ajustar cosas del gráfico\n",
    "ax.set_xlabel(xlabel,fontsize=30)\n",
    "ax.set_ylabel(ylabel,fontsize=30)\n",
    "\n",
    "# xmin,xmax=min(xplot)-0.3,max(xplot)+0.2\n",
    "xmin,xmax = 9.8,11.8\n",
    "ax.set_xlim(xmin,xmax)\n",
    "\n",
    "# ymin,ymax=min(yplot)+0.2,max(yplot)+0.5\n",
    "ymin,ymax= 8.5,9.9\n",
    "ax.set_ylim(ymin,ymax)\n",
    "\n",
    "ax.tick_params(axis='both',labelsize=25)\n",
    "\n",
    "ax.plot(xmedian,ymedian,c='k',marker='o',ms=5,linestyle='-',linewidth=0.5,label='Mediana')\n",
    "\n",
    "ax.errorbar(xmedian,ymedian,yerr=yerror,\n",
    "           c='k',marker='o',markersize=2,linestyle='-',\n",
    "           linewidth=0.5,label='Percentiles 25º y 75º',capsize=5,capthick=1.5)\n",
    "\n",
    "# leg1=ax.legend(edgecolor='0.1',loc='lower right',handlelength=4,fontsize=12)\n",
    "# leg1.set_title(r'$\\rm{EAGLE\\ RefL0100N1504},\\ z=0$',prop={'size':15})\n",
    "\n",
    "# ax.add_artist(leg1)\n",
    "plt.grid(True)\n",
    "\n",
    "plt.subplots_adjust(left=0.15)\n",
    "\n",
    "# Guardar la figura, si es necesario\n",
    "# plt.savefig('colormaps_MZR_segun_rsep2.pdf')\n",
    "    \n",
    "plt.show()"
   ]
  },
  {
   "cell_type": "markdown",
   "metadata": {},
   "source": [
    "## MZR coloreando $\\mu_{1}$"
   ]
  },
  {
   "cell_type": "code",
   "execution_count": 33,
   "metadata": {},
   "outputs": [],
   "source": [
    "# Parámetro que colorea\n",
    "parametro= 'mu_1'\n",
    "\n",
    "# Variables (ejes) a graficar\n",
    "xplot = np.log10(data['Stars_Mass'])\n",
    "yplot = data['sf_metalicity']\n",
    "\n",
    "xlabel= r'$\\log(M_\\bigstar)~[\\rm{M}_\\odot]$'\n",
    "ylabel= r'$12+log(O/H)$'"
   ]
  },
  {
   "cell_type": "code",
   "execution_count": 34,
   "metadata": {},
   "outputs": [],
   "source": [
    "#-------------------- Variables para pintar grilla 2D-----------------------------------------------\n",
    "# Variable a usar para colorear\n",
    "var_color=np.log10(data[parametro])\n",
    "\n",
    "# Estadístico a usar ('counts','mean','median')\n",
    "statistic='median'\n",
    "\n",
    "# 'counts' es para contar el número de galaxias en cada bin (digamos, es para hacer un histograma2D)\n",
    "# 'mean' y 'median' son para calcular la media o la mediana de var en cada bin.\n",
    "           \n",
    "# Label to use in color bar reference\n",
    "# var_label=parametro\n",
    "var_label= r'$log(\\mu_{1})$'\n",
    "\n",
    "# Número de bines en cada eje\n",
    "nbinsx=20\n",
    "nbinsy=35\n",
    "    \n",
    "# Minimum number of galaxies to color bin (bins with less galaxies than this value will\n",
    "# not be taken into account)\n",
    "cmin=4\n",
    "\n",
    "# Color map to use. Use 'mapname_r' to invert colours. For example, if want to\n",
    "# invert the color map \"jet\", use \"jet_r\".\n",
    "cmap='jet_r'"
   ]
  },
  {
   "cell_type": "code",
   "execution_count": 36,
   "metadata": {},
   "outputs": [
    {
     "name": "stderr",
     "output_type": "stream",
     "text": [
      "<ipython-input-36-6bf694c37b6d>:79: MatplotlibDeprecationWarning: You are modifying the state of a globally registered colormap. In future versions, you will not be able to modify a registered colormap in-place. To remove this warning, you can make a copy of the colormap first. cmap = copy.copy(mpl.cm.get_cmap(\"jet_r\"))\n",
      "  cmap.set_under('white')                      # \"bad-defined\" bins will be of colour white.\n"
     ]
    },
    {
     "data": {
      "image/png": "[encoded data removed]",
      "text/plain": [
       "<Figure size 720x576 with 1 Axes>"
      ]
     },
     "metadata": {
      "needs_background": "light"
     },
     "output_type": "display_data"
    }
   ],
   "source": [
    "# Plot color map\n",
    "fig,ax=plt.subplots(figsize=(10,8))\n",
    "\n",
    "# Intervals of binning, as function of nbinsx and nbinsy:\n",
    "intx=(max(xplot)-min(xplot))/nbinsx\n",
    "inty=(max(yplot)-min(yplot))/nbinsy\n",
    "\n",
    "# If 'var_color' is an empty sequence or 'statistic=='counts'', plot a 2D histogram. \n",
    "if (var_color==[]) or (statistic=='counts'):   \n",
    "    # Min and Max of each variable\n",
    "    xmin,xmax=min(xplot),max(xplot)\n",
    "    xlim=[xmin,xmax]\n",
    "\n",
    "    ymin,ymax=min(yplot),max(yplot)\n",
    "    ylim=[ymin,ymax]\n",
    "        \n",
    "    # Construct the 2D histogram\n",
    "    hist2d,xedges,yedges,im=ax.hist2d(xplot, yplot, bins=(nbinsx,nbinsy),cmap=cmap,\n",
    "                                      range=(xlim,ylim),cmin=cmin)\n",
    "    var_label='N'\n",
    "        \n",
    "# If not want to plot a 2D histogram, construct the color map\n",
    "else:\n",
    "            #Define a \"density\" array of 2x2 used for binning. Its elements will be the values of the statistic\n",
    "            density=np.zeros((nbinsy+1,nbinsx+1))    # NOTE THE TRANSPOSITION OF AXIS! It is done like this in\n",
    "                                                     # order to use 'meshgrid' later.\n",
    "\n",
    "            # Calculate the desired statistic in each bin\n",
    "            auxx=min(xplot)\n",
    "            for i in range(nbinsx+1):\n",
    "                auxy=min(yplot)\n",
    "                for j in range(nbinsy+1):\n",
    "                    # Select data of elements that belong to the bin\n",
    "                    var=var_color[(xplot >= auxx) & (xplot < auxx+intx) & (yplot >= auxy) & (yplot < auxy+inty)]\n",
    "                    # Calculate the statistic in the bin, if there are at least cmin elements inside the bin.\n",
    "                    if (var.size >=cmin):\n",
    "                        if statistic=='mean':\n",
    "                            stat_val=np.mean(var)\n",
    "                        elif statistic=='median':\n",
    "                            stat_val=np.median(var)                        \n",
    "                    # If not enough elements in the bin, assign the value -1e99 to the statistic        \n",
    "                    else:\n",
    "                        stat_val=-1e99\n",
    "                \n",
    "                    # Overwrite the [j,i] element (bin) of density array with the calculated statistic\n",
    "                    density[j,i]=stat_val\n",
    "                    auxy=auxy+inty\n",
    "                auxx=auxx+intx\n",
    "\n",
    "            # Define x-coordinates of 2D grid\n",
    "            x=np.zeros(nbinsx+1)\n",
    "            auxx=min(xplot)\n",
    "            for i in range(nbinsx+1):\n",
    "                x[i]=auxx\n",
    "                auxx=auxx+intx\n",
    "            \n",
    "            # Define y-coordinates of 2D grid\n",
    "            y=np.zeros(nbinsy+1)\n",
    "            auxy=min(yplot)\n",
    "            for j in range(nbinsy+1):\n",
    "                y[j]=auxy\n",
    "                auxy=auxy+inty\n",
    "\n",
    "            # Construct two 2D array with grid coordinates\n",
    "            x,y=np.meshgrid(x,y)\n",
    "\n",
    "            # Define again the density (statistic) array\n",
    "            z=density\n",
    "        \n",
    "            # IMPORTANT!!: x, y, z MUST have the same shape.\n",
    "\n",
    "            # Search min and max of statistic, considering only bins with \"well-defined\" statistic\n",
    "            densitylim=density[density > -1e99]\n",
    "            vmin=np.amin(densitylim)\n",
    "            vmax=np.amax(densitylim)\n",
    "\n",
    "            # Prepare the color map\n",
    "            cmap = plt.get_cmap(cmap)       # Name of the color map\n",
    "            cmap.set_under('white')                      # \"bad-defined\" bins will be of colour white. \n",
    "            norm = colors.Normalize(vmin=vmin, vmax=vmax, clip=False)    # Normalize colors to the interval (vmin,vmax)\n",
    "\n",
    "            # Construct color grid\n",
    "            im=ax.pcolormesh(x,y,z,cmap=cmap,norm=norm,shading='auto')                     \n",
    "\n",
    "# Barra de referencia y \"tuneo\" del gráfico\n",
    "# Add an axis that will contain the color bar \n",
    "cbaxes=ax.inset_axes([0.12,0.94,0.76,0.04]) \n",
    "\n",
    "# Construct color bar using the color grid (object 'im')\n",
    "cbar=plt.colorbar(im,cax=cbaxes,orientation='horizontal')   \n",
    "cbar.set_label(var_label,fontsize=30)    # Label of color bar\n",
    "cbaxes.tick_params(axis='both', which='major', labelsize=25)   # Size of ticks labels\n",
    "\n",
    "# Number of ticks in color bar\n",
    "loc = ticker.LinearLocator(numticks=5)   # For simplicity, use always linear-separated ticks in the color bar\n",
    "cbar.locator=loc\n",
    "cbar.update_ticks()\n",
    "if (var_color==[]) or (statistic=='counts'):   # Format the string of color bar ticks label\n",
    "    cbaxes.xaxis.set_major_formatter(ticker.StrMethodFormatter(\"{x:.0f}\"))\n",
    "else:\n",
    "    cbaxes.xaxis.set_major_formatter(ticker.StrMethodFormatter(\"{x:.2f}\"))\n",
    "    \n",
    "# Ajustar cosas del gráfico\n",
    "ax.set_xlabel(xlabel,fontsize=30)\n",
    "ax.set_ylabel(ylabel,fontsize=30)\n",
    "\n",
    "# xmin,xmax=min(xplot)-0.3,max(xplot)+0.2\n",
    "xmin,xmax = 9.8,11.8\n",
    "ax.set_xlim(xmin,xmax)\n",
    "\n",
    "# ymin,ymax=min(yplot)+0.2,max(yplot)+0.5\n",
    "ymin,ymax= 8.5,9.9\n",
    "ax.set_ylim(ymin,ymax)\n",
    "\n",
    "ax.tick_params(axis='both',labelsize=25)\n",
    "\n",
    "ax.plot(xmedian,ymedian,c='k',marker='o',ms=5,linestyle='-',linewidth=0.5,label='Mediana')\n",
    "\n",
    "ax.errorbar(xmedian,ymedian,yerr=yerror,\n",
    "           c='k',marker='o',markersize=2,linestyle='-',\n",
    "           linewidth=0.5,label='Percentiles 25º y 75º',capsize=5,capthick=1.5)\n",
    "\n",
    "# leg1=ax.legend(edgecolor='0.1',loc='lower right',handlelength=4,fontsize=12)\n",
    "# leg1.set_title(r'$\\rm{EAGLE\\ RefL0100N1504},\\ z=0$',prop={'size':15})\n",
    "\n",
    "# ax.add_artist(leg1)\n",
    "plt.grid(True)\n",
    "\n",
    "plt.subplots_adjust(left=0.15)\n",
    "\n",
    "# Guardar la figura, si es necesario\n",
    "# plt.savefig('colormaps_MZR_segun_mu1.pdf')\n",
    "    \n",
    "plt.show()"
   ]
  },
  {
   "cell_type": "markdown",
   "metadata": {},
   "source": [
    "## MZR coloreando $\\mu_{2}$"
   ]
  },
  {
   "cell_type": "code",
   "execution_count": 37,
   "metadata": {},
   "outputs": [],
   "source": [
    "# Parámetro que colorea\n",
    "parametro= 'mu_2'\n",
    "\n",
    "# Variables (ejes) a graficar\n",
    "xplot = np.log10(data['Stars_Mass'])\n",
    "yplot = data['sf_metalicity']\n",
    "\n",
    "xlabel= r'$\\log(M_\\bigstar)~[\\rm{M}_\\odot]$'\n",
    "ylabel= r'$12+log(O/H)$'"
   ]
  },
  {
   "cell_type": "code",
   "execution_count": 38,
   "metadata": {},
   "outputs": [],
   "source": [
    "#-------------------- Variables para pintar grilla 2D-----------------------------------------------\n",
    "# Variable a usar para colorear\n",
    "var_color=np.log10(data[parametro])\n",
    "\n",
    "# Estadístico a usar ('counts','mean','median')\n",
    "statistic='median'\n",
    "\n",
    "# 'counts' es para contar el número de galaxias en cada bin (digamos, es para hacer un histograma2D)\n",
    "# 'mean' y 'median' son para calcular la media o la mediana de var en cada bin.\n",
    "           \n",
    "# Label to use in color bar reference\n",
    "# var_label=parametro\n",
    "var_label= r'$log(\\mu_{2})$'\n",
    "\n",
    "# Número de bines en cada eje\n",
    "nbinsx=20\n",
    "nbinsy=35\n",
    "    \n",
    "# Minimum number of galaxies to color bin (bins with less galaxies than this value will\n",
    "# not be taken into account)\n",
    "cmin=4\n",
    "\n",
    "# Color map to use. Use 'mapname_r' to invert colours. For example, if want to\n",
    "# invert the color map \"jet\", use \"jet_r\".\n",
    "cmap='jet_r'"
   ]
  },
  {
   "cell_type": "code",
   "execution_count": 39,
   "metadata": {},
   "outputs": [
    {
     "name": "stderr",
     "output_type": "stream",
     "text": [
      "<ipython-input-39-297de6b8d4b4>:79: MatplotlibDeprecationWarning: You are modifying the state of a globally registered colormap. In future versions, you will not be able to modify a registered colormap in-place. To remove this warning, you can make a copy of the colormap first. cmap = copy.copy(mpl.cm.get_cmap(\"jet_r\"))\n",
      "  cmap.set_under('white')                      # \"bad-defined\" bins will be of colour white.\n"
     ]
    },
    {
     "data": {
      "image/png": "[encoded data removed]",
      "text/plain": [
       "<Figure size 720x576 with 1 Axes>"
      ]
     },
     "metadata": {
      "needs_background": "light"
     },
     "output_type": "display_data"
    }
   ],
   "source": [
    "# Plot color map\n",
    "fig,ax=plt.subplots(figsize=(10,8))\n",
    "\n",
    "# Intervals of binning, as function of nbinsx and nbinsy:\n",
    "intx=(max(xplot)-min(xplot))/nbinsx\n",
    "inty=(max(yplot)-min(yplot))/nbinsy\n",
    "\n",
    "# If 'var_color' is an empty sequence or 'statistic=='counts'', plot a 2D histogram. \n",
    "if (var_color==[]) or (statistic=='counts'):   \n",
    "    # Min and Max of each variable\n",
    "    xmin,xmax=min(xplot),max(xplot)\n",
    "    xlim=[xmin,xmax]\n",
    "\n",
    "    ymin,ymax=min(yplot),max(yplot)\n",
    "    ylim=[ymin,ymax]\n",
    "        \n",
    "    # Construct the 2D histogram\n",
    "    hist2d,xedges,yedges,im=ax.hist2d(xplot, yplot, bins=(nbinsx,nbinsy),cmap=cmap,\n",
    "                                      range=(xlim,ylim),cmin=cmin)\n",
    "    var_label='N'\n",
    "        \n",
    "# If not want to plot a 2D histogram, construct the color map\n",
    "else:\n",
    "            #Define a \"density\" array of 2x2 used for binning. Its elements will be the values of the statistic\n",
    "            density=np.zeros((nbinsy+1,nbinsx+1))    # NOTE THE TRANSPOSITION OF AXIS! It is done like this in\n",
    "                                                     # order to use 'meshgrid' later.\n",
    "\n",
    "            # Calculate the desired statistic in each bin\n",
    "            auxx=min(xplot)\n",
    "            for i in range(nbinsx+1):\n",
    "                auxy=min(yplot)\n",
    "                for j in range(nbinsy+1):\n",
    "                    # Select data of elements that belong to the bin\n",
    "                    var=var_color[(xplot >= auxx) & (xplot < auxx+intx) & (yplot >= auxy) & (yplot < auxy+inty)]\n",
    "                    # Calculate the statistic in the bin, if there are at least cmin elements inside the bin.\n",
    "                    if (var.size >=cmin):\n",
    "                        if statistic=='mean':\n",
    "                            stat_val=np.mean(var)\n",
    "                        elif statistic=='median':\n",
    "                            stat_val=np.median(var)                        \n",
    "                    # If not enough elements in the bin, assign the value -1e99 to the statistic        \n",
    "                    else:\n",
    "                        stat_val=-1e99\n",
    "                \n",
    "                    # Overwrite the [j,i] element (bin) of density array with the calculated statistic\n",
    "                    density[j,i]=stat_val\n",
    "                    auxy=auxy+inty\n",
    "                auxx=auxx+intx\n",
    "\n",
    "            # Define x-coordinates of 2D grid\n",
    "            x=np.zeros(nbinsx+1)\n",
    "            auxx=min(xplot)\n",
    "            for i in range(nbinsx+1):\n",
    "                x[i]=auxx\n",
    "                auxx=auxx+intx\n",
    "            \n",
    "            # Define y-coordinates of 2D grid\n",
    "            y=np.zeros(nbinsy+1)\n",
    "            auxy=min(yplot)\n",
    "            for j in range(nbinsy+1):\n",
    "                y[j]=auxy\n",
    "                auxy=auxy+inty\n",
    "\n",
    "            # Construct two 2D array with grid coordinates\n",
    "            x,y=np.meshgrid(x,y)\n",
    "\n",
    "            # Define again the density (statistic) array\n",
    "            z=density\n",
    "        \n",
    "            # IMPORTANT!!: x, y, z MUST have the same shape.\n",
    "\n",
    "            # Search min and max of statistic, considering only bins with \"well-defined\" statistic\n",
    "            densitylim=density[density > -1e99]\n",
    "            vmin=np.amin(densitylim)\n",
    "            vmax=np.amax(densitylim)\n",
    "\n",
    "            # Prepare the color map\n",
    "            cmap = plt.get_cmap(cmap)       # Name of the color map\n",
    "            cmap.set_under('white')                      # \"bad-defined\" bins will be of colour white. \n",
    "            norm = colors.Normalize(vmin=vmin, vmax=vmax, clip=False)    # Normalize colors to the interval (vmin,vmax)\n",
    "\n",
    "            # Construct color grid\n",
    "            im=ax.pcolormesh(x,y,z,cmap=cmap,norm=norm,shading='auto')                     \n",
    "\n",
    "# Barra de referencia y \"tuneo\" del gráfico\n",
    "# Add an axis that will contain the color bar \n",
    "cbaxes=ax.inset_axes([0.12,0.94,0.76,0.04]) \n",
    "\n",
    "# Construct color bar using the color grid (object 'im')\n",
    "cbar=plt.colorbar(im,cax=cbaxes,orientation='horizontal')   \n",
    "cbar.set_label(var_label,fontsize=30)    # Label of color bar\n",
    "cbaxes.tick_params(axis='both', which='major', labelsize=25)   # Size of ticks labels\n",
    "\n",
    "# Number of ticks in color bar\n",
    "loc = ticker.LinearLocator(numticks=5)   # For simplicity, use always linear-separated ticks in the color bar\n",
    "cbar.locator=loc\n",
    "cbar.update_ticks()\n",
    "if (var_color==[]) or (statistic=='counts'):   # Format the string of color bar ticks label\n",
    "    cbaxes.xaxis.set_major_formatter(ticker.StrMethodFormatter(\"{x:.0f}\"))\n",
    "else:\n",
    "    cbaxes.xaxis.set_major_formatter(ticker.StrMethodFormatter(\"{x:.2f}\"))\n",
    "    \n",
    "# Ajustar cosas del gráfico\n",
    "ax.set_xlabel(xlabel,fontsize=30)\n",
    "ax.set_ylabel(ylabel,fontsize=30)\n",
    "\n",
    "# xmin,xmax=min(xplot)-0.3,max(xplot)+0.2\n",
    "xmin,xmax = 9.8,11.8\n",
    "ax.set_xlim(xmin,xmax)\n",
    "\n",
    "# ymin,ymax=min(yplot)+0.2,max(yplot)+0.5\n",
    "ymin,ymax= 8.5,9.9\n",
    "ax.set_ylim(ymin,ymax)\n",
    "\n",
    "ax.tick_params(axis='both',labelsize=25)\n",
    "\n",
    "ax.plot(xmedian,ymedian,c='k',marker='o',ms=5,linestyle='-',linewidth=0.5,label='Mediana')\n",
    "\n",
    "ax.errorbar(xmedian,ymedian,yerr=yerror,\n",
    "           c='k',marker='o',markersize=2,linestyle='-',\n",
    "           linewidth=0.5,label='Percentiles 25º y 75º',capsize=5,capthick=1.5)\n",
    "\n",
    "# leg1=ax.legend(edgecolor='0.1',loc='lower right',handlelength=4,fontsize=12)\n",
    "# leg1.set_title(r'$\\rm{EAGLE\\ RefL0100N1504},\\ z=0$',prop={'size':15})\n",
    "\n",
    "# ax.add_artist(leg1)\n",
    "plt.grid(True)\n",
    "\n",
    "plt.subplots_adjust(left=0.15)\n",
    "\n",
    "# Guardar la figura, si es necesario\n",
    "# plt.savefig('colormaps_MZR_segun_mu2.pdf')\n",
    "    \n",
    "plt.show()"
   ]
  },
  {
   "cell_type": "markdown",
   "metadata": {},
   "source": [
    "## MZR coloreando $R_{1}$"
   ]
  },
  {
   "cell_type": "code",
   "execution_count": 196,
   "metadata": {
    "collapsed": true,
    "jupyter": {
     "outputs_hidden": true,
     "source_hidden": true
    }
   },
   "outputs": [
    {
     "data": {
      "text/plain": [
       "dict_keys(['GalaxyID', 'GroupID', 'SnapNum', 'Redshift', 'SubGroupNumber_x', 'CentreOfPotential_x', 'CentreOfPotential_y', 'CentreOfPotential_z', 'Stars_Mass', 'SF_Mass', 'NSF_Mass', 'MassType_DM', 'MassType_BH', 'HalfMassRad_Star', 'HalfMassRad_Gas', 'HalfMassRad_DM', 'Stars_Hydrogen', 'Stars_Oxygen', 'Stars_Metallicity', 'SF_Hydrogen', 'SF_Oxygen', 'SF_Metallicity', 'NSF_Hydrogen', 'NSF_Oxygen', 'NSF_Metallicity', 'StarFormationRate', 'InitialMassWeightedStellarAge', 'ApertureSize', 'Mass_Star', 'SFR_30pkpc', 'Group_R_Crit200', 'Group_M_Crit200', 'GalaxyID_test', 'Mass_Host', 'SubGroupNumber_y', 'GroupID_test', 'GalaxyID_V1', 'GalaxyID_V2', 'R_1[kpc]', 'R_2[kpc]', 'r_sep_1', 'r_sep_2', 'mu_1', 'mu_2', 'N_1', 'N_2', 'N_3', 'sf_metalicity'])"
      ]
     },
     "execution_count": 196,
     "metadata": {},
     "output_type": "execute_result"
    }
   ],
   "source": [
    "data.keys()"
   ]
  },
  {
   "cell_type": "code",
   "execution_count": 197,
   "metadata": {
    "jupyter": {
     "source_hidden": true
    }
   },
   "outputs": [],
   "source": [
    "# Parámetro que colorea\n",
    "parametro= 'R_1[kpc]'\n",
    "\n",
    "# Variables (ejes) a graficar\n",
    "xplot = np.log10(data['Stars_Mass'])\n",
    "yplot = data['sf_metalicity']\n",
    "\n",
    "xlabel= r'$\\log(M_\\bigstar)~[\\rm{M}_\\odot]$'\n",
    "ylabel= r'$12+log(O/H)$'"
   ]
  },
  {
   "cell_type": "code",
   "execution_count": 200,
   "metadata": {
    "jupyter": {
     "source_hidden": true
    }
   },
   "outputs": [],
   "source": [
    "#-------------------- Variables para pintar grilla 2D-----------------------------------------------\n",
    "# Variable a usar para colorear\n",
    "var_color=data[parametro]\n",
    "\n",
    "# Estadístico a usar ('counts','mean','median')\n",
    "statistic='median'\n",
    "\n",
    "# 'counts' es para contar el número de galaxias en cada bin (digamos, es para hacer un histograma2D)\n",
    "# 'mean' y 'median' son para calcular la media o la mediana de var en cada bin.\n",
    "           \n",
    "# Label to use in color bar reference\n",
    "# var_label=parametro\n",
    "var_label= r'$R_{1}[Mpc]$'\n",
    "\n",
    "# Número de bines en cada eje\n",
    "nbinsx=20\n",
    "nbinsy=35\n",
    "    \n",
    "# Minimum number of galaxies to color bin (bins with less galaxies than this value will\n",
    "# not be taken into account)\n",
    "cmin=3\n",
    "\n",
    "# Color map to use. Use 'mapname_r' to invert colours. For example, if want to\n",
    "# invert the color map \"jet\", use \"jet_r\".\n",
    "cmap='jet_r'"
   ]
  },
  {
   "cell_type": "code",
   "execution_count": 201,
   "metadata": {
    "collapsed": true,
    "jupyter": {
     "outputs_hidden": true,
     "source_hidden": true
    }
   },
   "outputs": [
    {
     "name": "stderr",
     "output_type": "stream",
     "text": [
      "<ipython-input-201-87489f00aa9b>:79: MatplotlibDeprecationWarning: You are modifying the state of a globally registered colormap. In future versions, you will not be able to modify a registered colormap in-place. To remove this warning, you can make a copy of the colormap first. cmap = copy.copy(mpl.cm.get_cmap(\"jet_r\"))\n",
      "  cmap.set_under('white')                      # \"bad-defined\" bins will be of colour white.\n"
     ]
    },
    {
     "data": {
      "image/png": "[encoded data removed]",
      "text/plain": [
       "<Figure size 720x576 with 1 Axes>"
      ]
     },
     "metadata": {
      "needs_background": "light"
     },
     "output_type": "display_data"
    }
   ],
   "source": [
    "# Plot color map\n",
    "fig,ax=plt.subplots(figsize=(10,8))\n",
    "\n",
    "# Intervals of binning, as function of nbinsx and nbinsy:\n",
    "intx=(max(xplot)-min(xplot))/nbinsx\n",
    "inty=(max(yplot)-min(yplot))/nbinsy\n",
    "\n",
    "# If 'var_color' is an empty sequence or 'statistic=='counts'', plot a 2D histogram. \n",
    "if (var_color==[]) or (statistic=='counts'):   \n",
    "    # Min and Max of each variable\n",
    "    xmin,xmax=min(xplot),max(xplot)\n",
    "    xlim=[xmin,xmax]\n",
    "\n",
    "    ymin,ymax=min(yplot),max(yplot)\n",
    "    ylim=[ymin,ymax]\n",
    "        \n",
    "    # Construct the 2D histogram\n",
    "    hist2d,xedges,yedges,im=ax.hist2d(xplot, yplot, bins=(nbinsx,nbinsy),cmap=cmap,\n",
    "                                      range=(xlim,ylim),cmin=cmin)\n",
    "    var_label='N'\n",
    "        \n",
    "# If not want to plot a 2D histogram, construct the color map\n",
    "else:\n",
    "            #Define a \"density\" array of 2x2 used for binning. Its elements will be the values of the statistic\n",
    "            density=np.zeros((nbinsy+1,nbinsx+1))    # NOTE THE TRANSPOSITION OF AXIS! It is done like this in\n",
    "                                                     # order to use 'meshgrid' later.\n",
    "\n",
    "            # Calculate the desired statistic in each bin\n",
    "            auxx=min(xplot)\n",
    "            for i in range(nbinsx+1):\n",
    "                auxy=min(yplot)\n",
    "                for j in range(nbinsy+1):\n",
    "                    # Select data of elements that belong to the bin\n",
    "                    var=var_color[(xplot >= auxx) & (xplot < auxx+intx) & (yplot >= auxy) & (yplot < auxy+inty)]\n",
    "                    # Calculate the statistic in the bin, if there are at least cmin elements inside the bin.\n",
    "                    if (var.size >=cmin):\n",
    "                        if statistic=='mean':\n",
    "                            stat_val=np.mean(var)\n",
    "                        elif statistic=='median':\n",
    "                            stat_val=np.median(var)                        \n",
    "                    # If not enough elements in the bin, assign the value -1e99 to the statistic        \n",
    "                    else:\n",
    "                        stat_val=-1e99\n",
    "                \n",
    "                    # Overwrite the [j,i] element (bin) of density array with the calculated statistic\n",
    "                    density[j,i]=stat_val\n",
    "                    auxy=auxy+inty\n",
    "                auxx=auxx+intx\n",
    "\n",
    "            # Define x-coordinates of 2D grid\n",
    "            x=np.zeros(nbinsx+1)\n",
    "            auxx=min(xplot)\n",
    "            for i in range(nbinsx+1):\n",
    "                x[i]=auxx\n",
    "                auxx=auxx+intx\n",
    "            \n",
    "            # Define y-coordinates of 2D grid\n",
    "            y=np.zeros(nbinsy+1)\n",
    "            auxy=min(yplot)\n",
    "            for j in range(nbinsy+1):\n",
    "                y[j]=auxy\n",
    "                auxy=auxy+inty\n",
    "\n",
    "            # Construct two 2D array with grid coordinates\n",
    "            x,y=np.meshgrid(x,y)\n",
    "\n",
    "            # Define again the density (statistic) array\n",
    "            z=density\n",
    "        \n",
    "            # IMPORTANT!!: x, y, z MUST have the same shape.\n",
    "\n",
    "            # Search min and max of statistic, considering only bins with \"well-defined\" statistic\n",
    "            densitylim=density[density > -1e99]\n",
    "            vmin=np.amin(densitylim)\n",
    "            vmax=np.amax(densitylim)\n",
    "\n",
    "            # Prepare the color map\n",
    "            cmap = plt.get_cmap(cmap)       # Name of the color map\n",
    "            cmap.set_under('white')                      # \"bad-defined\" bins will be of colour white. \n",
    "            norm = colors.Normalize(vmin=vmin, vmax=vmax, clip=False)    # Normalize colors to the interval (vmin,vmax)\n",
    "\n",
    "            # Construct color grid\n",
    "            im=ax.pcolormesh(x,y,z,cmap=cmap,norm=norm,shading='auto')                     \n",
    "\n",
    "# Barra de referencia y \"tuneo\" del gráfico\n",
    "# Add an axis that will contain the color bar \n",
    "cbaxes=ax.inset_axes([0.12,0.94,0.76,0.04]) \n",
    "\n",
    "# Construct color bar using the color grid (object 'im')\n",
    "cbar=plt.colorbar(im,cax=cbaxes,orientation='horizontal')   \n",
    "cbar.set_label(var_label,fontsize=30)    # Label of color bar\n",
    "cbaxes.tick_params(axis='both', which='major', labelsize=25)   # Size of ticks labels\n",
    "\n",
    "# Number of ticks in color bar\n",
    "loc = ticker.LinearLocator(numticks=5)   # For simplicity, use always linear-separated ticks in the color bar\n",
    "cbar.locator=loc\n",
    "cbar.update_ticks()\n",
    "if (var_color==[]) or (statistic=='counts'):   # Format the string of color bar ticks label\n",
    "    cbaxes.xaxis.set_major_formatter(ticker.StrMethodFormatter(\"{x:.0f}\"))\n",
    "else:\n",
    "    cbaxes.xaxis.set_major_formatter(ticker.StrMethodFormatter(\"{x:.2f}\"))\n",
    "    \n",
    "# Ajustar cosas del gráfico\n",
    "ax.set_xlabel(xlabel,fontsize=30)\n",
    "ax.set_ylabel(ylabel,fontsize=30)\n",
    "\n",
    "# xmin,xmax=min(xplot)-0.3,max(xplot)+0.2\n",
    "xmin,xmax = 9.9,11.7\n",
    "ax.set_xlim(xmin,xmax)\n",
    "\n",
    "# ymin,ymax=min(yplot)+0.2,max(yplot)+0.5\n",
    "ymin,ymax= 8.6,9.85\n",
    "ax.set_ylim(ymin,ymax)\n",
    "\n",
    "ax.tick_params(axis='both',labelsize=25)\n",
    "\n",
    "ax.plot(xmedian,ymedian,c='k',marker='o',ms=5,linestyle='-',linewidth=0.5,label='Mediana')\n",
    "\n",
    "ax.errorbar(xmedian,ymedian,yerr=yerror,\n",
    "           c='k',marker='o',markersize=2,linestyle='-',\n",
    "           linewidth=0.5,label='Percentiles 25º y 75º',capsize=5,capthick=1.5)\n",
    "\n",
    "# leg1=ax.legend(edgecolor='0.1',loc='lower right',handlelength=4,fontsize=12)\n",
    "# leg1.set_title(r'$\\rm{EAGLE\\ RefL0100N1504},\\ z=0$',prop={'size':15})\n",
    "\n",
    "# ax.add_artist(leg1)\n",
    "plt.grid(True)\n",
    "\n",
    "plt.subplots_adjust(left=0.15)\n",
    "\n",
    "# Guardar la figura, si es necesario\n",
    "# plt.savefig('colormaps_MZR_segun_R1.pdf')\n",
    "    \n",
    "plt.show()"
   ]
  },
  {
   "cell_type": "markdown",
   "metadata": {},
   "source": [
    "## MZR coloreando $r_{2}$"
   ]
  },
  {
   "cell_type": "code",
   "execution_count": 194,
   "metadata": {
    "collapsed": true,
    "jupyter": {
     "outputs_hidden": true,
     "source_hidden": true
    }
   },
   "outputs": [
    {
     "data": {
      "text/plain": [
       "dict_keys(['GalaxyID', 'GroupID', 'SnapNum', 'Redshift', 'SubGroupNumber', 'CentreOfPotential_x', 'CentreOfPotential_y', 'CentreOfPotential_z', 'Stars_Mass', 'SF_Mass', 'NSF_Mass', 'MassType_DM', 'MassType_BH', 'HalfMassRad_Star', 'HalfMassRad_Gas', 'HalfMassRad_DM', 'Stars_Hydrogen', 'Stars_Oxygen', 'Stars_Metallicity', 'SF_Hydrogen', 'SF_Oxygen', 'SF_Metallicity', 'NSF_Hydrogen', 'NSF_Oxygen', 'NSF_Metallicity', 'StarFormationRate', 'InitialMassWeightedStellarAge', 'ApertureSize', 'Mass_Star', 'SFR_30pkpc', 'Group_R_Crit200', 'Group_M_Crit200', 'GalaxyID_test', 'Mass_Host', 'GroupID_test', 'GalaxyID_V1', 'GalaxyID_V2', 'R_1', 'R_2', 'r_sep_1', 'r_sep_2', 'mu_1', 'mu_2', 'N_1', 'N_2', 'N_3', 'sf_metalicity'])"
      ]
     },
     "execution_count": 194,
     "metadata": {},
     "output_type": "execute_result"
    }
   ],
   "source": [
    "data.keys()"
   ]
  },
  {
   "cell_type": "code",
   "execution_count": 195,
   "metadata": {
    "jupyter": {
     "source_hidden": true
    }
   },
   "outputs": [],
   "source": [
    "# Parámetro que colorea\n",
    "parametro= 'R_2'\n",
    "\n",
    "# Variables (ejes) a graficar\n",
    "xplot = np.log10(data['Stars_Mass'])\n",
    "yplot = data['sf_metalicity']\n",
    "\n",
    "xlabel= r'$\\log(M_\\bigstar)~[\\rm{M}_\\odot]$'\n",
    "ylabel= r'$12+log(O/H)$'"
   ]
  },
  {
   "cell_type": "code",
   "execution_count": 196,
   "metadata": {
    "jupyter": {
     "source_hidden": true
    }
   },
   "outputs": [],
   "source": [
    "#-------------------- Variables para pintar grilla 2D-----------------------------------------------\n",
    "# Variable a usar para colorear\n",
    "var_color=data[parametro]\n",
    "\n",
    "# Estadístico a usar ('counts','mean','median')\n",
    "statistic='median'\n",
    "\n",
    "# 'counts' es para contar el número de galaxias en cada bin (digamos, es para hacer un histograma2D)\n",
    "# 'mean' y 'median' son para calcular la media o la mediana de var en cada bin.\n",
    "           \n",
    "# Label to use in color bar reference\n",
    "# var_label=parametro\n",
    "var_label= r'$R_{2}[pkpc]$'\n",
    "\n",
    "# Número de bines en cada eje\n",
    "nbinsx=20\n",
    "nbinsy=35\n",
    "    \n",
    "# Minimum number of galaxies to color bin (bins with less galaxies than this value will\n",
    "# not be taken into account)\n",
    "cmin=2\n",
    "\n",
    "# Color map to use. Use 'mapname_r' to invert colours. For example, if want to\n",
    "# invert the color map \"jet\", use \"jet_r\".\n",
    "cmap='jet_r'"
   ]
  },
  {
   "cell_type": "code",
   "execution_count": 197,
   "metadata": {
    "collapsed": true,
    "jupyter": {
     "outputs_hidden": true,
     "source_hidden": true
    }
   },
   "outputs": [
    {
     "name": "stderr",
     "output_type": "stream",
     "text": [
      "<ipython-input-197-dc024ffe5173>:79: MatplotlibDeprecationWarning: You are modifying the state of a globally registered colormap. In future versions, you will not be able to modify a registered colormap in-place. To remove this warning, you can make a copy of the colormap first. cmap = copy.copy(mpl.cm.get_cmap(\"jet_r\"))\n",
      "  cmap.set_under('white')                      # \"bad-defined\" bins will be of colour white.\n"
     ]
    },
    {
     "data": {
      "image/png": "[encoded data removed]",
      "text/plain": [
       "<Figure size 720x576 with 1 Axes>"
      ]
     },
     "metadata": {
      "needs_background": "light"
     },
     "output_type": "display_data"
    }
   ],
   "source": [
    "# Plot color map\n",
    "fig,ax=plt.subplots(figsize=(10,8))\n",
    "\n",
    "# Intervals of binning, as function of nbinsx and nbinsy:\n",
    "intx=(max(xplot)-min(xplot))/nbinsx\n",
    "inty=(max(yplot)-min(yplot))/nbinsy\n",
    "\n",
    "# If 'var_color' is an empty sequence or 'statistic=='counts'', plot a 2D histogram. \n",
    "if (var_color==[]) or (statistic=='counts'):   \n",
    "    # Min and Max of each variable\n",
    "    xmin,xmax=min(xplot),max(xplot)\n",
    "    xlim=[xmin,xmax]\n",
    "\n",
    "    ymin,ymax=min(yplot),max(yplot)\n",
    "    ylim=[ymin,ymax]\n",
    "        \n",
    "    # Construct the 2D histogram\n",
    "    hist2d,xedges,yedges,im=ax.hist2d(xplot, yplot, bins=(nbinsx,nbinsy),cmap=cmap,\n",
    "                                      range=(xlim,ylim),cmin=cmin)\n",
    "    var_label='N'\n",
    "        \n",
    "# If not want to plot a 2D histogram, construct the color map\n",
    "else:\n",
    "            #Define a \"density\" array of 2x2 used for binning. Its elements will be the values of the statistic\n",
    "            density=np.zeros((nbinsy+1,nbinsx+1))    # NOTE THE TRANSPOSITION OF AXIS! It is done like this in\n",
    "                                                     # order to use 'meshgrid' later.\n",
    "\n",
    "            # Calculate the desired statistic in each bin\n",
    "            auxx=min(xplot)\n",
    "            for i in range(nbinsx+1):\n",
    "                auxy=min(yplot)\n",
    "                for j in range(nbinsy+1):\n",
    "                    # Select data of elements that belong to the bin\n",
    "                    var=var_color[(xplot >= auxx) & (xplot < auxx+intx) & (yplot >= auxy) & (yplot < auxy+inty)]\n",
    "                    # Calculate the statistic in the bin, if there are at least cmin elements inside the bin.\n",
    "                    if (var.size >=cmin):\n",
    "                        if statistic=='mean':\n",
    "                            stat_val=np.mean(var)\n",
    "                        elif statistic=='median':\n",
    "                            stat_val=np.median(var)                        \n",
    "                    # If not enough elements in the bin, assign the value -1e99 to the statistic        \n",
    "                    else:\n",
    "                        stat_val=-1e99\n",
    "                \n",
    "                    # Overwrite the [j,i] element (bin) of density array with the calculated statistic\n",
    "                    density[j,i]=stat_val\n",
    "                    auxy=auxy+inty\n",
    "                auxx=auxx+intx\n",
    "\n",
    "            # Define x-coordinates of 2D grid\n",
    "            x=np.zeros(nbinsx+1)\n",
    "            auxx=min(xplot)\n",
    "            for i in range(nbinsx+1):\n",
    "                x[i]=auxx\n",
    "                auxx=auxx+intx\n",
    "            \n",
    "            # Define y-coordinates of 2D grid\n",
    "            y=np.zeros(nbinsy+1)\n",
    "            auxy=min(yplot)\n",
    "            for j in range(nbinsy+1):\n",
    "                y[j]=auxy\n",
    "                auxy=auxy+inty\n",
    "\n",
    "            # Construct two 2D array with grid coordinates\n",
    "            x,y=np.meshgrid(x,y)\n",
    "\n",
    "            # Define again the density (statistic) array\n",
    "            z=density\n",
    "        \n",
    "            # IMPORTANT!!: x, y, z MUST have the same shape.\n",
    "\n",
    "            # Search min and max of statistic, considering only bins with \"well-defined\" statistic\n",
    "            densitylim=density[density > -1e99]\n",
    "            vmin=np.amin(densitylim)\n",
    "            vmax=np.amax(densitylim)\n",
    "\n",
    "            # Prepare the color map\n",
    "            cmap = plt.get_cmap(cmap)       # Name of the color map\n",
    "            cmap.set_under('white')                      # \"bad-defined\" bins will be of colour white. \n",
    "            norm = colors.Normalize(vmin=vmin, vmax=vmax, clip=False)    # Normalize colors to the interval (vmin,vmax)\n",
    "\n",
    "            # Construct color grid\n",
    "            im=ax.pcolormesh(x,y,z,cmap=cmap,norm=norm,shading='auto')                     \n",
    "\n",
    "# Barra de referencia y \"tuneo\" del gráfico\n",
    "# Add an axis that will contain the color bar \n",
    "cbaxes=ax.inset_axes([0.12,0.94,0.76,0.04]) \n",
    "\n",
    "# Construct color bar using the color grid (object 'im')\n",
    "cbar=plt.colorbar(im,cax=cbaxes,orientation='horizontal')   \n",
    "cbar.set_label(var_label,fontsize=30)    # Label of color bar\n",
    "cbaxes.tick_params(axis='both', which='major', labelsize=25)   # Size of ticks labels\n",
    "\n",
    "# Number of ticks in color bar\n",
    "loc = ticker.LinearLocator(numticks=5)   # For simplicity, use always linear-separated ticks in the color bar\n",
    "cbar.locator=loc\n",
    "cbar.update_ticks()\n",
    "if (var_color==[]) or (statistic=='counts'):   # Format the string of color bar ticks label\n",
    "    cbaxes.xaxis.set_major_formatter(ticker.StrMethodFormatter(\"{x:.0f}\"))\n",
    "else:\n",
    "    cbaxes.xaxis.set_major_formatter(ticker.StrMethodFormatter(\"{x:.2f}\"))\n",
    "    \n",
    "# Ajustar cosas del gráfico\n",
    "ax.set_xlabel(xlabel,fontsize=30)\n",
    "ax.set_ylabel(ylabel,fontsize=30)\n",
    "\n",
    "# xmin,xmax=min(xplot)-0.3,max(xplot)+0.2\n",
    "xmin,xmax = 9.9,11.7\n",
    "ax.set_xlim(xmin,xmax)\n",
    "\n",
    "# ymin,ymax=min(yplot)+0.2,max(yplot)+0.5\n",
    "ymin,ymax= 8.6,9.85\n",
    "ax.set_ylim(ymin,ymax)\n",
    "\n",
    "ax.tick_params(axis='both',labelsize=25)\n",
    "\n",
    "ax.plot(xmedian,ymedian,c='k',marker='o',ms=5,linestyle='-',linewidth=0.5,label='Mediana')\n",
    "\n",
    "ax.errorbar(xmedian,ymedian,yerr=yerror,\n",
    "           c='k',marker='o',markersize=2,linestyle='-',\n",
    "           linewidth=0.5,label='Percentiles 25º y 75º',capsize=5,capthick=1.5)\n",
    "\n",
    "# leg1=ax.legend(edgecolor='0.1',loc='lower right',handlelength=4,fontsize=12)\n",
    "# leg1.set_title(r'$\\rm{EAGLE\\ RefL0100N1504},\\ z=0$',prop={'size':15})\n",
    "\n",
    "# ax.add_artist(leg1)\n",
    "plt.grid(True)\n",
    "\n",
    "plt.subplots_adjust(left=0.15)\n",
    "\n",
    "# Guardar la figura, si es necesario\n",
    "# plt.savefig('colormaps_MZR_segun_R2.pdf')\n",
    "    \n",
    "plt.show()"
   ]
  },
  {
   "cell_type": "markdown",
   "metadata": {},
   "source": [
    "# Segunda parte"
   ]
  },
  {
   "cell_type": "markdown",
   "metadata": {},
   "source": [
    "**Vamos a hacer un análisis cuantitativo respecto de algunas cantidades tales como $N_{2}$, $\\mu_{1,2}$, etc para ver si diferentes valores de ellas se alejan de la media entre la relación masa vs metalicidad. \n",
    "Para ello primero vamos rellenar los valores discretos de la media y su error para poder calcular los residuos respecto de la mediana y así realizar un histograma de las gaáxias para luego aplicarle algún test de hipótesis.**"
   ]
  },
  {
   "cell_type": "markdown",
   "metadata": {},
   "source": [
    "Ya tenemos los valores discretos de la mediana"
   ]
  },
  {
   "cell_type": "code",
   "execution_count": 85,
   "metadata": {},
   "outputs": [],
   "source": [
    "mask = (merge['sf_metalicity'].notna())\n",
    "xvar = np.log10(merge['Stars_Mass'])[mask].to_numpy()\n",
    "yvar = merge['sf_metalicity'][mask].to_numpy()"
   ]
  },
  {
   "cell_type": "code",
   "execution_count": 86,
   "metadata": {},
   "outputs": [],
   "source": [
    "nbins=10       # Numero de bins en variable x a usar para dividir la muestra\n",
    "perc_low=25.        # Percentil a usar como cota inferior de error\n",
    "perc_high=75.       # Percentil a usar como cota superior de error\n",
    "min_count=10         # Mínima cantidad de elementos para considerar en un bin\n",
    "\n",
    "xmedian,ymedian,xerror,yerror,elements=Curves2D.median_curve(xvar,yvar,bins=nbins,min_count=min_count,\n",
    "                                                             perc_low=perc_low,perc_high=perc_high)"
   ]
  },
  {
   "cell_type": "code",
   "execution_count": 87,
   "metadata": {},
   "outputs": [],
   "source": [
    "x      = np.append(10,xmedian)\n",
    "y      = np.append(ymedian[0],ymedian)\n",
    "\n",
    "f      = interpolate.interp1d(x, y)\n",
    "f_err_u= interpolate.interp1d(x, np.append(yerror[1][0],yerror[1]))\n",
    "f_err_d= interpolate.interp1d(x, np.append(yerror[0][0],yerror[0]))"
   ]
  },
  {
   "cell_type": "markdown",
   "metadata": {},
   "source": [
    "**Valores continuos de la función interpoladora para la mediana junto con sus errores**"
   ]
  },
  {
   "cell_type": "code",
   "execution_count": 88,
   "metadata": {},
   "outputs": [],
   "source": [
    "xnew = np.arange(min(x),max(x) , 0.0001)\n",
    "ynew = f(xnew)   # use interpolation function returned by `interp1d`\n",
    "\n",
    "y_error_n=[[],[]]\n",
    "y_error_n[1] = f_err_u(xnew)\n",
    "y_error_n[0] = f_err_d(xnew)"
   ]
  },
  {
   "cell_type": "code",
   "execution_count": 89,
   "metadata": {},
   "outputs": [
    {
     "data": {
      "image/png": "[encoded data removed]",
      "text/plain": [
       "<Figure size 432x288 with 1 Axes>"
      ]
     },
     "metadata": {
      "needs_background": "light"
     },
     "output_type": "display_data"
    }
   ],
   "source": [
    "plt.plot(x, y, 'o', xnew, ynew, '-')\n",
    "\n",
    "plt.errorbar(xnew,ynew,yerr=y_error_n,c='b',marker='o',markersize=1,linestyle='-',linewidth=1.5)\n",
    "\n",
    "plt.show()"
   ]
  },
  {
   "cell_type": "markdown",
   "metadata": {},
   "source": [
    "## Elegimos el parámetro al cual le calculamos los residuos"
   ]
  },
  {
   "cell_type": "markdown",
   "metadata": {},
   "source": [
    "**Hacemos un scatter plot de la masa vs metalicidad junto con la banda media. Podemos elegir algún parámetro para ver como cambia la distribución.\n",
    "Tuve que poner un filtro para que las galáxias se ajusten al valor mínimo y máximo de la media.**"
   ]
  },
  {
   "cell_type": "code",
   "execution_count": 90,
   "metadata": {},
   "outputs": [],
   "source": [
    "parametro ='N_2'\n",
    "xlabel = r'$N_{2}$'"
   ]
  },
  {
   "cell_type": "code",
   "execution_count": 91,
   "metadata": {},
   "outputs": [],
   "source": [
    "# merge.keys()"
   ]
  },
  {
   "cell_type": "code",
   "execution_count": 92,
   "metadata": {},
   "outputs": [],
   "source": [
    "mask = (merge[parametro]>=0)&(np.log10(merge['Stars_Mass'])<=max(xmedian))#&(np.log10(merge['Stars_Mass'])>=min(xmedian))&(merge['SubGroupNumber']==0)\n",
    "xvar = np.log10(merge['Stars_Mass'])[mask].to_numpy()\n",
    "yvar = merge['sf_metalicity'][mask].to_numpy()\n",
    "zvar = merge[parametro][mask].to_numpy()"
   ]
  },
  {
   "cell_type": "markdown",
   "metadata": {},
   "source": [
    "**Separamos las galáxias según su ubucación respecto a la banda media**"
   ]
  },
  {
   "cell_type": "code",
   "execution_count": 93,
   "metadata": {},
   "outputs": [],
   "source": [
    "gal_sup =[]\n",
    "gal_inf =[]\n",
    "gal_mean=[]\n",
    "\n",
    "for i in np.arange(len(xvar)):\n",
    "    sup = f(xvar[i]) + f_err_u(xvar[i])- yvar[i]\n",
    "    inf = f(xvar[i]) - f_err_d(xvar[i])- yvar[i]\n",
    "    if sup*inf<0:\n",
    "        gal_mean.append(i)\n",
    "    elif abs(sup)<abs(inf):\n",
    "        gal_sup.append(i)\n",
    "    else: gal_inf.append(i)"
   ]
  },
  {
   "cell_type": "code",
   "execution_count": 94,
   "metadata": {},
   "outputs": [],
   "source": [
    "residuos = np.ones_like(xvar,dtype=float)\n",
    "\n",
    "for i in np.arange(len(xvar)):\n",
    "    residuos[i] = -(f(xvar[i]) - yvar[i])"
   ]
  },
  {
   "cell_type": "code",
   "execution_count": 95,
   "metadata": {},
   "outputs": [],
   "source": [
    "xvar_sup = np.ones_like(gal_sup,dtype=float)\n",
    "xvar_inf = np.ones_like(gal_inf,dtype=float)\n",
    "xvar_mean= np.ones_like(gal_mean,dtype=float)\n",
    "\n",
    "yvar_sup = np.ones_like(gal_sup,dtype=float)\n",
    "yvar_inf = np.ones_like(gal_inf,dtype=float)\n",
    "yvar_mean= np.ones_like(gal_mean,dtype=float)\n",
    "\n",
    "zvar_sup = np.ones_like(gal_sup,dtype=int)\n",
    "zvar_inf = np.ones_like(gal_inf,dtype=int)\n",
    "zvar_mean= np.ones_like(gal_mean,dtype=int)\n",
    "\n",
    "for i in np.arange(len(gal_sup)):\n",
    "    xvar_sup[i] = xvar[gal_sup[i]]\n",
    "    yvar_sup[i] = yvar[gal_sup[i]]\n",
    "    zvar_sup[i] = zvar[gal_sup[i]]\n",
    "    \n",
    "for i in np.arange(len(gal_inf)):\n",
    "    xvar_inf[i] = xvar[gal_inf[i]]\n",
    "    yvar_inf[i] = yvar[gal_inf[i]]\n",
    "    zvar_inf[i] = zvar[gal_inf[i]]\n",
    "    \n",
    "for i in np.arange(len(gal_mean)):\n",
    "    xvar_mean[i] = xvar[gal_mean[i]]\n",
    "    yvar_mean[i] = yvar[gal_mean[i]]\n",
    "    zvar_mean[i] = zvar[gal_mean[i]]"
   ]
  },
  {
   "cell_type": "markdown",
   "metadata": {},
   "source": [
    "**Scatter de residuos en función de parámetro.**"
   ]
  },
  {
   "cell_type": "code",
   "execution_count": 96,
   "metadata": {},
   "outputs": [],
   "source": [
    "xvar = zvar\n",
    "yvar = residuos"
   ]
  },
  {
   "cell_type": "code",
   "execution_count": 97,
   "metadata": {},
   "outputs": [
    {
     "data": {
      "text/plain": [
       "array([ 4, 34, 64, ...,  2,  1, 25])"
      ]
     },
     "execution_count": 97,
     "metadata": {},
     "output_type": "execute_result"
    }
   ],
   "source": [
    "zvar"
   ]
  },
  {
   "cell_type": "code",
   "execution_count": 98,
   "metadata": {},
   "outputs": [],
   "source": [
    "nbins=10        # Numero de bins en variable x a usar para dividir la muestra\n",
    "perc_low=25.        # Percentil a usar como cota inferior de error\n",
    "perc_high=75.       # Percentil a usar como cota superior de error\n",
    "min_count=10         # Mínima cantidad de elementos para considerar en un bin\n",
    "\n",
    "xmedian,ymedian,xerror,yerror,elements=Curves2D.median_curve(xvar,yvar,bins=nbins,min_count=min_count,\n",
    "                                                             perc_low=perc_low,perc_high=perc_high)"
   ]
  },
  {
   "cell_type": "code",
   "execution_count": 99,
   "metadata": {},
   "outputs": [
    {
     "data": {
      "image/png": "[encoded data removed]",
      "text/plain": [
       "<Figure size 720x576 with 1 Axes>"
      ]
     },
     "metadata": {
      "needs_background": "light"
     },
     "output_type": "display_data"
    }
   ],
   "source": [
    "fig,ax=plt.subplots(figsize=(10,8))\n",
    "\n",
    "# xlim=(min(zvar),max(zvar))\n",
    "# ylim=(min(residuos)-0.3,max(residuos)+0.3)\n",
    "\n",
    "xlim = (-1.5,100)\n",
    "ylim = (-0.6,0.5)\n",
    "\n",
    "ylabel=r'$Residuos$'\n",
    "\n",
    "ax.set_xlabel(xlabel,fontsize=30)\n",
    "ax.set_ylabel(ylabel,fontsize=30)\n",
    "\n",
    "ax.set_xlim(xlim)\n",
    "ax.set_ylim(ylim)\n",
    "\n",
    "ax.tick_params(axis='both', which='major', labelsize=25)\n",
    "                \n",
    "plt.subplots_adjust(left=0.12,right=0.95,bottom=0.15,top=0.95)\n",
    "\n",
    "# scatter plot\n",
    "ax.scatter(zvar,residuos,marker='o',s=0.8,c='0.1',label='Scatter plot')\n",
    "\n",
    "ax.plot(xmedian,ymedian,c='b',marker='o',ms=8,linestyle='-',linewidth=1.5,label='Mediana')\n",
    "\n",
    "ax.errorbar(xmedian,ymedian,yerr=yerror,\n",
    "           c='b',marker='',markersize=8,linestyle='-',\n",
    "           linewidth=1.5,label='Percentiles 25º y 75º',capsize=5,capthick=1.5)\n",
    "\n",
    "# leg1=ax.legend(edgecolor='0.1',loc='lower right',handlelength=4,fontsize=15)\n",
    "# leg1.set_title(r'$\\rm{EAGLE\\ RefL0100N1504},\\ z=0$',prop={'size':15})\n",
    "\n",
    "# plt.title('Scatter Plots separando según la ubicación de la media.')\n",
    "\n",
    "# ax.add_artist(leg1)\n",
    "\n",
    "plt.grid()    \n",
    "plt.hlines(0,xlim[0],xlim[1],colors = 'r',linestyles='dashed')\n",
    "\n",
    "plt.subplots_adjust(left=0.15)\n",
    "\n",
    "# plt.savefig('residuos_N2.pdf')\n",
    "plt.show()"
   ]
  },
  {
   "cell_type": "markdown",
   "metadata": {},
   "source": [
    "**Color maps para los residuos**"
   ]
  },
  {
   "cell_type": "raw",
   "metadata": {
    "jupyter": {
     "source_hidden": true
    }
   },
   "source": [
    "#Color maps de los residuos según la variable elegida\n",
    "map_c = {'r_sep_2':merge['r_sep_2'][mask].to_numpy(),'residuos':residuos,str(parametro):zvar} "
   ]
  },
  {
   "cell_type": "raw",
   "metadata": {
    "jupyter": {
     "source_hidden": true
    }
   },
   "source": [
    "map_c = pd.DataFrame(map_c)\n",
    "map_c_color = Table(data= np.array(map_c),names= map_c.keys())"
   ]
  },
  {
   "cell_type": "raw",
   "metadata": {
    "jupyter": {
     "source_hidden": true
    }
   },
   "source": [
    "# Condiciones para seleccionar muestra\n",
    "# mask=(astro_merge['Stars_Mass']>=1e10)&(astro_merge['sf_metalicity']>0)\n",
    "\n",
    "data={}\n",
    "for key in map_c_color.keys():\n",
    "    data[key] = map_c_color[key]"
   ]
  },
  {
   "cell_type": "raw",
   "metadata": {
    "jupyter": {
     "source_hidden": true
    }
   },
   "source": [
    "# Variables (ejes) a graficar\n",
    "xplot = data[parametro]\n",
    "yplot = data['residuos']\n",
    "\n",
    "# xlabel= parametro\n",
    "ylabel= r'$Residuos$'"
   ]
  },
  {
   "cell_type": "raw",
   "metadata": {
    "jupyter": {
     "source_hidden": true
    }
   },
   "source": [
    "#-------------------- Variables para pintar grilla 2D-----------------------------------------------\n",
    "# Variable a usar para colorear\n",
    "var_color=data['r_sep_2']\n",
    "\n",
    "# Estadístico a usar ('counts','mean','median')\n",
    "statistic='median'\n",
    "\n",
    "# 'counts' es para contar el número de galaxias en cada bin (digamos, es para hacer un histograma2D)\n",
    "# 'mean' y 'median' son para calcular la media o la mediana de var en cada bin.\n",
    "           \n",
    "# Label to use in color bar reference\n",
    "var_label=r'$r_{sep2}~[pkpc]$'\n",
    "\n",
    "# Número de bines en cada eje\n",
    "nbinsx=20\n",
    "nbinsy=35\n",
    "    \n",
    "# Minimum number of galaxies to color bin (bins with less galaxies than this value will\n",
    "# not be taken into account)\n",
    "cmin=3\n",
    "\n",
    "# Color map to use. Use 'mapname_r' to invert colours. For example, if want to\n",
    "# invert the color map \"jet\", use \"jet_r\".\n",
    "cmap='jet_r'"
   ]
  },
  {
   "cell_type": "raw",
   "metadata": {
    "jupyter": {
     "source_hidden": true
    }
   },
   "source": [
    "# Plot color map\n",
    "fig,ax=plt.subplots(figsize=(10,8))\n",
    "\n",
    "# Intervals of binning, as function of nbinsx and nbinsy:\n",
    "intx=(max(xplot)-min(xplot))/nbinsx\n",
    "inty=(max(yplot)-min(yplot))/nbinsy\n",
    "\n",
    "# If 'var_color' is an empty sequence or 'statistic=='counts'', plot a 2D histogram. \n",
    "if (var_color==[]) or (statistic=='counts'):   \n",
    "    # Min and Max of each variable\n",
    "    xmin,xmax=min(xplot),max(xplot)\n",
    "    xlim=[xmin,xmax]\n",
    "\n",
    "    ymin,ymax=min(yplot),max(yplot)\n",
    "    ylim=[ymin,ymax]\n",
    "        \n",
    "    # Construct the 2D histogram\n",
    "    hist2d,xedges,yedges,im=ax.hist2d(xplot, yplot, bins=(nbinsx,nbinsy),cmap=cmap,\n",
    "                                      range=(xlim,ylim),cmin=cmin)\n",
    "    var_label='N'\n",
    "        \n",
    "# If not want to plot a 2D histogram, construct the color map\n",
    "else:\n",
    "            #Define a \"density\" array of 2x2 used for binning. Its elements will be the values of the statistic\n",
    "            density=np.zeros((nbinsy+1,nbinsx+1))    # NOTE THE TRANSPOSITION OF AXIS! It is done like this in\n",
    "                                                     # order to use 'meshgrid' later.\n",
    "\n",
    "            # Calculate the desired statistic in each bin\n",
    "            auxx=min(xplot)\n",
    "            for i in range(nbinsx+1):\n",
    "                auxy=min(yplot)\n",
    "                for j in range(nbinsy+1):\n",
    "                    # Select data of elements that belong to the bin\n",
    "                    var=var_color[(xplot >= auxx) & (xplot < auxx+intx) & (yplot >= auxy) & (yplot < auxy+inty)]\n",
    "                    # Calculate the statistic in the bin, if there are at least cmin elements inside the bin.\n",
    "                    if (var.size >=cmin):\n",
    "                        if statistic=='mean':\n",
    "                            stat_val=np.mean(var)\n",
    "                        elif statistic=='median':\n",
    "                            stat_val=np.median(var)                        \n",
    "                    # If not enough elements in the bin, assign the value -1e99 to the statistic        \n",
    "                    else:\n",
    "                        stat_val=-1e99\n",
    "                \n",
    "                    # Overwrite the [j,i] element (bin) of density array with the calculated statistic\n",
    "                    density[j,i]=stat_val\n",
    "                    auxy=auxy+inty\n",
    "                auxx=auxx+intx\n",
    "\n",
    "            # Define x-coordinates of 2D grid\n",
    "            x=np.zeros(nbinsx+1)\n",
    "            auxx=min(xplot)\n",
    "            for i in range(nbinsx+1):\n",
    "                x[i]=auxx\n",
    "                auxx=auxx+intx\n",
    "            \n",
    "            # Define y-coordinates of 2D grid\n",
    "            y=np.zeros(nbinsy+1)\n",
    "            auxy=min(yplot)\n",
    "            for j in range(nbinsy+1):\n",
    "                y[j]=auxy\n",
    "                auxy=auxy+inty\n",
    "\n",
    "            # Construct two 2D array with grid coordinates\n",
    "            x,y=np.meshgrid(x,y)\n",
    "\n",
    "            # Define again the density (statistic) array\n",
    "            z=density\n",
    "        \n",
    "            # IMPORTANT!!: x, y, z MUST have the same shape.\n",
    "\n",
    "            # Search min and max of statistic, considering only bins with \"well-defined\" statistic\n",
    "            densitylim=density[density > -1e99]\n",
    "            vmin=np.amin(densitylim)\n",
    "            vmax=np.amax(densitylim)\n",
    "\n",
    "            # Prepare the color map\n",
    "            cmap = plt.get_cmap(cmap)       # Name of the color map\n",
    "            cmap.set_under('white')                      # \"bad-defined\" bins will be of colour white. \n",
    "            norm = colors.Normalize(vmin=vmin, vmax=vmax, clip=False)    # Normalize colors to the interval (vmin,vmax)\n",
    "\n",
    "            # Construct color grid\n",
    "            im=ax.pcolormesh(x,y,z,cmap=cmap,norm=norm,shading='auto')                     \n",
    "\n",
    "# Barra de referencia y \"tuneo\" del gráfico\n",
    "# Add an axis that will contain the color bar \n",
    "cbaxes=ax.inset_axes([0.12,0.94,0.76,0.04]) \n",
    "\n",
    "# Construct color bar using the color grid (object 'im')\n",
    "cbar=plt.colorbar(im,cax=cbaxes,orientation='horizontal')   \n",
    "cbar.set_label(var_label,fontsize=30)    # Label of color bar\n",
    "cbaxes.tick_params(axis='both', which='major', labelsize=25)   # Size of ticks labels\n",
    "\n",
    "# Number of ticks in color bar\n",
    "loc = ticker.LinearLocator(numticks=5)   # For simplicity, use always linear-separated ticks in the color bar\n",
    "cbar.locator=loc\n",
    "cbar.update_ticks()\n",
    "if (var_color==[]) or (statistic=='counts'):   # Format the string of color bar ticks label\n",
    "    cbaxes.xaxis.set_major_formatter(ticker.StrMethodFormatter(\"{x:.0f}\"))\n",
    "else:\n",
    "    cbaxes.xaxis.set_major_formatter(ticker.StrMethodFormatter(\"{x:.2f}\"))\n",
    "    \n",
    "# Ajustar cosas del gráfico\n",
    "ax.set_xlabel(xlabel,fontsize=30)\n",
    "ax.set_ylabel(ylabel,fontsize=30)\n",
    "\n",
    "# xmin,xmax=min(xplot),max(xplot)\n",
    "xmin,xmax= 0,22\n",
    "ax.set_xlim(xmin,xmax)\n",
    "\n",
    "# ymin,ymax=min(yplot)+0.6,max(yplot)+0.2\n",
    "ymin,ymax= -0.6,0.7\n",
    "ax.set_ylim(ymin,ymax)\n",
    "\n",
    "ax.tick_params(axis='both',labelsize=25)\n",
    "\n",
    "ax.plot(xmedian,ymedian,c='k',marker='o',ms=5,linestyle='-',linewidth=0.5,label='Mediana')\n",
    "\n",
    "ax.errorbar(xmedian,ymedian,yerr=yerror,\n",
    "           c='k',marker='o',markersize=2,linestyle='-',\n",
    "           linewidth=0.5,label='Percentiles 25º y 75º',capsize=5,capthick=1.5)\n",
    "\n",
    "leg1=ax.legend(edgecolor='0.1',loc='lower right',handlelength=4,fontsize=15)\n",
    "# leg1.set_title(r'$\\rm{EAGLE\\ RefL0100N1504},\\ z=0$',prop={'size':18})\n",
    "\n",
    "# ax.add_artist(leg1)\n",
    "plt.grid()\n",
    "\n",
    "plt.subplots_adjust(left=0.15)\n",
    "\n",
    "\n",
    "# Guardar la figura, si es necesario\n",
    "# plt.savefig(path_lin_fig+'map_color_residuos_r_1.png')\n",
    "   \n",
    "plt.show()"
   ]
  },
  {
   "cell_type": "raw",
   "metadata": {
    "jupyter": {
     "source_hidden": true
    }
   },
   "source": [
    "fig = go.Figure(data=[go.Scatter(x = zvar,y = residuos,\n",
    "                                 name=\"Scatter Sup\",\n",
    "                                 mode='markers',\n",
    "                                 marker=dict(\n",
    "                                 size=3,\n",
    "                                 opacity=0.7,\n",
    "                                 colorscale='Rainbow', \n",
    "                                 showscale=False,\n",
    "                                 colorbar=dict(title=parametro)\n",
    "                                 )\n",
    "                    )])\n",
    "\n",
    "fig.update_layout(title='Scatter Plots separando según la ubicación de la media para vecinas.')\n",
    "\n",
    "fig.update_xaxes(title_text = str(parametro))\n",
    "\n",
    "fig.update_yaxes(title_text = 'Residuos')\n",
    "\n",
    "fig.update_layout(\n",
    "    autosize=False,\n",
    "    width=650,\n",
    "    height=525\n",
    "    )\n",
    "\n",
    "\n",
    "fig.show()"
   ]
  },
  {
   "cell_type": "markdown",
   "metadata": {},
   "source": [
    "# Algunos histogramas"
   ]
  },
  {
   "cell_type": "code",
   "execution_count": 106,
   "metadata": {},
   "outputs": [
    {
     "name": "stderr",
     "output_type": "stream",
     "text": [
      "No handles with labels found to put in legend.\n",
      "No handles with labels found to put in legend.\n"
     ]
    },
    {
     "data": {
      "image/png": "[encoded data removed]",
      "text/plain": [
       "<Figure size 1440x1080 with 2 Axes>"
      ]
     },
     "metadata": {
      "needs_background": "light"
     },
     "output_type": "display_data"
    }
   ],
   "source": [
    "figure, axes = plt.subplots(2,figsize=(20,15))\n",
    "\n",
    "bins = np.arange(0,2.6,0.2)\n",
    "h_sup,b = np.histogram(np.log10(zvar_sup+1),bins,density=False)\n",
    "error_sup = np.sqrt(h_sup/len(zvar_sup))\n",
    "axes[0].bar(b[:-1],height=h_sup/len(zvar_sup),width =0.2,color='g',edgecolor='k',capsize=2,align='edge')#yerr=error_sup,\n",
    "axes[0].set_title(r'$Distribución~de~log(N_{2}+1)~para~las~galaxias~por~encima~del~percentil~75º$',fontsize=30)\n",
    "axes[0].set_xlabel(r'$log(N_{2}+1)$',fontsize=30)\n",
    "axes[0].set_ylabel(r'$Fracción$',fontsize=30)\n",
    "axes[0].set_xticks(bins)\n",
    "axes[0].tick_params(axis='both',labelsize=25)\n",
    "axes[0].set_ylim([0,0.3])\n",
    "leg=axes[0].legend(loc='upper right',edgecolor='w',fontsize=30)\n",
    "leg.set_title('Cantidad de galaxias:'+str(len(zvar_sup)), prop = {'size':30})\n",
    "# axes[0].set_xscale('log')\n",
    "# axes[0].legend(loc='upper center',edgecolor='w',fontsize=25, labels = 'Cantidad de galaxias'+str(len(zvar_sup)))\n",
    "\n",
    "figure.tight_layout()\n",
    "\n",
    "bins = np.arange(0,2.6,0.2)\n",
    "h_inf,b = np.histogram(np.log10(zvar_inf+1),bins,density=False)\n",
    "error_inf = np.sqrt(h_inf/len(zvar_inf))\n",
    "axes[1].bar(b[:-1],height=h_inf/len(zvar_inf),width =0.2,color='r',edgecolor='k',capsize=2,align='edge')#,yerr=error_inf\n",
    "axes[1].set_title(r'$Distribución~de~log(N_{2}+1)~para~las~galaxias~por~debajo~del~percentil~25º$',fontsize=30)\n",
    "axes[1].set_xlabel(r'$log(N_{2}+1)$',fontsize=30)\n",
    "axes[1].set_ylabel(r'$Fracción$',fontsize=30)\n",
    "axes[1].set_xticks(bins)\n",
    "axes[1].tick_params(axis='both',labelsize=25)\n",
    "axes[1].set_ylim([0,0.3])\n",
    "\n",
    "leg=axes[1].legend(loc='upper right',edgecolor='w',fontsize=30)\n",
    "leg.set_title('Cantidad de galaxias:'+str(len(zvar_inf)), prop = {'size':30})\n",
    "# axes[1].set_xscale('log')\n",
    "\n",
    "plt.subplots_adjust(hspace=0.3,left=0.15,bottom=0.1)\n",
    "\n",
    "# plt.xscale('log')\n",
    "# figure.savefig('distribuciones_N2(percentiles).pdf')\n",
    "plt.show()"
   ]
  },
  {
   "cell_type": "code",
   "execution_count": 107,
   "metadata": {},
   "outputs": [
    {
     "name": "stdout",
     "output_type": "stream",
     "text": [
      "Porcentaje de la distribución desde n=0 hasta n=4: 0.6038461538461538\n",
      "Porcentaje de la distribución desde n=0 hasta n=4: 0.8951507208387942\n"
     ]
    }
   ],
   "source": [
    "n = 4\n",
    "prob_sup=0\n",
    "prob_inf=0\n",
    "\n",
    "for i in np.arange(n+1):\n",
    "    prob_sup += h_sup[i]/len(zvar_sup)\n",
    "    \n",
    "for i in np.arange(n+1):\n",
    "    prob_inf += h_inf[i]/len(zvar_inf)\n",
    "    \n",
    "print('Porcentaje de la distribución desde n=0 hasta n='+str(n)+':',prob_sup)\n",
    "print('Porcentaje de la distribución desde n=0 hasta n='+str(n)+':',prob_inf)"
   ]
  },
  {
   "cell_type": "markdown",
   "metadata": {},
   "source": [
    "## ------------------------------------------------------------------------------------------------------------"
   ]
  },
  {
   "cell_type": "markdown",
   "metadata": {},
   "source": [
    "**Vamos a hacer color maps para los residuos coloreando según distintos parámetros**"
   ]
  },
  {
   "cell_type": "code",
   "execution_count": 147,
   "metadata": {
    "jupyter": {
     "source_hidden": true
    }
   },
   "outputs": [],
   "source": [
    "astro_merge = Table(data=np.array(merge),names=merge.keys())"
   ]
  },
  {
   "cell_type": "code",
   "execution_count": 148,
   "metadata": {
    "jupyter": {
     "source_hidden": true
    }
   },
   "outputs": [],
   "source": [
    "# Condiciones para seleccionar muestra\n",
    "mask=(astro_merge['Stars_Mass']>=1e10)&(astro_merge['sf_metalicity']>0) \n",
    "\n",
    "data={}\n",
    "for key in astro_merge.keys():\n",
    "    data[key]=astro_merge[key][mask]"
   ]
  },
  {
   "cell_type": "code",
   "execution_count": 149,
   "metadata": {
    "jupyter": {
     "source_hidden": true
    }
   },
   "outputs": [],
   "source": [
    "# Parámetro que colorea\n",
    "parametro_col= 'R_1'\n",
    "\n",
    "# Variables (ejes) a graficar\n",
    "xplot = zvar\n",
    "yplot = residuos\n",
    "\n",
    "xlabel= r'$\\log(M_\\bigstar)~[\\rm{M}_\\odot]$'\n",
    "ylabel= r'$12+log(M_{O}/M_{H})$'"
   ]
  },
  {
   "cell_type": "code",
   "execution_count": 150,
   "metadata": {
    "jupyter": {
     "source_hidden": true
    }
   },
   "outputs": [],
   "source": [
    "#-------------------- Variables para pintar grilla 2D-----------------------------------------------\n",
    "# Variable a usar para colorear\n",
    "var_color = data[parametro_col]\n",
    "\n",
    "# Estadístico a usar ('counts','mean','median')\n",
    "statistic='mean'\n",
    "\n",
    "# 'counts' es para contar el número de galaxias en cada bin (digamos, es para hacer un histograma2D)\n",
    "# 'mean' y 'median' son para calcular la media o la mediana de var en cada bin.\n",
    "           \n",
    "# Label to use in color bar reference\n",
    "var_label=parametro_col\n",
    "\n",
    "# Número de bines en cada eje\n",
    "nbinsx=60\n",
    "nbinsy=50\n",
    "    \n",
    "# Minimum number of galaxies to color bin (bins with less galaxies than this value will\n",
    "# not be taken into account)\n",
    "cmin=2\n",
    "\n",
    "# Color map to use. Use 'mapname_r' to invert colours. For example, if want to\n",
    "# invert the color map \"jet\", use \"jet_r\".\n",
    "cmap='jet_r'"
   ]
  },
  {
   "cell_type": "code",
   "execution_count": 151,
   "metadata": {
    "collapsed": true,
    "jupyter": {
     "outputs_hidden": true,
     "source_hidden": true
    }
   },
   "outputs": [
    {
     "ename": "IndexError",
     "evalue": "boolean index did not match indexed array along dimension 0; dimension is 2914 but corresponding boolean dimension is 2501",
     "output_type": "error",
     "traceback": [
      "\u001b[0;31m---------------------------------------------------------------------------\u001b[0m",
      "\u001b[0;31mIndexError\u001b[0m                                Traceback (most recent call last)",
      "\u001b[0;32m<ipython-input-151-8385a7a0974f>\u001b[0m in \u001b[0;36m<module>\u001b[0;34m\u001b[0m\n\u001b[1;32m     32\u001b[0m                 \u001b[0;32mfor\u001b[0m \u001b[0mj\u001b[0m \u001b[0;32min\u001b[0m \u001b[0mrange\u001b[0m\u001b[0;34m(\u001b[0m\u001b[0mnbinsy\u001b[0m\u001b[0;34m+\u001b[0m\u001b[0;36m1\u001b[0m\u001b[0;34m)\u001b[0m\u001b[0;34m:\u001b[0m\u001b[0;34m\u001b[0m\u001b[0;34m\u001b[0m\u001b[0m\n\u001b[1;32m     33\u001b[0m                     \u001b[0;31m# Select data of elements that belong to the bin\u001b[0m\u001b[0;34m\u001b[0m\u001b[0;34m\u001b[0m\u001b[0;34m\u001b[0m\u001b[0m\n\u001b[0;32m---> 34\u001b[0;31m                     \u001b[0mvar\u001b[0m\u001b[0;34m=\u001b[0m\u001b[0mvar_color\u001b[0m\u001b[0;34m[\u001b[0m\u001b[0;34m(\u001b[0m\u001b[0mxplot\u001b[0m \u001b[0;34m>=\u001b[0m \u001b[0mauxx\u001b[0m\u001b[0;34m)\u001b[0m \u001b[0;34m&\u001b[0m \u001b[0;34m(\u001b[0m\u001b[0mxplot\u001b[0m \u001b[0;34m<\u001b[0m \u001b[0mauxx\u001b[0m\u001b[0;34m+\u001b[0m\u001b[0mintx\u001b[0m\u001b[0;34m)\u001b[0m \u001b[0;34m&\u001b[0m \u001b[0;34m(\u001b[0m\u001b[0myplot\u001b[0m \u001b[0;34m>=\u001b[0m \u001b[0mauxy\u001b[0m\u001b[0;34m)\u001b[0m \u001b[0;34m&\u001b[0m \u001b[0;34m(\u001b[0m\u001b[0myplot\u001b[0m \u001b[0;34m<\u001b[0m \u001b[0mauxy\u001b[0m\u001b[0;34m+\u001b[0m\u001b[0minty\u001b[0m\u001b[0;34m)\u001b[0m\u001b[0;34m]\u001b[0m\u001b[0;34m\u001b[0m\u001b[0;34m\u001b[0m\u001b[0m\n\u001b[0m\u001b[1;32m     35\u001b[0m                     \u001b[0;31m# Calculate the statistic in the bin, if there are at least cmin elements inside the bin.\u001b[0m\u001b[0;34m\u001b[0m\u001b[0;34m\u001b[0m\u001b[0;34m\u001b[0m\u001b[0m\n\u001b[1;32m     36\u001b[0m                     \u001b[0;32mif\u001b[0m \u001b[0;34m(\u001b[0m\u001b[0mvar\u001b[0m\u001b[0;34m.\u001b[0m\u001b[0msize\u001b[0m \u001b[0;34m>=\u001b[0m\u001b[0mcmin\u001b[0m\u001b[0;34m)\u001b[0m\u001b[0;34m:\u001b[0m\u001b[0;34m\u001b[0m\u001b[0;34m\u001b[0m\u001b[0m\n",
      "\u001b[0;32mastropy/table/_column_mixins.pyx\u001b[0m in \u001b[0;36mastropy.table._column_mixins._ColumnGetitemShim.__getitem__\u001b[0;34m()\u001b[0m\n",
      "\u001b[0;32mastropy/table/_column_mixins.pyx\u001b[0m in \u001b[0;36mastropy.table._column_mixins.base_getitem\u001b[0;34m()\u001b[0m\n",
      "\u001b[0;32mastropy/table/_column_mixins.pyx\u001b[0m in \u001b[0;36mastropy.table._column_mixins.column_getitem\u001b[0;34m()\u001b[0m\n",
      "\u001b[0;31mIndexError\u001b[0m: boolean index did not match indexed array along dimension 0; dimension is 2914 but corresponding boolean dimension is 2501"
     ]
    },
    {
     "data": {
      "image/png": "[encoded data removed]",
      "text/plain": [
       "<Figure size 576x432 with 1 Axes>"
      ]
     },
     "metadata": {
      "needs_background": "light"
     },
     "output_type": "display_data"
    }
   ],
   "source": [
    "# Plot color map\n",
    "fig,ax=plt.subplots(figsize=(8,6))\n",
    "\n",
    "# Intervals of binning, as function of nbinsx and nbinsy:\n",
    "intx=(max(xplot)-min(xplot))/nbinsx\n",
    "inty=(max(yplot)-min(yplot))/nbinsy\n",
    "\n",
    "# If 'var_color' is an empty sequence or 'statistic=='counts'', plot a 2D histogram. \n",
    "if (var_color==[]) or (statistic=='counts'):   \n",
    "    # Min and Max of each variable\n",
    "    xmin,xmax=min(xplot),max(xplot)\n",
    "    xlim=[xmin,xmax]\n",
    "\n",
    "    ymin,ymax=min(yplot),max(yplot)\n",
    "    ylim=[ymin,ymax]\n",
    "        \n",
    "    # Construct the 2D histogram\n",
    "    hist2d,xedges,yedges,im=ax.hist2d(xplot, yplot, bins=(nbinsx,nbinsy),cmap=cmap,\n",
    "                                      range=(xlim,ylim),cmin=cmin)\n",
    "    var_label='N'\n",
    "        \n",
    "# If not want to plot a 2D histogram, construct the color map\n",
    "else:\n",
    "            #Define a \"density\" array of 2x2 used for binning. Its elements will be the values of the statistic\n",
    "            density=np.zeros((nbinsy+1,nbinsx+1))    # NOTE THE TRANSPOSITION OF AXIS! It is done like this in\n",
    "                                                     # order to use 'meshgrid' later.\n",
    "\n",
    "            # Calculate the desired statistic in each bin\n",
    "            auxx=min(xplot)\n",
    "            for i in range(nbinsx+1):\n",
    "                auxy=min(yplot)\n",
    "                for j in range(nbinsy+1):\n",
    "                    # Select data of elements that belong to the bin\n",
    "                    var=var_color[(xplot >= auxx) & (xplot < auxx+intx) & (yplot >= auxy) & (yplot < auxy+inty)]\n",
    "                    # Calculate the statistic in the bin, if there are at least cmin elements inside the bin.\n",
    "                    if (var.size >=cmin):\n",
    "                        if statistic=='mean':\n",
    "                            stat_val=np.mean(var)\n",
    "                        elif statistic=='median':\n",
    "                            stat_val=np.median(var)                        \n",
    "                    # If not enough elements in the bin, assign the value -1e99 to the statistic        \n",
    "                    else:\n",
    "                        stat_val=-1e99\n",
    "                \n",
    "                    # Overwrite the [j,i] element (bin) of density array with the calculated statistic\n",
    "                    density[j,i]=stat_val\n",
    "                    auxy=auxy+inty\n",
    "                auxx=auxx+intx\n",
    "\n",
    "            # Define x-coordinates of 2D grid\n",
    "            x=np.zeros(nbinsx+1)\n",
    "            auxx=min(xplot)\n",
    "            for i in range(nbinsx+1):\n",
    "                x[i]=auxx\n",
    "                auxx=auxx+intx\n",
    "            \n",
    "            # Define y-coordinates of 2D grid\n",
    "            y=np.zeros(nbinsy+1)\n",
    "            auxy=min(yplot)\n",
    "            for j in range(nbinsy+1):\n",
    "                y[j]=auxy\n",
    "                auxy=auxy+inty\n",
    "\n",
    "            # Construct two 2D array with grid coordinates\n",
    "            x,y=np.meshgrid(x,y)\n",
    "\n",
    "            # Define again the density (statistic) array\n",
    "            z=density\n",
    "        \n",
    "            # IMPORTANT!!: x, y, z MUST have the same shape.\n",
    "\n",
    "            # Search min and max of statistic, considering only bins with \"well-defined\" statistic\n",
    "            densitylim=density[density > -1e99]\n",
    "            vmin=np.amin(densitylim)\n",
    "            vmax=np.amax(densitylim)\n",
    "\n",
    "            # Prepare the color map\n",
    "            cmap = plt.get_cmap(cmap)       # Name of the color map\n",
    "            cmap.set_under('white')                      # \"bad-defined\" bins will be of colour white. \n",
    "            norm = colors.Normalize(vmin=vmin, vmax=vmax, clip=False)    # Normalize colors to the interval (vmin,vmax)\n",
    "\n",
    "            # Construct color grid\n",
    "            im=ax.pcolormesh(x,y,z,cmap=cmap,norm=norm,shading='auto')                     \n",
    "\n",
    "# Barra de referencia y \"tuneo\" del gráfico\n",
    "# Add an axis that will contain the color bar \n",
    "cbaxes=ax.inset_axes([0.12,0.94,0.76,0.04]) \n",
    "\n",
    "# Construct color bar using the color grid (object 'im')\n",
    "cbar=plt.colorbar(im,cax=cbaxes,orientation='horizontal')   \n",
    "cbar.set_label(var_label,fontsize=16)    # Label of color bar\n",
    "cbaxes.tick_params(axis='both', which='major', labelsize=14)   # Size of ticks labels\n",
    "\n",
    "# Number of ticks in color bar\n",
    "loc = ticker.LinearLocator(numticks=5)   # For simplicity, use always linear-separated ticks in the color bar\n",
    "cbar.locator=loc\n",
    "cbar.update_ticks()\n",
    "if (var_color==[]) or (statistic=='counts'):   # Format the string of color bar ticks label\n",
    "    cbaxes.xaxis.set_major_formatter(ticker.StrMethodFormatter(\"{x:.0f}\"))\n",
    "else:\n",
    "    cbaxes.xaxis.set_major_formatter(ticker.StrMethodFormatter(\"{x:.2f}\"))\n",
    "    \n",
    "# Ajustar cosas del gráfico\n",
    "ax.set_xlabel(xlabel,fontsize=16)\n",
    "ax.set_ylabel(ylabel,fontsize=16)\n",
    "\n",
    "xmin,xmax=min(xplot),max(xplot)\n",
    "ax.set_xlim(xmin,xmax)\n",
    "\n",
    "ymin,ymax=min(yplot),max(yplot)+1\n",
    "# ymin,ymax= 8.5,10\n",
    "ax.set_ylim(ymin,ymax)\n",
    "\n",
    "ax.tick_params(axis='both',labelsize=14)\n",
    "\n",
    "# ax.plot(xmedian,ymedian,c='k',marker='o',ms=5,linestyle='-',linewidth=0.5,label='Median relation')\n",
    "\n",
    "# ax.errorbar(xmedian,ymedian,yerr=yerror,\n",
    "#            c='k',marker='o',markersize=2,linestyle='-',\n",
    "#            linewidth=0.5,label='Median relation',capsize=5,capthick=1.5)\n",
    "\n",
    "# Guardar la figura, si es necesario\n",
    "# plt.savefig('Mstar_matalicidad_'+str(parametro)+'_RefL0100N1504_snap28.png')\n",
    "    \n",
    "plt.show()"
   ]
  },
  {
   "cell_type": "markdown",
   "metadata": {},
   "source": [
    "**Distribución de cantidad de vecinos para galaxias que no tienen definida su metalicidad**"
   ]
  },
  {
   "cell_type": "code",
   "execution_count": 109,
   "metadata": {},
   "outputs": [
    {
     "name": "stderr",
     "output_type": "stream",
     "text": [
      "No handles with labels found to put in legend.\n"
     ]
    },
    {
     "data": {
      "image/png": "[encoded data removed]",
      "text/plain": [
       "<Figure size 1440x576 with 1 Axes>"
      ]
     },
     "metadata": {
      "needs_background": "light"
     },
     "output_type": "display_data"
    }
   ],
   "source": [
    "figure, axes = plt.subplots(1,figsize=(20,8))\n",
    "\n",
    "bins = np.arange(0,2.6,0.2)\n",
    "h,b = np.histogram(np.log10(zvar_mean+1),bins,density=False)\n",
    "error = np.sqrt(h/len(zvar_mean))\n",
    "axes.bar(b[:-1],height=h/len(zvar_mean),width =0.2,color='g',edgecolor='k',capsize=2,align='edge')#,yerr=error\n",
    "axes.set_title(r'$Distribución~de~log(N_{2}+1)~para~las~galaxias~dentro~de~la~banda~media$',fontsize=30)\n",
    "axes.set_ylim([0,0.3])\n",
    "axes.set_xlabel(r'$log(N_{2}+1)$',fontsize=30)\n",
    "axes.set_ylabel(r'$Fracción$',fontsize=30)\n",
    "axes.set_xticks(bins)\n",
    "axes.tick_params(axis='both',labelsize=25)\n",
    "\n",
    "leg=axes.legend(loc='upper right',edgecolor='w',fontsize=30)\n",
    "leg.set_title('Cantidad de galaxias:'+str(len(zvar_mean)), prop = {'size':30})\n",
    "# axes.set_xscale('log')\n",
    "\n",
    "plt.subplots_adjust(left=0.15)\n",
    "\n",
    "# figure.savefig('distribuciones_N_2(media).pdf')\n",
    "\n",
    "plt.show()"
   ]
  },
  {
   "cell_type": "code",
   "execution_count": 112,
   "metadata": {},
   "outputs": [
    {
     "name": "stdout",
     "output_type": "stream",
     "text": [
      "Probabilidad de agarrar una galáxia por sup a la media con más de 4 vecinos: 0.8966644865925442\n"
     ]
    }
   ],
   "source": [
    "n = 4\n",
    "prob = 0\n",
    "\n",
    "for i in np.arange(n+1):\n",
    "    prob += h[i]/len(zvar_mean)\n",
    "    \n",
    "print('Probabilidad de agarrar una galáxia por sup a la media con más de '+str(n)+' vecinos:',prob)"
   ]
  },
  {
   "cell_type": "code",
   "execution_count": 272,
   "metadata": {},
   "outputs": [
    {
     "data": {
      "text/plain": [
       "0.8972179289026274"
      ]
     },
     "execution_count": 272,
     "metadata": {},
     "output_type": "execute_result"
    }
   ],
   "source": [
    "sum(h/len(zvar_mean))"
   ]
  },
  {
   "cell_type": "markdown",
   "metadata": {},
   "source": [
    "## Tercera parte"
   ]
  },
  {
   "cell_type": "markdown",
   "metadata": {},
   "source": [
    "   Separar a toda la muestra de galaxias en 3 submuestras con la misma cantidad de galaxias.  Para hacer esto, se pueden usar como cortes los percentiles 33 y 66 de N_2.  Ver la rutina “numpy.percentile”.\n",
    "\n",
    "   ​​Para cada una de estas submuestras, calcular, como siempre, la MZR mediana con barras de error.\n",
    "\n",
    "   ​​Graficar en la misma figura las 3 curvas indicadas en 2).\n",
    "\n",
    "​​"
   ]
  },
  {
   "cell_type": "code",
   "execution_count": 173,
   "metadata": {},
   "outputs": [
    {
     "data": {
      "text/plain": [
       "array([3., 8.])"
      ]
     },
     "execution_count": 173,
     "metadata": {},
     "output_type": "execute_result"
    }
   ],
   "source": [
    "per = np.percentile(merge[parametro],[33.3,66.6])\n",
    "per"
   ]
  },
  {
   "cell_type": "code",
   "execution_count": 174,
   "metadata": {},
   "outputs": [],
   "source": [
    "mask = [0.0,0.0,0.0]\n",
    "mask[0] = (merge[parametro]<=per[0])&(merge['sf_metalicity'].notna())\n",
    "mask[1] = (merge[parametro]>per[0])&(merge[parametro]<=per[1])&(merge['sf_metalicity'].notna())\n",
    "mask[2] = (merge[parametro]>per[1])&(merge['sf_metalicity'].notna())"
   ]
  },
  {
   "cell_type": "code",
   "execution_count": 175,
   "metadata": {},
   "outputs": [],
   "source": [
    "color=['b','k','r']"
   ]
  },
  {
   "cell_type": "code",
   "execution_count": 176,
   "metadata": {},
   "outputs": [],
   "source": [
    "xvar    = []\n",
    "yvar    = []\n",
    "xmedian = []\n",
    "ymedian = []\n",
    "xerror  = []\n",
    "yerror  = []\n",
    "elements= []\n",
    "ax      = []\n",
    "\n",
    "for i in np.arange(len(mask)):\n",
    "\n",
    "    xvar.append(np.log10(merge['Stars_Mass'])[mask[i]].to_numpy())\n",
    "    yvar.append(merge['sf_metalicity'][mask[i]].to_numpy())\n",
    "\n",
    "    nbins=10            # Numero de bins en variable x a usar para dividir la muestra\n",
    "    perc_low=25.        # Percentil a usar como cota inferior de error\n",
    "    perc_high=75.       # Percentil a usar como cota superior de error\n",
    "    min_count=10        # Mínima cantidad de elementos para considerar en un bin\n",
    "\n",
    "    xmedia,ymedia,xerro,yerro,element=Curves2D.median_curve(xvar[i],yvar[i],bins=nbins,min_count=min_count,\n",
    "                                                             perc_low=perc_low,perc_high=perc_high)\n",
    "    xmedian.append(xmedia)\n",
    "    ymedian.append(ymedia)\n",
    "    xerror.append(xerro)\n",
    "    yerror.append(yerro)\n",
    "    elements.append(element)\n",
    "\n"
   ]
  },
  {
   "cell_type": "code",
   "execution_count": 177,
   "metadata": {},
   "outputs": [
    {
     "data": {
      "image/png": "[encoded data removed]",
      "text/plain": [
       "<Figure size 576x432 with 1 Axes>"
      ]
     },
     "metadata": {
      "needs_background": "light"
     },
     "output_type": "display_data"
    }
   ],
   "source": [
    "fig,ax=plt.subplots(figsize=(8,6))\n",
    "\n",
    "\n",
    "\n",
    "xlabel=r'$Log10(M_{Star})$'\n",
    "ylabel=r'$12 + Log10(O/H)$'\n",
    "    \n",
    "xmin,xmax=9.9,12.5\n",
    "ax.set_xlim(xmin,xmax)\n",
    "\n",
    "ymin,ymax=7.75,9.8\n",
    "ax.set_ylim(ymin,ymax)\n",
    " \n",
    "ax.set_xlabel(xlabel,fontsize=14)\n",
    "ax.set_ylabel(ylabel,fontsize=14)\n",
    "                \n",
    "plt.subplots_adjust(left=0.12,right=0.95,bottom=0.15,top=0.95)\n",
    "\n",
    "\n",
    "for i in np.arange(len(mask)):\n",
    "    \n",
    "    ax.scatter(xvar[i],yvar[i],marker='o',s=0.8,c='0.6',label='Scatter plot')\n",
    "\n",
    "    ax.plot(xmedian[i],ymedian[i],c=color[i],marker='o',ms=8,linestyle='-',linewidth=1.5,label='Median relation')\n",
    "\n",
    "    ax.errorbar(xmedian[i],ymedian[i],yerr=yerror[i],\n",
    "                  c=color[i],marker='o',markersize=8,linestyle='-',\n",
    "                      linewidth=1.5,label='Median relation',capsize=5,capthick=1.5)\n",
    "\n",
    "\n",
    "    \n",
    "# leg1=ax.legend(edgecolor='0.1',loc='lower right',handlelength=4,fontsize=12)\n",
    "ax.set_title(r'Medias de '+str(parametro)+' para percentiles .33 (azul),.66(negro),.99(rojo)')\n",
    "\n",
    "# ax.add_artist(leg1)\n",
    "# plt.savefig('scatter_log(M)vs_metalicidad_(medianas_'+str(parametro)+').png')\n",
    "\n",
    "plt.show()"
   ]
  },
  {
   "cell_type": "code",
   "execution_count": null,
   "metadata": {},
   "outputs": [],
   "source": []
  }
 ],
 "metadata": {
  "kernelspec": {
   "display_name": "Python 3",
   "language": "python",
   "name": "python3"
  },
  "language_info": {
   "codemirror_mode": {
    "name": "ipython",
    "version": 3
   },
   "file_extension": ".py",
   "mimetype": "text/x-python",
   "name": "python",
   "nbconvert_exporter": "python",
   "pygments_lexer": "ipython3",
   "version": "3.8.5"
  }
 },
 "nbformat": 4,
 "nbformat_minor": 4
}
